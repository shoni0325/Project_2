{
 "cells": [
  {
   "cell_type": "code",
   "execution_count": 43,
   "metadata": {},
   "outputs": [],
   "source": [
    "import pandas as pd\n",
    "import numpy as np\n",
    "import warnings\n",
    "warnings.filterwarnings('ignore')"
   ]
  },
  {
   "cell_type": "code",
   "execution_count": 44,
   "metadata": {},
   "outputs": [],
   "source": [
    "from sklearn.ensemble import RandomForestClassifier\n",
    "from sklearn.model_selection import train_test_split\n",
    "from sklearn.metrics import accuracy_score, f1_score"
   ]
  },
  {
   "cell_type": "code",
   "execution_count": 45,
   "metadata": {},
   "outputs": [],
   "source": [
    "train = pd.read_csv('../data/train.csv', encoding='euc-kr')\n",
    "test = pd.read_csv('../data/test.csv', encoding='euc-kr')"
   ]
  },
  {
   "cell_type": "code",
   "execution_count": 46,
   "metadata": {},
   "outputs": [],
   "source": [
    "train['자산총계(천원)'] = train['자산총계(천원)'] * 1000\n",
    "train['log자산총계'] = np.log(train['자산총계(천원)'])\n",
    "\n",
    "test['자산총계(천원)'] = test['자산총계(천원)'] * 1000\n",
    "test['log자산총계'] = np.log(test['자산총계(천원)'])"
   ]
  },
  {
   "cell_type": "code",
   "execution_count": 47,
   "metadata": {},
   "outputs": [],
   "source": [
    "train['기업수명주기'] = train['기업수명주기'].map({\n",
    "    '도입기' : 1,\n",
    "    '성장기' : 2,\n",
    "    '성숙기' : 3,\n",
    "    '수축기' : 4,\n",
    "    '쇠퇴기' : 5\n",
    "}).astype('category')\n",
    "\n",
    "test['기업수명주기'] = test['기업수명주기'].map({\n",
    "    '도입기' : 1,\n",
    "    '성장기' : 2,\n",
    "    '성숙기' : 3,\n",
    "    '수축기' : 4,\n",
    "    '쇠퇴기' : 5\n",
    "}).astype('category')"
   ]
  },
  {
   "cell_type": "code",
   "execution_count": 48,
   "metadata": {},
   "outputs": [],
   "source": [
    "train = train[['부채비율', '당좌비율',\n",
    "       '유동비율', '이자보상배율', '차입금의존도', '자기자본구성비율',\n",
    "       '매출액영업이익률', '자기자본순이익률', '총자본순이익률', '총자본회전률', '자기자본회전률', '운전자본회전률', '순운전자본회전률', '재고자산회전률',\n",
    "       '당좌자산회전률', '유동자산회전률', '매출액증가율', '총자본증가율', '자기자본증가율', '순이익증가율',\n",
    "       '유형자산증가율', '유동자산증가율', '재고자산증가율', '영업이익증가율', '총자본투자효율', '부가가치율',\n",
    "       '노동소득분배율', '자본분배율', '이윤분배율', 'OCF이자보상배율', '부채상환계수', '장기부채상환능력', '매출액대비금융비용상환능력',\n",
    "       '연구개발비대비매출액', '매출액대비현금흐름', '매출액대비잉여현금흐름', '총자산대비현금흐름',\n",
    "       '총자산대비영업현금흐름', '총자산대비잉여현금흐름', '기업수명주기','이보배초과여부',\n",
    "       '파부비초과여부','파당비초과여부', '파차의초과여부', '파로이초과여부', 'log자산총계',\n",
    "       't-1감사의견코드']]"
   ]
  },
  {
   "cell_type": "code",
   "execution_count": 49,
   "metadata": {},
   "outputs": [],
   "source": [
    "test = test[['부채비율', '당좌비율',\n",
    "       '유동비율', '이자보상배율', '차입금의존도', '자기자본구성비율',\n",
    "       '매출액영업이익률', '자기자본순이익률', '총자본순이익률', '총자본회전률', '자기자본회전률', '운전자본회전률', '순운전자본회전률', '재고자산회전률',\n",
    "       '당좌자산회전률', '유동자산회전률', '매출액증가율', '총자본증가율', '자기자본증가율', '순이익증가율',\n",
    "       '유형자산증가율', '유동자산증가율', '재고자산증가율', '영업이익증가율', '총자본투자효율', '부가가치율',\n",
    "       '노동소득분배율', '자본분배율', '이윤분배율', 'OCF이자보상배율', '부채상환계수', '장기부채상환능력', '매출액대비금융비용상환능력',\n",
    "       '연구개발비대비매출액', '매출액대비현금흐름', '매출액대비잉여현금흐름', '총자산대비현금흐름',\n",
    "       '총자산대비영업현금흐름', '총자산대비잉여현금흐름', '기업수명주기','이보배초과여부',\n",
    "       '파부비초과여부','파당비초과여부', '파차의초과여부', '파로이초과여부', 'log자산총계',\n",
    "       't-1감사의견코드']]"
   ]
  },
  {
   "cell_type": "code",
   "execution_count": 50,
   "metadata": {},
   "outputs": [],
   "source": [
    "train = train[['총자본회전률', 'log자산총계', '총자본증가율', '파차의초과여부', '파부비초과여부', '총자본순이익률',\n",
    "       '자기자본회전률', '총자산대비현금흐름', '기업수명주기', '자기자본구성비율', '재고자산회전률', '유동자산증가율',\n",
    "       '총자산대비잉여현금흐름', 't-1감사의견코드']]"
   ]
  },
  {
   "cell_type": "code",
   "execution_count": 51,
   "metadata": {},
   "outputs": [],
   "source": [
    "test = test[['총자본회전률', 'log자산총계', '총자본증가율', '파차의초과여부', '파부비초과여부', '총자본순이익률',\n",
    "       '자기자본회전률', '총자산대비현금흐름', '기업수명주기', '자기자본구성비율', '재고자산회전률', '유동자산증가율',\n",
    "       '총자산대비잉여현금흐름', 't-1감사의견코드']]"
   ]
  },
  {
   "cell_type": "code",
   "execution_count": 52,
   "metadata": {},
   "outputs": [],
   "source": [
    "X_train= train.drop('t-1감사의견코드', axis=1)\n",
    "y_train = train[['t-1감사의견코드']]"
   ]
  },
  {
   "cell_type": "code",
   "execution_count": 53,
   "metadata": {},
   "outputs": [],
   "source": [
    "X_test = test.drop('t-1감사의견코드', axis=1)\n",
    "y_test = test[['t-1감사의견코드']]"
   ]
  },
  {
   "cell_type": "code",
   "execution_count": 54,
   "metadata": {},
   "outputs": [
    {
     "name": "stdout",
     "output_type": "stream",
     "text": [
      "Accuracy: 0.939209726443769\n",
      "F1-score: 0.36804853387259856\n"
     ]
    }
   ],
   "source": [
    "# 랜덤 포레스트 모델 생성\n",
    "rf = RandomForestClassifier(n_estimators=100, random_state=0, max_depth=6)\n",
    "\n",
    "# 모델 학습\n",
    "rf.fit(X_train, y_train)\n",
    "\n",
    "# 테스트 데이터로 예측 수행\n",
    "y_pred = rf.predict(X_test)\n",
    "\n",
    "# 정확도 평가\n",
    "accuracy = accuracy_score(y_test, y_pred)\n",
    "f1score = f1_score(y_test ,y_pred)\n",
    "print(\"Accuracy:\", accuracy)\n",
    "print(\"F1-score:\", f1score)"
   ]
  },
  {
   "cell_type": "code",
   "execution_count": null,
   "metadata": {},
   "outputs": [],
   "source": []
  }
 ],
 "metadata": {
  "kernelspec": {
   "display_name": "Python 3",
   "language": "python",
   "name": "python3"
  },
  "language_info": {
   "codemirror_mode": {
    "name": "ipython",
    "version": 3
   },
   "file_extension": ".py",
   "mimetype": "text/x-python",
   "name": "python",
   "nbconvert_exporter": "python",
   "pygments_lexer": "ipython3",
   "version": "3.10.9"
  },
  "orig_nbformat": 4
 },
 "nbformat": 4,
 "nbformat_minor": 2
}
