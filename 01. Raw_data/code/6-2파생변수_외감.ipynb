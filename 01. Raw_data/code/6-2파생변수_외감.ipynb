{
 "cells": [
  {
   "cell_type": "code",
   "execution_count": 2,
   "metadata": {},
   "outputs": [],
   "source": [
    "import pandas as pd \n",
    "import numpy as np\n",
    "import matplotlib.pyplot as plt\n",
    "import seaborn as sns\n",
    "\n",
    "#워닝 메시지\n",
    "import warnings\n",
    "warnings.filterwarnings('ignore')\n",
    "# 그래프에서 한글 깨짐 방지\n",
    "import platform\n",
    "if platform.system() == \"Darwin\":          # MAC인 경우\n",
    "    plt.rc('font', family =\"AppleGothic\")\n",
    "else:\n",
    "    plt.rc('font',family='Malgun Gothic')\n",
    "\n",
    "#멧플로립에서 음수를 표시\n",
    "plt.rc('axes',unicode_minus=False)\n",
    "\n",
    "\n"
   ]
  },
  {
   "cell_type": "code",
   "execution_count": 3,
   "metadata": {},
   "outputs": [],
   "source": [
    "df=pd.read_csv('../data/t-1_raw_외감.csv',index_col=False,encoding='euc-kr')"
   ]
  },
  {
   "cell_type": "markdown",
   "metadata": {},
   "source": [
    "- 부채비율: 60\n",
    "- 당좌비율: 60\n",
    "- 유동비율: 60\n",
    "- 이자보상배율: 60\n",
    "- OCF(천원): 58\n",
    "- 이자비용(천원): 58\n",
    "- 차입금의존도: 60\n",
    "- 자기자본구성비율: 60\n",
    "- 당기순이익(천원): 58\n",
    "- 단기차입금(천원): 58\n",
    "- 유동성장기부채(천원): 58\n",
    "- 장기차입금(천원): 58\n",
    "- 법인세비용차감전손익(백만원): 75\n",
    "- 매출액영업이익률: 60\n",
    "- 자기자본순이익률: 60\n",
    "- 총자본순이익률: 60\n",
    "- 매출액(천원): 58\n",
    "- 총자본회전률:60\n",
    "- 자기자본회전률: 60\n",
    "- 운전자본회전률: 60\n",
    "- 순운전자본회전률: 60\n",
    "- 재고자산회전률: 60\n",
    "- 당좌자산회전률: 60\n",
    "- 유동자산회전률: 60\n",
    "- 매출액증가율: 59\n",
    "- 총자본증가율: 59\n",
    "- 자기자본증가율: 59\n",
    "- 순이익증가율: 59\n",
    "- 유형자산증가율: 59\n",
    "- 유동자산증가율: 59\n",
    "- 재고자산증가율: 59\n",
    "- 영업이익증가율: 59\n",
    "- 총자본투자효율: 69\n",
    "- 부가가치율: 69\n",
    "- 노동소득분배율:  69\n",
    "- 자본분배율: 69\n",
    "- 이윤분배율: 69\n",
    "- ICF(천원):  58\n",
    "- FCF(천원):  58\n",
    "- 자산총계(천원): 58\n",
    "- 부채총계(천원): 58\n",
    "- 자본총계(천원): 58\n",
    "- 자본금(천원):  58\n",
    "- 영업손익(천원): 58\n",
    "- 연구개발비(천원): 58\n",
    "- 자본잠식률: 67"
   ]
  },
  {
   "cell_type": "code",
   "execution_count": 4,
   "metadata": {},
   "outputs": [],
   "source": [
    "df.dropna(subset='자산총계(천원)', axis=0, inplace=True)\n",
    "df.dropna(subset='법인세비용차감전손익(백만원)', axis=0, inplace=True)\n",
    "df.dropna(subset='부가가치율', axis=0, inplace=True)\n",
    "df.dropna(subset='부채비율', axis=0, inplace=True)\n",
    "df.dropna(subset='매출액영업이익률', axis=0, inplace=True)"
   ]
  },
  {
   "cell_type": "code",
   "execution_count": 471,
   "metadata": {},
   "outputs": [],
   "source": [
    "# df.drop('자본잠식률', axis=1, inplace=True)"
   ]
  },
  {
   "cell_type": "markdown",
   "metadata": {},
   "source": [
    "- 결측치가 아닌 실제 0값이므로 0 대입(감가상각비, 금융비용)"
   ]
  },
  {
   "cell_type": "code",
   "execution_count": 5,
   "metadata": {},
   "outputs": [],
   "source": [
    "df['감가상각비(백만원)'] = df['감가상각비(백만원)'].fillna(0)\n",
    "df['금융비용(백만원)'] = df['금융비용(백만원)'].fillna(0)"
   ]
  },
  {
   "cell_type": "code",
   "execution_count": 6,
   "metadata": {},
   "outputs": [
    {
     "data": {
      "text/plain": [
       "회사명                0\n",
       "거래소코드              0\n",
       "회계년도               0\n",
       "산업분류코드             0\n",
       "부채비율               0\n",
       "당좌비율               0\n",
       "유동비율               0\n",
       "이자보상배율             0\n",
       "OCF(천원)            0\n",
       "이자비용(천원)           0\n",
       "차입금의존도             0\n",
       "자기자본구성비율           0\n",
       "당기순이익(천원)          0\n",
       "감가상각비(백만원)         0\n",
       "금융비용(백만원)          0\n",
       "단기차입금(천원)          0\n",
       "유동성장기부채(천원)        0\n",
       "장기차입금(천원)          0\n",
       "법인세비용차감전손익(백만원)    0\n",
       "매출액영업이익률           0\n",
       "자기자본순이익률           0\n",
       "총자본순이익률            0\n",
       "매출액(천원)            0\n",
       "총자본회전률             0\n",
       "자기자본회전률            0\n",
       "운전자본회전률            0\n",
       "순운전자본회전률           0\n",
       "재고자산회전률            0\n",
       "당좌자산회전률            0\n",
       "유동자산회전률            0\n",
       "매출액증가율             0\n",
       "총자본증가율             0\n",
       "자기자본증가율            0\n",
       "순이익증가율             0\n",
       "유형자산증가율            0\n",
       "유동자산증가율            0\n",
       "재고자산증가율            0\n",
       "영업이익증가율            0\n",
       "총자본투자효율            0\n",
       "부가가치율              0\n",
       "노동소득분배율            0\n",
       "자본분배율              0\n",
       "이윤분배율              0\n",
       "ICF(천원)            0\n",
       "FCF(천원)            0\n",
       "자산총계(천원)           0\n",
       "부채총계(천원)           0\n",
       "자본총계(천원)           0\n",
       "산업분류               0\n",
       "자본금(천원)            0\n",
       "영업손익(천원)           0\n",
       "연구개발비(천원)          0\n",
       "자본잠식률              9\n",
       "Year               0\n",
       "t-1감사의견코드          0\n",
       "dtype: int64"
      ]
     },
     "execution_count": 6,
     "metadata": {},
     "output_type": "execute_result"
    }
   ],
   "source": [
    "df.isna().sum()"
   ]
  },
  {
   "cell_type": "markdown",
   "metadata": {},
   "source": [
    "---"
   ]
  },
  {
   "cell_type": "markdown",
   "metadata": {},
   "source": [
    "- 파생변수들 만들기"
   ]
  },
  {
   "cell_type": "code",
   "execution_count": 433,
   "metadata": {},
   "outputs": [],
   "source": [
    "df['OCF이자보상배율'] = (df['OCF(천원)']/df['이자비용(천원)'])*100\n",
    "df['부채상환계수'] = ((df['당기순이익(천원)']+(df['감가상각비(백만원)']*1000)+(df['금융비용(백만원)']*1000))/(df['단기차입금(천원)']+df['유동성장기부채(천원)']+(df['금융비용(백만원)']*1000)))*100\n",
    "df['장기부채상환능력'] = (df['장기차입금(천원)']/((df['법인세비용차감전손익(백만원)']*1000)+(df['감가상각비(백만원)']*1000)+df['이자비용(천원)']))*100\n",
    "df['매출액대비금융비용상환능력'] = (df['매출액(천원)']/(df['금융비용(백만원)']*1000))*100    \n",
    "\n",
    "df['전체현금흐름(천원)'] = df['OCF(천원)']+df['ICF(천원)']+df['FCF(천원)']\n",
    "\n",
    "df['연구개발비대비매출액'] = (df['연구개발비(천원)']/df['매출액(천원)'])*100\n",
    "\n",
    "df['매출액대비현금흐름'] = df['전체현금흐름(천원)'] / df['매출액(천원)']\n",
    "df['총자산대비현금흐름'] = df['전체현금흐름(천원)'] / df['자산총계(천원)']\n",
    "df['총부채대비현금흐름'] = df['전체현금흐름(천원)'] / df['부채총계(천원)']\n",
    "df['총자본대비현금흐름'] = df['전체현금흐름(천원)'] / df['자본총계(천원)']\n",
    "\n",
    "df['총자산대비영업현금흐름'] = df['OCF(천원)'] / df['자산총계(천원)']\n",
    "df['총자본대비영업현금흐름'] = df['OCF(천원)'] / df['자본총계(천원)']\n",
    "df['총부채대비영업현금흐름'] = df['OCF(천원)'] / df['부채총계(천원)']\n",
    "\n",
    "# 잉여현금흐름(FCF)"
   ]
  },
  {
   "cell_type": "code",
   "execution_count": 7,
   "metadata": {},
   "outputs": [],
   "source": [
    "for i in df.index :\n",
    "    if (df.loc[i,'OCF(천원)'] < 0) & (df.loc[i,'ICF(천원)'] < 0) &(df.loc[i,'FCF(천원)'] > 0) :\n",
    "        df.loc[i,'기업수명주기'] = '도입기'\n",
    "    elif (df.loc[i,'OCF(천원)'] > 0) & (df.loc[i,'ICF(천원)'] < 0) &(df.loc[i,'FCF(천원)'] > 0) :\n",
    "        df.loc[i,'기업수명주기'] = '성장기'\n",
    "    elif (df.loc[i,'OCF(천원)'] > 0) & (df.loc[i,'ICF(천원)'] < 0) &(df.loc[i,'FCF(천원)'] < 0) :\n",
    "        df.loc[i,'기업수명주기'] = '성숙기'\n",
    "    elif (df.loc[i,'OCF(천원)'] < 0) & (df.loc[i,'ICF(천원)'] > 0):\n",
    "        df.loc[i,'기업수명주기'] = '쇠퇴기'\n",
    "    else :\n",
    "        df.loc[i,'기업수명주기'] = '수축기'"
   ]
  },
  {
   "cell_type": "code",
   "execution_count": 435,
   "metadata": {},
   "outputs": [
    {
     "data": {
      "text/plain": [
       "기업수명주기\n",
       "성숙기    54761\n",
       "수축기    42187\n",
       "성장기    42182\n",
       "도입기    36288\n",
       "쇠퇴기    20099\n",
       "Name: count, dtype: int64"
      ]
     },
     "execution_count": 435,
     "metadata": {},
     "output_type": "execute_result"
    }
   ],
   "source": [
    "df['기업수명주기'].value_counts()"
   ]
  },
  {
   "cell_type": "code",
   "execution_count": 436,
   "metadata": {},
   "outputs": [
    {
     "data": {
      "text/plain": [
       "t-1감사의견코드\n",
       "0.0    182043\n",
       "1.0     13474\n",
       "Name: count, dtype: int64"
      ]
     },
     "execution_count": 436,
     "metadata": {},
     "output_type": "execute_result"
    }
   ],
   "source": [
    "df['t-1감사의견코드'].value_counts()"
   ]
  },
  {
   "cell_type": "code",
   "execution_count": 437,
   "metadata": {},
   "outputs": [
    {
     "data": {
      "text/plain": [
       "0.06891472352787738"
      ]
     },
     "execution_count": 437,
     "metadata": {},
     "output_type": "execute_result"
    }
   ],
   "source": [
    "13474 / (182043 + 13474)"
   ]
  },
  {
   "cell_type": "code",
   "execution_count": 438,
   "metadata": {},
   "outputs": [],
   "source": [
    "# df[df['매출액(천원)']==0]['회사명'].unique()"
   ]
  },
  {
   "cell_type": "markdown",
   "metadata": {},
   "source": [
    "---"
   ]
  },
  {
   "cell_type": "markdown",
   "metadata": {},
   "source": [
    "# EDA"
   ]
  },
  {
   "cell_type": "markdown",
   "metadata": {},
   "source": [
    "- 매출액이 0인 회사, 움수인 회사는 문제 있는 데이터--> 삭제"
   ]
  },
  {
   "cell_type": "code",
   "execution_count": 439,
   "metadata": {},
   "outputs": [],
   "source": [
    "df=df[~(df['매출액(천원)']==0.0)]"
   ]
  },
  {
   "cell_type": "code",
   "execution_count": 440,
   "metadata": {},
   "outputs": [],
   "source": [
    "df=df[~(df['매출액(천원)']<0.0)]"
   ]
  },
  {
   "cell_type": "code",
   "execution_count": 441,
   "metadata": {},
   "outputs": [
    {
     "data": {
      "text/plain": [
       "t-1감사의견코드\n",
       "0.0    172625\n",
       "1.0     12471\n",
       "Name: count, dtype: int64"
      ]
     },
     "execution_count": 441,
     "metadata": {},
     "output_type": "execute_result"
    }
   ],
   "source": [
    "df['t-1감사의견코드'].value_counts()"
   ]
  },
  {
   "cell_type": "code",
   "execution_count": 442,
   "metadata": {},
   "outputs": [
    {
     "data": {
      "text/plain": [
       "회사명            0\n",
       "거래소코드          0\n",
       "회계년도           0\n",
       "산업분류코드         0\n",
       "부채비율           0\n",
       "              ..\n",
       "총자본대비현금흐름      0\n",
       "총자산대비영업현금흐름    0\n",
       "총자본대비영업현금흐름    0\n",
       "총부채대비영업현금흐름    0\n",
       "기업수명주기         0\n",
       "Length: 69, dtype: int64"
      ]
     },
     "execution_count": 442,
     "metadata": {},
     "output_type": "execute_result"
    }
   ],
   "source": [
    "df.isna().sum()"
   ]
  },
  {
   "cell_type": "code",
   "execution_count": 443,
   "metadata": {},
   "outputs": [
    {
     "data": {
      "text/html": [
       "<div>\n",
       "<style scoped>\n",
       "    .dataframe tbody tr th:only-of-type {\n",
       "        vertical-align: middle;\n",
       "    }\n",
       "\n",
       "    .dataframe tbody tr th {\n",
       "        vertical-align: top;\n",
       "    }\n",
       "\n",
       "    .dataframe thead th {\n",
       "        text-align: right;\n",
       "    }\n",
       "</style>\n",
       "<table border=\"1\" class=\"dataframe\">\n",
       "  <thead>\n",
       "    <tr style=\"text-align: right;\">\n",
       "      <th></th>\n",
       "      <th>회사명</th>\n",
       "      <th>거래소코드</th>\n",
       "      <th>회계년도</th>\n",
       "      <th>산업분류코드</th>\n",
       "      <th>부채비율</th>\n",
       "      <th>당좌비율</th>\n",
       "      <th>유동비율</th>\n",
       "      <th>이자보상배율</th>\n",
       "      <th>OCF(천원)</th>\n",
       "      <th>이자비용(천원)</th>\n",
       "      <th>...</th>\n",
       "      <th>전체현금흐름(천원)</th>\n",
       "      <th>연구개발비대비매출액</th>\n",
       "      <th>매출액대비현금흐름</th>\n",
       "      <th>총자산대비현금흐름</th>\n",
       "      <th>총부채대비현금흐름</th>\n",
       "      <th>총자본대비현금흐름</th>\n",
       "      <th>총자산대비영업현금흐름</th>\n",
       "      <th>총자본대비영업현금흐름</th>\n",
       "      <th>총부채대비영업현금흐름</th>\n",
       "      <th>기업수명주기</th>\n",
       "    </tr>\n",
       "  </thead>\n",
       "  <tbody>\n",
       "    <tr>\n",
       "      <th>184393</th>\n",
       "      <td>신동은개발(주)</td>\n",
       "      <td>96116</td>\n",
       "      <td>2019/12</td>\n",
       "      <td>68</td>\n",
       "      <td>91690.27</td>\n",
       "      <td>100.11</td>\n",
       "      <td>100.11</td>\n",
       "      <td>999999999.0</td>\n",
       "      <td>0.0</td>\n",
       "      <td>0.0</td>\n",
       "      <td>...</td>\n",
       "      <td>0.0</td>\n",
       "      <td>0.0</td>\n",
       "      <td>0.0</td>\n",
       "      <td>0.0</td>\n",
       "      <td>0.0</td>\n",
       "      <td>0.0</td>\n",
       "      <td>0.0</td>\n",
       "      <td>0.0</td>\n",
       "      <td>0.0</td>\n",
       "      <td>수축기</td>\n",
       "    </tr>\n",
       "    <tr>\n",
       "      <th>184395</th>\n",
       "      <td>신동은개발(주)</td>\n",
       "      <td>96116</td>\n",
       "      <td>2021/12</td>\n",
       "      <td>68</td>\n",
       "      <td>104666.67</td>\n",
       "      <td>100.10</td>\n",
       "      <td>100.10</td>\n",
       "      <td>999999999.0</td>\n",
       "      <td>0.0</td>\n",
       "      <td>0.0</td>\n",
       "      <td>...</td>\n",
       "      <td>0.0</td>\n",
       "      <td>0.0</td>\n",
       "      <td>0.0</td>\n",
       "      <td>0.0</td>\n",
       "      <td>0.0</td>\n",
       "      <td>0.0</td>\n",
       "      <td>0.0</td>\n",
       "      <td>0.0</td>\n",
       "      <td>0.0</td>\n",
       "      <td>수축기</td>\n",
       "    </tr>\n",
       "  </tbody>\n",
       "</table>\n",
       "<p>2 rows × 69 columns</p>\n",
       "</div>"
      ],
      "text/plain": [
       "             회사명  거래소코드     회계년도  산업분류코드       부채비율    당좌비율    유동비율   \n",
       "184393  신동은개발(주)  96116  2019/12      68   91690.27  100.11  100.11  \\\n",
       "184395  신동은개발(주)  96116  2021/12      68  104666.67  100.10  100.10   \n",
       "\n",
       "             이자보상배율  OCF(천원)  이자비용(천원)  ...  전체현금흐름(천원)  연구개발비대비매출액   \n",
       "184393  999999999.0      0.0       0.0  ...         0.0         0.0  \\\n",
       "184395  999999999.0      0.0       0.0  ...         0.0         0.0   \n",
       "\n",
       "        매출액대비현금흐름  총자산대비현금흐름  총부채대비현금흐름  총자본대비현금흐름  총자산대비영업현금흐름  총자본대비영업현금흐름   \n",
       "184393        0.0        0.0        0.0        0.0          0.0          0.0  \\\n",
       "184395        0.0        0.0        0.0        0.0          0.0          0.0   \n",
       "\n",
       "        총부채대비영업현금흐름  기업수명주기  \n",
       "184393          0.0     수축기  \n",
       "184395          0.0     수축기  \n",
       "\n",
       "[2 rows x 69 columns]"
      ]
     },
     "execution_count": 443,
     "metadata": {},
     "output_type": "execute_result"
    }
   ],
   "source": [
    "df[df['장기부채상환능력'].isna()]"
   ]
  },
  {
   "cell_type": "code",
   "execution_count": 444,
   "metadata": {},
   "outputs": [],
   "source": [
    "df=df[~(df['장기부채상환능력'].isna()==True)]"
   ]
  },
  {
   "cell_type": "code",
   "execution_count": 445,
   "metadata": {},
   "outputs": [
    {
     "data": {
      "text/plain": [
       "t-1감사의견코드\n",
       "0.0    20131\n",
       "1.0      928\n",
       "Name: count, dtype: int64"
      ]
     },
     "execution_count": 445,
     "metadata": {},
     "output_type": "execute_result"
    }
   ],
   "source": [
    "df[df['이자비용(천원)']==0]['t-1감사의견코드'].value_counts()"
   ]
  },
  {
   "cell_type": "code",
   "execution_count": 446,
   "metadata": {},
   "outputs": [
    {
     "data": {
      "text/plain": [
       "count    1.640350e+05\n",
       "mean     1.167979e+06\n",
       "std      7.466503e+06\n",
       "min      1.000000e+00\n",
       "25%      1.192835e+05\n",
       "50%      2.958510e+05\n",
       "75%      6.834830e+05\n",
       "max      5.937832e+08\n",
       "Name: 이자비용(천원), dtype: float64"
      ]
     },
     "execution_count": 446,
     "metadata": {},
     "output_type": "execute_result"
    }
   ],
   "source": [
    "df[df['이자비용(천원)']!=0]['이자비용(천원)'].describe()"
   ]
  },
  {
   "cell_type": "markdown",
   "metadata": {},
   "source": [
    "## 파생이자보상배율 inf 값들은 가장 큰 값으로 대체하는 코드"
   ]
  },
  {
   "cell_type": "code",
   "execution_count": 447,
   "metadata": {},
   "outputs": [
    {
     "data": {
      "text/plain": [
       "OCF이자보상배율\n",
       " inf             16081\n",
       " 5.041194e+09        1\n",
       " 2.320755e+09        1\n",
       " 2.031809e+09        1\n",
       " 1.958040e+09        1\n",
       "                 ...  \n",
       "-3.775044e+08        1\n",
       "-3.802890e+08        1\n",
       "-3.818653e+08        1\n",
       "-7.982038e+08        1\n",
       "-inf              4836\n",
       "Name: count, Length: 162922, dtype: int64"
      ]
     },
     "execution_count": 447,
     "metadata": {},
     "output_type": "execute_result"
    }
   ],
   "source": [
    "df['OCF이자보상배율'].value_counts().sort_index(ascending=False)"
   ]
  },
  {
   "cell_type": "code",
   "execution_count": 448,
   "metadata": {},
   "outputs": [],
   "source": [
    "df.loc[df['OCF이자보상배율']==np.inf,'OCF이자보상배율'] =  5.041194e+09\n",
    "df.loc[df['OCF이자보상배율']== -np.inf,'OCF이자보상배율'] =  -7.982038e+08"
   ]
  },
  {
   "cell_type": "code",
   "execution_count": 449,
   "metadata": {},
   "outputs": [
    {
     "data": {
      "text/plain": [
       "회사명            0\n",
       "거래소코드          0\n",
       "회계년도           0\n",
       "산업분류코드         0\n",
       "부채비율           0\n",
       "              ..\n",
       "총자본대비현금흐름      0\n",
       "총자산대비영업현금흐름    0\n",
       "총자본대비영업현금흐름    0\n",
       "총부채대비영업현금흐름    0\n",
       "기업수명주기         0\n",
       "Length: 69, dtype: int64"
      ]
     },
     "execution_count": 449,
     "metadata": {},
     "output_type": "execute_result"
    }
   ],
   "source": [
    "df.isna().sum()"
   ]
  },
  {
   "cell_type": "markdown",
   "metadata": {},
   "source": [
    "### 산업분류 value_counts()"
   ]
  },
  {
   "cell_type": "code",
   "execution_count": 450,
   "metadata": {},
   "outputs": [
    {
     "data": {
      "text/plain": [
       "산업분류\n",
       "제조업                                  75978\n",
       "부동산업                                 25232\n",
       "도매 및 소매업                             22222\n",
       "건설업                                  17637\n",
       "운수 및 창고업                              8831\n",
       "정보통신업                                 7797\n",
       "전문, 과학 및 기술 서비스업                      6156\n",
       "사업시설 관리, 사업 지원 및 임대 서비스업              5612\n",
       "숙박 및 음식점업                             3517\n",
       "예술, 스포츠 및 여가관련 서비스업                   3390\n",
       "수도, 하수 및 폐기물 처리, 원료 재생업               2333\n",
       "전기, 가스, 증기 및 공기조절 공급업                 2040\n",
       "협회 및 단체, 수리 및 기타 개인 서비스업              1326\n",
       "농업, 임업 및 어업                            825\n",
       "금융 및 보험업                               811\n",
       "교육 서비스업                                727\n",
       "광업                                     536\n",
       "보건업 및 사회복지 서비스업                        111\n",
       "공공 행정, 국방 및 사회보장 행정                     12\n",
       "가구 내 고용활동 및 달리 분류되지 않은 자가 소비 생산활동        1\n",
       "Name: count, dtype: int64"
      ]
     },
     "execution_count": 450,
     "metadata": {},
     "output_type": "execute_result"
    }
   ],
   "source": [
    "df['산업분류'].value_counts()"
   ]
  },
  {
   "cell_type": "code",
   "execution_count": 451,
   "metadata": {},
   "outputs": [],
   "source": [
    "df=df[~(df['산업분류']=='가구 내 고용활동 및 달리 분류되지 않은 자가 소비 생산활동')]"
   ]
  },
  {
   "cell_type": "markdown",
   "metadata": {},
   "source": [
    "#### 잘못 표기된 것 교체"
   ]
  },
  {
   "cell_type": "code",
   "execution_count": 452,
   "metadata": {},
   "outputs": [],
   "source": [
    "df.loc[180602,'산업분류']='부동산업'"
   ]
  },
  {
   "cell_type": "markdown",
   "metadata": {},
   "source": [
    "### 부채 총계 음수 ! -> 삭제!!! \n",
    "- 레이전트리 : 미지급 비용이 음수여서 부채 총계가 음수  --> 일반적이지 않으므로 삭제"
   ]
  },
  {
   "cell_type": "code",
   "execution_count": 453,
   "metadata": {},
   "outputs": [],
   "source": [
    "df.drop(145674,axis=0,inplace=True)"
   ]
  },
  {
   "cell_type": "code",
   "execution_count": 454,
   "metadata": {},
   "outputs": [],
   "source": [
    "# df[(df['산업분류']=='공공 행정, 국방 및 사회보장 행정')]"
   ]
  },
  {
   "cell_type": "markdown",
   "metadata": {},
   "source": [
    "---"
   ]
  },
  {
   "cell_type": "markdown",
   "metadata": {},
   "source": [
    "#### 순서 재 배열 \n",
    "    - t-1 감사의견 코드 맨 뒤로"
   ]
  },
  {
   "cell_type": "code",
   "execution_count": 455,
   "metadata": {},
   "outputs": [],
   "source": [
    "order =['회사명', '거래소코드', '회계년도', 'Year' ,'산업분류코드','산업분류', '부채비율', '당좌비율', '유동비율', '이자보상배율',\n",
    "       'OCF(천원)', '이자비용(천원)', '차입금의존도', '자기자본구성비율', '당기순이익(천원)', '감가상각비(백만원)',\n",
    "       '금융비용(백만원)', '단기차입금(천원)', '유동성장기부채(천원)', '장기차입금(천원)', '법인세비용차감전손익(백만원)',\n",
    "       '매출액영업이익률', '자기자본순이익률', '총자본순이익률', '매출액(천원)', '총자본회전률', '자기자본회전률',\n",
    "       '운전자본회전률', '순운전자본회전률', '재고자산회전률', '당좌자산회전률', '유동자산회전률', '매출액증가율',\n",
    "       '총자본증가율', '자기자본증가율', '순이익증가율', '유형자산증가율', '유동자산증가율', '재고자산증가율',\n",
    "       '영업이익증가율', '총자본투자효율', '부가가치율', '노동소득분배율', '자본분배율', '이윤분배율', 'ICF(천원)',\n",
    "       'FCF(천원)', '자산총계(천원)', '부채총계(천원)', '자본총계(천원)',  '자본금(천원)',\n",
    "       '영업손익(천원)', '연구개발비(천원)', '파생이자보상배율', '부채상환계수',\n",
    "       '장기/EBITDA', '금융대비매출액', '전체현금흐름(천원)', '연구개발비대비매출액', '매출액대비현금흐름',\n",
    "       '총자산대비현금흐름', '총부채대비현금흐름', '총자본대비현금흐름', '총자산대비영업현금흐름', '총자본대비영업현금흐름',\n",
    "       '총부채대비영업현금흐름', '기업수명주기', 't-1감사의견코드']"
   ]
  },
  {
   "cell_type": "code",
   "execution_count": 456,
   "metadata": {},
   "outputs": [],
   "source": [
    "df = df.reindex(columns=order)"
   ]
  },
  {
   "cell_type": "code",
   "execution_count": 457,
   "metadata": {},
   "outputs": [
    {
     "data": {
      "text/plain": [
       "(185092, 68)"
      ]
     },
     "execution_count": 457,
     "metadata": {},
     "output_type": "execute_result"
    }
   ],
   "source": [
    "df.shape"
   ]
  },
  {
   "cell_type": "markdown",
   "metadata": {},
   "source": [
    "---\n",
    "- train-test split (2.3 / 7.7)"
   ]
  },
  {
   "cell_type": "code",
   "execution_count": 458,
   "metadata": {},
   "outputs": [],
   "source": [
    "# (df['부채비율']==df['부채비율1']).value_counts()\n",
    "# # (raw_data_1['회사명']==data_target['회사명']).value_counts()"
   ]
  },
  {
   "cell_type": "code",
   "execution_count": 459,
   "metadata": {},
   "outputs": [],
   "source": [
    "from sklearn.model_selection import train_test_split\n",
    "\n",
    "X_train,X_test,y_train,y_test= train_test_split(df.drop('t-1감사의견코드',axis=1),df['t-1감사의견코드'],test_size=0.23,stratify=df['t-1감사의견코드']) "
   ]
  },
  {
   "cell_type": "code",
   "execution_count": 460,
   "metadata": {},
   "outputs": [
    {
     "name": "stdout",
     "output_type": "stream",
     "text": [
      "142520\n",
      "42572\n",
      "142520\n",
      "42572\n"
     ]
    }
   ],
   "source": [
    "print(len(X_train))\n",
    "print(len(X_test))\n",
    "print(len(y_train))\n",
    "print(len(y_test))\n"
   ]
  },
  {
   "cell_type": "code",
   "execution_count": 461,
   "metadata": {},
   "outputs": [
    {
     "data": {
      "text/plain": [
       "t-1감사의견코드\n",
       "0.0    132918\n",
       "1.0      9602\n",
       "Name: count, dtype: int64"
      ]
     },
     "execution_count": 461,
     "metadata": {},
     "output_type": "execute_result"
    }
   ],
   "source": [
    "y_train.value_counts()"
   ]
  },
  {
   "cell_type": "code",
   "execution_count": 462,
   "metadata": {},
   "outputs": [
    {
     "data": {
      "text/plain": [
       "t-1감사의견코드\n",
       "0.0    39704\n",
       "1.0     2868\n",
       "Name: count, dtype: int64"
      ]
     },
     "execution_count": 462,
     "metadata": {},
     "output_type": "execute_result"
    }
   ],
   "source": [
    "y_test.value_counts()"
   ]
  },
  {
   "cell_type": "markdown",
   "metadata": {},
   "source": [
    "---"
   ]
  },
  {
   "cell_type": "markdown",
   "metadata": {},
   "source": [
    "### X_trian에 대한 윈져라이징 --> 보류 ! 드랍하기로함!"
   ]
  },
  {
   "cell_type": "code",
   "execution_count": 463,
   "metadata": {},
   "outputs": [],
   "source": [
    "# import matplotlib.pyplot as plt\n",
    "\n",
    "# columns=[ '부채비율', '당좌비율','유동비율', '이자보상배율', '차입금의존도', '자기자본구성비율',\n",
    "#        '매출액영업이익률', '자기자본순이익률', '총자본순이익률',\n",
    "#        '총자본회전률', '자기자본회전률', '운전자본회전률', '순운전자본회전률', '재고자산회전률',\n",
    "#        '당좌자산회전률', '유동자산회전률', '매출액증가율', '총자본증가율', '자기자본증가율', '순이익증가율',\n",
    "#        '유형자산증가율', '유동자산증가율', '재고자산증가율', '영업이익증가율', '총자본투자효율', '부가가치율',\n",
    "#        '노동소득분배율', '자본분배율', '이윤분배율','파생이자보상배율',\n",
    "#        '부채상환계수', '장기/EBITDA', '금융대비매출액', '연구개발비대비매출액',\n",
    "#        '매출액대비현금흐름', '총자산대비현금흐름', '총부채대비현금흐름', '총자본대비현금흐름', '총자산대비영업현금흐름',\n",
    "#        '총자본대비영업현금흐름', '총부채대비영업현금흐름']\n",
    "\n",
    "# # subplots로 boxplot 출력 (4행 9열로 서브플롯 그리기)\n",
    "# fig, axes = plt.subplots(nrows=7, ncols=6, figsize=(30, 24))\n",
    "\n",
    "# # 36개의 컬럼에 대한 boxplot 그리기\n",
    "# for i, col in enumerate(columns):\n",
    "#     ax = axes[i // 6, i % 6]\n",
    "#     ax.boxplot(X_train[col].dropna())\n",
    "#     ax.set_title(col, fontsize=20)  # 글씨 크기 설정\n",
    "#     ax.set_ylabel('Value', fontsize=20)  # 글씨 크기 설정\n",
    "\n",
    "# # 남은 서브플롯 삭제\n",
    "# for j in range(len(columns), 7 * 6):\n",
    "#     fig.delaxes(axes[j // 6, j % 6])\n",
    "\n",
    "# plt.tight_layout()\n",
    "# plt.show()\n"
   ]
  },
  {
   "cell_type": "code",
   "execution_count": 464,
   "metadata": {},
   "outputs": [],
   "source": [
    "# from scipy import stats\n",
    "\n",
    "# def qqplot(df,ncols,nrows):\n",
    "#     plt.rcParams['axes.unicode_minus'] = False\n",
    "#     plt.rcParams[\"font.family\"] = 'Malgun Gothic'\n",
    "   \n",
    "#     fig, axs = plt.subplots(nrows, ncols, constrained_layout=True)\n",
    "#     fig.set_size_inches((50, 80))\n",
    "\n",
    "#     for ax, i in zip(axs.ravel(), df):\n",
    "#             ax.set_title(col, fontsize=20)  # 글씨 크기 설정\n",
    "#             ax.set_ylabel('Value', fontsize=20)  # 글씨 크기 설정\n",
    "#             stats.probplot(df[i], dist=stats.norm, plot=ax)\n",
    "#             ax.set_title(str(i))\n",
    "\n",
    "#     plt.show()\n",
    "\n",
    "# qqplot(X_train[columns],7,6)"
   ]
  },
  {
   "cell_type": "code",
   "execution_count": 465,
   "metadata": {},
   "outputs": [],
   "source": [
    "# from scipy.stats.mstats import winsorize\n",
    "\n",
    "# X_train['부채비율'] = winsorize(X_train['부채비율'], limits= (0, 0.01))\n",
    "# X_train['당좌비율'] = winsorize(X_train['당좌비율'], limits= (0, 0.01))\n",
    "# X_train['유동비율'] = winsorize(X_train['유동비율'], limits= (0, 0.01))\n",
    "# X_train['이자보상배율'] = winsorize(X_train['이자보상배율'], limits= (0, 0.01))\n",
    "# X_train['차입금의존도'] = winsorize(X_train['차입금의존도'], limits= (0, 0.01))\n",
    "# X_train['매출액영업이익률'] = winsorize(X_train['매출액영업이익률'], limits= (0.01, 0))\n",
    "# X_train['자기자본순이익률'] = winsorize(X_train['자기자본순이익률'], limits= (0.008, 0.002))\n",
    "# X_train['총자본순이익률'] = winsorize(X_train['총자본순이익률'], limits= (0.01, 0))\n",
    "# X_train['총자본회전률'] = winsorize(X_train['총자본회전률'], limits= (0, 0.01))\n",
    "# X_train['자기자본회전률'] = winsorize(X_train['자기자본회전률'], limits= (0, 0.01))\n",
    "# X_train['운전자본회전률'] = winsorize(X_train['운전자본회전률'], limits= (0, 0.01))\n",
    "# X_train['순운전자본회전률'] = winsorize(X_train['순운전자본회전률'], limits= (0, 0.01))\n",
    "# X_train['재고자산회전률'] = winsorize(X_train['재고자산회전률'], limits= (0, 0.01))\n",
    "\n",
    "# X_train['당좌자산회전률'] = winsorize(X_train['당좌자산회전률'], limits= (0, 0.01))\n",
    "# X_train['유동자산회전률'] = winsorize(X_train['유동자산회전률'], limits= (0, 0.01))\n",
    "# X_train['매출액증가율'] = winsorize(X_train['매출액증가율'], limits= (0, 0.01))\n",
    "# X_train['총자본증가율'] = winsorize(X_train['총자본증가율'], limits= (0, 0.01))\n",
    "# X_train['자기자본증가율'] = winsorize(X_train['자기자본증가율'], limits= (0, 0.01))\n",
    "# X_train['순이익증가율'] = winsorize(X_train['순이익증가율'], limits= (0, 0.01))\n",
    "# X_train['유형자산증가율'] = winsorize(X_train['유형자산증가율'], limits= (0, 0.01))\n",
    "# X_train['유동자산증가율'] = winsorize(X_train['유동자산증가율'], limits= (0, 0.01))\n",
    "# X_train['재고자산증가율'] = winsorize(X_train['재고자산증가율'], limits= (0, 0.01))\n",
    "# X_train['영업이익증가율'] = winsorize(X_train['영업이익증가율'], limits= (0, 0.01))\n",
    "\n",
    "# X_train['총자본투자효율'] = winsorize(X_train['총자본투자효율'], limits= (0.001, 0.009))\n",
    "# X_train['부가가치율'] = winsorize(X_train['부가가치율'], limits= (0.001, 0.009))\n",
    "# X_train['총자본투자효율'] = winsorize(X_train['총자본투자효율'], limits= (0.008, 0.002))\n",
    "# X_train['노동소득분배율'] = winsorize(X_train['노동소득분배율'], limits= (0, 0.01))\n",
    "# X_train['자본분배율'] = winsorize(X_train['자본분배율'], limits= (0.01, 0))\n",
    "# X_train['이윤분배율'] = winsorize(X_train['이윤분배율'], limits= (0.009, 0.001))\n",
    "# X_train['파생이자보상배율'] = winsorize(X_train['파생이자보상배율'], limits= (0.003, 0.007))\n",
    "\n",
    "# X_train['부채상환계수'] = winsorize(X_train['부채상환계수'], limits= (0.006, 0.004))\n",
    "# X_train['장기/EBITDA'] = winsorize(X_train['장기/EBITDA'], limits= (0.005, 0.005))\n",
    "# X_train['금융대비매출액'] = winsorize(X_train['금융대비매출액'], limits= (0.004, 0.006))\n",
    "# X_train['연구개발비대비매출액'] = winsorize(X_train['연구개발비대비매출액'], limits= (0, 0.01))\n",
    "# X_train['매출액대비현금흐름'] = winsorize(X_train['매출액대비현금흐름'], limits= (0.005, 0.005))\n",
    "# X_train['총자산대비현금흐름'] = winsorize(X_train['총자산대비현금흐름'], limits= (0.006, 0.004))\n",
    "# # X_train['총부채대비현금흐름'] = winsorize(X_train['총부채대비현금흐름'], limits= (0.007, 0.003))\n",
    "# X_train['총자본대비현금흐름'] = winsorize(X_train['총자본대비현금흐름'], limits= (0.005, 0.005))\n",
    "# X_train['총자본대비영업현금흐름'] = winsorize(X_train['총자본대비영업현금흐름'], limits= (0.004, 0.006))\n",
    "# # X_train['총자산대비영업현금흐름'] = winsorize(X_train['총자산대비영업현금흐름'], limits= (0.00, 0.006))\n",
    "# X_train['총부채대비영업현금흐름'] = winsorize(X_train['총부채대비영업현금흐름'], limits= (0.002, 0.008))\n"
   ]
  },
  {
   "cell_type": "markdown",
   "metadata": {},
   "source": [
    "---"
   ]
  },
  {
   "cell_type": "code",
   "execution_count": 466,
   "metadata": {},
   "outputs": [
    {
     "data": {
      "text/plain": [
       "Index(['회사명', '거래소코드', '회계년도', 'Year', '산업분류코드', '산업분류', '부채비율', '당좌비율',\n",
       "       '유동비율', '이자보상배율', 'OCF(천원)', '이자비용(천원)', '차입금의존도', '자기자본구성비율',\n",
       "       '당기순이익(천원)', '감가상각비(백만원)', '금융비용(백만원)', '단기차입금(천원)', '유동성장기부채(천원)',\n",
       "       '장기차입금(천원)', '법인세비용차감전손익(백만원)', '매출액영업이익률', '자기자본순이익률', '총자본순이익률',\n",
       "       '매출액(천원)', '총자본회전률', '자기자본회전률', '운전자본회전률', '순운전자본회전률', '재고자산회전률',\n",
       "       '당좌자산회전률', '유동자산회전률', '매출액증가율', '총자본증가율', '자기자본증가율', '순이익증가율',\n",
       "       '유형자산증가율', '유동자산증가율', '재고자산증가율', '영업이익증가율', '총자본투자효율', '부가가치율',\n",
       "       '노동소득분배율', '자본분배율', '이윤분배율', 'ICF(천원)', 'FCF(천원)', '자산총계(천원)',\n",
       "       '부채총계(천원)', '자본총계(천원)', '자본금(천원)', '영업손익(천원)', '연구개발비(천원)', '파생이자보상배율',\n",
       "       '부채상환계수', '장기/EBITDA', '금융대비매출액', '전체현금흐름(천원)', '연구개발비대비매출액',\n",
       "       '매출액대비현금흐름', '총자산대비현금흐름', '총부채대비현금흐름', '총자본대비현금흐름', '총자산대비영업현금흐름',\n",
       "       '총자본대비영업현금흐름', '총부채대비영업현금흐름', '기업수명주기', 't-1감사의견코드'],\n",
       "      dtype='object')"
      ]
     },
     "execution_count": 466,
     "metadata": {},
     "output_type": "execute_result"
    }
   ],
   "source": [
    "df.columns"
   ]
  },
  {
   "cell_type": "code",
   "execution_count": 477,
   "metadata": {},
   "outputs": [
    {
     "data": {
      "text/plain": [
       "0         -14.406065\n",
       "1         -15.047049\n",
       "2         -15.261763\n",
       "3         -14.974293\n",
       "4         -11.347233\n",
       "             ...    \n",
       "195595     -8.444000\n",
       "195596   -535.327968\n",
       "195597     -4.468368\n",
       "195598    -12.376122\n",
       "195599    -35.640890\n",
       "Name: 자본잠식률, Length: 195517, dtype: float64"
      ]
     },
     "execution_count": 477,
     "metadata": {},
     "output_type": "execute_result"
    }
   ],
   "source": [
    "df['자본잠식률']"
   ]
  },
  {
   "cell_type": "code",
   "execution_count": null,
   "metadata": {},
   "outputs": [],
   "source": []
  }
 ],
 "metadata": {
  "kernelspec": {
   "display_name": "Python 3",
   "language": "python",
   "name": "python3"
  },
  "language_info": {
   "codemirror_mode": {
    "name": "ipython",
    "version": 3
   },
   "file_extension": ".py",
   "mimetype": "text/x-python",
   "name": "python",
   "nbconvert_exporter": "python",
   "pygments_lexer": "ipython3",
   "version": "3.10.9"
  },
  "orig_nbformat": 4
 },
 "nbformat": 4,
 "nbformat_minor": 2
}
