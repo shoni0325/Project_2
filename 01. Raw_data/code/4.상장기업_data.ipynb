{
 "cells": [
  {
   "cell_type": "code",
   "execution_count": 494,
   "metadata": {},
   "outputs": [],
   "source": [
    "import pandas as pd"
   ]
  },
  {
   "cell_type": "markdown",
   "metadata": {},
   "source": [
    "> 데이터 불러오기"
   ]
  },
  {
   "cell_type": "code",
   "execution_count": 495,
   "metadata": {},
   "outputs": [],
   "source": [
    "kos_개별_df = pd.read_csv('/Users/taewon/Documents/금융 빅데이터/Project_2/코딩/상장기업/코스피_코스닥_개별.csv', encoding='cp949')\n",
    "kos_연결_df = pd.read_csv('/Users/taewon/Documents/금융 빅데이터/Project_2/코딩/상장기업/코스피_코스닥_연결.csv', encoding='cp949')\n",
    "kos_gaap_df = pd.read_csv('/Users/taewon/Documents/금융 빅데이터/Project_2/코딩/상장기업/코스피_코스닥_gaap.csv', encoding='cp949')\n",
    "kon_연결_df = pd.read_csv('/Users/taewon/Documents/금융 빅데이터/Project_2/코딩/상장기업/코넥스_연결.csv', encoding='cp949')\n",
    "kon_개별_df = pd.read_csv('/Users/taewon/Documents/금융 빅데이터/Project_2/코딩/상장기업/코넥스_개별.csv', encoding='cp949')\n",
    "kon_gaap_df = pd.read_csv('/Users/taewon/Documents/금융 빅데이터/Project_2/코딩/상장기업/코넥스_gaap.csv', encoding='cp949')"
   ]
  },
  {
   "cell_type": "markdown",
   "metadata": {},
   "source": [
    "> 타겟 데이터 불러오기"
   ]
  },
  {
   "cell_type": "code",
   "execution_count": 496,
   "metadata": {},
   "outputs": [],
   "source": [
    "kos_target_df = pd.read_csv('/Users/taewon/Documents/금융 빅데이터/Project_2/코딩/상장기업/코스피_코스닥_타겟.csv', encoding='cp949')\n",
    "kon_target_df = pd.read_csv('/Users/taewon/Documents/금융 빅데이터/Project_2/코딩/상장기업/코넥스_타겟.csv', encoding='cp949')"
   ]
  },
  {
   "cell_type": "markdown",
   "metadata": {},
   "source": [
    "> 컬럼 추가 데이터 불러오기"
   ]
  },
  {
   "cell_type": "code",
   "execution_count": 497,
   "metadata": {},
   "outputs": [],
   "source": [
    "kos_추가_df = pd.read_csv('/Users/taewon/Documents/금융 빅데이터/Project_2/코딩/상장기업/코스피_코스닥_컬럼추가.csv', encoding='cp949')\n",
    "kon_추가_df = pd.read_csv('/Users/taewon/Documents/금융 빅데이터/Project_2/코딩/상장기업/코넥스_컬럼추가.csv', encoding='cp949')"
   ]
  },
  {
   "cell_type": "markdown",
   "metadata": {},
   "source": [
    "> 단위맞추기(GAAP) : 영업이익(백만원) -> (천원)"
   ]
  },
  {
   "cell_type": "code",
   "execution_count": 498,
   "metadata": {},
   "outputs": [],
   "source": [
    "kos_gaap_df.iloc[:,-5:]*=1000"
   ]
  },
  {
   "cell_type": "code",
   "execution_count": 499,
   "metadata": {},
   "outputs": [],
   "source": [
    "kos_gaap_df.rename(columns={'영업이익(요약)(백만원)':'영업이익(천원)'},inplace=True)"
   ]
  },
  {
   "cell_type": "code",
   "execution_count": 500,
   "metadata": {},
   "outputs": [],
   "source": [
    "kon_gaap_df.iloc[:,-5:]*=1000"
   ]
  },
  {
   "cell_type": "code",
   "execution_count": 501,
   "metadata": {},
   "outputs": [],
   "source": [
    "kon_gaap_df.rename(columns={'영업이익(요약)(백만원)':'영업이익(천원)'},inplace=True)"
   ]
  },
  {
   "cell_type": "markdown",
   "metadata": {},
   "source": [
    "> 컬럼명 리스트에 저장"
   ]
  },
  {
   "cell_type": "code",
   "execution_count": 502,
   "metadata": {},
   "outputs": [],
   "source": [
    "col_list = kos_연결_df.columns.to_list()\n",
    "col_list2 = kon_연결_df.columns.to_list()"
   ]
  },
  {
   "cell_type": "markdown",
   "metadata": {},
   "source": [
    "> 컬럼명 통일"
   ]
  },
  {
   "cell_type": "code",
   "execution_count": 503,
   "metadata": {},
   "outputs": [],
   "source": [
    "kos_연결_df.columns = [f\"X_{i}\" for i in range(1, 55)]"
   ]
  },
  {
   "cell_type": "code",
   "execution_count": 504,
   "metadata": {},
   "outputs": [],
   "source": [
    "kos_개별_df.columns = [f\"X_{i}\" for i in range(1, 55)]"
   ]
  },
  {
   "cell_type": "code",
   "execution_count": 505,
   "metadata": {},
   "outputs": [],
   "source": [
    "kos_gaap_df.columns = [f\"X_{i}\" for i in range(1, 55)]"
   ]
  },
  {
   "cell_type": "code",
   "execution_count": 506,
   "metadata": {},
   "outputs": [],
   "source": [
    "kon_연결_df.columns = [f\"X_{i}\" for i in range(1, 55)]"
   ]
  },
  {
   "cell_type": "code",
   "execution_count": 507,
   "metadata": {},
   "outputs": [],
   "source": [
    "kon_개별_df.columns = [f\"X_{i}\" for i in range(1, 55)]"
   ]
  },
  {
   "cell_type": "code",
   "execution_count": 508,
   "metadata": {},
   "outputs": [],
   "source": [
    "kon_gaap_df.columns = [f\"X_{i}\" for i in range(1, 55)]"
   ]
  },
  {
   "cell_type": "markdown",
   "metadata": {},
   "source": [
    "> 결측치 처리"
   ]
  },
  {
   "cell_type": "code",
   "execution_count": 509,
   "metadata": {},
   "outputs": [],
   "source": [
    "raw_data_1 = kos_연결_df.fillna(kos_개별_df)"
   ]
  },
  {
   "cell_type": "code",
   "execution_count": 510,
   "metadata": {},
   "outputs": [],
   "source": [
    "raw_data_1_2 = raw_data_1.fillna(kos_gaap_df)"
   ]
  },
  {
   "cell_type": "code",
   "execution_count": 511,
   "metadata": {},
   "outputs": [],
   "source": [
    "raw_data_2 = kon_연결_df.fillna(kon_개별_df)"
   ]
  },
  {
   "cell_type": "code",
   "execution_count": 512,
   "metadata": {},
   "outputs": [],
   "source": [
    "raw_data_2_2 = raw_data_2.fillna(kon_gaap_df)"
   ]
  },
  {
   "cell_type": "markdown",
   "metadata": {},
   "source": [
    "> 결측치 확인"
   ]
  },
  {
   "cell_type": "code",
   "execution_count": 513,
   "metadata": {},
   "outputs": [
    {
     "data": {
      "text/plain": [
       "X_1       0\n",
       "X_2       0\n",
       "X_3       0\n",
       "X_4       0\n",
       "X_5     721\n",
       "X_6     802\n",
       "X_7     802\n",
       "X_8     802\n",
       "X_9     255\n",
       "X_10    255\n",
       "X_11    721\n",
       "X_12    721\n",
       "X_13    255\n",
       "X_14    722\n",
       "X_15    722\n",
       "X_16    255\n",
       "X_17    255\n",
       "X_18    255\n",
       "X_19    802\n",
       "X_20    721\n",
       "X_21    721\n",
       "X_22    721\n",
       "X_23    255\n",
       "X_24    721\n",
       "X_25    721\n",
       "X_26    721\n",
       "X_27    721\n",
       "X_28    721\n",
       "X_29    721\n",
       "X_30    721\n",
       "X_31    721\n",
       "X_32    721\n",
       "X_33    721\n",
       "X_34    721\n",
       "X_35    721\n",
       "X_36    721\n",
       "X_37    721\n",
       "X_38    721\n",
       "X_39    722\n",
       "X_40    722\n",
       "X_41    722\n",
       "X_42    722\n",
       "X_43    722\n",
       "X_44    255\n",
       "X_45    255\n",
       "X_46    255\n",
       "X_47    255\n",
       "X_48    255\n",
       "X_49    255\n",
       "X_50    255\n",
       "X_51    805\n",
       "X_52    805\n",
       "X_53    805\n",
       "X_54    805\n",
       "dtype: int64"
      ]
     },
     "execution_count": 513,
     "metadata": {},
     "output_type": "execute_result"
    }
   ],
   "source": [
    "raw_data_1_2.isna().sum()"
   ]
  },
  {
   "cell_type": "code",
   "execution_count": 514,
   "metadata": {},
   "outputs": [
    {
     "data": {
      "text/plain": [
       "X_1      0\n",
       "X_2      0\n",
       "X_3      0\n",
       "X_4      0\n",
       "X_5     87\n",
       "X_6     87\n",
       "X_7     87\n",
       "X_8     87\n",
       "X_9      9\n",
       "X_10     9\n",
       "X_11    87\n",
       "X_12    87\n",
       "X_13     9\n",
       "X_14    87\n",
       "X_15    87\n",
       "X_16     9\n",
       "X_17     9\n",
       "X_18     9\n",
       "X_19    87\n",
       "X_20    87\n",
       "X_21    87\n",
       "X_22    87\n",
       "X_23     9\n",
       "X_24    87\n",
       "X_25    87\n",
       "X_26    87\n",
       "X_27    87\n",
       "X_28    87\n",
       "X_29    87\n",
       "X_30    87\n",
       "X_31    87\n",
       "X_32    87\n",
       "X_33    87\n",
       "X_34    87\n",
       "X_35    87\n",
       "X_36    87\n",
       "X_37    87\n",
       "X_38    87\n",
       "X_39    87\n",
       "X_40    87\n",
       "X_41    87\n",
       "X_42    87\n",
       "X_43    87\n",
       "X_44     9\n",
       "X_45     9\n",
       "X_46     9\n",
       "X_47     9\n",
       "X_48     9\n",
       "X_49     9\n",
       "X_50     9\n",
       "X_51    87\n",
       "X_52    87\n",
       "X_53    87\n",
       "X_54    87\n",
       "dtype: int64"
      ]
     },
     "execution_count": 514,
     "metadata": {},
     "output_type": "execute_result"
    }
   ],
   "source": [
    "raw_data_2_2.isna().sum()"
   ]
  },
  {
   "cell_type": "markdown",
   "metadata": {},
   "source": [
    "> 리스트에 저장된 컬럼명으로 변경"
   ]
  },
  {
   "cell_type": "code",
   "execution_count": 515,
   "metadata": {},
   "outputs": [],
   "source": [
    "raw_data_1_2.columns = col_list\n",
    "raw_data_2_2.columns = col_list2"
   ]
  },
  {
   "cell_type": "markdown",
   "metadata": {},
   "source": [
    "> 타겟 데이터 컬럼명 변경"
   ]
  },
  {
   "cell_type": "code",
   "execution_count": 516,
   "metadata": {},
   "outputs": [],
   "source": [
    "kos_target_df.rename(columns={'감사의견코드(IFRS).1':'감사의견코드(개별)', '감사의견코드':'감사의견코드(GAAP)'}, inplace=True)"
   ]
  },
  {
   "cell_type": "code",
   "execution_count": 517,
   "metadata": {},
   "outputs": [],
   "source": [
    "kon_target_df.rename(columns={'감사의견코드(IFRS).1':'감사의견코드(개별)', '감사의견코드':'감사의견코드(GAAP)'}, inplace=True)"
   ]
  },
  {
   "cell_type": "markdown",
   "metadata": {},
   "source": [
    "> 타겟 데이터 결측치 처리"
   ]
  },
  {
   "cell_type": "code",
   "execution_count": 518,
   "metadata": {},
   "outputs": [],
   "source": [
    "kos_target_df['감사의견코드(IFRS)'].fillna(kos_target_df['감사의견코드(개별)'], inplace=True)\n",
    "kos_target_df['감사의견코드(IFRS)'].fillna(kos_target_df['감사의견코드(GAAP)'], inplace=True)\n",
    "kon_target_df['감사의견코드(IFRS)'].fillna(kos_target_df['감사의견코드(개별)'], inplace=True)\n",
    "kon_target_df['감사의견코드(IFRS)'].fillna(kos_target_df['감사의견코드(GAAP)'], inplace=True)"
   ]
  },
  {
   "cell_type": "code",
   "execution_count": 519,
   "metadata": {},
   "outputs": [],
   "source": [
    "kos_추가_df['자본금(*)(IFRS연결)(천원)'].fillna(kos_추가_df['자본금(*)(IFRS)(천원)'], inplace=True)\n",
    "kos_추가_df['자본금(*)(IFRS연결)(천원)'].fillna(kos_추가_df['자본금(*)(천원)'], inplace=True)"
   ]
  },
  {
   "cell_type": "code",
   "execution_count": 520,
   "metadata": {},
   "outputs": [],
   "source": [
    "kon_추가_df['자본금(*)(IFRS연결)(천원)'].fillna(kon_추가_df['자본금(*)(IFRS)(천원)'], inplace=True)\n",
    "kon_추가_df['자본금(*)(IFRS연결)(천원)'].fillna(kon_추가_df['자본금(*)(천원)'], inplace=True)"
   ]
  },
  {
   "cell_type": "markdown",
   "metadata": {},
   "source": [
    "> 타겟 데이터 필요없는 컬럼 삭제"
   ]
  },
  {
   "cell_type": "code",
   "execution_count": 521,
   "metadata": {},
   "outputs": [],
   "source": [
    "kos_target_df.drop(columns=['감사의견코드(개별)','감사의견코드(GAAP)'], inplace=True)\n",
    "kon_target_df.drop(columns=['감사의견코드(개별)','감사의견코드(GAAP)'], inplace=True)"
   ]
  },
  {
   "cell_type": "code",
   "execution_count": 522,
   "metadata": {},
   "outputs": [],
   "source": [
    "kos_추가_df.drop(columns=['자본금(*)(IFRS)(천원)','자본금(*)(천원)'], inplace=True)\n",
    "kon_추가_df.drop(columns=['자본금(*)(IFRS)(천원)','자본금(*)(천원)'], inplace=True)"
   ]
  },
  {
   "cell_type": "markdown",
   "metadata": {},
   "source": [
    "> 상장 기업 데이터와 타겟 데이터 병합"
   ]
  },
  {
   "cell_type": "code",
   "execution_count": 523,
   "metadata": {},
   "outputs": [],
   "source": [
    "data_1 = pd.concat([raw_data_1_2,kos_target_df.iloc[:,-1]],axis=1)\n",
    "data_2 = pd.concat([raw_data_2_2,kon_target_df.iloc[:,-1]],axis=1)"
   ]
  },
  {
   "cell_type": "markdown",
   "metadata": {},
   "source": [
    "> 코스피+코스닥 데이터와 코넥스 데이터 병합"
   ]
  },
  {
   "cell_type": "code",
   "execution_count": 524,
   "metadata": {},
   "outputs": [],
   "source": [
    "data_3 = pd.concat([data_1, data_2], axis=0).reset_index(drop=True)"
   ]
  },
  {
   "cell_type": "markdown",
   "metadata": {},
   "source": [
    "> 코스피+코스닥와 코넥스 컬럼 추가 데이터 병합"
   ]
  },
  {
   "cell_type": "code",
   "execution_count": 525,
   "metadata": {},
   "outputs": [],
   "source": [
    "컬럼추가_df = pd.concat([kos_추가_df, kon_추가_df], axis=0).reset_index(drop=True)"
   ]
  },
  {
   "cell_type": "code",
   "execution_count": 526,
   "metadata": {},
   "outputs": [],
   "source": [
    "data_4 = pd.concat([data_3, 컬럼추가_df.iloc[:,-2]],axis=1)\n",
    "data_4 = pd.concat([data_4, 컬럼추가_df.iloc[:,-1]],axis=1)"
   ]
  },
  {
   "cell_type": "code",
   "execution_count": 527,
   "metadata": {},
   "outputs": [
    {
     "data": {
      "text/html": [
       "<div>\n",
       "<style scoped>\n",
       "    .dataframe tbody tr th:only-of-type {\n",
       "        vertical-align: middle;\n",
       "    }\n",
       "\n",
       "    .dataframe tbody tr th {\n",
       "        vertical-align: top;\n",
       "    }\n",
       "\n",
       "    .dataframe thead th {\n",
       "        text-align: right;\n",
       "    }\n",
       "</style>\n",
       "<table border=\"1\" class=\"dataframe\">\n",
       "  <thead>\n",
       "    <tr style=\"text-align: right;\">\n",
       "      <th></th>\n",
       "      <th>회사명</th>\n",
       "      <th>거래소코드</th>\n",
       "      <th>회계년도</th>\n",
       "      <th>통계청 한국표준산업분류 코드 10차(대분류)</th>\n",
       "      <th>통계청 한국표준산업분류 10차(대분류)</th>\n",
       "      <th>자본금(*)(IFRS연결)(천원)</th>\n",
       "    </tr>\n",
       "  </thead>\n",
       "  <tbody>\n",
       "    <tr>\n",
       "      <th>0</th>\n",
       "      <td>(주)CMG제약</td>\n",
       "      <td>58820</td>\n",
       "      <td>2011/12</td>\n",
       "      <td>21</td>\n",
       "      <td>제조업</td>\n",
       "      <td>21846600.0</td>\n",
       "    </tr>\n",
       "    <tr>\n",
       "      <th>1</th>\n",
       "      <td>(주)CMG제약</td>\n",
       "      <td>58820</td>\n",
       "      <td>2012/12</td>\n",
       "      <td>21</td>\n",
       "      <td>제조업</td>\n",
       "      <td>33012770.0</td>\n",
       "    </tr>\n",
       "    <tr>\n",
       "      <th>2</th>\n",
       "      <td>(주)CMG제약</td>\n",
       "      <td>58820</td>\n",
       "      <td>2013/12</td>\n",
       "      <td>21</td>\n",
       "      <td>제조업</td>\n",
       "      <td>43313433.0</td>\n",
       "    </tr>\n",
       "    <tr>\n",
       "      <th>3</th>\n",
       "      <td>(주)CMG제약</td>\n",
       "      <td>58820</td>\n",
       "      <td>2014/12</td>\n",
       "      <td>21</td>\n",
       "      <td>제조업</td>\n",
       "      <td>43313433.0</td>\n",
       "    </tr>\n",
       "    <tr>\n",
       "      <th>4</th>\n",
       "      <td>(주)CMG제약</td>\n",
       "      <td>58820</td>\n",
       "      <td>2015/12</td>\n",
       "      <td>21</td>\n",
       "      <td>제조업</td>\n",
       "      <td>44148622.0</td>\n",
       "    </tr>\n",
       "    <tr>\n",
       "      <th>...</th>\n",
       "      <td>...</td>\n",
       "      <td>...</td>\n",
       "      <td>...</td>\n",
       "      <td>...</td>\n",
       "      <td>...</td>\n",
       "      <td>...</td>\n",
       "    </tr>\n",
       "    <tr>\n",
       "      <th>25438</th>\n",
       "      <td>퓨쳐메디신(주)</td>\n",
       "      <td>341170</td>\n",
       "      <td>2018/12</td>\n",
       "      <td>70</td>\n",
       "      <td>전문, 과학 및 기술 서비스업</td>\n",
       "      <td>1516733.0</td>\n",
       "    </tr>\n",
       "    <tr>\n",
       "      <th>25439</th>\n",
       "      <td>퓨쳐메디신(주)</td>\n",
       "      <td>341170</td>\n",
       "      <td>2019/12</td>\n",
       "      <td>70</td>\n",
       "      <td>전문, 과학 및 기술 서비스업</td>\n",
       "      <td>1516733.0</td>\n",
       "    </tr>\n",
       "    <tr>\n",
       "      <th>25440</th>\n",
       "      <td>퓨쳐메디신(주)</td>\n",
       "      <td>341170</td>\n",
       "      <td>2020/12</td>\n",
       "      <td>70</td>\n",
       "      <td>전문, 과학 및 기술 서비스업</td>\n",
       "      <td>3413155.0</td>\n",
       "    </tr>\n",
       "    <tr>\n",
       "      <th>25441</th>\n",
       "      <td>퓨쳐메디신(주)</td>\n",
       "      <td>341170</td>\n",
       "      <td>2021/12</td>\n",
       "      <td>70</td>\n",
       "      <td>전문, 과학 및 기술 서비스업</td>\n",
       "      <td>4637735.0</td>\n",
       "    </tr>\n",
       "    <tr>\n",
       "      <th>25442</th>\n",
       "      <td>퓨쳐메디신(주)</td>\n",
       "      <td>341170</td>\n",
       "      <td>2022/12</td>\n",
       "      <td>70</td>\n",
       "      <td>전문, 과학 및 기술 서비스업</td>\n",
       "      <td>4637735.0</td>\n",
       "    </tr>\n",
       "  </tbody>\n",
       "</table>\n",
       "<p>25443 rows × 6 columns</p>\n",
       "</div>"
      ],
      "text/plain": [
       "            회사명   거래소코드     회계년도  통계청 한국표준산업분류 코드 10차(대분류)   \n",
       "0      (주)CMG제약   58820  2011/12                        21  \\\n",
       "1      (주)CMG제약   58820  2012/12                        21   \n",
       "2      (주)CMG제약   58820  2013/12                        21   \n",
       "3      (주)CMG제약   58820  2014/12                        21   \n",
       "4      (주)CMG제약   58820  2015/12                        21   \n",
       "...         ...     ...      ...                       ...   \n",
       "25438  퓨쳐메디신(주)  341170  2018/12                        70   \n",
       "25439  퓨쳐메디신(주)  341170  2019/12                        70   \n",
       "25440  퓨쳐메디신(주)  341170  2020/12                        70   \n",
       "25441  퓨쳐메디신(주)  341170  2021/12                        70   \n",
       "25442  퓨쳐메디신(주)  341170  2022/12                        70   \n",
       "\n",
       "      통계청 한국표준산업분류 10차(대분류)  자본금(*)(IFRS연결)(천원)  \n",
       "0                       제조업          21846600.0  \n",
       "1                       제조업          33012770.0  \n",
       "2                       제조업          43313433.0  \n",
       "3                       제조업          43313433.0  \n",
       "4                       제조업          44148622.0  \n",
       "...                     ...                 ...  \n",
       "25438      전문, 과학 및 기술 서비스업           1516733.0  \n",
       "25439      전문, 과학 및 기술 서비스업           1516733.0  \n",
       "25440      전문, 과학 및 기술 서비스업           3413155.0  \n",
       "25441      전문, 과학 및 기술 서비스업           4637735.0  \n",
       "25442      전문, 과학 및 기술 서비스업           4637735.0  \n",
       "\n",
       "[25443 rows x 6 columns]"
      ]
     },
     "execution_count": 527,
     "metadata": {},
     "output_type": "execute_result"
    }
   ],
   "source": [
    "컬럼추가_df"
   ]
  },
  {
   "cell_type": "markdown",
   "metadata": {},
   "source": [
    "> 컬럼 순서 변경"
   ]
  },
  {
   "cell_type": "code",
   "execution_count": 528,
   "metadata": {},
   "outputs": [],
   "source": [
    "# n번째 열을 임시 변수에 저장합니다.\n",
    "temp_column = data_4.iloc[:,-2]\n",
    "\n",
    "# n번째 열을 삭제합니다.\n",
    "data_4.drop(data_4.columns[-2], axis=1, inplace=True)\n",
    "\n",
    "# n번째 열 앞에 임시 변수에 저장한 열을 추가\n",
    "data_4.insert(4, '통계청 한국표준산업분류 10차(대분류)', temp_column)"
   ]
  },
  {
   "cell_type": "code",
   "execution_count": 529,
   "metadata": {},
   "outputs": [],
   "source": [
    "target_df = data_4['감사의견코드(IFRS)']\n",
    "target_df = pd.DataFrame(target_df)"
   ]
  },
  {
   "cell_type": "code",
   "execution_count": 530,
   "metadata": {},
   "outputs": [],
   "source": [
    "data_4.drop(columns=['감사의견코드(IFRS)'], inplace=True)"
   ]
  },
  {
   "cell_type": "code",
   "execution_count": 531,
   "metadata": {},
   "outputs": [],
   "source": [
    "data_5 = pd.concat([data_4,target_df],axis=1)"
   ]
  },
  {
   "cell_type": "markdown",
   "metadata": {},
   "source": [
    "> 거래소코드 수정"
   ]
  },
  {
   "cell_type": "code",
   "execution_count": 532,
   "metadata": {},
   "outputs": [],
   "source": [
    "data_5['거래소코드'] = data_5['거래소코드'].astype(str).str.zfill(6)"
   ]
  },
  {
   "cell_type": "markdown",
   "metadata": {},
   "source": [
    "> 데이터 확인"
   ]
  },
  {
   "cell_type": "code",
   "execution_count": 533,
   "metadata": {},
   "outputs": [
    {
     "data": {
      "text/html": [
       "<div>\n",
       "<style scoped>\n",
       "    .dataframe tbody tr th:only-of-type {\n",
       "        vertical-align: middle;\n",
       "    }\n",
       "\n",
       "    .dataframe tbody tr th {\n",
       "        vertical-align: top;\n",
       "    }\n",
       "\n",
       "    .dataframe thead th {\n",
       "        text-align: right;\n",
       "    }\n",
       "</style>\n",
       "<table border=\"1\" class=\"dataframe\">\n",
       "  <thead>\n",
       "    <tr style=\"text-align: right;\">\n",
       "      <th></th>\n",
       "      <th>회사명</th>\n",
       "      <th>거래소코드</th>\n",
       "      <th>회계년도</th>\n",
       "      <th>통계청 한국표준산업분류 코드 10차(대분류)</th>\n",
       "      <th>통계청 한국표준산업분류 10차(대분류)</th>\n",
       "      <th>부채비율(IFRS연결)</th>\n",
       "      <th>당좌비율(IFRS)</th>\n",
       "      <th>유동비율(IFRS)</th>\n",
       "      <th>이자보상배율(이자비용)(IFRS)</th>\n",
       "      <th>영업활동으로 인한 현금흐름(간접법)(*)(IFRS연결)(천원)</th>\n",
       "      <th>...</th>\n",
       "      <th>부채(*)(IFRS연결)(천원)</th>\n",
       "      <th>자본(*)(IFRS연결)(천원)</th>\n",
       "      <th>연구개발비(IFRS연결)(천원)</th>\n",
       "      <th>* (정상)영업손익(보고서기재)(IFRS연결)(천원)</th>\n",
       "      <th>PER(최고)(IFRS)</th>\n",
       "      <th>PER(최저)(IFRS)</th>\n",
       "      <th>PBR(최고)(IFRS)</th>\n",
       "      <th>PBR(최저)(IFRS)</th>\n",
       "      <th>자본금(*)(IFRS연결)(천원)</th>\n",
       "      <th>감사의견코드(IFRS)</th>\n",
       "    </tr>\n",
       "  </thead>\n",
       "  <tbody>\n",
       "    <tr>\n",
       "      <th>0</th>\n",
       "      <td>(주)CMG제약</td>\n",
       "      <td>058820</td>\n",
       "      <td>2011/12</td>\n",
       "      <td>21</td>\n",
       "      <td>제조업</td>\n",
       "      <td>51.41</td>\n",
       "      <td>164.32</td>\n",
       "      <td>200.32</td>\n",
       "      <td>3.94</td>\n",
       "      <td>-2560438.0</td>\n",
       "      <td>...</td>\n",
       "      <td>9270949.0</td>\n",
       "      <td>18034249.0</td>\n",
       "      <td>23703.0</td>\n",
       "      <td>640283.0</td>\n",
       "      <td>0.00</td>\n",
       "      <td>0.00</td>\n",
       "      <td>3.31</td>\n",
       "      <td>1.11</td>\n",
       "      <td>21846600.0</td>\n",
       "      <td>UQ</td>\n",
       "    </tr>\n",
       "    <tr>\n",
       "      <th>1</th>\n",
       "      <td>(주)CMG제약</td>\n",
       "      <td>058820</td>\n",
       "      <td>2012/12</td>\n",
       "      <td>21</td>\n",
       "      <td>제조업</td>\n",
       "      <td>80.77</td>\n",
       "      <td>661.93</td>\n",
       "      <td>706.26</td>\n",
       "      <td>-7.45</td>\n",
       "      <td>-1572581.0</td>\n",
       "      <td>...</td>\n",
       "      <td>25517350.0</td>\n",
       "      <td>31590685.0</td>\n",
       "      <td>120052.0</td>\n",
       "      <td>-4205503.0</td>\n",
       "      <td>0.00</td>\n",
       "      <td>0.00</td>\n",
       "      <td>4.33</td>\n",
       "      <td>0.78</td>\n",
       "      <td>33012770.0</td>\n",
       "      <td>UQ</td>\n",
       "    </tr>\n",
       "    <tr>\n",
       "      <th>2</th>\n",
       "      <td>(주)CMG제약</td>\n",
       "      <td>058820</td>\n",
       "      <td>2013/12</td>\n",
       "      <td>21</td>\n",
       "      <td>제조업</td>\n",
       "      <td>14.11</td>\n",
       "      <td>611.84</td>\n",
       "      <td>695.84</td>\n",
       "      <td>0.73</td>\n",
       "      <td>-3939013.0</td>\n",
       "      <td>...</td>\n",
       "      <td>6915281.0</td>\n",
       "      <td>48997281.0</td>\n",
       "      <td>134454.0</td>\n",
       "      <td>791250.0</td>\n",
       "      <td>529.70</td>\n",
       "      <td>220.41</td>\n",
       "      <td>4.16</td>\n",
       "      <td>1.73</td>\n",
       "      <td>43313433.0</td>\n",
       "      <td>UQ</td>\n",
       "    </tr>\n",
       "    <tr>\n",
       "      <th>3</th>\n",
       "      <td>(주)CMG제약</td>\n",
       "      <td>058820</td>\n",
       "      <td>2014/12</td>\n",
       "      <td>21</td>\n",
       "      <td>제조업</td>\n",
       "      <td>18.50</td>\n",
       "      <td>269.08</td>\n",
       "      <td>325.47</td>\n",
       "      <td>3.63</td>\n",
       "      <td>724893.0</td>\n",
       "      <td>...</td>\n",
       "      <td>9065682.0</td>\n",
       "      <td>49002644.0</td>\n",
       "      <td>116533.0</td>\n",
       "      <td>442322.0</td>\n",
       "      <td>848.58</td>\n",
       "      <td>443.48</td>\n",
       "      <td>3.75</td>\n",
       "      <td>1.96</td>\n",
       "      <td>43313433.0</td>\n",
       "      <td>UQ</td>\n",
       "    </tr>\n",
       "    <tr>\n",
       "      <th>4</th>\n",
       "      <td>(주)CMG제약</td>\n",
       "      <td>058820</td>\n",
       "      <td>2015/12</td>\n",
       "      <td>21</td>\n",
       "      <td>제조업</td>\n",
       "      <td>20.78</td>\n",
       "      <td>236.06</td>\n",
       "      <td>297.75</td>\n",
       "      <td>-32.20</td>\n",
       "      <td>2410205.0</td>\n",
       "      <td>...</td>\n",
       "      <td>9725933.0</td>\n",
       "      <td>46806888.0</td>\n",
       "      <td>831910.0</td>\n",
       "      <td>-2572168.0</td>\n",
       "      <td>0.00</td>\n",
       "      <td>0.00</td>\n",
       "      <td>9.56</td>\n",
       "      <td>2.27</td>\n",
       "      <td>44148622.0</td>\n",
       "      <td>UQ</td>\n",
       "    </tr>\n",
       "  </tbody>\n",
       "</table>\n",
       "<p>5 rows × 57 columns</p>\n",
       "</div>"
      ],
      "text/plain": [
       "        회사명   거래소코드     회계년도  통계청 한국표준산업분류 코드 10차(대분류) 통계청 한국표준산업분류 10차(대분류)   \n",
       "0  (주)CMG제약  058820  2011/12                        21                   제조업  \\\n",
       "1  (주)CMG제약  058820  2012/12                        21                   제조업   \n",
       "2  (주)CMG제약  058820  2013/12                        21                   제조업   \n",
       "3  (주)CMG제약  058820  2014/12                        21                   제조업   \n",
       "4  (주)CMG제약  058820  2015/12                        21                   제조업   \n",
       "\n",
       "   부채비율(IFRS연결)  당좌비율(IFRS)  유동비율(IFRS)  이자보상배율(이자비용)(IFRS)   \n",
       "0         51.41      164.32      200.32                3.94  \\\n",
       "1         80.77      661.93      706.26               -7.45   \n",
       "2         14.11      611.84      695.84                0.73   \n",
       "3         18.50      269.08      325.47                3.63   \n",
       "4         20.78      236.06      297.75              -32.20   \n",
       "\n",
       "   영업활동으로 인한 현금흐름(간접법)(*)(IFRS연결)(천원)  ...  부채(*)(IFRS연결)(천원)   \n",
       "0                          -2560438.0  ...          9270949.0  \\\n",
       "1                          -1572581.0  ...         25517350.0   \n",
       "2                          -3939013.0  ...          6915281.0   \n",
       "3                            724893.0  ...          9065682.0   \n",
       "4                           2410205.0  ...          9725933.0   \n",
       "\n",
       "   자본(*)(IFRS연결)(천원)  연구개발비(IFRS연결)(천원)  * (정상)영업손익(보고서기재)(IFRS연결)(천원)   \n",
       "0         18034249.0            23703.0                       640283.0  \\\n",
       "1         31590685.0           120052.0                     -4205503.0   \n",
       "2         48997281.0           134454.0                       791250.0   \n",
       "3         49002644.0           116533.0                       442322.0   \n",
       "4         46806888.0           831910.0                     -2572168.0   \n",
       "\n",
       "   PER(최고)(IFRS)  PER(최저)(IFRS)  PBR(최고)(IFRS)  PBR(최저)(IFRS)   \n",
       "0           0.00           0.00           3.31           1.11  \\\n",
       "1           0.00           0.00           4.33           0.78   \n",
       "2         529.70         220.41           4.16           1.73   \n",
       "3         848.58         443.48           3.75           1.96   \n",
       "4           0.00           0.00           9.56           2.27   \n",
       "\n",
       "   자본금(*)(IFRS연결)(천원)  감사의견코드(IFRS)  \n",
       "0          21846600.0            UQ  \n",
       "1          33012770.0            UQ  \n",
       "2          43313433.0            UQ  \n",
       "3          43313433.0            UQ  \n",
       "4          44148622.0            UQ  \n",
       "\n",
       "[5 rows x 57 columns]"
      ]
     },
     "execution_count": 533,
     "metadata": {},
     "output_type": "execute_result"
    }
   ],
   "source": [
    "data_5.head()"
   ]
  },
  {
   "cell_type": "markdown",
   "metadata": {},
   "source": [
    "> 데이터 저장"
   ]
  },
  {
   "cell_type": "code",
   "execution_count": 534,
   "metadata": {},
   "outputs": [],
   "source": [
    "data_5.to_csv('상장기업_data.csv', index=False, encoding='utf-8')"
   ]
  },
  {
   "cell_type": "code",
   "execution_count": null,
   "metadata": {},
   "outputs": [],
   "source": []
  }
 ],
 "metadata": {
  "kernelspec": {
   "display_name": "Python 3",
   "language": "python",
   "name": "python3"
  },
  "language_info": {
   "codemirror_mode": {
    "name": "ipython",
    "version": 3
   },
   "file_extension": ".py",
   "mimetype": "text/x-python",
   "name": "python",
   "nbconvert_exporter": "python",
   "pygments_lexer": "ipython3",
   "version": "3.9.6"
  },
  "orig_nbformat": 4
 },
 "nbformat": 4,
 "nbformat_minor": 2
}
