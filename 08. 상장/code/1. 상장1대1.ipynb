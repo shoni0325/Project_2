{
 "cells": [
  {
   "cell_type": "code",
   "execution_count": 1,
   "metadata": {},
   "outputs": [],
   "source": [
    "import pandas as pd\n",
    "import numpy as np\n",
    "import matplotlib.pyplot as plt\n",
    "import matplotlib.ticker as ticker\n",
    "import seaborn as sns\n",
    "from datetime import datetime\n",
    "import time\n",
    "import warnings\n",
    "warnings.filterwarnings(\"ignore\")\n",
    "\n",
    "from sklearn.preprocessing import MinMaxScaler, StandardScaler, RobustScaler\n",
    "from sklearn.metrics import accuracy_score,f1_score,recall_score,precision_score,confusion_matrix,ConfusionMatrixDisplay,roc_curve,roc_auc_score,precision_recall_curve\n",
    "from sklearn.ensemble import RandomForestClassifier , StackingClassifier\n",
    "from sklearn.svm import SVC\n",
    "from sklearn.discriminant_analysis import LinearDiscriminantAnalysis\n",
    "from sklearn.tree import DecisionTreeClassifier\n",
    "from xgboost import XGBClassifier\n",
    "from lightgbm import LGBMClassifier\n",
    "from catboost import CatBoostClassifier\n",
    "from sklearn.neighbors import KNeighborsClassifier\n",
    "from sklearn.linear_model import LogisticRegression,Lasso\n",
    "from sklearn.preprocessing import Binarizer\n",
    "from sklearn.model_selection import cross_val_score,GridSearchCV\n",
    "\n",
    "# 한글 깨짐 방지\n",
    "import matplotlib.pyplot as plt\n",
    "plt.rcParams['font.family'] = 'malgun Gothic'"
   ]
  },
  {
   "cell_type": "code",
   "execution_count": 2,
   "metadata": {},
   "outputs": [],
   "source": [
    "train = pd.read_csv('../data/train_Winsorization_시총_상장.csv', encoding='euc-kr')\n",
    "test = pd.read_csv('../data/test_시총_상장.csv', encoding='euc-kr')"
   ]
  },
  {
   "cell_type": "code",
   "execution_count": 3,
   "metadata": {},
   "outputs": [],
   "source": [
    "X_train_sum = train[['부채비율', '총자본회전률', '매출액대비잉여현금흐름', 'PBR',\n",
    "       '총자산대비영업현금흐름', '자기자본증가율', '총자본투자효율', '총자본순이익률',\n",
    "       '매출액영업이익률']]\n",
    "y_train = train[['t-1감사의견코드']]\n",
    "X_test_sum = test[['부채비율', '총자본회전률', '매출액대비잉여현금흐름', 'PBR',\n",
    "       '총자산대비영업현금흐름', '자기자본증가율', '총자본투자효율', '총자본순이익률',\n",
    "       '매출액영업이익률']]\n",
    "y_test = test[['t-1감사의견코드']]"
   ]
  },
  {
   "cell_type": "code",
   "execution_count": 4,
   "metadata": {},
   "outputs": [],
   "source": [
    "X_train = train.drop('t-1감사의견코드',axis=1)\n",
    "y_train = train[['t-1감사의견코드']]\n",
    "\n",
    "X_test = test.drop('t-1감사의견코드',axis=1)\n",
    "y_test = test[['t-1감사의견코드']]"
   ]
  },
  {
   "cell_type": "code",
   "execution_count": 5,
   "metadata": {},
   "outputs": [],
   "source": [
    "from imblearn.under_sampling import OneSidedSelection\n",
    "\n",
    "# One Side Selection을 사용하여 언더샘플링된 데이터 생성\n",
    "oss = OneSidedSelection()\n",
    "X_test_sum, y_test = oss.fit_resample(X_test_sum, y_test)\n",
    "X_train_sum, y_train = oss.fit_resample(X_train_sum, y_train)"
   ]
  },
  {
   "cell_type": "code",
   "execution_count": 6,
   "metadata": {},
   "outputs": [],
   "source": [
    "scaler = StandardScaler()\n",
    "X_train_sc = scaler.fit_transform(X_train_sum)\n",
    "X_test_sc = scaler.transform(X_test_sum)"
   ]
  },
  {
   "cell_type": "code",
   "execution_count": 7,
   "metadata": {},
   "outputs": [],
   "source": [
    "X_train_sc=pd.DataFrame(X_train_sc, columns=X_train_sum.columns)\n",
    "X_test_sc=pd.DataFrame(X_test_sc, columns=X_test_sum.columns)"
   ]
  },
  {
   "cell_type": "code",
   "execution_count": 8,
   "metadata": {},
   "outputs": [],
   "source": [
    "X_test_sc=pd.concat([X_test_sc,y_test],axis=1)\n",
    "X_train_sc=pd.concat([X_train_sc,y_train],axis=1)"
   ]
  },
  {
   "cell_type": "code",
   "execution_count": null,
   "metadata": {},
   "outputs": [],
   "source": [
    "import numpy as np\n",
    "import pandas as pd\n",
    "from sklearn.utils import resample\n",
    "\n",
    "# X_train_sc, y_train, X_test_sc, y_test 데이터가 이미 준비되어 있다고 가정합니다.\n",
    "# 여기서는 임의의 데이터를 생성하여 예시로 사용합니다.\n",
    "np.random.seed(0)\n",
    "X_train_sc = pd.DataFrame(np.random.randn(100, 10))\n",
    "y_train = pd.Series(np.random.choice([0, 1], size=100, replace=True))\n",
    "X_test_sc = pd.DataFrame(np.random.randn(30, 10))\n",
    "y_test = pd.Series(np.random.choice([0, 1], size=30, replace=True))\n",
    "\n",
    "# 합친 데이터를 생성합니다.\n",
    "train_data = pd.concat([X_train_sc, y_train], axis=1)\n",
    "\n",
    "# 소수 클래스의 개수를 확인합니다.\n",
    "minority_class = train_data[train_data.iloc[:, -1] == 1]\n",
    "n_minority_class = len(minority_class)\n",
    "\n",
    "# 다수 클래스의 개수에 맞게 랜덤 언더샘플링을 수행합니다.\n",
    "majority_class = train_data[train_data.iloc[:, -1] == 0].sample(n=n_minority_class, random_state=0)\n",
    "\n",
    "# 언더샘플링한 데이터를 합칩니다.\n",
    "under_sampled_data = pd.concat([minority_class, majority_class])\n",
    "\n",
    "# 언더샘플링한 데이터를 다시 X_train, y_train으로 분리합니다.\n",
    "X_train = under_sampled_data.iloc[:, :-1]\n",
    "y_train = under_sampled_data.iloc[:, -1]\n",
    "\n",
    "print(\"언더샘플링 전:\")\n",
    "print(y_train.value_counts())\n",
    "\n",
    "# 언더샘플링 후의 데이터 개수를 출력합니다.\n",
    "print(\"언더샘플링 후:\")\n",
    "print(y_train.value_counts())\n"
   ]
  },
  {
   "cell_type": "code",
   "execution_count": null,
   "metadata": {},
   "outputs": [],
   "source": []
  }
 ],
 "metadata": {
  "kernelspec": {
   "display_name": "Python 3",
   "language": "python",
   "name": "python3"
  },
  "language_info": {
   "codemirror_mode": {
    "name": "ipython",
    "version": 3
   },
   "file_extension": ".py",
   "mimetype": "text/x-python",
   "name": "python",
   "nbconvert_exporter": "python",
   "pygments_lexer": "ipython3",
   "version": "3.10.9"
  },
  "orig_nbformat": 4
 },
 "nbformat": 4,
 "nbformat_minor": 2
}
