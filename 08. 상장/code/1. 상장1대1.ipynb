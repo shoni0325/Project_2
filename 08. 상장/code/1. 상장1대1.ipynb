{
 "cells": [
  {
   "cell_type": "code",
   "execution_count": 15,
   "metadata": {},
   "outputs": [],
   "source": [
    "import pandas as pd\n",
    "import numpy as np\n",
    "import matplotlib.pyplot as plt\n",
    "import matplotlib.ticker as ticker\n",
    "import seaborn as sns\n",
    "from datetime import datetime\n",
    "import time\n",
    "import warnings\n",
    "warnings.filterwarnings(\"ignore\")\n",
    "\n",
    "from sklearn.preprocessing import MinMaxScaler, StandardScaler, RobustScaler\n",
    "from sklearn.metrics import accuracy_score,f1_score,recall_score,precision_score,confusion_matrix,ConfusionMatrixDisplay,roc_curve,roc_auc_score,precision_recall_curve\n",
    "from sklearn.ensemble import RandomForestClassifier , StackingClassifier\n",
    "from sklearn.svm import SVC\n",
    "from sklearn.discriminant_analysis import LinearDiscriminantAnalysis\n",
    "from sklearn.tree import DecisionTreeClassifier\n",
    "from xgboost import XGBClassifier\n",
    "from lightgbm import LGBMClassifier\n",
    "from catboost import CatBoostClassifier\n",
    "from sklearn.neighbors import KNeighborsClassifier\n",
    "from sklearn.linear_model import LogisticRegression,Lasso\n",
    "from sklearn.preprocessing import Binarizer\n",
    "from sklearn.model_selection import cross_val_score,GridSearchCV\n",
    "\n",
    "# 한글 깨짐 방지\n",
    "import matplotlib.pyplot as plt\n",
    "plt.rcParams['font.family'] = 'malgun Gothic'"
   ]
  },
  {
   "cell_type": "code",
   "execution_count": 16,
   "metadata": {},
   "outputs": [],
   "source": [
    "train = pd.read_csv('../data/train_Winsorization_시총_상장.csv', encoding='euc-kr')\n",
    "test = pd.read_csv('../data/test_시총_상장.csv', encoding='euc-kr')"
   ]
  },
  {
   "cell_type": "code",
   "execution_count": 17,
   "metadata": {},
   "outputs": [],
   "source": [
    "X_train_sum = train[['부채비율', '총자본회전률', '매출액대비잉여현금흐름', 'PBR',\n",
    "       '총자산대비영업현금흐름', '자기자본증가율', '총자본투자효율', '총자본순이익률',\n",
    "       '매출액영업이익률']]\n",
    "y_train = train[['t-1감사의견코드']]\n",
    "X_test_sum = test[['부채비율', '총자본회전률', '매출액대비잉여현금흐름', 'PBR',\n",
    "       '총자산대비영업현금흐름', '자기자본증가율', '총자본투자효율', '총자본순이익률',\n",
    "       '매출액영업이익률']]\n",
    "y_test = test[['t-1감사의견코드']]"
   ]
  },
  {
   "cell_type": "code",
   "execution_count": 18,
   "metadata": {},
   "outputs": [],
   "source": [
    "X_train = train.drop('t-1감사의견코드',axis=1)\n",
    "y_train = train[['t-1감사의견코드']]\n",
    "\n",
    "X_test = test.drop('t-1감사의견코드',axis=1)\n",
    "y_test = test[['t-1감사의견코드']]"
   ]
  },
  {
   "cell_type": "code",
   "execution_count": 19,
   "metadata": {},
   "outputs": [],
   "source": [
    "scaler = StandardScaler()\n",
    "X_train_sc = scaler.fit_transform(X_train_sum)\n",
    "X_test_sc = scaler.transform(X_test_sum)"
   ]
  },
  {
   "cell_type": "code",
   "execution_count": 20,
   "metadata": {},
   "outputs": [],
   "source": [
    "X_train_sc=pd.DataFrame(X_train_sc, columns=X_train_sum.columns)\n",
    "X_test_sc=pd.DataFrame(X_test_sc, columns=X_test_sum.columns)"
   ]
  },
  {
   "cell_type": "code",
   "execution_count": 21,
   "metadata": {},
   "outputs": [],
   "source": [
    "from imblearn.under_sampling import OneSidedSelection\n",
    "from imblearn.under_sampling import RandomUnderSampler\n",
    "\n",
    "#\n",
    "# OneSidedSelection 적용\n",
    "undersampler = OneSidedSelection(random_state=42)\n",
    "X_train_sc, y_train = undersampler.fit_resample(X_train_sc, y_train)\n",
    "\n",
    "# 1:1 비율로 데이터셋을 다시 조정합니다.\n",
    "custom_undersampler = RandomUnderSampler(sampling_strategy='majority', random_state=42)\n",
    "X_train_sc, y_train = custom_undersampler.fit_resample(X_train_sc, y_train)"
   ]
  },
  {
   "cell_type": "code",
   "execution_count": 22,
   "metadata": {},
   "outputs": [],
   "source": [
    "\n",
    "from imblearn.under_sampling import OneSidedSelection\n",
    "from imblearn.under_sampling import RandomUnderSampler\n",
    "\n",
    "# OneSidedSelection 적용\n",
    "undersampler = OneSidedSelection(random_state=42)\n",
    "X_test_sc, y_test = undersampler.fit_resample(X_test_sc, y_test)\n",
    "\n",
    "# 1:1 비율로 데이터셋을 다시 조정합니다.\n",
    "custom_undersampler = RandomUnderSampler(sampling_strategy='majority', random_state=42)\n",
    "X_test_sc, y_test = custom_undersampler.fit_resample(X_test_sc, y_test)"
   ]
  },
  {
   "cell_type": "code",
   "execution_count": 23,
   "metadata": {},
   "outputs": [],
   "source": [
    "X_train_sc=pd.concat([X_train_sc,y_train],axis=1)"
   ]
  },
  {
   "cell_type": "code",
   "execution_count": 24,
   "metadata": {},
   "outputs": [],
   "source": [
    "X_test_sc=pd.concat([X_test_sc,y_test],axis=1)"
   ]
  },
  {
   "cell_type": "code",
   "execution_count": 25,
   "metadata": {},
   "outputs": [
    {
     "data": {
      "text/plain": [
       "0.0    90\n",
       "1.0    90\n",
       "Name: t-1감사의견코드, dtype: int64"
      ]
     },
     "execution_count": 25,
     "metadata": {},
     "output_type": "execute_result"
    }
   ],
   "source": [
    "X_train_sc['t-1감사의견코드'].value_counts()"
   ]
  },
  {
   "cell_type": "code",
   "execution_count": 26,
   "metadata": {},
   "outputs": [
    {
     "data": {
      "text/plain": [
       "0.0    27\n",
       "1.0    27\n",
       "Name: t-1감사의견코드, dtype: int64"
      ]
     },
     "execution_count": 26,
     "metadata": {},
     "output_type": "execute_result"
    }
   ],
   "source": [
    "X_test_sc['t-1감사의견코드'].value_counts()"
   ]
  },
  {
   "cell_type": "code",
   "execution_count": 27,
   "metadata": {},
   "outputs": [],
   "source": [
    "X_train_sc.to_csv('train_상장_1대1.csv', index=False, encoding='euc-kr')\n",
    "X_test_sc.to_csv('test_상장_1대1.csv', index=False, encoding='euc-kr')"
   ]
  }
 ],
 "metadata": {
  "kernelspec": {
   "display_name": "Python 3",
   "language": "python",
   "name": "python3"
  },
  "language_info": {
   "codemirror_mode": {
    "name": "ipython",
    "version": 3
   },
   "file_extension": ".py",
   "mimetype": "text/x-python",
   "name": "python",
   "nbconvert_exporter": "python",
   "pygments_lexer": "ipython3",
   "version": "3.10.9"
  },
  "orig_nbformat": 4
 },
 "nbformat": 4,
 "nbformat_minor": 2
}
