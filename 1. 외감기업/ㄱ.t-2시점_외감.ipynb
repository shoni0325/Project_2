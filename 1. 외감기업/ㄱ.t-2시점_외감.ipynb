{
 "cells": [
  {
   "cell_type": "code",
   "execution_count": 217,
   "metadata": {},
   "outputs": [],
   "source": [
    "import pandas as pd\n",
    "import numpy as np"
   ]
  },
  {
   "cell_type": "code",
   "execution_count": 218,
   "metadata": {},
   "outputs": [],
   "source": [
    "df=pd.read_csv('./raw_data/t-2_raw_외감.csv',index_col=False,encoding='euc-kr')"
   ]
  },
  {
   "cell_type": "code",
   "execution_count": 219,
   "metadata": {},
   "outputs": [
    {
     "data": {
      "text/plain": [
       "회사명                   0\n",
       "거래소코드                 0\n",
       "회계년도                  0\n",
       "산업분류코드                0\n",
       "부채비율                 40\n",
       "당좌비율                 40\n",
       "유동비율                 40\n",
       "이자보상배율               40\n",
       "OCF(천원)              38\n",
       "이자비용(천원)             38\n",
       "차입금의존도               40\n",
       "자기자본구성비율             40\n",
       "당기순이익(천원)            38\n",
       "감가상각비(백만원)         1100\n",
       "금융비용(백만원)           151\n",
       "단기차입금(천원)            38\n",
       "유동성장기부채(천원)          38\n",
       "장기차입금(천원)            38\n",
       "법인세비용차감전손익(백만원)      49\n",
       "매출액영업이익률             39\n",
       "자기자본순이익률             39\n",
       "총자본순이익률              39\n",
       "매출액(천원)              38\n",
       "총자본회전률               40\n",
       "자기자본회전률              40\n",
       "운전자본회전률              40\n",
       "순운전자본회전률             40\n",
       "재고자산회전률              40\n",
       "당좌자산회전률              40\n",
       "유동자산회전률              40\n",
       "매출액증가율               39\n",
       "총자본증가율               39\n",
       "자기자본증가율              39\n",
       "순이익증가율               39\n",
       "유형자산증가율              39\n",
       "유동자산증가율              39\n",
       "재고자산증가율              39\n",
       "영업이익증가율              39\n",
       "총자본투자효율              42\n",
       "부가가치율                42\n",
       "노동소득분배율              42\n",
       "자본분배율                42\n",
       "이윤분배율                42\n",
       "ICF(천원)              38\n",
       "FCF(천원)              38\n",
       "자산총계(천원)             38\n",
       "부채총계(천원)             38\n",
       "자본총계(천원)             38\n",
       "산업분류                  0\n",
       "자본금(천원)              38\n",
       "영업손익(천원)             38\n",
       "연구개발비(천원)            38\n",
       "자본잠식률                45\n",
       "Year                  0\n",
       "t-2감사의견코드             0\n",
       "dtype: int64"
      ]
     },
     "execution_count": 219,
     "metadata": {},
     "output_type": "execute_result"
    }
   ],
   "source": [
    "df.isna().sum()"
   ]
  },
  {
   "cell_type": "code",
   "execution_count": 220,
   "metadata": {},
   "outputs": [],
   "source": [
    "df.dropna(subset='자산총계(천원)', axis=0, inplace=True)\n",
    "df.dropna(subset='법인세비용차감전손익(백만원)', axis=0, inplace=True)\n",
    "df.dropna(subset='부가가치율', axis=0, inplace=True)\n",
    "df.dropna(subset='부채비율', axis=0, inplace=True)\n",
    "df.dropna(subset='매출액영업이익률', axis=0, inplace=True)"
   ]
  },
  {
   "cell_type": "code",
   "execution_count": 221,
   "metadata": {},
   "outputs": [],
   "source": [
    "df['감가상각비(백만원)'] = df['감가상각비(백만원)'].fillna(0)\n",
    "df['금융비용(백만원)'] = df['금융비용(백만원)'].fillna(0)"
   ]
  },
  {
   "cell_type": "code",
   "execution_count": 222,
   "metadata": {},
   "outputs": [],
   "source": [
    "import pandas as pd\n",
    "import numpy as np\n",
    "\n",
    "def trim_outliers(series):\n",
    "    # 양쪽 극단치를 제외한 범위 계산\n",
    "    lower_percentile = series.quantile(0.01)\n",
    "    upper_percentile = series.quantile(0.99)\n",
    "\n",
    "    # 극단치를 제외한 데이터 선택\n",
    "    trimmed_series = series[(series >= lower_percentile) & (series <= upper_percentile)]\n",
    "\n",
    "    return trimmed_series"
   ]
  },
  {
   "cell_type": "code",
   "execution_count": 223,
   "metadata": {},
   "outputs": [
    {
     "data": {
      "text/plain": [
       "max    8305.17\n",
       "min    -168.57\n",
       "Name: 이자보상배율, dtype: float64"
      ]
     },
     "execution_count": 223,
     "metadata": {},
     "output_type": "execute_result"
    }
   ],
   "source": [
    "a=df[~(df['이자비용(천원)']==0)]['이자보상배율']\n",
    "df1 = trim_outliers(a)\n",
    "df1.agg(['max','min'])"
   ]
  },
  {
   "cell_type": "code",
   "execution_count": 224,
   "metadata": {},
   "outputs": [],
   "source": [
    "df['이자보상배율'] = (df['영업손익(천원)'] + df['감가상각비(백만원)']) / df['이자비용(천원)']"
   ]
  },
  {
   "cell_type": "code",
   "execution_count": 225,
   "metadata": {},
   "outputs": [],
   "source": [
    "df['이자보상배율'].replace(np.inf,8305.17,inplace=True)\n",
    "df['이자보상배율'].replace(-(np.inf),-168.57,inplace=True)"
   ]
  },
  {
   "cell_type": "markdown",
   "metadata": {},
   "source": [
    "---\n",
    "- 파생변수 만들기"
   ]
  },
  {
   "cell_type": "code",
   "execution_count": 226,
   "metadata": {},
   "outputs": [],
   "source": [
    "df['OCF이자보상배율'] = df['OCF(천원)']/df['이자비용(천원)']   ## 파보배\n",
    "\n",
    "df['부채상환계수'] = (df['당기순이익(천원)']+(df['감가상각비(백만원)']*1000)+(df['금융비용(백만원)']*1000))/(df['단기차입금(천원)']+df['유동성장기부채(천원)']+(df['금융비용(백만원)']*1000))\n",
    "df['장기부채상환능력'] = df['장기차입금(천원)']/((df['법인세비용차감전손익(백만원)']*1000)+(df['감가상각비(백만원)']*1000)+df['이자비용(천원)'])\n",
    "df['매출액대비금융비용상환능력'] = df['매출액(천원)']/(df['금융비용(백만원)']*1000)  \n",
    "\n",
    "df['전체현금흐름(천원)'] = df['OCF(천원)']+df['ICF(천원)']+df['FCF(천원)']\n",
    "df['잉여현금흐름(FCF)']= df['OCF(천원)']+df['ICF(천원)']\n",
    "\n",
    "df['연구개발비대비매출액'] = df['연구개발비(천원)']/df['매출액(천원)']\n",
    "df['매출액대비현금흐름'] = df['전체현금흐름(천원)'] / df['매출액(천원)']\n",
    "df['매출액대비잉여현금흐름'] = df['잉여현금흐름(FCF)']/ df['매출액(천원)']\n",
    "\n",
    "df['총자산대비현금흐름'] = df['전체현금흐름(천원)'] / df['자산총계(천원)']\n",
    "df['총자산대비영업현금흐름'] = df['OCF(천원)'] / df['자산총계(천원)']\n",
    "df['총자산대비잉여현금흐름'] = df['잉여현금흐름(FCF)']/df['자산총계(천원)']\n",
    "\n",
    "# 잉여현금흐름(FCF)"
   ]
  },
  {
   "cell_type": "code",
   "execution_count": 227,
   "metadata": {},
   "outputs": [],
   "source": [
    "for i in df.index :\n",
    "    if (df.loc[i,'OCF(천원)'] < 0) & (df.loc[i,'ICF(천원)'] < 0) &(df.loc[i,'FCF(천원)'] > 0) :\n",
    "        df.loc[i,'기업수명주기'] = '도입기'\n",
    "    elif (df.loc[i,'OCF(천원)'] > 0) & (df.loc[i,'ICF(천원)'] < 0) &(df.loc[i,'FCF(천원)'] > 0) :\n",
    "        df.loc[i,'기업수명주기'] = '성장기'\n",
    "    elif (df.loc[i,'OCF(천원)'] > 0) & (df.loc[i,'ICF(천원)'] < 0) &(df.loc[i,'FCF(천원)'] < 0) :\n",
    "        df.loc[i,'기업수명주기'] = '성숙기'\n",
    "    elif (df.loc[i,'OCF(천원)'] < 0) & (df.loc[i,'ICF(천원)'] > 0):\n",
    "        df.loc[i,'기업수명주기'] = '쇠퇴기'\n",
    "    else :\n",
    "        df.loc[i,'기업수명주기'] = '수축기'"
   ]
  },
  {
   "cell_type": "markdown",
   "metadata": {},
   "source": [
    "- OCF이자보상배율 구하기\n",
    "    - 결측치를 0으로 채우기\n",
    "    - inf : 절삭하고 최대값 대입\n",
    "    - -inf : 절삭하고 최소값 대입"
   ]
  },
  {
   "cell_type": "code",
   "execution_count": 228,
   "metadata": {},
   "outputs": [
    {
     "data": {
      "text/plain": [
       "max    8880.582955\n",
       "min    -529.718651\n",
       "Name: OCF이자보상배율, dtype: float64"
      ]
     },
     "execution_count": 228,
     "metadata": {},
     "output_type": "execute_result"
    }
   ],
   "source": [
    "a=df[~(df['이자비용(천원)']==0)]['OCF이자보상배율']\n",
    "df1 = trim_outliers(a)\n",
    "df1.agg(['max','min'])"
   ]
  },
  {
   "cell_type": "code",
   "execution_count": 229,
   "metadata": {},
   "outputs": [],
   "source": [
    "df['OCF이자보상배율'].replace(np.inf,8880.582955,inplace=True)\n",
    "df['OCF이자보상배율'].replace(-(np.inf),-529.718651,inplace=True)"
   ]
  },
  {
   "cell_type": "code",
   "execution_count": 230,
   "metadata": {},
   "outputs": [],
   "source": [
    "df=df[~(df['매출액(천원)']==0.0)]\n",
    "df=df[~(df['매출액(천원)']<0.0)]"
   ]
  },
  {
   "cell_type": "code",
   "execution_count": 231,
   "metadata": {},
   "outputs": [],
   "source": [
    "df=df[~(df['자산총계(천원)']==0)]\n",
    "df=df[~(df['자산총계(천원)']<0)]"
   ]
  },
  {
   "cell_type": "code",
   "execution_count": 232,
   "metadata": {},
   "outputs": [
    {
     "data": {
      "text/plain": [
       "회사명                 0\n",
       "거래소코드               0\n",
       "회계년도                0\n",
       "산업분류코드              0\n",
       "부채비율                0\n",
       "당좌비율                0\n",
       "유동비율                0\n",
       "이자보상배율              7\n",
       "OCF(천원)             0\n",
       "이자비용(천원)            0\n",
       "차입금의존도              0\n",
       "자기자본구성비율            0\n",
       "당기순이익(천원)           0\n",
       "감가상각비(백만원)          0\n",
       "금융비용(백만원)           0\n",
       "단기차입금(천원)           0\n",
       "유동성장기부채(천원)         0\n",
       "장기차입금(천원)           0\n",
       "법인세비용차감전손익(백만원)     0\n",
       "매출액영업이익률            0\n",
       "자기자본순이익률            0\n",
       "총자본순이익률             0\n",
       "매출액(천원)             0\n",
       "총자본회전률              0\n",
       "자기자본회전률             0\n",
       "운전자본회전률             0\n",
       "순운전자본회전률            0\n",
       "재고자산회전률             0\n",
       "당좌자산회전률             0\n",
       "유동자산회전률             0\n",
       "매출액증가율              0\n",
       "총자본증가율              0\n",
       "자기자본증가율             0\n",
       "순이익증가율              0\n",
       "유형자산증가율             0\n",
       "유동자산증가율             0\n",
       "재고자산증가율             0\n",
       "영업이익증가율             0\n",
       "총자본투자효율             0\n",
       "부가가치율               0\n",
       "노동소득분배율             0\n",
       "자본분배율               0\n",
       "이윤분배율               0\n",
       "ICF(천원)             0\n",
       "FCF(천원)             0\n",
       "자산총계(천원)            0\n",
       "부채총계(천원)            0\n",
       "자본총계(천원)            0\n",
       "산업분류                0\n",
       "자본금(천원)             0\n",
       "영업손익(천원)            0\n",
       "연구개발비(천원)           0\n",
       "자본잠식률               0\n",
       "Year                0\n",
       "t-2감사의견코드           0\n",
       "OCF이자보상배율          33\n",
       "부채상환계수              3\n",
       "장기부채상환능력            1\n",
       "매출액대비금융비용상환능력       0\n",
       "전체현금흐름(천원)          0\n",
       "잉여현금흐름(FCF)         0\n",
       "연구개발비대비매출액          0\n",
       "매출액대비현금흐름           0\n",
       "매출액대비잉여현금흐름         0\n",
       "총자산대비현금흐름           0\n",
       "총자산대비영업현금흐름         0\n",
       "총자산대비잉여현금흐름         0\n",
       "기업수명주기              0\n",
       "dtype: int64"
      ]
     },
     "execution_count": 232,
     "metadata": {},
     "output_type": "execute_result"
    }
   ],
   "source": [
    "# pd.set_option('display.max_seq_item',None)\n",
    "pd.set_option('display.max_rows', None)\n",
    "pd.set_option('display.max_columns', None)\n",
    "pd.set_option('display.width', None)\n",
    "df.isna().sum()"
   ]
  },
  {
   "cell_type": "code",
   "execution_count": 233,
   "metadata": {},
   "outputs": [
    {
     "data": {
      "text/plain": [
       "33"
      ]
     },
     "execution_count": 233,
     "metadata": {},
     "output_type": "execute_result"
    }
   ],
   "source": [
    "len(df[(df['이자비용(천원)']==0) &(df['OCF(천원)']==0)])"
   ]
  },
  {
   "cell_type": "code",
   "execution_count": 234,
   "metadata": {},
   "outputs": [],
   "source": [
    "df['OCF이자보상배율'].fillna(0,inplace=True)"
   ]
  },
  {
   "cell_type": "code",
   "execution_count": 235,
   "metadata": {},
   "outputs": [
    {
     "data": {
      "text/plain": [
       "3"
      ]
     },
     "execution_count": 235,
     "metadata": {},
     "output_type": "execute_result"
    }
   ],
   "source": [
    "# len(df[(df['당기순이익(천원)']==0) &(df['감가상각비(백만원)']==0) &(df['금융비용(백만원)']==0)])\n",
    "len(df[(df['단기차입금(천원)']==0) &(df['유동성장기부채(천원)']==0) &(df['금융비용(백만원)']==0) & (df['당기순이익(천원)']==0) &(df['감가상각비(백만원)']==0)])"
   ]
  },
  {
   "cell_type": "code",
   "execution_count": 236,
   "metadata": {},
   "outputs": [],
   "source": [
    "df['부채상환계수'].fillna(0,inplace=True)\n",
    "df['장기부채상환능력'].fillna(0,inplace=True)"
   ]
  },
  {
   "cell_type": "code",
   "execution_count": 237,
   "metadata": {},
   "outputs": [
    {
     "data": {
      "text/plain": [
       "회사명                0\n",
       "거래소코드              0\n",
       "회계년도               0\n",
       "산업분류코드             0\n",
       "부채비율               0\n",
       "당좌비율               0\n",
       "유동비율               0\n",
       "이자보상배율             7\n",
       "OCF(천원)            0\n",
       "이자비용(천원)           0\n",
       "차입금의존도             0\n",
       "자기자본구성비율           0\n",
       "당기순이익(천원)          0\n",
       "감가상각비(백만원)         0\n",
       "금융비용(백만원)          0\n",
       "단기차입금(천원)          0\n",
       "유동성장기부채(천원)        0\n",
       "장기차입금(천원)          0\n",
       "법인세비용차감전손익(백만원)    0\n",
       "매출액영업이익률           0\n",
       "자기자본순이익률           0\n",
       "총자본순이익률            0\n",
       "매출액(천원)            0\n",
       "총자본회전률             0\n",
       "자기자본회전률            0\n",
       "운전자본회전률            0\n",
       "순운전자본회전률           0\n",
       "재고자산회전률            0\n",
       "당좌자산회전률            0\n",
       "유동자산회전률            0\n",
       "매출액증가율             0\n",
       "총자본증가율             0\n",
       "자기자본증가율            0\n",
       "순이익증가율             0\n",
       "유형자산증가율            0\n",
       "유동자산증가율            0\n",
       "재고자산증가율            0\n",
       "영업이익증가율            0\n",
       "총자본투자효율            0\n",
       "부가가치율              0\n",
       "노동소득분배율            0\n",
       "자본분배율              0\n",
       "이윤분배율              0\n",
       "ICF(천원)            0\n",
       "FCF(천원)            0\n",
       "자산총계(천원)           0\n",
       "부채총계(천원)           0\n",
       "자본총계(천원)           0\n",
       "산업분류               0\n",
       "자본금(천원)            0\n",
       "영업손익(천원)           0\n",
       "연구개발비(천원)          0\n",
       "자본잠식률              0\n",
       "Year               0\n",
       "t-2감사의견코드          0\n",
       "OCF이자보상배율          0\n",
       "부채상환계수             0\n",
       "장기부채상환능력           0\n",
       "매출액대비금융비용상환능력      0\n",
       "전체현금흐름(천원)         0\n",
       "잉여현금흐름(FCF)        0\n",
       "연구개발비대비매출액         0\n",
       "매출액대비현금흐름          0\n",
       "매출액대비잉여현금흐름        0\n",
       "총자산대비현금흐름          0\n",
       "총자산대비영업현금흐름        0\n",
       "총자산대비잉여현금흐름        0\n",
       "기업수명주기             0\n",
       "dtype: int64"
      ]
     },
     "execution_count": 237,
     "metadata": {},
     "output_type": "execute_result"
    }
   ],
   "source": [
    "pd.set_option('display.max_rows', None)\n",
    "pd.set_option('display.max_columns', None)\n",
    "pd.set_option('display.width', None)\n",
    "df.isna().sum()"
   ]
  },
  {
   "cell_type": "markdown",
   "metadata": {},
   "source": [
    "- 결측치 확인 끝!!"
   ]
  },
  {
   "cell_type": "markdown",
   "metadata": {},
   "source": [
    "---\n",
    "- inf, -inf 확인하기"
   ]
  },
  {
   "cell_type": "code",
   "execution_count": 238,
   "metadata": {},
   "outputs": [
    {
     "data": {
      "text/plain": [
       "회사명                  0\n",
       "거래소코드                0\n",
       "회계년도                 0\n",
       "산업분류코드               0\n",
       "부채비율                 0\n",
       "당좌비율                 0\n",
       "유동비율                 0\n",
       "이자보상배율               0\n",
       "OCF(천원)              0\n",
       "이자비용(천원)             0\n",
       "차입금의존도               0\n",
       "자기자본구성비율             0\n",
       "당기순이익(천원)            0\n",
       "감가상각비(백만원)           0\n",
       "금융비용(백만원)            0\n",
       "단기차입금(천원)            0\n",
       "유동성장기부채(천원)          0\n",
       "장기차입금(천원)            0\n",
       "법인세비용차감전손익(백만원)      0\n",
       "매출액영업이익률             0\n",
       "자기자본순이익률             0\n",
       "총자본순이익률              0\n",
       "매출액(천원)              0\n",
       "총자본회전률               0\n",
       "자기자본회전률              0\n",
       "운전자본회전률              0\n",
       "순운전자본회전률             0\n",
       "재고자산회전률              0\n",
       "당좌자산회전률              0\n",
       "유동자산회전률              0\n",
       "매출액증가율               0\n",
       "총자본증가율               0\n",
       "자기자본증가율              0\n",
       "순이익증가율               0\n",
       "유형자산증가율              0\n",
       "유동자산증가율              0\n",
       "재고자산증가율              0\n",
       "영업이익증가율              0\n",
       "총자본투자효율              0\n",
       "부가가치율                0\n",
       "노동소득분배율              0\n",
       "자본분배율                0\n",
       "이윤분배율                0\n",
       "ICF(천원)              0\n",
       "FCF(천원)              0\n",
       "자산총계(천원)             0\n",
       "부채총계(천원)             0\n",
       "자본총계(천원)             0\n",
       "산업분류                 0\n",
       "자본금(천원)              0\n",
       "영업손익(천원)             0\n",
       "연구개발비(천원)            0\n",
       "자본잠식률                0\n",
       "Year                 0\n",
       "t-2감사의견코드            0\n",
       "OCF이자보상배율            0\n",
       "부채상환계수             154\n",
       "장기부채상환능력             3\n",
       "매출액대비금융비용상환능력      327\n",
       "전체현금흐름(천원)           0\n",
       "잉여현금흐름(FCF)          0\n",
       "연구개발비대비매출액           0\n",
       "매출액대비현금흐름            0\n",
       "매출액대비잉여현금흐름          0\n",
       "총자산대비현금흐름            0\n",
       "총자산대비영업현금흐름          0\n",
       "총자산대비잉여현금흐름          0\n",
       "기업수명주기               0\n",
       "dtype: int64"
      ]
     },
     "execution_count": 238,
     "metadata": {},
     "output_type": "execute_result"
    }
   ],
   "source": [
    "pd.set_option('display.max_rows', None)\n",
    "pd.set_option('display.max_columns', None)\n",
    "pd.set_option('display.width', None)\n",
    "df.isin([np.inf,-np.inf]).sum()"
   ]
  },
  {
   "cell_type": "code",
   "execution_count": 239,
   "metadata": {},
   "outputs": [
    {
     "data": {
      "text/plain": [
       "157"
      ]
     },
     "execution_count": 239,
     "metadata": {},
     "output_type": "execute_result"
    }
   ],
   "source": [
    "len(df[(df['단기차입금(천원)']==0) &(df['유동성장기부채(천원)']==0) &(df['금융비용(백만원)']==0)])"
   ]
  },
  {
   "cell_type": "code",
   "execution_count": 240,
   "metadata": {},
   "outputs": [
    {
     "data": {
      "text/plain": [
       "4"
      ]
     },
     "execution_count": 240,
     "metadata": {},
     "output_type": "execute_result"
    }
   ],
   "source": [
    "len(df[(df['법인세비용차감전손익(백만원)']==0) &(df['감가상각비(백만원)']==0) &(df['이자비용(천원)']==0)])"
   ]
  },
  {
   "cell_type": "code",
   "execution_count": 241,
   "metadata": {},
   "outputs": [
    {
     "data": {
      "text/plain": [
       "327"
      ]
     },
     "execution_count": 241,
     "metadata": {},
     "output_type": "execute_result"
    }
   ],
   "source": [
    "len(df[df['금융비용(백만원)']==0])"
   ]
  },
  {
   "cell_type": "code",
   "execution_count": 242,
   "metadata": {},
   "outputs": [],
   "source": [
    "df['부채상환계수'] = df['부채상환계수'].replace([np.inf, -np.inf], 0)\n",
    "df['장기부채상환능력'] = df['장기부채상환능력'].replace([np.inf, -np.inf], 0)\n",
    "df['매출액대비금융비용상환능력'] = df['매출액대비금융비용상환능력'].replace([np.inf, -np.inf], 0)"
   ]
  },
  {
   "cell_type": "code",
   "execution_count": 243,
   "metadata": {},
   "outputs": [
    {
     "data": {
      "text/plain": [
       "회사명            0\n",
       "거래소코드          0\n",
       "회계년도           0\n",
       "산업분류코드         0\n",
       "부채비율           0\n",
       "              ..\n",
       "매출액대비잉여현금흐름    0\n",
       "총자산대비현금흐름      0\n",
       "총자산대비영업현금흐름    0\n",
       "총자산대비잉여현금흐름    0\n",
       "기업수명주기         0\n",
       "Length: 68, dtype: int64"
      ]
     },
     "execution_count": 243,
     "metadata": {},
     "output_type": "execute_result"
    }
   ],
   "source": [
    "pd.reset_option('display.max_rows', None)\n",
    "pd.reset_option('display.max_columns', None)\n",
    "pd.reset_option('display.width', None)\n",
    "df.isin([np.inf,-np.inf]).sum()"
   ]
  },
  {
   "cell_type": "markdown",
   "metadata": {},
   "source": [
    "---\n",
    "- 데이터의 결측치, 무한대값 모두 0개"
   ]
  },
  {
   "cell_type": "code",
   "execution_count": 244,
   "metadata": {},
   "outputs": [
    {
     "data": {
      "text/plain": [
       "0.0    135563\n",
       "1.0      2058\n",
       "Name: t-2감사의견코드, dtype: int64"
      ]
     },
     "execution_count": 244,
     "metadata": {},
     "output_type": "execute_result"
    }
   ],
   "source": [
    "df['t-2감사의견코드'].value_counts()"
   ]
  },
  {
   "cell_type": "code",
   "execution_count": 245,
   "metadata": {},
   "outputs": [],
   "source": [
    "order =['회사명', '거래소코드', '회계년도', 'Year', '산업분류코드', '산업분류','부채비율', '당좌비율', '유동비율', '이자보상배율',\n",
    "       'OCF(천원)', '이자비용(천원)', '차입금의존도', '자기자본구성비율', '당기순이익(천원)', '감가상각비(백만원)',\n",
    "       '금융비용(백만원)', '단기차입금(천원)', '유동성장기부채(천원)', '장기차입금(천원)', '법인세비용차감전손익(백만원)',\n",
    "       '매출액영업이익률', '자기자본순이익률', '총자본순이익률', '매출액(천원)', '총자본회전률', '자기자본회전률',\n",
    "       '운전자본회전률', '순운전자본회전률', '재고자산회전률', '당좌자산회전률', '유동자산회전률', '매출액증가율',\n",
    "       '총자본증가율', '자기자본증가율', '순이익증가율', '유형자산증가율', '유동자산증가율', '재고자산증가율',\n",
    "       '영업이익증가율', '총자본투자효율', '부가가치율', '노동소득분배율', '자본분배율', '이윤분배율', 'ICF(천원)',\n",
    "       'FCF(천원)', '자산총계(천원)', '부채총계(천원)', '자본총계(천원)',  '자본금(천원)',\n",
    "       '영업손익(천원)', '연구개발비(천원)', '자본잠식률', 'OCF이자보상배율',\n",
    "       '부채상환계수', '장기부채상환능력', '매출액대비금융비용상환능력', '전체현금흐름(천원)', '잉여현금흐름(FCF)',\n",
    "       '연구개발비대비매출액', '매출액대비현금흐름', '매출액대비잉여현금흐름', '총자산대비현금흐름', '총자산대비영업현금흐름',\n",
    "       '총자산대비잉여현금흐름', '기업수명주기', '평균부채비율초과여부', 't-2감사의견코드']"
   ]
  },
  {
   "cell_type": "code",
   "execution_count": 246,
   "metadata": {},
   "outputs": [],
   "source": [
    "df = df.reindex(columns=order)"
   ]
  },
  {
   "cell_type": "markdown",
   "metadata": {},
   "source": [
    "---"
   ]
  },
  {
   "cell_type": "markdown",
   "metadata": {},
   "source": [
    "- train/test split (2.3/7.7)"
   ]
  },
  {
   "cell_type": "code",
   "execution_count": 247,
   "metadata": {},
   "outputs": [],
   "source": [
    "from sklearn.model_selection import train_test_split\n",
    "\n",
    "X_train,X_test,y_train,y_test= train_test_split(df.drop('t-2감사의견코드',axis=1),df['t-2감사의견코드'],test_size=0.23,stratify=df['t-2감사의견코드'],random_state=0) "
   ]
  },
  {
   "cell_type": "code",
   "execution_count": 248,
   "metadata": {},
   "outputs": [
    {
     "name": "stdout",
     "output_type": "stream",
     "text": [
      "105968\n",
      "31653\n",
      "105968\n",
      "31653\n"
     ]
    }
   ],
   "source": [
    "print(len(X_train))\n",
    "print(len(X_test))\n",
    "print(len(y_train))\n",
    "print(len(y_test))\n"
   ]
  },
  {
   "cell_type": "code",
   "execution_count": 249,
   "metadata": {},
   "outputs": [],
   "source": [
    "train_data = pd.concat([X_train,y_train],axis=1)"
   ]
  },
  {
   "cell_type": "code",
   "execution_count": 250,
   "metadata": {},
   "outputs": [],
   "source": [
    "test_data= pd.concat([X_test,y_test],axis=1 )"
   ]
  },
  {
   "cell_type": "code",
   "execution_count": 251,
   "metadata": {},
   "outputs": [],
   "source": [
    "train_data['자산총계(천원)'] = train_data['자산총계(천원)'] * 1000\n",
    "train_data['log자산총계'] = np.log(train_data['자산총계(천원)'])\n",
    "\n",
    "test_data['자산총계(천원)'] = test_data['자산총계(천원)'] * 1000\n",
    "test_data['log자산총계'] = np.log(test_data['자산총계(천원)'])"
   ]
  },
  {
   "cell_type": "code",
   "execution_count": 252,
   "metadata": {},
   "outputs": [],
   "source": [
    "train_data=train_data[['회사명', '거래소코드', 'Year', '부채비율', '당좌비율',\n",
    "       '유동비율', '이자보상배율', '차입금의존도', '자기자본구성비율',\n",
    "       '매출액영업이익률', '자기자본순이익률', '총자본순이익률', '총자본회전률', '자기자본회전률', '운전자본회전률', '순운전자본회전률', '재고자산회전률',\n",
    "       '당좌자산회전률', '유동자산회전률', '매출액증가율', '총자본증가율', '자기자본증가율', '순이익증가율',\n",
    "       '유형자산증가율', '유동자산증가율', '재고자산증가율', '영업이익증가율', '총자본투자효율', '부가가치율',\n",
    "       '노동소득분배율', '자본분배율', '이윤분배율', 'OCF이자보상배율', '부채상환계수', '장기부채상환능력', '매출액대비금융비용상환능력',\n",
    "       '연구개발비대비매출액', '매출액대비현금흐름', '매출액대비잉여현금흐름', '총자산대비현금흐름',\n",
    "       '총자산대비영업현금흐름', '총자산대비잉여현금흐름', '기업수명주기', 'log자산총계',\n",
    "       't-2감사의견코드']]\n",
    "test_data= test_data[['회사명', '거래소코드', 'Year', '부채비율', '당좌비율',\n",
    "       '유동비율', '이자보상배율', '차입금의존도', '자기자본구성비율',\n",
    "       '매출액영업이익률', '자기자본순이익률', '총자본순이익률', '총자본회전률', '자기자본회전률', '운전자본회전률', '순운전자본회전률', '재고자산회전률',\n",
    "       '당좌자산회전률', '유동자산회전률', '매출액증가율', '총자본증가율', '자기자본증가율', '순이익증가율',\n",
    "       '유형자산증가율', '유동자산증가율', '재고자산증가율', '영업이익증가율', '총자본투자효율', '부가가치율',\n",
    "       '노동소득분배율', '자본분배율', '이윤분배율', 'OCF이자보상배율', '부채상환계수', '장기부채상환능력', '매출액대비금융비용상환능력',\n",
    "       '연구개발비대비매출액', '매출액대비현금흐름', '매출액대비잉여현금흐름', '총자산대비현금흐름',\n",
    "       '총자산대비영업현금흐름', '총자산대비잉여현금흐름', '기업수명주기', 'log자산총계',\n",
    "       't-2감사의견코드']]"
   ]
  },
  {
   "cell_type": "code",
   "execution_count": 258,
   "metadata": {},
   "outputs": [],
   "source": [
    "train_data=train_data[['부채비율', '당좌비율',\n",
    "       '유동비율', '이자보상배율', '차입금의존도', '자기자본구성비율',\n",
    "       '매출액영업이익률', '자기자본순이익률', '총자본순이익률', '총자본회전률', '자기자본회전률', '운전자본회전률', '순운전자본회전률', '재고자산회전률',\n",
    "       '당좌자산회전률', '유동자산회전률', '매출액증가율', '총자본증가율', '자기자본증가율', '순이익증가율',\n",
    "       '유형자산증가율', '유동자산증가율', '재고자산증가율', '영업이익증가율', '총자본투자효율', '부가가치율',\n",
    "       '노동소득분배율', '자본분배율', '이윤분배율', 'OCF이자보상배율', '부채상환계수', '장기부채상환능력', '매출액대비금융비용상환능력',\n",
    "       '연구개발비대비매출액', '매출액대비현금흐름', '매출액대비잉여현금흐름', '총자산대비현금흐름',\n",
    "       '총자산대비영업현금흐름', '총자산대비잉여현금흐름',  'log자산총계',\n",
    "       't-2감사의견코드']]\n",
    "test_data= test_data[[ '부채비율', '당좌비율',\n",
    "       '유동비율', '이자보상배율', '차입금의존도', '자기자본구성비율',\n",
    "       '매출액영업이익률', '자기자본순이익률', '총자본순이익률', '총자본회전률', '자기자본회전률', '운전자본회전률', '순운전자본회전률', '재고자산회전률',\n",
    "       '당좌자산회전률', '유동자산회전률', '매출액증가율', '총자본증가율', '자기자본증가율', '순이익증가율',\n",
    "       '유형자산증가율', '유동자산증가율', '재고자산증가율', '영업이익증가율', '총자본투자효율', '부가가치율',\n",
    "       '노동소득분배율', '자본분배율', '이윤분배율', 'OCF이자보상배율', '부채상환계수', '장기부채상환능력', '매출액대비금융비용상환능력',\n",
    "       '연구개발비대비매출액', '매출액대비현금흐름', '매출액대비잉여현금흐름', '총자산대비현금흐름',\n",
    "       '총자산대비영업현금흐름', '총자산대비잉여현금흐름',  'log자산총계',\n",
    "       't-2감사의견코드']]"
   ]
  },
  {
   "cell_type": "code",
   "execution_count": 264,
   "metadata": {},
   "outputs": [],
   "source": [
    "feature = train_data\n",
    "target = test_data"
   ]
  },
  {
   "cell_type": "code",
   "execution_count": 262,
   "metadata": {},
   "outputs": [
    {
     "name": "stderr",
     "output_type": "stream",
     "text": [
      "C:\\Users\\dgh06\\AppData\\Local\\Temp\\ipykernel_15880\\1395767223.py:1: SettingWithCopyWarning: \n",
      "A value is trying to be set on a copy of a slice from a DataFrame\n",
      "\n",
      "See the caveats in the documentation: https://pandas.pydata.org/pandas-docs/stable/user_guide/indexing.html#returning-a-view-versus-a-copy\n",
      "  feature.dropna(inplace=True)\n",
      "C:\\Users\\dgh06\\AppData\\Local\\Temp\\ipykernel_15880\\1395767223.py:2: SettingWithCopyWarning: \n",
      "A value is trying to be set on a copy of a slice from a DataFrame\n",
      "\n",
      "See the caveats in the documentation: https://pandas.pydata.org/pandas-docs/stable/user_guide/indexing.html#returning-a-view-versus-a-copy\n",
      "  target.dropna(inplace=True)\n"
     ]
    }
   ],
   "source": [
    "feature.dropna(inplace=True)\n",
    "target.dropna(inplace=True)"
   ]
  },
  {
   "cell_type": "code",
   "execution_count": 266,
   "metadata": {},
   "outputs": [
    {
     "name": "stderr",
     "output_type": "stream",
     "text": [
      "c:\\Users\\dgh06\\AppData\\Local\\Programs\\Python\\Python310\\lib\\site-packages\\sklearn\\utils\\validation.py:1143: DataConversionWarning: A column-vector y was passed when a 1d array was expected. Please change the shape of y to (n_samples, ), for example using ravel().\n",
      "  y = column_or_1d(y, warn=True)\n",
      "c:\\Users\\dgh06\\AppData\\Local\\Programs\\Python\\Python310\\lib\\site-packages\\sklearn\\linear_model\\_logistic.py:458: ConvergenceWarning: lbfgs failed to converge (status=1):\n",
      "STOP: TOTAL NO. of ITERATIONS REACHED LIMIT.\n",
      "\n",
      "Increase the number of iterations (max_iter) or scale the data as shown in:\n",
      "    https://scikit-learn.org/stable/modules/preprocessing.html\n",
      "Please also refer to the documentation for alternative solver options:\n",
      "    https://scikit-learn.org/stable/modules/linear_model.html#logistic-regression\n",
      "  n_iter_i = _check_optimize_result(\n"
     ]
    }
   ],
   "source": [
    "from sklearn.linear_model import LogisticRegression\n",
    "from sklearn.feature_selection import SelectFromModel\n",
    "import statsmodels.api as sm\n",
    "import numpy as np\n",
    "lr_clf = LogisticRegression()\n",
    "\n",
    "feature = train_data.drop('t-2감사의견코드',axis=1)\n",
    "target = train_data[['t-2감사의견코드']]\n",
    "\n",
    "logit = SelectFromModel(LogisticRegression())\n",
    "logit.fit(feature, target)\n",
    "logit_support = logit.get_support()\n",
    "lr_feature = feature.loc[:,logit_support].columns.tolist()"
   ]
  },
  {
   "cell_type": "code",
   "execution_count": 267,
   "metadata": {},
   "outputs": [
    {
     "data": {
      "text/plain": [
       "['당좌비율',\n",
       " '유동비율',\n",
       " '차입금의존도',\n",
       " '자기자본구성비율',\n",
       " '재고자산회전률',\n",
       " '자기자본증가율',\n",
       " '재고자산증가율',\n",
       " '영업이익증가율',\n",
       " '총자본투자효율',\n",
       " '노동소득분배율',\n",
       " '자본분배율',\n",
       " 'log자산총계']"
      ]
     },
     "execution_count": 267,
     "metadata": {},
     "output_type": "execute_result"
    }
   ],
   "source": [
    "lr_feature\n"
   ]
  },
  {
   "cell_type": "markdown",
   "metadata": {},
   "source": [
    "--- \n",
    "- Feature selection"
   ]
  },
  {
   "cell_type": "code",
   "execution_count": 268,
   "metadata": {},
   "outputs": [],
   "source": [
    "X_train_int=train_data[['당좌비율',\n",
    " '유동비율',\n",
    " '차입금의존도',\n",
    " '자기자본구성비율',\n",
    " '재고자산회전률',\n",
    " '자기자본증가율',\n",
    " '재고자산증가율',\n",
    " '영업이익증가율',\n",
    " '총자본투자효율',\n",
    " '노동소득분배율',\n",
    " '자본분배율',\n",
    " 'log자산총계']]\n",
    "\n",
    "X_test_int=test_data[['당좌비율',\n",
    " '유동비율',\n",
    " '차입금의존도',\n",
    " '자기자본구성비율',\n",
    " '재고자산회전률',\n",
    " '자기자본증가율',\n",
    " '재고자산증가율',\n",
    " '영업이익증가율',\n",
    " '총자본투자효율',\n",
    " '노동소득분배율',\n",
    " '자본분배율',\n",
    " 'log자산총계']]\n"
   ]
  },
  {
   "cell_type": "code",
   "execution_count": 269,
   "metadata": {},
   "outputs": [],
   "source": [
    "X_train = train_data.drop('t-2감사의견코드',axis=1)\n",
    "y_train = train_data[['t-2감사의견코드']]\n",
    "\n",
    "X_test = test_data.drop('t-2감사의견코드',axis=1)\n",
    "y_test = test_data[['t-2감사의견코드']]"
   ]
  },
  {
   "cell_type": "code",
   "execution_count": 270,
   "metadata": {},
   "outputs": [],
   "source": [
    "from imblearn.over_sampling import RandomOverSampler\n",
    "\n",
    "# RandomOverSampler 객체 생성\n",
    "ros = RandomOverSampler()\n",
    "\n",
    "# Random Over Sampling 적용\n",
    "X_resampled, y_resampled = ros.fit_resample(X_train_int, y_train)\n"
   ]
  },
  {
   "cell_type": "code",
   "execution_count": 276,
   "metadata": {},
   "outputs": [],
   "source": [
    "from sklearn.model_selection import StratifiedKFold\n",
    "from sklearn.ensemble import RandomForestClassifier\n",
    "from sklearn.metrics import accuracy_score, precision_score, recall_score, f1_score, confusion_matrix\n",
    "\n",
    "def evaluate_random_forest(X_train, y_train, X_test, y_test):\n",
    "    # Stratified 5-fold 교차검증 설정\n",
    "    cv = StratifiedKFold(n_splits=2, shuffle=True, random_state=0)\n",
    "\n",
    "    # 최적 하이퍼파라미터 설정 (여기서는 고정값으로 사용)\n",
    "    best_params = {'max_depth': 12, 'min_samples_leaf': 20, 'max_features':'auto', 'n_estimators':200}\n",
    "\n",
    "    # 각 fold 별 평가 지표를 저장할 리스트 초기화\n",
    "    accuracy_list = []\n",
    "    precision_list = []\n",
    "    recall_list = []\n",
    "    f1_score_list = []\n",
    "    confusion_matrix_list = []\n",
    "\n",
    "    best_f1_score = 0\n",
    "    best_model = None\n",
    "\n",
    "    for fold_idx, (train_idx, test_idx) in enumerate(cv.split(X_train, y_train), 1):\n",
    "        X_train_fold, y_train_fold = X_train.iloc[train_idx], y_train.iloc[train_idx]\n",
    "        X_test_fold, y_test_fold = X_train.iloc[test_idx], y_train.iloc[test_idx]\n",
    "\n",
    "        # 랜덤 포레스트 모델 초기화\n",
    "        model = RandomForestClassifier(max_depth=best_params['max_depth'],\n",
    "                                       min_samples_leaf=best_params['min_samples_leaf'],\n",
    "                                       n_estimators=best_params['n_estimators'],\n",
    "                                       max_features= best_params['max_features'],\n",
    "                                       random_state=0)\n",
    "\n",
    "        # 모델 학습\n",
    "        model.fit(X_train_fold, y_train_fold)\n",
    "\n",
    "        # 테스트 데이터에 대한 예측 확률 얻기\n",
    "        probabilities = model.predict_proba(X_test_fold)\n",
    "\n",
    "        # threshold를 0.4로 설정하여 예측 클래스를 조정\n",
    "        threshold = 0.1\n",
    "        predicted_classes = (probabilities[:, 1] > threshold).astype(np.int)\n",
    "\n",
    "        # 평가 지표 계산\n",
    "        accuracy = accuracy_score(y_test_fold, predicted_classes)\n",
    "        precision = precision_score(y_test_fold, predicted_classes)\n",
    "        recall = recall_score(y_test_fold, predicted_classes)\n",
    "        f1 = f1_score(y_test_fold, predicted_classes)\n",
    "        conf_matrix = confusion_matrix(y_test_fold, predicted_classes)\n",
    "\n",
    "        # 각 fold 별 평가 지표를 리스트에 추가\n",
    "        accuracy_list.append(accuracy)\n",
    "        precision_list.append(precision)\n",
    "        recall_list.append(recall)\n",
    "        f1_score_list.append(f1)\n",
    "        confusion_matrix_list.append(conf_matrix)\n",
    "\n",
    "        print(f\"Fold {fold_idx}\")\n",
    "        print(f\"Accuracy: {accuracy}\")\n",
    "        print(f\"Precision: {precision}\")\n",
    "        print(f\"Recall: {recall}\")\n",
    "        print(f\"F1 score: {f1}\")\n",
    "        print(\"Confusion Matrix:\")\n",
    "        print(conf_matrix)\n",
    "        print(\"------------------------------\")\n",
    "\n",
    "        # 가장 좋은 f1-score 값을 가진 모델을 저장\n",
    "        if f1 > best_f1_score:\n",
    "            best_f1_score = f1\n",
    "            best_model = model\n",
    "\n",
    "    # 가장 좋은 f1-score 값을 가진 모델로 최종 예측 수행\n",
    "    probabilities_final = best_model.predict_proba(X_test)\n",
    "    y_pred_final = (probabilities_final[:, 1] > threshold).astype(np.int)\n",
    "\n",
    "    # 평가 지표 계산\n",
    "    accuracy_final = accuracy_score(y_test, y_pred_final)\n",
    "    precision_final = precision_score(y_test, y_pred_final)\n",
    "    recall_final = recall_score(y_test, y_pred_final)\n",
    "    f1_final = f1_score(y_test, y_pred_final)\n",
    "    conf_matrix_final = confusion_matrix(y_test, y_pred_final)\n",
    "\n",
    "    print(\"Final Test Results\")\n",
    "    print(f\"Accuracy: {accuracy_final}\")\n",
    "    print(f\"Precision: {precision_final}\")\n",
    "    print(f\"Recall: {recall_final}\")\n",
    "    print(f\"F1 score: {f1_final}\")\n",
    "    print(\"Confusion Matrix:\")\n",
    "    print(conf_matrix_final)\n",
    "\n",
    "    return accuracy_list, precision_list, recall_list, f1_score_list\n"
   ]
  },
  {
   "cell_type": "code",
   "execution_count": 277,
   "metadata": {},
   "outputs": [
    {
     "name": "stderr",
     "output_type": "stream",
     "text": [
      "C:\\Users\\dgh06\\AppData\\Local\\Temp\\ipykernel_15880\\2601399893.py:34: DataConversionWarning: A column-vector y was passed when a 1d array was expected. Please change the shape of y to (n_samples,), for example using ravel().\n",
      "  model.fit(X_train_fold, y_train_fold)\n",
      "c:\\Users\\dgh06\\AppData\\Local\\Programs\\Python\\Python310\\lib\\site-packages\\sklearn\\ensemble\\_forest.py:424: FutureWarning: `max_features='auto'` has been deprecated in 1.1 and will be removed in 1.3. To keep the past behaviour, explicitly set `max_features='sqrt'` or remove this parameter as it is also the default value for RandomForestClassifiers and ExtraTreesClassifiers.\n",
      "  warn(\n",
      "C:\\Users\\dgh06\\AppData\\Local\\Temp\\ipykernel_15880\\2601399893.py:41: DeprecationWarning: `np.int` is a deprecated alias for the builtin `int`. To silence this warning, use `int` by itself. Doing this will not modify any behavior and is safe. When replacing `np.int`, you may wish to use e.g. `np.int64` or `np.int32` to specify the precision. If you wish to review your current use, check the release note link for additional information.\n",
      "Deprecated in NumPy 1.20; for more details and guidance: https://numpy.org/devdocs/release/1.20.0-notes.html#deprecations\n",
      "  predicted_classes = (probabilities[:, 1] > threshold).astype(np.int)\n",
      "C:\\Users\\dgh06\\AppData\\Local\\Temp\\ipykernel_15880\\2601399893.py:34: DataConversionWarning: A column-vector y was passed when a 1d array was expected. Please change the shape of y to (n_samples,), for example using ravel().\n",
      "  model.fit(X_train_fold, y_train_fold)\n",
      "c:\\Users\\dgh06\\AppData\\Local\\Programs\\Python\\Python310\\lib\\site-packages\\sklearn\\ensemble\\_forest.py:424: FutureWarning: `max_features='auto'` has been deprecated in 1.1 and will be removed in 1.3. To keep the past behaviour, explicitly set `max_features='sqrt'` or remove this parameter as it is also the default value for RandomForestClassifiers and ExtraTreesClassifiers.\n",
      "  warn(\n"
     ]
    },
    {
     "name": "stdout",
     "output_type": "stream",
     "text": [
      "Fold 1\n",
      "Accuracy: 0.9803895662677891\n",
      "Precision: 0.09539473684210527\n",
      "Recall: 0.03656998738965952\n",
      "F1 score: 0.0528714676390155\n",
      "Confusion Matrix:\n",
      "[[51914   275]\n",
      " [  764    29]]\n",
      "------------------------------\n"
     ]
    },
    {
     "name": "stderr",
     "output_type": "stream",
     "text": [
      "C:\\Users\\dgh06\\AppData\\Local\\Temp\\ipykernel_15880\\2601399893.py:41: DeprecationWarning: `np.int` is a deprecated alias for the builtin `int`. To silence this warning, use `int` by itself. Doing this will not modify any behavior and is safe. When replacing `np.int`, you may wish to use e.g. `np.int64` or `np.int32` to specify the precision. If you wish to review your current use, check the release note link for additional information.\n",
      "Deprecated in NumPy 1.20; for more details and guidance: https://numpy.org/devdocs/release/1.20.0-notes.html#deprecations\n",
      "  predicted_classes = (probabilities[:, 1] > threshold).astype(np.int)\n"
     ]
    },
    {
     "name": "stdout",
     "output_type": "stream",
     "text": [
      "Fold 2\n",
      "Accuracy: 0.981125309073064\n",
      "Precision: 0.09375\n",
      "Recall: 0.030303030303030304\n",
      "F1 score: 0.04580152671755725\n",
      "Confusion Matrix:\n",
      "[[51957   232]\n",
      " [  768    24]]\n",
      "------------------------------\n",
      "Final Test Results\n",
      "Accuracy: 0.9802533885185302\n",
      "Precision: 0.05813953488372093\n",
      "Recall: 0.021141649048625793\n",
      "F1 score: 0.0310077519379845\n",
      "Confusion Matrix:\n",
      "[[31016   162]\n",
      " [  463    10]]\n"
     ]
    },
    {
     "name": "stderr",
     "output_type": "stream",
     "text": [
      "C:\\Users\\dgh06\\AppData\\Local\\Temp\\ipykernel_15880\\2601399893.py:73: DeprecationWarning: `np.int` is a deprecated alias for the builtin `int`. To silence this warning, use `int` by itself. Doing this will not modify any behavior and is safe. When replacing `np.int`, you may wish to use e.g. `np.int64` or `np.int32` to specify the precision. If you wish to review your current use, check the release note link for additional information.\n",
      "Deprecated in NumPy 1.20; for more details and guidance: https://numpy.org/devdocs/release/1.20.0-notes.html#deprecations\n",
      "  y_pred_final = (probabilities_final[:, 1] > threshold).astype(np.int)\n"
     ]
    },
    {
     "data": {
      "text/plain": [
       "([0.9803895662677891, 0.981125309073064],\n",
       " [0.09539473684210527, 0.09375],\n",
       " [0.03656998738965952, 0.030303030303030304],\n",
       " [0.0528714676390155, 0.04580152671755725])"
      ]
     },
     "execution_count": 277,
     "metadata": {},
     "output_type": "execute_result"
    }
   ],
   "source": [
    "evaluate_random_forest(X_train_int, y_train, X_test_int, y_test)"
   ]
  },
  {
   "cell_type": "code",
   "execution_count": null,
   "metadata": {},
   "outputs": [],
   "source": []
  }
 ],
 "metadata": {
  "kernelspec": {
   "display_name": "Python 3",
   "language": "python",
   "name": "python3"
  },
  "language_info": {
   "codemirror_mode": {
    "name": "ipython",
    "version": 3
   },
   "file_extension": ".py",
   "mimetype": "text/x-python",
   "name": "python",
   "nbconvert_exporter": "python",
   "pygments_lexer": "ipython3",
   "version": "3.10.9"
  },
  "orig_nbformat": 4
 },
 "nbformat": 4,
 "nbformat_minor": 2
}
