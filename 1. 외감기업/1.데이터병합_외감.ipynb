{
 "cells": [
  {
   "cell_type": "code",
   "execution_count": 2,
   "metadata": {},
   "outputs": [],
   "source": [
    "import pandas as pd"
   ]
  },
  {
   "cell_type": "markdown",
   "metadata": {},
   "source": [
    "----\n",
    "# raw data 만들기\n",
    "* 로직\n",
    "    1.  감사의견 없는 연결, 개별, GAAP 합치기\n",
    "    \n",
    "        >  연결 -> 개별 -> GAAP 순으로 결측치 대체\n",
    "    2. 감사의견 있는 연결 파일의 감사의견 컬럼을 새로 만든 통합 데이터프레임에 입력"
   ]
  },
  {
   "cell_type": "code",
   "execution_count": 3,
   "metadata": {},
   "outputs": [],
   "source": [
    "# 데이터 로드\n",
    "data_1 = pd.read_csv('./Dataset/외감기업/외감기업(IFRS연결)_감사의견미포함.csv', encoding='euc-kr')\n",
    "data_2 = pd.read_csv('./Dataset/외감기업/외감기업(IFRS개별).csv', encoding='euc-kr')\n",
    "data_3 = pd.read_csv('./Dataset/외감기업/외감기업(GAAP).csv', encoding='euc-kr', index_col=0)\n",
    "data_3.reset_index(drop=True, inplace=True)\n",
    "data_target = pd.read_csv('./Dataset/외감기업/외감기업(IFRS연결).csv', encoding='euc-kr')"
   ]
  },
  {
   "cell_type": "markdown",
   "metadata": {},
   "source": [
    "### 데이터 살펴보기"
   ]
  },
  {
   "cell_type": "markdown",
   "metadata": {},
   "source": [
    "- 데이터 수 : (295975 , 50) + target (295975 , 50)개\n",
    "- 기업 수   : 51667개"
   ]
  },
  {
   "cell_type": "code",
   "execution_count": 4,
   "metadata": {},
   "outputs": [
    {
     "data": {
      "text/plain": [
       "51667"
      ]
     },
     "execution_count": 4,
     "metadata": {},
     "output_type": "execute_result"
    }
   ],
   "source": [
    "len(data_1['회사명'].unique())"
   ]
  },
  {
   "cell_type": "code",
   "execution_count": 5,
   "metadata": {},
   "outputs": [
    {
     "data": {
      "text/plain": [
       "(295975, 50)"
      ]
     },
     "execution_count": 5,
     "metadata": {},
     "output_type": "execute_result"
    }
   ],
   "source": [
    "data_1.shape"
   ]
  },
  {
   "cell_type": "code",
   "execution_count": 6,
   "metadata": {},
   "outputs": [
    {
     "data": {
      "text/plain": [
       "(295975, 50)"
      ]
     },
     "execution_count": 6,
     "metadata": {},
     "output_type": "execute_result"
    }
   ],
   "source": [
    "data_2.shape"
   ]
  },
  {
   "cell_type": "code",
   "execution_count": 7,
   "metadata": {},
   "outputs": [
    {
     "data": {
      "text/plain": [
       "(295975, 51)"
      ]
     },
     "execution_count": 7,
     "metadata": {},
     "output_type": "execute_result"
    }
   ],
   "source": [
    "data_3.shape    # 연구비 + 경상개발비"
   ]
  },
  {
   "cell_type": "code",
   "execution_count": 8,
   "metadata": {},
   "outputs": [
    {
     "data": {
      "text/plain": [
       "(295976, 51)"
      ]
     },
     "execution_count": 8,
     "metadata": {},
     "output_type": "execute_result"
    }
   ],
   "source": [
    "data_target.shape  "
   ]
  },
  {
   "cell_type": "code",
   "execution_count": 9,
   "metadata": {},
   "outputs": [],
   "source": [
    "# 컬럼명 저장\n",
    "col_list = data_1.columns.tolist()"
   ]
  },
  {
   "cell_type": "code",
   "execution_count": 10,
   "metadata": {},
   "outputs": [],
   "source": [
    "# 연구비, 경상개발비 합치기\n",
    "data_3['연구비'] = data_3['연구비'] + data_3['경상개발비(요약)(백만원)']\n",
    "data_3.drop('경상개발비(요약)(백만원)', axis=1, inplace=True)"
   ]
  },
  {
   "cell_type": "markdown",
   "metadata": {},
   "source": [
    "### 데이터 합치기 전 컬럼명 통일"
   ]
  },
  {
   "cell_type": "code",
   "execution_count": 11,
   "metadata": {},
   "outputs": [],
   "source": [
    "# 컬럼명 통일\n",
    "data_1.columns = [f\"X_{i}\" for i in range(1, 51)]\n",
    "data_2.columns = [f\"X_{i}\" for i in range(1, 51)]\n",
    "data_3.columns = [f\"X_{i}\" for i in range(1, 51)]"
   ]
  },
  {
   "cell_type": "code",
   "execution_count": 12,
   "metadata": {},
   "outputs": [],
   "source": [
    "# IFRS연결, IFRS개별 합치기\n",
    "raw_data_1 = data_1.fillna(data_2)"
   ]
  },
  {
   "cell_type": "code",
   "execution_count": 13,
   "metadata": {},
   "outputs": [],
   "source": [
    "# IFRS, GAAP 합치기\n",
    "raw_data_1 = raw_data_1.fillna(data_3)"
   ]
  },
  {
   "cell_type": "code",
   "execution_count": 14,
   "metadata": {},
   "outputs": [
    {
     "data": {
      "text/plain": [
       "X_1          0\n",
       "X_2          0\n",
       "X_3          0\n",
       "X_4          0\n",
       "X_5         95\n",
       "X_6         95\n",
       "X_7         95\n",
       "X_8         95\n",
       "X_9         78\n",
       "X_10        78\n",
       "X_11        95\n",
       "X_12        95\n",
       "X_13        78\n",
       "X_14      2151\n",
       "X_15       348\n",
       "X_16        78\n",
       "X_17        78\n",
       "X_18        78\n",
       "X_19       122\n",
       "X_20       103\n",
       "X_21       103\n",
       "X_22       103\n",
       "X_23        78\n",
       "X_24        94\n",
       "X_25        94\n",
       "X_26        94\n",
       "X_27        94\n",
       "X_28        94\n",
       "X_29        94\n",
       "X_30        94\n",
       "X_31        93\n",
       "X_32        93\n",
       "X_33        93\n",
       "X_34        93\n",
       "X_35        93\n",
       "X_36        93\n",
       "X_37        93\n",
       "X_38        93\n",
       "X_39       107\n",
       "X_40       107\n",
       "X_41       107\n",
       "X_42       107\n",
       "X_43       107\n",
       "X_44        78\n",
       "X_45        78\n",
       "X_46        78\n",
       "X_47        78\n",
       "X_48        78\n",
       "X_49        83\n",
       "X_50    271076\n",
       "dtype: int64"
      ]
     },
     "execution_count": 14,
     "metadata": {},
     "output_type": "execute_result"
    }
   ],
   "source": [
    "# 결측치 확인하기\n",
    "raw_data_1.isnull().sum()"
   ]
  },
  {
   "cell_type": "code",
   "execution_count": 15,
   "metadata": {},
   "outputs": [],
   "source": [
    "# 다시 원래 컬럼으로 정의하기\n",
    "raw_data_1.columns = col_list"
   ]
  },
  {
   "cell_type": "markdown",
   "metadata": {},
   "source": [
    "- data_target이 feature 데이터 보다 하나의 콜럼이 많은 이유!!\n",
    "    * 중복되는 하나의 행이 있었다\n",
    "    * 에이케이에스앤디주식회사(2012)행 삭제!!!"
   ]
  },
  {
   "cell_type": "code",
   "execution_count": 16,
   "metadata": {},
   "outputs": [
    {
     "data": {
      "text/plain": [
       "Index([130263, 130264], dtype='int64')"
      ]
     },
     "execution_count": 16,
     "metadata": {},
     "output_type": "execute_result"
    }
   ],
   "source": [
    "error_raw = data_target[data_target.duplicated(keep=False)]\n",
    "error_raw.index"
   ]
  },
  {
   "cell_type": "code",
   "execution_count": 17,
   "metadata": {},
   "outputs": [],
   "source": [
    "data_target=data_target.drop(130263,axis=0).reset_index(drop=True)"
   ]
  },
  {
   "cell_type": "code",
   "execution_count": 18,
   "metadata": {},
   "outputs": [
    {
     "data": {
      "text/plain": [
       "(295975, 51)"
      ]
     },
     "execution_count": 18,
     "metadata": {},
     "output_type": "execute_result"
    }
   ],
   "source": [
    "data_target.shape"
   ]
  },
  {
   "cell_type": "code",
   "execution_count": 19,
   "metadata": {},
   "outputs": [
    {
     "data": {
      "text/plain": [
       "(295975, 50)"
      ]
     },
     "execution_count": 19,
     "metadata": {},
     "output_type": "execute_result"
    }
   ],
   "source": [
    "raw_data_1.shape"
   ]
  },
  {
   "cell_type": "markdown",
   "metadata": {},
   "source": [
    "---"
   ]
  },
  {
   "cell_type": "markdown",
   "metadata": {},
   "source": [
    "- 합치기 전 검증!!!"
   ]
  },
  {
   "cell_type": "code",
   "execution_count": 20,
   "metadata": {},
   "outputs": [
    {
     "data": {
      "text/plain": [
       "회사명\n",
       "True    295975\n",
       "Name: count, dtype: int64"
      ]
     },
     "execution_count": 20,
     "metadata": {},
     "output_type": "execute_result"
    }
   ],
   "source": [
    "(raw_data_1['회사명']==data_target['회사명']).value_counts()"
   ]
  },
  {
   "cell_type": "code",
   "execution_count": 21,
   "metadata": {},
   "outputs": [
    {
     "data": {
      "text/plain": [
       "회계년도\n",
       "True    295975\n",
       "Name: count, dtype: int64"
      ]
     },
     "execution_count": 21,
     "metadata": {},
     "output_type": "execute_result"
    }
   ],
   "source": [
    "(raw_data_1['회계년도']==data_target['회계년도']).value_counts()"
   ]
  },
  {
   "cell_type": "code",
   "execution_count": 22,
   "metadata": {},
   "outputs": [
    {
     "data": {
      "text/html": [
       "<div>\n",
       "<style scoped>\n",
       "    .dataframe tbody tr th:only-of-type {\n",
       "        vertical-align: middle;\n",
       "    }\n",
       "\n",
       "    .dataframe tbody tr th {\n",
       "        vertical-align: top;\n",
       "    }\n",
       "\n",
       "    .dataframe thead th {\n",
       "        text-align: right;\n",
       "    }\n",
       "</style>\n",
       "<table border=\"1\" class=\"dataframe\">\n",
       "  <thead>\n",
       "    <tr style=\"text-align: right;\">\n",
       "      <th></th>\n",
       "      <th>회사명</th>\n",
       "      <th>거래소코드</th>\n",
       "      <th>회계년도</th>\n",
       "      <th>통계청 한국표준산업분류 코드 10차(대분류)</th>\n",
       "      <th>부채비율</th>\n",
       "      <th>당좌비율</th>\n",
       "      <th>유동비율</th>\n",
       "      <th>이자보상배율(이자비용)</th>\n",
       "      <th>영업활동으로 인한 현금흐름(간접법)(*)(IFRS연결)(천원)</th>\n",
       "      <th>이자비용(IFRS연결)(천원)</th>\n",
       "      <th>...</th>\n",
       "      <th>자본분배율</th>\n",
       "      <th>이윤분배율</th>\n",
       "      <th>투자활동으로 인한 현금흐름(*)(IFRS연결)(천원)</th>\n",
       "      <th>재무활동으로 인한 현금흐름(*)(IFRS연결)(천원)</th>\n",
       "      <th>자산(*)(IFRS연결)(천원)</th>\n",
       "      <th>부채(*)(IFRS연결)(천원)</th>\n",
       "      <th>자본(*)(IFRS연결)(천원)</th>\n",
       "      <th>연구개발비(IFRS연결)(천원)</th>\n",
       "      <th>* (정상)영업손익(보고서기재)(IFRS연결)(천원)</th>\n",
       "      <th>감사의견코드</th>\n",
       "    </tr>\n",
       "  </thead>\n",
       "  <tbody>\n",
       "    <tr>\n",
       "      <th>0</th>\n",
       "      <td>(유)가든주류</td>\n",
       "      <td>97082</td>\n",
       "      <td>2019/12</td>\n",
       "      <td>46</td>\n",
       "      <td>178.34</td>\n",
       "      <td>213.01</td>\n",
       "      <td>243.06</td>\n",
       "      <td>3.17</td>\n",
       "      <td>138498.0</td>\n",
       "      <td>628271.0</td>\n",
       "      <td>...</td>\n",
       "      <td>47.99</td>\n",
       "      <td>22.12</td>\n",
       "      <td>-1972954.0</td>\n",
       "      <td>1982120.0</td>\n",
       "      <td>33246572.0</td>\n",
       "      <td>21302019.0</td>\n",
       "      <td>11944553.0</td>\n",
       "      <td>1992.0</td>\n",
       "      <td>NaN</td>\n",
       "      <td>NaN</td>\n",
       "    </tr>\n",
       "    <tr>\n",
       "      <th>1</th>\n",
       "      <td>(유)가든주류</td>\n",
       "      <td>97082</td>\n",
       "      <td>2020/12</td>\n",
       "      <td>46</td>\n",
       "      <td>361.81</td>\n",
       "      <td>115.89</td>\n",
       "      <td>128.39</td>\n",
       "      <td>1.29</td>\n",
       "      <td>-341826.0</td>\n",
       "      <td>476716.0</td>\n",
       "      <td>...</td>\n",
       "      <td>27.92</td>\n",
       "      <td>8.72</td>\n",
       "      <td>-914119.0</td>\n",
       "      <td>892418.0</td>\n",
       "      <td>32940746.0</td>\n",
       "      <td>25807747.0</td>\n",
       "      <td>7132998.0</td>\n",
       "      <td>615.0</td>\n",
       "      <td>NaN</td>\n",
       "      <td>QS</td>\n",
       "    </tr>\n",
       "    <tr>\n",
       "      <th>2</th>\n",
       "      <td>(유)가든주류</td>\n",
       "      <td>97082</td>\n",
       "      <td>2021/12</td>\n",
       "      <td>46</td>\n",
       "      <td>281.83</td>\n",
       "      <td>176.11</td>\n",
       "      <td>186.39</td>\n",
       "      <td>0.29</td>\n",
       "      <td>130657.0</td>\n",
       "      <td>476252.0</td>\n",
       "      <td>...</td>\n",
       "      <td>34.33</td>\n",
       "      <td>13.86</td>\n",
       "      <td>4066202.0</td>\n",
       "      <td>-4287909.0</td>\n",
       "      <td>29500238.0</td>\n",
       "      <td>21774189.0</td>\n",
       "      <td>7726049.0</td>\n",
       "      <td>137.0</td>\n",
       "      <td>NaN</td>\n",
       "      <td>UQ</td>\n",
       "    </tr>\n",
       "    <tr>\n",
       "      <th>3</th>\n",
       "      <td>(유)가든주류</td>\n",
       "      <td>97082</td>\n",
       "      <td>2022/12</td>\n",
       "      <td>46</td>\n",
       "      <td>0.00</td>\n",
       "      <td>28.33</td>\n",
       "      <td>35.17</td>\n",
       "      <td>-1.44</td>\n",
       "      <td>-26425950.0</td>\n",
       "      <td>1914030.0</td>\n",
       "      <td>...</td>\n",
       "      <td>-167.60</td>\n",
       "      <td>-397.51</td>\n",
       "      <td>13539698.0</td>\n",
       "      <td>13075530.0</td>\n",
       "      <td>9861648.0</td>\n",
       "      <td>34820255.0</td>\n",
       "      <td>-24958607.0</td>\n",
       "      <td>-2749.0</td>\n",
       "      <td>NaN</td>\n",
       "      <td>DU</td>\n",
       "    </tr>\n",
       "    <tr>\n",
       "      <th>4</th>\n",
       "      <td>(유)그룹세브코리아</td>\n",
       "      <td>13171</td>\n",
       "      <td>2019/12</td>\n",
       "      <td>46</td>\n",
       "      <td>147.02</td>\n",
       "      <td>92.20</td>\n",
       "      <td>158.78</td>\n",
       "      <td>25.79</td>\n",
       "      <td>14297932.0</td>\n",
       "      <td>468007.0</td>\n",
       "      <td>...</td>\n",
       "      <td>67.67</td>\n",
       "      <td>36.71</td>\n",
       "      <td>-718431.0</td>\n",
       "      <td>-14582988.0</td>\n",
       "      <td>50917276.0</td>\n",
       "      <td>30304375.0</td>\n",
       "      <td>20612901.0</td>\n",
       "      <td>12070.0</td>\n",
       "      <td>NaN</td>\n",
       "      <td>NaN</td>\n",
       "    </tr>\n",
       "    <tr>\n",
       "      <th>...</th>\n",
       "      <td>...</td>\n",
       "      <td>...</td>\n",
       "      <td>...</td>\n",
       "      <td>...</td>\n",
       "      <td>...</td>\n",
       "      <td>...</td>\n",
       "      <td>...</td>\n",
       "      <td>...</td>\n",
       "      <td>...</td>\n",
       "      <td>...</td>\n",
       "      <td>...</td>\n",
       "      <td>...</td>\n",
       "      <td>...</td>\n",
       "      <td>...</td>\n",
       "      <td>...</td>\n",
       "      <td>...</td>\n",
       "      <td>...</td>\n",
       "      <td>...</td>\n",
       "      <td>...</td>\n",
       "      <td>...</td>\n",
       "      <td>...</td>\n",
       "    </tr>\n",
       "    <tr>\n",
       "      <th>295970</th>\n",
       "      <td>힐티코리아주식회사</td>\n",
       "      <td>10534</td>\n",
       "      <td>2021/12</td>\n",
       "      <td>46</td>\n",
       "      <td>83.55</td>\n",
       "      <td>116.00</td>\n",
       "      <td>204.04</td>\n",
       "      <td>16.92</td>\n",
       "      <td>1399525.0</td>\n",
       "      <td>170487.0</td>\n",
       "      <td>...</td>\n",
       "      <td>24.71</td>\n",
       "      <td>8.53</td>\n",
       "      <td>-580519.0</td>\n",
       "      <td>-5714997.0</td>\n",
       "      <td>57962904.0</td>\n",
       "      <td>26384600.0</td>\n",
       "      <td>31578304.0</td>\n",
       "      <td>0.0</td>\n",
       "      <td>2884587.0</td>\n",
       "      <td>UQ</td>\n",
       "    </tr>\n",
       "    <tr>\n",
       "      <th>295971</th>\n",
       "      <td>힐티코리아주식회사</td>\n",
       "      <td>10534</td>\n",
       "      <td>2022/12</td>\n",
       "      <td>46</td>\n",
       "      <td>108.21</td>\n",
       "      <td>95.88</td>\n",
       "      <td>182.33</td>\n",
       "      <td>45.26</td>\n",
       "      <td>8906854.0</td>\n",
       "      <td>173153.0</td>\n",
       "      <td>...</td>\n",
       "      <td>35.23</td>\n",
       "      <td>18.72</td>\n",
       "      <td>-621622.0</td>\n",
       "      <td>-2228349.0</td>\n",
       "      <td>80263333.0</td>\n",
       "      <td>41714240.0</td>\n",
       "      <td>38549093.0</td>\n",
       "      <td>0.0</td>\n",
       "      <td>7837661.0</td>\n",
       "      <td>UQ</td>\n",
       "    </tr>\n",
       "    <tr>\n",
       "      <th>295972</th>\n",
       "      <td>（주）신미코스메틱</td>\n",
       "      <td>85105</td>\n",
       "      <td>2017/12</td>\n",
       "      <td>46</td>\n",
       "      <td>31.40</td>\n",
       "      <td>416.15</td>\n",
       "      <td>416.15</td>\n",
       "      <td>19368.35</td>\n",
       "      <td>13717057.0</td>\n",
       "      <td>1309.0</td>\n",
       "      <td>...</td>\n",
       "      <td>98.51</td>\n",
       "      <td>76.19</td>\n",
       "      <td>-2137038.0</td>\n",
       "      <td>-227960.0</td>\n",
       "      <td>27238719.0</td>\n",
       "      <td>6508768.0</td>\n",
       "      <td>20729950.0</td>\n",
       "      <td>25353.0</td>\n",
       "      <td>NaN</td>\n",
       "      <td>NaN</td>\n",
       "    </tr>\n",
       "    <tr>\n",
       "      <th>295973</th>\n",
       "      <td>（주）신미코스메틱</td>\n",
       "      <td>85105</td>\n",
       "      <td>2018/12</td>\n",
       "      <td>46</td>\n",
       "      <td>15.51</td>\n",
       "      <td>677.00</td>\n",
       "      <td>755.04</td>\n",
       "      <td>7918.22</td>\n",
       "      <td>18445523.0</td>\n",
       "      <td>2475.0</td>\n",
       "      <td>...</td>\n",
       "      <td>95.14</td>\n",
       "      <td>59.64</td>\n",
       "      <td>-15323100.0</td>\n",
       "      <td>-1574040.0</td>\n",
       "      <td>30667235.0</td>\n",
       "      <td>4117284.0</td>\n",
       "      <td>26549952.0</td>\n",
       "      <td>19598.0</td>\n",
       "      <td>NaN</td>\n",
       "      <td>UQ</td>\n",
       "    </tr>\n",
       "    <tr>\n",
       "      <th>295974</th>\n",
       "      <td>（주）신미코스메틱</td>\n",
       "      <td>85105</td>\n",
       "      <td>2019/12</td>\n",
       "      <td>46</td>\n",
       "      <td>0.88</td>\n",
       "      <td>13972.49</td>\n",
       "      <td>14090.52</td>\n",
       "      <td>178.42</td>\n",
       "      <td>4645976.0</td>\n",
       "      <td>2217.0</td>\n",
       "      <td>...</td>\n",
       "      <td>0.00</td>\n",
       "      <td>0.00</td>\n",
       "      <td>-13951242.0</td>\n",
       "      <td>-3100000.0</td>\n",
       "      <td>21393335.0</td>\n",
       "      <td>186687.0</td>\n",
       "      <td>21206648.0</td>\n",
       "      <td>396.0</td>\n",
       "      <td>NaN</td>\n",
       "      <td>UQ</td>\n",
       "    </tr>\n",
       "  </tbody>\n",
       "</table>\n",
       "<p>295975 rows × 51 columns</p>\n",
       "</div>"
      ],
      "text/plain": [
       "               회사명  거래소코드     회계년도  통계청 한국표준산업분류 코드 10차(대분류)    부채비율   \n",
       "0          (유)가든주류  97082  2019/12                        46  178.34  \\\n",
       "1          (유)가든주류  97082  2020/12                        46  361.81   \n",
       "2          (유)가든주류  97082  2021/12                        46  281.83   \n",
       "3          (유)가든주류  97082  2022/12                        46    0.00   \n",
       "4       (유)그룹세브코리아  13171  2019/12                        46  147.02   \n",
       "...            ...    ...      ...                       ...     ...   \n",
       "295970   힐티코리아주식회사  10534  2021/12                        46   83.55   \n",
       "295971   힐티코리아주식회사  10534  2022/12                        46  108.21   \n",
       "295972   （주）신미코스메틱  85105  2017/12                        46   31.40   \n",
       "295973   （주）신미코스메틱  85105  2018/12                        46   15.51   \n",
       "295974   （주）신미코스메틱  85105  2019/12                        46    0.88   \n",
       "\n",
       "            당좌비율      유동비율  이자보상배율(이자비용)  영업활동으로 인한 현금흐름(간접법)(*)(IFRS연결)(천원)   \n",
       "0         213.01    243.06          3.17                            138498.0  \\\n",
       "1         115.89    128.39          1.29                           -341826.0   \n",
       "2         176.11    186.39          0.29                            130657.0   \n",
       "3          28.33     35.17         -1.44                         -26425950.0   \n",
       "4          92.20    158.78         25.79                          14297932.0   \n",
       "...          ...       ...           ...                                 ...   \n",
       "295970    116.00    204.04         16.92                           1399525.0   \n",
       "295971     95.88    182.33         45.26                           8906854.0   \n",
       "295972    416.15    416.15      19368.35                          13717057.0   \n",
       "295973    677.00    755.04       7918.22                          18445523.0   \n",
       "295974  13972.49  14090.52        178.42                           4645976.0   \n",
       "\n",
       "        이자비용(IFRS연결)(천원)  ...   자본분배율   이윤분배율  투자활동으로 인한 현금흐름(*)(IFRS연결)(천원)   \n",
       "0               628271.0  ...   47.99   22.12                     -1972954.0  \\\n",
       "1               476716.0  ...   27.92    8.72                      -914119.0   \n",
       "2               476252.0  ...   34.33   13.86                      4066202.0   \n",
       "3              1914030.0  ... -167.60 -397.51                     13539698.0   \n",
       "4               468007.0  ...   67.67   36.71                      -718431.0   \n",
       "...                  ...  ...     ...     ...                            ...   \n",
       "295970          170487.0  ...   24.71    8.53                      -580519.0   \n",
       "295971          173153.0  ...   35.23   18.72                      -621622.0   \n",
       "295972            1309.0  ...   98.51   76.19                     -2137038.0   \n",
       "295973            2475.0  ...   95.14   59.64                    -15323100.0   \n",
       "295974            2217.0  ...    0.00    0.00                    -13951242.0   \n",
       "\n",
       "        재무활동으로 인한 현금흐름(*)(IFRS연결)(천원)  자산(*)(IFRS연결)(천원)  부채(*)(IFRS연결)(천원)   \n",
       "0                           1982120.0         33246572.0         21302019.0  \\\n",
       "1                            892418.0         32940746.0         25807747.0   \n",
       "2                          -4287909.0         29500238.0         21774189.0   \n",
       "3                          13075530.0          9861648.0         34820255.0   \n",
       "4                         -14582988.0         50917276.0         30304375.0   \n",
       "...                               ...                ...                ...   \n",
       "295970                     -5714997.0         57962904.0         26384600.0   \n",
       "295971                     -2228349.0         80263333.0         41714240.0   \n",
       "295972                      -227960.0         27238719.0          6508768.0   \n",
       "295973                     -1574040.0         30667235.0          4117284.0   \n",
       "295974                     -3100000.0         21393335.0           186687.0   \n",
       "\n",
       "        자본(*)(IFRS연결)(천원)  연구개발비(IFRS연결)(천원)  * (정상)영업손익(보고서기재)(IFRS연결)(천원)   \n",
       "0              11944553.0             1992.0                            NaN  \\\n",
       "1               7132998.0              615.0                            NaN   \n",
       "2               7726049.0              137.0                            NaN   \n",
       "3             -24958607.0            -2749.0                            NaN   \n",
       "4              20612901.0            12070.0                            NaN   \n",
       "...                   ...                ...                            ...   \n",
       "295970         31578304.0                0.0                      2884587.0   \n",
       "295971         38549093.0                0.0                      7837661.0   \n",
       "295972         20729950.0            25353.0                            NaN   \n",
       "295973         26549952.0            19598.0                            NaN   \n",
       "295974         21206648.0              396.0                            NaN   \n",
       "\n",
       "        감사의견코드  \n",
       "0          NaN  \n",
       "1           QS  \n",
       "2           UQ  \n",
       "3           DU  \n",
       "4          NaN  \n",
       "...        ...  \n",
       "295970      UQ  \n",
       "295971      UQ  \n",
       "295972     NaN  \n",
       "295973      UQ  \n",
       "295974      UQ  \n",
       "\n",
       "[295975 rows x 51 columns]"
      ]
     },
     "execution_count": 22,
     "metadata": {},
     "output_type": "execute_result"
    }
   ],
   "source": [
    "raw_data_2=pd.concat([raw_data_1,data_target.iloc[:,-1]],axis=1)\n",
    "raw_data_2"
   ]
  },
  {
   "cell_type": "code",
   "execution_count": 23,
   "metadata": {},
   "outputs": [
    {
     "data": {
      "text/html": [
       "<div>\n",
       "<style scoped>\n",
       "    .dataframe tbody tr th:only-of-type {\n",
       "        vertical-align: middle;\n",
       "    }\n",
       "\n",
       "    .dataframe tbody tr th {\n",
       "        vertical-align: top;\n",
       "    }\n",
       "\n",
       "    .dataframe thead th {\n",
       "        text-align: right;\n",
       "    }\n",
       "</style>\n",
       "<table border=\"1\" class=\"dataframe\">\n",
       "  <thead>\n",
       "    <tr style=\"text-align: right;\">\n",
       "      <th></th>\n",
       "      <th>거래소코드</th>\n",
       "      <th>통계청 한국표준산업분류 코드 10차(대분류)</th>\n",
       "      <th>부채비율</th>\n",
       "      <th>당좌비율</th>\n",
       "      <th>유동비율</th>\n",
       "      <th>이자보상배율(이자비용)</th>\n",
       "      <th>영업활동으로 인한 현금흐름(간접법)(*)(IFRS연결)(천원)</th>\n",
       "      <th>이자비용(IFRS연결)(천원)</th>\n",
       "      <th>차입금의존도</th>\n",
       "      <th>자기자본구성비율</th>\n",
       "      <th>...</th>\n",
       "      <th>노동소득분배율</th>\n",
       "      <th>자본분배율</th>\n",
       "      <th>이윤분배율</th>\n",
       "      <th>투자활동으로 인한 현금흐름(*)(IFRS연결)(천원)</th>\n",
       "      <th>재무활동으로 인한 현금흐름(*)(IFRS연결)(천원)</th>\n",
       "      <th>자산(*)(IFRS연결)(천원)</th>\n",
       "      <th>부채(*)(IFRS연결)(천원)</th>\n",
       "      <th>자본(*)(IFRS연결)(천원)</th>\n",
       "      <th>연구개발비(IFRS연결)(천원)</th>\n",
       "      <th>* (정상)영업손익(보고서기재)(IFRS연결)(천원)</th>\n",
       "    </tr>\n",
       "  </thead>\n",
       "  <tbody>\n",
       "    <tr>\n",
       "      <th>count</th>\n",
       "      <td>295975.000000</td>\n",
       "      <td>295975.000000</td>\n",
       "      <td>2.958800e+05</td>\n",
       "      <td>2.958800e+05</td>\n",
       "      <td>2.958800e+05</td>\n",
       "      <td>2.958800e+05</td>\n",
       "      <td>2.958970e+05</td>\n",
       "      <td>2.958970e+05</td>\n",
       "      <td>2.958800e+05</td>\n",
       "      <td>295880.000000</td>\n",
       "      <td>...</td>\n",
       "      <td>2.958680e+05</td>\n",
       "      <td>2.958680e+05</td>\n",
       "      <td>2.958680e+05</td>\n",
       "      <td>2.958970e+05</td>\n",
       "      <td>2.958970e+05</td>\n",
       "      <td>2.958970e+05</td>\n",
       "      <td>2.958970e+05</td>\n",
       "      <td>2.958970e+05</td>\n",
       "      <td>2.958920e+05</td>\n",
       "      <td>2.489900e+04</td>\n",
       "    </tr>\n",
       "    <tr>\n",
       "      <th>mean</th>\n",
       "      <td>62103.418167</td>\n",
       "      <td>43.671864</td>\n",
       "      <td>2.163986e+04</td>\n",
       "      <td>1.560940e+04</td>\n",
       "      <td>1.649745e+04</td>\n",
       "      <td>1.181900e+08</td>\n",
       "      <td>3.066959e+06</td>\n",
       "      <td>9.917524e+05</td>\n",
       "      <td>2.158403e+02</td>\n",
       "      <td>36.034839</td>\n",
       "      <td>...</td>\n",
       "      <td>8.934938e+01</td>\n",
       "      <td>-7.649434e+00</td>\n",
       "      <td>-2.446380e+04</td>\n",
       "      <td>-4.448067e+06</td>\n",
       "      <td>1.869084e+06</td>\n",
       "      <td>7.290401e+07</td>\n",
       "      <td>4.445242e+07</td>\n",
       "      <td>2.845159e+07</td>\n",
       "      <td>1.792640e+05</td>\n",
       "      <td>1.539469e+07</td>\n",
       "    </tr>\n",
       "    <tr>\n",
       "      <th>std</th>\n",
       "      <td>25035.184135</td>\n",
       "      <td>20.469855</td>\n",
       "      <td>6.142931e+06</td>\n",
       "      <td>4.494784e+06</td>\n",
       "      <td>4.501424e+06</td>\n",
       "      <td>3.228222e+08</td>\n",
       "      <td>6.716188e+07</td>\n",
       "      <td>6.417346e+06</td>\n",
       "      <td>3.511742e+04</td>\n",
       "      <td>32.273486</td>\n",
       "      <td>...</td>\n",
       "      <td>1.207413e+04</td>\n",
       "      <td>1.207405e+04</td>\n",
       "      <td>8.054248e+06</td>\n",
       "      <td>6.726894e+07</td>\n",
       "      <td>4.566440e+07</td>\n",
       "      <td>6.211577e+08</td>\n",
       "      <td>3.269636e+08</td>\n",
       "      <td>3.490838e+08</td>\n",
       "      <td>1.286059e+07</td>\n",
       "      <td>1.215514e+08</td>\n",
       "    </tr>\n",
       "    <tr>\n",
       "      <th>min</th>\n",
       "      <td>10000.000000</td>\n",
       "      <td>1.000000</td>\n",
       "      <td>-6.280000e+00</td>\n",
       "      <td>-3.100000e+00</td>\n",
       "      <td>-3.100000e+00</td>\n",
       "      <td>-5.124345e+08</td>\n",
       "      <td>-3.450823e+09</td>\n",
       "      <td>-3.806243e+06</td>\n",
       "      <td>0.000000e+00</td>\n",
       "      <td>-8444.950000</td>\n",
       "      <td>...</td>\n",
       "      <td>-7.829730e+03</td>\n",
       "      <td>-6.381824e+06</td>\n",
       "      <td>-2.945443e+09</td>\n",
       "      <td>-1.479378e+10</td>\n",
       "      <td>-5.082106e+09</td>\n",
       "      <td>-4.061700e+04</td>\n",
       "      <td>-9.535820e+05</td>\n",
       "      <td>-2.716877e+09</td>\n",
       "      <td>-8.552200e+05</td>\n",
       "      <td>-1.936136e+09</td>\n",
       "    </tr>\n",
       "    <tr>\n",
       "      <th>25%</th>\n",
       "      <td>46303.000000</td>\n",
       "      <td>26.000000</td>\n",
       "      <td>3.319750e+01</td>\n",
       "      <td>3.296000e+01</td>\n",
       "      <td>6.120000e+01</td>\n",
       "      <td>0.000000e+00</td>\n",
       "      <td>-4.731180e+05</td>\n",
       "      <td>5.926300e+04</td>\n",
       "      <td>1.204000e+01</td>\n",
       "      <td>11.390000</td>\n",
       "      <td>...</td>\n",
       "      <td>7.040000e+00</td>\n",
       "      <td>8.570000e+00</td>\n",
       "      <td>0.000000e+00</td>\n",
       "      <td>-2.672741e+06</td>\n",
       "      <td>-1.023304e+06</td>\n",
       "      <td>1.353553e+07</td>\n",
       "      <td>7.920664e+06</td>\n",
       "      <td>1.832628e+06</td>\n",
       "      <td>-2.700000e+01</td>\n",
       "      <td>-4.950690e+05</td>\n",
       "    </tr>\n",
       "    <tr>\n",
       "      <th>50%</th>\n",
       "      <td>64451.000000</td>\n",
       "      <td>42.000000</td>\n",
       "      <td>1.330300e+02</td>\n",
       "      <td>7.954000e+01</td>\n",
       "      <td>1.142000e+02</td>\n",
       "      <td>2.350000e+00</td>\n",
       "      <td>6.315700e+05</td>\n",
       "      <td>2.443350e+05</td>\n",
       "      <td>4.048000e+01</td>\n",
       "      <td>32.120000</td>\n",
       "      <td>...</td>\n",
       "      <td>2.919000e+01</td>\n",
       "      <td>5.565000e+01</td>\n",
       "      <td>1.422000e+01</td>\n",
       "      <td>-5.176800e+05</td>\n",
       "      <td>0.000000e+00</td>\n",
       "      <td>2.134103e+07</td>\n",
       "      <td>1.302122e+07</td>\n",
       "      <td>6.838031e+06</td>\n",
       "      <td>5.820000e+02</td>\n",
       "      <td>1.685420e+06</td>\n",
       "    </tr>\n",
       "    <tr>\n",
       "      <th>75%</th>\n",
       "      <td>81220.500000</td>\n",
       "      <td>68.000000</td>\n",
       "      <td>3.418700e+02</td>\n",
       "      <td>1.631900e+02</td>\n",
       "      <td>2.140800e+02</td>\n",
       "      <td>1.830250e+01</td>\n",
       "      <td>2.646083e+06</td>\n",
       "      <td>5.726590e+05</td>\n",
       "      <td>6.485000e+01</td>\n",
       "      <td>56.782500</td>\n",
       "      <td>...</td>\n",
       "      <td>5.117000e+01</td>\n",
       "      <td>7.596250e+01</td>\n",
       "      <td>3.852000e+01</td>\n",
       "      <td>0.000000e+00</td>\n",
       "      <td>1.759162e+06</td>\n",
       "      <td>4.276756e+07</td>\n",
       "      <td>2.619102e+07</td>\n",
       "      <td>1.669974e+07</td>\n",
       "      <td>2.092000e+03</td>\n",
       "      <td>7.099280e+06</td>\n",
       "    </tr>\n",
       "    <tr>\n",
       "      <th>max</th>\n",
       "      <td>107278.000000</td>\n",
       "      <td>98.000000</td>\n",
       "      <td>2.373601e+09</td>\n",
       "      <td>2.030502e+09</td>\n",
       "      <td>2.030502e+09</td>\n",
       "      <td>1.733808e+09</td>\n",
       "      <td>1.139583e+10</td>\n",
       "      <td>5.937832e+08</td>\n",
       "      <td>1.437589e+07</td>\n",
       "      <td>106.700000</td>\n",
       "      <td>...</td>\n",
       "      <td>6.381924e+06</td>\n",
       "      <td>7.929730e+03</td>\n",
       "      <td>3.509009e+08</td>\n",
       "      <td>2.836892e+09</td>\n",
       "      <td>8.973336e+09</td>\n",
       "      <td>6.953855e+10</td>\n",
       "      <td>4.325749e+10</td>\n",
       "      <td>5.763866e+10</td>\n",
       "      <td>2.855357e+09</td>\n",
       "      <td>5.883246e+09</td>\n",
       "    </tr>\n",
       "  </tbody>\n",
       "</table>\n",
       "<p>8 rows × 48 columns</p>\n",
       "</div>"
      ],
      "text/plain": [
       "               거래소코드  통계청 한국표준산업분류 코드 10차(대분류)          부채비율          당좌비율   \n",
       "count  295975.000000             295975.000000  2.958800e+05  2.958800e+05  \\\n",
       "mean    62103.418167                 43.671864  2.163986e+04  1.560940e+04   \n",
       "std     25035.184135                 20.469855  6.142931e+06  4.494784e+06   \n",
       "min     10000.000000                  1.000000 -6.280000e+00 -3.100000e+00   \n",
       "25%     46303.000000                 26.000000  3.319750e+01  3.296000e+01   \n",
       "50%     64451.000000                 42.000000  1.330300e+02  7.954000e+01   \n",
       "75%     81220.500000                 68.000000  3.418700e+02  1.631900e+02   \n",
       "max    107278.000000                 98.000000  2.373601e+09  2.030502e+09   \n",
       "\n",
       "               유동비율  이자보상배율(이자비용)  영업활동으로 인한 현금흐름(간접법)(*)(IFRS연결)(천원)   \n",
       "count  2.958800e+05  2.958800e+05                        2.958970e+05  \\\n",
       "mean   1.649745e+04  1.181900e+08                        3.066959e+06   \n",
       "std    4.501424e+06  3.228222e+08                        6.716188e+07   \n",
       "min   -3.100000e+00 -5.124345e+08                       -3.450823e+09   \n",
       "25%    6.120000e+01  0.000000e+00                       -4.731180e+05   \n",
       "50%    1.142000e+02  2.350000e+00                        6.315700e+05   \n",
       "75%    2.140800e+02  1.830250e+01                        2.646083e+06   \n",
       "max    2.030502e+09  1.733808e+09                        1.139583e+10   \n",
       "\n",
       "       이자비용(IFRS연결)(천원)        차입금의존도       자기자본구성비율  ...       노동소득분배율   \n",
       "count      2.958970e+05  2.958800e+05  295880.000000  ...  2.958680e+05  \\\n",
       "mean       9.917524e+05  2.158403e+02      36.034839  ...  8.934938e+01   \n",
       "std        6.417346e+06  3.511742e+04      32.273486  ...  1.207413e+04   \n",
       "min       -3.806243e+06  0.000000e+00   -8444.950000  ... -7.829730e+03   \n",
       "25%        5.926300e+04  1.204000e+01      11.390000  ...  7.040000e+00   \n",
       "50%        2.443350e+05  4.048000e+01      32.120000  ...  2.919000e+01   \n",
       "75%        5.726590e+05  6.485000e+01      56.782500  ...  5.117000e+01   \n",
       "max        5.937832e+08  1.437589e+07     106.700000  ...  6.381924e+06   \n",
       "\n",
       "              자본분배율         이윤분배율  투자활동으로 인한 현금흐름(*)(IFRS연결)(천원)   \n",
       "count  2.958680e+05  2.958680e+05                   2.958970e+05  \\\n",
       "mean  -7.649434e+00 -2.446380e+04                  -4.448067e+06   \n",
       "std    1.207405e+04  8.054248e+06                   6.726894e+07   \n",
       "min   -6.381824e+06 -2.945443e+09                  -1.479378e+10   \n",
       "25%    8.570000e+00  0.000000e+00                  -2.672741e+06   \n",
       "50%    5.565000e+01  1.422000e+01                  -5.176800e+05   \n",
       "75%    7.596250e+01  3.852000e+01                   0.000000e+00   \n",
       "max    7.929730e+03  3.509009e+08                   2.836892e+09   \n",
       "\n",
       "       재무활동으로 인한 현금흐름(*)(IFRS연결)(천원)  자산(*)(IFRS연결)(천원)  부채(*)(IFRS연결)(천원)   \n",
       "count                   2.958970e+05       2.958970e+05       2.958970e+05  \\\n",
       "mean                    1.869084e+06       7.290401e+07       4.445242e+07   \n",
       "std                     4.566440e+07       6.211577e+08       3.269636e+08   \n",
       "min                    -5.082106e+09      -4.061700e+04      -9.535820e+05   \n",
       "25%                    -1.023304e+06       1.353553e+07       7.920664e+06   \n",
       "50%                     0.000000e+00       2.134103e+07       1.302122e+07   \n",
       "75%                     1.759162e+06       4.276756e+07       2.619102e+07   \n",
       "max                     8.973336e+09       6.953855e+10       4.325749e+10   \n",
       "\n",
       "       자본(*)(IFRS연결)(천원)  연구개발비(IFRS연결)(천원)  * (정상)영업손익(보고서기재)(IFRS연결)(천원)  \n",
       "count       2.958970e+05       2.958920e+05                   2.489900e+04  \n",
       "mean        2.845159e+07       1.792640e+05                   1.539469e+07  \n",
       "std         3.490838e+08       1.286059e+07                   1.215514e+08  \n",
       "min        -2.716877e+09      -8.552200e+05                  -1.936136e+09  \n",
       "25%         1.832628e+06      -2.700000e+01                  -4.950690e+05  \n",
       "50%         6.838031e+06       5.820000e+02                   1.685420e+06  \n",
       "75%         1.669974e+07       2.092000e+03                   7.099280e+06  \n",
       "max         5.763866e+10       2.855357e+09                   5.883246e+09  \n",
       "\n",
       "[8 rows x 48 columns]"
      ]
     },
     "execution_count": 23,
     "metadata": {},
     "output_type": "execute_result"
    }
   ],
   "source": [
    "raw_data_2.describe()"
   ]
  },
  {
   "cell_type": "code",
   "execution_count": null,
   "metadata": {},
   "outputs": [],
   "source": []
  }
 ],
 "metadata": {
  "kernelspec": {
   "display_name": "Python 3",
   "language": "python",
   "name": "python3"
  },
  "language_info": {
   "codemirror_mode": {
    "name": "ipython",
    "version": 3
   },
   "file_extension": ".py",
   "mimetype": "text/x-python",
   "name": "python",
   "nbconvert_exporter": "python",
   "pygments_lexer": "ipython3",
   "version": "3.10.9"
  },
  "orig_nbformat": 4
 },
 "nbformat": 4,
 "nbformat_minor": 2
}
