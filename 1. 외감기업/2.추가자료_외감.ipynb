{
 "cells": [
  {
   "cell_type": "code",
   "execution_count": 1,
   "metadata": {},
   "outputs": [],
   "source": [
    "import pandas as pd"
   ]
  },
  {
   "cell_type": "markdown",
   "metadata": {},
   "source": [
    "## 3개의 컬럼 추가\n",
    "- 통계청 한국표준산업분류 코드 10차(대분류)\n",
    "- 자본금\n",
    "- 영업손익(이익)"
   ]
  },
  {
   "cell_type": "code",
   "execution_count": 2,
   "metadata": {},
   "outputs": [],
   "source": [
    "df1=pd.read_csv('./Dataset/추가/추가_1.csv',encoding='euc-kr')\n",
    "df2=pd.read_csv('./Dataset/추가/추가_2.csv',encoding='euc-kr')\n",
    "df3=pd.read_csv('./Dataset/추가/추가_3.csv',encoding='euc-kr')\n",
    "df4=pd.read_csv('./Dataset/추가/추가_4.csv',encoding='euc-kr')\n",
    "df5=pd.read_csv('./Dataset/추가/추가_5.csv',encoding='euc-kr')\n",
    "df6=pd.read_csv('./Dataset/추가/추가_6.csv',encoding='euc-kr')\n",
    "df7=pd.read_csv('./Dataset/추가/추가_7.csv',encoding='euc-kr')\n",
    "df8=pd.read_csv('./Dataset/추가/추가_8.csv',encoding='euc-kr')\n",
    "df9=pd.read_csv('./Dataset/추가/추가_9.csv',encoding='euc-kr')\n",
    "df10=pd.read_csv('./Dataset/추가/추가_10.csv',encoding='euc-kr')\n",
    "df11=pd.read_csv('./Dataset/추가/추가_11.csv',encoding='euc-kr')\n",
    "df12=pd.read_csv('./Dataset/추가/추가_12.csv',encoding='euc-kr')\n",
    "df13=pd.read_csv('./Dataset/추가/추가_13.csv',encoding='euc-kr')\n",
    "df14=pd.read_csv('./Dataset/추가/추가_14.csv',encoding='euc-kr')"
   ]
  },
  {
   "cell_type": "code",
   "execution_count": 3,
   "metadata": {},
   "outputs": [],
   "source": [
    "df=pd.concat([df1,df2,df3,df4,df5,df6,df7,df8,df9,df10,df11,df12,df13,df14],axis=0).reset_index(drop=True)"
   ]
  },
  {
   "cell_type": "code",
   "execution_count": 4,
   "metadata": {},
   "outputs": [],
   "source": [
    "df_=pd.read_csv('./Dataset/외감raw.csv',encoding='euc-kr')"
   ]
  },
  {
   "cell_type": "markdown",
   "metadata": {},
   "source": [
    "#### 외감기업은 뽑는 시기에 따라 회사 개수가 달라지므로 추가로 뽑은 시점에서 전 시점 데이터와 비교해서 추가된거 삭제!\n",
    "- 실제로 2개의 데이터가  더 많았다"
   ]
  },
  {
   "cell_type": "markdown",
   "metadata": {},
   "source": [
    "## 추가된 데이터 확인하는  코드"
   ]
  },
  {
   "cell_type": "code",
   "execution_count": 5,
   "metadata": {},
   "outputs": [
    {
     "name": "stdout",
     "output_type": "stream",
     "text": [
      "두 리스트에서 이름이 같지만 개수가 다른 요소들: ['(주)우성코퍼레이션', '주식회사뷰케이코리아']\n"
     ]
    }
   ],
   "source": [
    "from collections import Counter\n",
    "\n",
    "list1 = df_['회사명']\n",
    "list2 = df['회사명']\n",
    "counter1 = Counter(list1)\n",
    "counter2 = Counter(list2)\n",
    "\n",
    "different_elements = []\n",
    "\n",
    "for element, count in counter1.items():\n",
    "    if count != counter2[element]:\n",
    "        different_elements.append(element)\n",
    "\n",
    "print(\"두 리스트에서 이름이 같지만 개수가 다른 요소들:\", different_elements)\n",
    "\n"
   ]
  },
  {
   "cell_type": "markdown",
   "metadata": {},
   "source": [
    "- (주)우성코퍼레이션,주식회사뷰케이코리아가 추가시점에 추가정보가 올라옴--> drop해줌"
   ]
  },
  {
   "cell_type": "code",
   "execution_count": 6,
   "metadata": {},
   "outputs": [],
   "source": [
    "df=df.drop([185011,126614],axis=0).reset_index(drop=True)"
   ]
  },
  {
   "cell_type": "code",
   "execution_count": 7,
   "metadata": {},
   "outputs": [
    {
     "name": "stdout",
     "output_type": "stream",
     "text": [
      "두 리스트에서 이름이 같지만 개수가 다른 요소들: []\n"
     ]
    }
   ],
   "source": [
    "from collections import Counter\n",
    "\n",
    "list1 = df_['회사명']\n",
    "list2 = df['회사명']\n",
    "counter1 = Counter(list1)\n",
    "counter2 = Counter(list2)\n",
    "\n",
    "different_elements = []\n",
    "\n",
    "for element, count in counter1.items():\n",
    "    if count != counter2[element]:\n",
    "        different_elements.append(element)\n",
    "\n",
    "print(\"두 리스트에서 이름이 같지만 개수가 다른 요소들:\", different_elements)"
   ]
  },
  {
   "cell_type": "code",
   "execution_count": 8,
   "metadata": {},
   "outputs": [
    {
     "data": {
      "text/plain": [
       "회사명                                   0\n",
       "거래소코드                                 0\n",
       "회계년도                                  0\n",
       "통계청 한국표준산업분류 코드 10차(대분류)              0\n",
       "통계청 한국표준산업분류 10차(대분류)                 0\n",
       "자본금(*)(IFRS연결)(천원)               289617\n",
       "자본금(*)(IFRS)(천원)                 271086\n",
       "자본금(*)(천원)                           85\n",
       "* (정상)영업손익(보고서기재)(IFRS연결)(천원)    289617\n",
       "* (정상)영업손익(보고서기재)(IFRS)(천원)      271086\n",
       "영업이익(손실)(천원)                         85\n",
       "dtype: int64"
      ]
     },
     "execution_count": 8,
     "metadata": {},
     "output_type": "execute_result"
    }
   ],
   "source": [
    "df.isna().sum()"
   ]
  },
  {
   "cell_type": "markdown",
   "metadata": {},
   "source": [
    "- 자본금()(IFRS연결)(천원)\" 열의 값이 비어있을 경우 \"자본금()(IFRS)(천원)\" 열의 값을 그대로 사용하고, 값이 이미 존재한다면 그 값을 유지하는 코드"
   ]
  },
  {
   "cell_type": "code",
   "execution_count": 9,
   "metadata": {},
   "outputs": [],
   "source": [
    "df['자본금(*)(IFRS연결)(천원)'] = df.apply(lambda row: row['자본금(*)(IFRS)(천원)'] if pd.isna(row['자본금(*)(IFRS연결)(천원)']) else row['자본금(*)(IFRS연결)(천원)'], axis=1)"
   ]
  },
  {
   "cell_type": "code",
   "execution_count": 10,
   "metadata": {},
   "outputs": [
    {
     "data": {
      "text/plain": [
       "회사명                                   0\n",
       "거래소코드                                 0\n",
       "회계년도                                  0\n",
       "통계청 한국표준산업분류 코드 10차(대분류)              0\n",
       "통계청 한국표준산업분류 10차(대분류)                 0\n",
       "자본금(*)(IFRS연결)(천원)               271079\n",
       "자본금(*)(IFRS)(천원)                 271086\n",
       "자본금(*)(천원)                           85\n",
       "* (정상)영업손익(보고서기재)(IFRS연결)(천원)    289617\n",
       "* (정상)영업손익(보고서기재)(IFRS)(천원)      271086\n",
       "영업이익(손실)(천원)                         85\n",
       "dtype: int64"
      ]
     },
     "execution_count": 10,
     "metadata": {},
     "output_type": "execute_result"
    }
   ],
   "source": [
    "df.isna().sum()"
   ]
  },
  {
   "cell_type": "code",
   "execution_count": 11,
   "metadata": {},
   "outputs": [],
   "source": [
    "df['자본금(*)(IFRS연결)(천원)'] = df.apply(lambda row: row['자본금(*)(천원)'] if pd.isna(row['자본금(*)(IFRS연결)(천원)']) else row['자본금(*)(IFRS연결)(천원)'], axis=1)"
   ]
  },
  {
   "cell_type": "code",
   "execution_count": 12,
   "metadata": {},
   "outputs": [
    {
     "data": {
      "text/plain": [
       "회사명                                   0\n",
       "거래소코드                                 0\n",
       "회계년도                                  0\n",
       "통계청 한국표준산업분류 코드 10차(대분류)              0\n",
       "통계청 한국표준산업분류 10차(대분류)                 0\n",
       "자본금(*)(IFRS연결)(천원)                   78\n",
       "자본금(*)(IFRS)(천원)                 271086\n",
       "자본금(*)(천원)                           85\n",
       "* (정상)영업손익(보고서기재)(IFRS연결)(천원)    289617\n",
       "* (정상)영업손익(보고서기재)(IFRS)(천원)      271086\n",
       "영업이익(손실)(천원)                         85\n",
       "dtype: int64"
      ]
     },
     "execution_count": 12,
     "metadata": {},
     "output_type": "execute_result"
    }
   ],
   "source": [
    "df.isna().sum()"
   ]
  },
  {
   "cell_type": "code",
   "execution_count": 13,
   "metadata": {},
   "outputs": [],
   "source": [
    "df['* (정상)영업손익(보고서기재)(IFRS연결)(천원)'] = df.apply(lambda row: row['* (정상)영업손익(보고서기재)(IFRS)(천원)'] if pd.isna(row['* (정상)영업손익(보고서기재)(IFRS연결)(천원)']) else row['* (정상)영업손익(보고서기재)(IFRS연결)(천원)'], axis=1)\n",
    "df['* (정상)영업손익(보고서기재)(IFRS연결)(천원)'] = df.apply(lambda row: row['영업이익(손실)(천원)'] if pd.isna(row['* (정상)영업손익(보고서기재)(IFRS연결)(천원)']) else row['* (정상)영업손익(보고서기재)(IFRS연결)(천원)'], axis=1)"
   ]
  },
  {
   "cell_type": "code",
   "execution_count": 14,
   "metadata": {},
   "outputs": [
    {
     "data": {
      "text/plain": [
       "회사명                                   0\n",
       "거래소코드                                 0\n",
       "회계년도                                  0\n",
       "통계청 한국표준산업분류 코드 10차(대분류)              0\n",
       "통계청 한국표준산업분류 10차(대분류)                 0\n",
       "자본금(*)(IFRS연결)(천원)                   78\n",
       "자본금(*)(IFRS)(천원)                 271086\n",
       "자본금(*)(천원)                           85\n",
       "* (정상)영업손익(보고서기재)(IFRS연결)(천원)        78\n",
       "* (정상)영업손익(보고서기재)(IFRS)(천원)      271086\n",
       "영업이익(손실)(천원)                         85\n",
       "dtype: int64"
      ]
     },
     "execution_count": 14,
     "metadata": {},
     "output_type": "execute_result"
    }
   ],
   "source": [
    "df.isna().sum()"
   ]
  },
  {
   "cell_type": "code",
   "execution_count": 15,
   "metadata": {},
   "outputs": [],
   "source": [
    "df.drop(['거래소코드','회계년도','통계청 한국표준산업분류 코드 10차(대분류)','자본금(*)(IFRS)(천원)','자본금(*)(천원)','* (정상)영업손익(보고서기재)(IFRS)(천원)','영업이익(손실)(천원)'],axis=1,inplace=True)"
   ]
  },
  {
   "cell_type": "code",
   "execution_count": 16,
   "metadata": {},
   "outputs": [
    {
     "data": {
      "text/plain": [
       "회사명\n",
       "True    295975\n",
       "Name: count, dtype: int64"
      ]
     },
     "execution_count": 16,
     "metadata": {},
     "output_type": "execute_result"
    }
   ],
   "source": [
    "(df['회사명']== df_['회사명']).value_counts()"
   ]
  },
  {
   "cell_type": "code",
   "execution_count": 17,
   "metadata": {},
   "outputs": [],
   "source": [
    "df_.drop('* (정상)영업손익(보고서기재)(IFRS연결)(천원)',inplace=True,axis=1)"
   ]
  },
  {
   "cell_type": "code",
   "execution_count": 18,
   "metadata": {},
   "outputs": [],
   "source": [
    "df_total=pd.concat([df_,df], axis=1)"
   ]
  },
  {
   "cell_type": "markdown",
   "metadata": {},
   "source": [
    "## 3개의 컬럼 추가\n",
    "- 통계청 한국표준산업분류 코드 10차(대분류)\n",
    "- 자본금\n",
    "- 영업손익(이익)"
   ]
  },
  {
   "cell_type": "code",
   "execution_count": 19,
   "metadata": {},
   "outputs": [
    {
     "data": {
      "text/html": [
       "<div>\n",
       "<style scoped>\n",
       "    .dataframe tbody tr th:only-of-type {\n",
       "        vertical-align: middle;\n",
       "    }\n",
       "\n",
       "    .dataframe tbody tr th {\n",
       "        vertical-align: top;\n",
       "    }\n",
       "\n",
       "    .dataframe thead th {\n",
       "        text-align: right;\n",
       "    }\n",
       "</style>\n",
       "<table border=\"1\" class=\"dataframe\">\n",
       "  <thead>\n",
       "    <tr style=\"text-align: right;\">\n",
       "      <th></th>\n",
       "      <th>회사명</th>\n",
       "      <th>거래소코드</th>\n",
       "      <th>회계년도</th>\n",
       "      <th>통계청 한국표준산업분류 코드 10차(대분류)</th>\n",
       "      <th>부채비율</th>\n",
       "      <th>당좌비율</th>\n",
       "      <th>유동비율</th>\n",
       "      <th>이자보상배율(이자비용)</th>\n",
       "      <th>영업활동으로 인한 현금흐름(간접법)(*)(IFRS연결)(천원)</th>\n",
       "      <th>이자비용(IFRS연결)(천원)</th>\n",
       "      <th>...</th>\n",
       "      <th>재무활동으로 인한 현금흐름(*)(IFRS연결)(천원)</th>\n",
       "      <th>자산(*)(IFRS연결)(천원)</th>\n",
       "      <th>부채(*)(IFRS연결)(천원)</th>\n",
       "      <th>자본(*)(IFRS연결)(천원)</th>\n",
       "      <th>연구개발비(IFRS연결)(천원)</th>\n",
       "      <th>감사의견코드</th>\n",
       "      <th>회사명</th>\n",
       "      <th>통계청 한국표준산업분류 10차(대분류)</th>\n",
       "      <th>자본금(*)(IFRS연결)(천원)</th>\n",
       "      <th>* (정상)영업손익(보고서기재)(IFRS연결)(천원)</th>\n",
       "    </tr>\n",
       "  </thead>\n",
       "  <tbody>\n",
       "    <tr>\n",
       "      <th>0</th>\n",
       "      <td>(유)가든주류</td>\n",
       "      <td>97082</td>\n",
       "      <td>2019/12</td>\n",
       "      <td>46</td>\n",
       "      <td>178.34</td>\n",
       "      <td>213.01</td>\n",
       "      <td>243.06</td>\n",
       "      <td>3.17</td>\n",
       "      <td>138498.0</td>\n",
       "      <td>628271.0</td>\n",
       "      <td>...</td>\n",
       "      <td>1982120.0</td>\n",
       "      <td>33246572.0</td>\n",
       "      <td>21302019.0</td>\n",
       "      <td>11944553.0</td>\n",
       "      <td>1.992000e+11</td>\n",
       "      <td>NaN</td>\n",
       "      <td>(유)가든주류</td>\n",
       "      <td>도매 및 소매업</td>\n",
       "      <td>150000.0</td>\n",
       "      <td>1991621.0</td>\n",
       "    </tr>\n",
       "    <tr>\n",
       "      <th>1</th>\n",
       "      <td>(유)가든주류</td>\n",
       "      <td>97082</td>\n",
       "      <td>2020/12</td>\n",
       "      <td>46</td>\n",
       "      <td>361.81</td>\n",
       "      <td>115.89</td>\n",
       "      <td>128.39</td>\n",
       "      <td>1.29</td>\n",
       "      <td>-341826.0</td>\n",
       "      <td>476716.0</td>\n",
       "      <td>...</td>\n",
       "      <td>892418.0</td>\n",
       "      <td>32940746.0</td>\n",
       "      <td>25807747.0</td>\n",
       "      <td>7132998.0</td>\n",
       "      <td>6.150000e+10</td>\n",
       "      <td>QS</td>\n",
       "      <td>(유)가든주류</td>\n",
       "      <td>도매 및 소매업</td>\n",
       "      <td>150000.0</td>\n",
       "      <td>615380.0</td>\n",
       "    </tr>\n",
       "    <tr>\n",
       "      <th>2</th>\n",
       "      <td>(유)가든주류</td>\n",
       "      <td>97082</td>\n",
       "      <td>2021/12</td>\n",
       "      <td>46</td>\n",
       "      <td>281.83</td>\n",
       "      <td>176.11</td>\n",
       "      <td>186.39</td>\n",
       "      <td>0.29</td>\n",
       "      <td>130657.0</td>\n",
       "      <td>476252.0</td>\n",
       "      <td>...</td>\n",
       "      <td>-4287909.0</td>\n",
       "      <td>29500238.0</td>\n",
       "      <td>21774189.0</td>\n",
       "      <td>7726049.0</td>\n",
       "      <td>1.370000e+10</td>\n",
       "      <td>UQ</td>\n",
       "      <td>(유)가든주류</td>\n",
       "      <td>도매 및 소매업</td>\n",
       "      <td>150000.0</td>\n",
       "      <td>136557.0</td>\n",
       "    </tr>\n",
       "    <tr>\n",
       "      <th>3</th>\n",
       "      <td>(유)가든주류</td>\n",
       "      <td>97082</td>\n",
       "      <td>2022/12</td>\n",
       "      <td>46</td>\n",
       "      <td>0.00</td>\n",
       "      <td>28.33</td>\n",
       "      <td>35.17</td>\n",
       "      <td>-1.44</td>\n",
       "      <td>-26425950.0</td>\n",
       "      <td>1914030.0</td>\n",
       "      <td>...</td>\n",
       "      <td>13075530.0</td>\n",
       "      <td>9861648.0</td>\n",
       "      <td>34820255.0</td>\n",
       "      <td>-24958607.0</td>\n",
       "      <td>-2.749000e+11</td>\n",
       "      <td>DU</td>\n",
       "      <td>(유)가든주류</td>\n",
       "      <td>도매 및 소매업</td>\n",
       "      <td>150000.0</td>\n",
       "      <td>-2749456.0</td>\n",
       "    </tr>\n",
       "    <tr>\n",
       "      <th>4</th>\n",
       "      <td>(유)그룹세브코리아</td>\n",
       "      <td>13171</td>\n",
       "      <td>2019/12</td>\n",
       "      <td>46</td>\n",
       "      <td>147.02</td>\n",
       "      <td>92.20</td>\n",
       "      <td>158.78</td>\n",
       "      <td>25.79</td>\n",
       "      <td>14297932.0</td>\n",
       "      <td>468007.0</td>\n",
       "      <td>...</td>\n",
       "      <td>-14582988.0</td>\n",
       "      <td>50917276.0</td>\n",
       "      <td>30304375.0</td>\n",
       "      <td>20612901.0</td>\n",
       "      <td>1.207000e+12</td>\n",
       "      <td>NaN</td>\n",
       "      <td>(유)그룹세브코리아</td>\n",
       "      <td>도매 및 소매업</td>\n",
       "      <td>1700000.0</td>\n",
       "      <td>12070148.0</td>\n",
       "    </tr>\n",
       "    <tr>\n",
       "      <th>...</th>\n",
       "      <td>...</td>\n",
       "      <td>...</td>\n",
       "      <td>...</td>\n",
       "      <td>...</td>\n",
       "      <td>...</td>\n",
       "      <td>...</td>\n",
       "      <td>...</td>\n",
       "      <td>...</td>\n",
       "      <td>...</td>\n",
       "      <td>...</td>\n",
       "      <td>...</td>\n",
       "      <td>...</td>\n",
       "      <td>...</td>\n",
       "      <td>...</td>\n",
       "      <td>...</td>\n",
       "      <td>...</td>\n",
       "      <td>...</td>\n",
       "      <td>...</td>\n",
       "      <td>...</td>\n",
       "      <td>...</td>\n",
       "      <td>...</td>\n",
       "    </tr>\n",
       "    <tr>\n",
       "      <th>295970</th>\n",
       "      <td>힐티코리아주식회사</td>\n",
       "      <td>10534</td>\n",
       "      <td>2021/12</td>\n",
       "      <td>46</td>\n",
       "      <td>83.55</td>\n",
       "      <td>116.00</td>\n",
       "      <td>204.04</td>\n",
       "      <td>16.92</td>\n",
       "      <td>1399525.0</td>\n",
       "      <td>170487.0</td>\n",
       "      <td>...</td>\n",
       "      <td>-5714997.0</td>\n",
       "      <td>57962904.0</td>\n",
       "      <td>26384600.0</td>\n",
       "      <td>31578304.0</td>\n",
       "      <td>0.000000e+00</td>\n",
       "      <td>UQ</td>\n",
       "      <td>힐티코리아주식회사</td>\n",
       "      <td>도매 및 소매업</td>\n",
       "      <td>20794780.0</td>\n",
       "      <td>2884587.0</td>\n",
       "    </tr>\n",
       "    <tr>\n",
       "      <th>295971</th>\n",
       "      <td>힐티코리아주식회사</td>\n",
       "      <td>10534</td>\n",
       "      <td>2022/12</td>\n",
       "      <td>46</td>\n",
       "      <td>108.21</td>\n",
       "      <td>95.88</td>\n",
       "      <td>182.33</td>\n",
       "      <td>45.26</td>\n",
       "      <td>8906854.0</td>\n",
       "      <td>173153.0</td>\n",
       "      <td>...</td>\n",
       "      <td>-2228349.0</td>\n",
       "      <td>80263333.0</td>\n",
       "      <td>41714240.0</td>\n",
       "      <td>38549093.0</td>\n",
       "      <td>0.000000e+00</td>\n",
       "      <td>UQ</td>\n",
       "      <td>힐티코리아주식회사</td>\n",
       "      <td>도매 및 소매업</td>\n",
       "      <td>20794780.0</td>\n",
       "      <td>7837661.0</td>\n",
       "    </tr>\n",
       "    <tr>\n",
       "      <th>295972</th>\n",
       "      <td>（주）신미코스메틱</td>\n",
       "      <td>85105</td>\n",
       "      <td>2017/12</td>\n",
       "      <td>46</td>\n",
       "      <td>31.40</td>\n",
       "      <td>416.15</td>\n",
       "      <td>416.15</td>\n",
       "      <td>19368.35</td>\n",
       "      <td>13717057.0</td>\n",
       "      <td>1309.0</td>\n",
       "      <td>...</td>\n",
       "      <td>-227960.0</td>\n",
       "      <td>27238719.0</td>\n",
       "      <td>6508768.0</td>\n",
       "      <td>20729950.0</td>\n",
       "      <td>2.535300e+12</td>\n",
       "      <td>NaN</td>\n",
       "      <td>（주）신미코스메틱</td>\n",
       "      <td>도매 및 소매업</td>\n",
       "      <td>50000.0</td>\n",
       "      <td>25353167.0</td>\n",
       "    </tr>\n",
       "    <tr>\n",
       "      <th>295973</th>\n",
       "      <td>（주）신미코스메틱</td>\n",
       "      <td>85105</td>\n",
       "      <td>2018/12</td>\n",
       "      <td>46</td>\n",
       "      <td>15.51</td>\n",
       "      <td>677.00</td>\n",
       "      <td>755.04</td>\n",
       "      <td>7918.22</td>\n",
       "      <td>18445523.0</td>\n",
       "      <td>2475.0</td>\n",
       "      <td>...</td>\n",
       "      <td>-1574040.0</td>\n",
       "      <td>30667235.0</td>\n",
       "      <td>4117284.0</td>\n",
       "      <td>26549952.0</td>\n",
       "      <td>1.959800e+12</td>\n",
       "      <td>UQ</td>\n",
       "      <td>（주）신미코스메틱</td>\n",
       "      <td>도매 및 소매업</td>\n",
       "      <td>50000.0</td>\n",
       "      <td>19597602.0</td>\n",
       "    </tr>\n",
       "    <tr>\n",
       "      <th>295974</th>\n",
       "      <td>（주）신미코스메틱</td>\n",
       "      <td>85105</td>\n",
       "      <td>2019/12</td>\n",
       "      <td>46</td>\n",
       "      <td>0.88</td>\n",
       "      <td>13972.49</td>\n",
       "      <td>14090.52</td>\n",
       "      <td>178.42</td>\n",
       "      <td>4645976.0</td>\n",
       "      <td>2217.0</td>\n",
       "      <td>...</td>\n",
       "      <td>-3100000.0</td>\n",
       "      <td>21393335.0</td>\n",
       "      <td>186687.0</td>\n",
       "      <td>21206648.0</td>\n",
       "      <td>3.960000e+10</td>\n",
       "      <td>UQ</td>\n",
       "      <td>（주）신미코스메틱</td>\n",
       "      <td>도매 및 소매업</td>\n",
       "      <td>50000.0</td>\n",
       "      <td>395562.0</td>\n",
       "    </tr>\n",
       "  </tbody>\n",
       "</table>\n",
       "<p>295975 rows × 54 columns</p>\n",
       "</div>"
      ],
      "text/plain": [
       "               회사명  거래소코드     회계년도  통계청 한국표준산업분류 코드 10차(대분류)    부채비율   \n",
       "0          (유)가든주류  97082  2019/12                        46  178.34  \\\n",
       "1          (유)가든주류  97082  2020/12                        46  361.81   \n",
       "2          (유)가든주류  97082  2021/12                        46  281.83   \n",
       "3          (유)가든주류  97082  2022/12                        46    0.00   \n",
       "4       (유)그룹세브코리아  13171  2019/12                        46  147.02   \n",
       "...            ...    ...      ...                       ...     ...   \n",
       "295970   힐티코리아주식회사  10534  2021/12                        46   83.55   \n",
       "295971   힐티코리아주식회사  10534  2022/12                        46  108.21   \n",
       "295972   （주）신미코스메틱  85105  2017/12                        46   31.40   \n",
       "295973   （주）신미코스메틱  85105  2018/12                        46   15.51   \n",
       "295974   （주）신미코스메틱  85105  2019/12                        46    0.88   \n",
       "\n",
       "            당좌비율      유동비율  이자보상배율(이자비용)  영업활동으로 인한 현금흐름(간접법)(*)(IFRS연결)(천원)   \n",
       "0         213.01    243.06          3.17                            138498.0  \\\n",
       "1         115.89    128.39          1.29                           -341826.0   \n",
       "2         176.11    186.39          0.29                            130657.0   \n",
       "3          28.33     35.17         -1.44                         -26425950.0   \n",
       "4          92.20    158.78         25.79                          14297932.0   \n",
       "...          ...       ...           ...                                 ...   \n",
       "295970    116.00    204.04         16.92                           1399525.0   \n",
       "295971     95.88    182.33         45.26                           8906854.0   \n",
       "295972    416.15    416.15      19368.35                          13717057.0   \n",
       "295973    677.00    755.04       7918.22                          18445523.0   \n",
       "295974  13972.49  14090.52        178.42                           4645976.0   \n",
       "\n",
       "        이자비용(IFRS연결)(천원)  ...  재무활동으로 인한 현금흐름(*)(IFRS연결)(천원)   \n",
       "0               628271.0  ...                      1982120.0  \\\n",
       "1               476716.0  ...                       892418.0   \n",
       "2               476252.0  ...                     -4287909.0   \n",
       "3              1914030.0  ...                     13075530.0   \n",
       "4               468007.0  ...                    -14582988.0   \n",
       "...                  ...  ...                            ...   \n",
       "295970          170487.0  ...                     -5714997.0   \n",
       "295971          173153.0  ...                     -2228349.0   \n",
       "295972            1309.0  ...                      -227960.0   \n",
       "295973            2475.0  ...                     -1574040.0   \n",
       "295974            2217.0  ...                     -3100000.0   \n",
       "\n",
       "        자산(*)(IFRS연결)(천원)  부채(*)(IFRS연결)(천원)  자본(*)(IFRS연결)(천원)   \n",
       "0              33246572.0         21302019.0         11944553.0  \\\n",
       "1              32940746.0         25807747.0          7132998.0   \n",
       "2              29500238.0         21774189.0          7726049.0   \n",
       "3               9861648.0         34820255.0        -24958607.0   \n",
       "4              50917276.0         30304375.0         20612901.0   \n",
       "...                   ...                ...                ...   \n",
       "295970         57962904.0         26384600.0         31578304.0   \n",
       "295971         80263333.0         41714240.0         38549093.0   \n",
       "295972         27238719.0          6508768.0         20729950.0   \n",
       "295973         30667235.0          4117284.0         26549952.0   \n",
       "295974         21393335.0           186687.0         21206648.0   \n",
       "\n",
       "        연구개발비(IFRS연결)(천원)  감사의견코드         회사명  통계청 한국표준산업분류 10차(대분류)   \n",
       "0            1.992000e+11     NaN     (유)가든주류               도매 및 소매업  \\\n",
       "1            6.150000e+10      QS     (유)가든주류               도매 및 소매업   \n",
       "2            1.370000e+10      UQ     (유)가든주류               도매 및 소매업   \n",
       "3           -2.749000e+11      DU     (유)가든주류               도매 및 소매업   \n",
       "4            1.207000e+12     NaN  (유)그룹세브코리아               도매 및 소매업   \n",
       "...                   ...     ...         ...                    ...   \n",
       "295970       0.000000e+00      UQ   힐티코리아주식회사               도매 및 소매업   \n",
       "295971       0.000000e+00      UQ   힐티코리아주식회사               도매 및 소매업   \n",
       "295972       2.535300e+12     NaN   （주）신미코스메틱               도매 및 소매업   \n",
       "295973       1.959800e+12      UQ   （주）신미코스메틱               도매 및 소매업   \n",
       "295974       3.960000e+10      UQ   （주）신미코스메틱               도매 및 소매업   \n",
       "\n",
       "        자본금(*)(IFRS연결)(천원)  * (정상)영업손익(보고서기재)(IFRS연결)(천원)  \n",
       "0                 150000.0                      1991621.0  \n",
       "1                 150000.0                       615380.0  \n",
       "2                 150000.0                       136557.0  \n",
       "3                 150000.0                     -2749456.0  \n",
       "4                1700000.0                     12070148.0  \n",
       "...                    ...                            ...  \n",
       "295970          20794780.0                      2884587.0  \n",
       "295971          20794780.0                      7837661.0  \n",
       "295972             50000.0                     25353167.0  \n",
       "295973             50000.0                     19597602.0  \n",
       "295974             50000.0                       395562.0  \n",
       "\n",
       "[295975 rows x 54 columns]"
      ]
     },
     "execution_count": 19,
     "metadata": {},
     "output_type": "execute_result"
    }
   ],
   "source": [
    "df_total"
   ]
  },
  {
   "cell_type": "code",
   "execution_count": 20,
   "metadata": {},
   "outputs": [],
   "source": [
    "# df_total.to_csv('외감raw2.csv',index=False,encoding='euc-kr')"
   ]
  }
 ],
 "metadata": {
  "kernelspec": {
   "display_name": "Python 3",
   "language": "python",
   "name": "python3"
  },
  "language_info": {
   "codemirror_mode": {
    "name": "ipython",
    "version": 3
   },
   "file_extension": ".py",
   "mimetype": "text/x-python",
   "name": "python",
   "nbconvert_exporter": "python",
   "pygments_lexer": "ipython3",
   "version": "3.10.9"
  },
  "orig_nbformat": 4
 },
 "nbformat": 4,
 "nbformat_minor": 2
}
