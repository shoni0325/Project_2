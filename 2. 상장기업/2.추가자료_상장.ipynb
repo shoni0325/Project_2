{
 "cells": [
  {
   "cell_type": "code",
   "execution_count": 30,
   "metadata": {},
   "outputs": [],
   "source": [
    "import pandas as pd"
   ]
  },
  {
   "cell_type": "markdown",
   "metadata": {},
   "source": [
    "## 3개의 컬럼 추가\n",
    "- 통계청 한국표준산업분류 코드 10차(대분류)\n",
    "- 자본금\n",
    "- 영업손익(이익)"
   ]
  },
  {
   "cell_type": "code",
   "execution_count": 31,
   "metadata": {},
   "outputs": [],
   "source": [
    "df=pd.read_csv('/Users/taewon/Documents/금융 빅데이터/Project_2/코딩/상장기업/원본/코스피_코스닥_컬럼추가.csv',encoding='cp949')\n",
    "df1=pd.read_csv('/Users/taewon/Documents/금융 빅데이터/Project_2/코딩/상장기업/상장raw2.csv', encoding='utf-8')"
   ]
  },
  {
   "cell_type": "code",
   "execution_count": 32,
   "metadata": {},
   "outputs": [],
   "source": [
    "# df=pd.concat([df1, df],axis=1).reset_index(drop=True)"
   ]
  },
  {
   "cell_type": "markdown",
   "metadata": {},
   "source": [
    "## 추가된 데이터 확인하는  코드"
   ]
  },
  {
   "cell_type": "code",
   "execution_count": 33,
   "metadata": {},
   "outputs": [
    {
     "data": {
      "text/plain": [
       "회사명                            0\n",
       "거래소코드                          0\n",
       "회계년도                           0\n",
       "통계청 한국표준산업분류 코드 10차(대분류)       0\n",
       "통계청 한국표준산업분류 10차(대분류)          0\n",
       "자본금(*)(IFRS연결)(천원)          6881\n",
       "자본금(*)(IFRS)(천원)            1760\n",
       "자본금(*)(천원)                   344\n",
       "dtype: int64"
      ]
     },
     "execution_count": 33,
     "metadata": {},
     "output_type": "execute_result"
    }
   ],
   "source": [
    "df.isna().sum()"
   ]
  },
  {
   "cell_type": "markdown",
   "metadata": {},
   "source": [
    "- 자본금()(IFRS연결)(천원)\" 열의 값이 비어있을 경우 \"자본금()(IFRS)(천원)\" 열의 값을 그대로 사용하고, 값이 이미 존재한다면 그 값을 유지하는 코드"
   ]
  },
  {
   "cell_type": "code",
   "execution_count": 34,
   "metadata": {},
   "outputs": [
    {
     "data": {
      "text/plain": [
       "Index(['회사명', '거래소코드', '회계년도', '통계청 한국표준산업분류 코드 10차(대분류)',\n",
       "       '통계청 한국표준산업분류 10차(대분류)', '자본금(*)(IFRS연결)(천원)', '자본금(*)(IFRS)(천원)',\n",
       "       '자본금(*)(천원)'],\n",
       "      dtype='object')"
      ]
     },
     "execution_count": 34,
     "metadata": {},
     "output_type": "execute_result"
    }
   ],
   "source": [
    "df.columns"
   ]
  },
  {
   "cell_type": "code",
   "execution_count": 35,
   "metadata": {},
   "outputs": [],
   "source": [
    "df['자본금(*)(IFRS연결)(천원)'] = df.apply(lambda row: row['자본금(*)(IFRS)(천원)'] if pd.isna(row['자본금(*)(IFRS연결)(천원)']) else row['자본금(*)(IFRS연결)(천원)'], axis=1)"
   ]
  },
  {
   "cell_type": "code",
   "execution_count": 36,
   "metadata": {},
   "outputs": [
    {
     "data": {
      "text/plain": [
       "회사명                            0\n",
       "거래소코드                          0\n",
       "회계년도                           0\n",
       "통계청 한국표준산업분류 코드 10차(대분류)       0\n",
       "통계청 한국표준산업분류 10차(대분류)          0\n",
       "자본금(*)(IFRS연결)(천원)          1671\n",
       "자본금(*)(IFRS)(천원)            1760\n",
       "자본금(*)(천원)                   344\n",
       "dtype: int64"
      ]
     },
     "execution_count": 36,
     "metadata": {},
     "output_type": "execute_result"
    }
   ],
   "source": [
    "df.isna().sum()"
   ]
  },
  {
   "cell_type": "code",
   "execution_count": 37,
   "metadata": {},
   "outputs": [],
   "source": [
    "df['자본금(*)(IFRS연결)(천원)'] = df.apply(lambda row: row['자본금(*)(천원)'] if pd.isna(row['자본금(*)(IFRS연결)(천원)']) else row['자본금(*)(IFRS연결)(천원)'], axis=1)"
   ]
  },
  {
   "cell_type": "code",
   "execution_count": 38,
   "metadata": {},
   "outputs": [
    {
     "data": {
      "text/plain": [
       "회사명                            0\n",
       "거래소코드                          0\n",
       "회계년도                           0\n",
       "통계청 한국표준산업분류 코드 10차(대분류)       0\n",
       "통계청 한국표준산업분류 10차(대분류)          0\n",
       "자본금(*)(IFRS연결)(천원)           255\n",
       "자본금(*)(IFRS)(천원)            1760\n",
       "자본금(*)(천원)                   344\n",
       "dtype: int64"
      ]
     },
     "execution_count": 38,
     "metadata": {},
     "output_type": "execute_result"
    }
   ],
   "source": [
    "df.isna().sum()"
   ]
  },
  {
   "cell_type": "code",
   "execution_count": 39,
   "metadata": {},
   "outputs": [
    {
     "data": {
      "text/plain": [
       "회사명                            0\n",
       "거래소코드                          0\n",
       "회계년도                           0\n",
       "통계청 한국표준산업분류 코드 10차(대분류)       0\n",
       "통계청 한국표준산업분류 10차(대분류)          0\n",
       "자본금(*)(IFRS연결)(천원)           255\n",
       "자본금(*)(IFRS)(천원)            1760\n",
       "자본금(*)(천원)                   344\n",
       "dtype: int64"
      ]
     },
     "execution_count": 39,
     "metadata": {},
     "output_type": "execute_result"
    }
   ],
   "source": [
    "df.isna().sum()"
   ]
  },
  {
   "cell_type": "code",
   "execution_count": 40,
   "metadata": {},
   "outputs": [
    {
     "data": {
      "text/plain": [
       "Index(['회사명', '거래소코드', '회계년도', '통계청 한국표준산업분류 코드 10차(대분류)',\n",
       "       '통계청 한국표준산업분류 10차(대분류)', '자본금(*)(IFRS연결)(천원)', '자본금(*)(IFRS)(천원)',\n",
       "       '자본금(*)(천원)'],\n",
       "      dtype='object')"
      ]
     },
     "execution_count": 40,
     "metadata": {},
     "output_type": "execute_result"
    }
   ],
   "source": [
    "df.columns"
   ]
  },
  {
   "cell_type": "code",
   "execution_count": 41,
   "metadata": {},
   "outputs": [],
   "source": [
    "df.drop(['거래소코드','회계년도','통계청 한국표준산업분류 코드 10차(대분류)','자본금(*)(IFRS)(천원)','자본금(*)(천원)'],axis=1,inplace=True)"
   ]
  },
  {
   "cell_type": "code",
   "execution_count": 42,
   "metadata": {},
   "outputs": [
    {
     "ename": "ValueError",
     "evalue": "Can only compare identically-labeled Series objects",
     "output_type": "error",
     "traceback": [
      "\u001b[0;31m---------------------------------------------------------------------------\u001b[0m",
      "\u001b[0;31mValueError\u001b[0m                                Traceback (most recent call last)",
      "Cell \u001b[0;32mIn[42], line 1\u001b[0m\n\u001b[0;32m----> 1\u001b[0m (df[\u001b[39m'\u001b[39;49m\u001b[39m회사명\u001b[39;49m\u001b[39m'\u001b[39;49m]\u001b[39m==\u001b[39;49m df1[\u001b[39m'\u001b[39;49m\u001b[39m회사명\u001b[39;49m\u001b[39m'\u001b[39;49m])\u001b[39m.\u001b[39mvalue_counts()\n",
      "File \u001b[0;32m~/Library/Python/3.9/lib/python/site-packages/pandas/core/ops/common.py:81\u001b[0m, in \u001b[0;36m_unpack_zerodim_and_defer.<locals>.new_method\u001b[0;34m(self, other)\u001b[0m\n\u001b[1;32m     77\u001b[0m             \u001b[39mreturn\u001b[39;00m \u001b[39mNotImplemented\u001b[39m\n\u001b[1;32m     79\u001b[0m other \u001b[39m=\u001b[39m item_from_zerodim(other)\n\u001b[0;32m---> 81\u001b[0m \u001b[39mreturn\u001b[39;00m method(\u001b[39mself\u001b[39;49m, other)\n",
      "File \u001b[0;32m~/Library/Python/3.9/lib/python/site-packages/pandas/core/arraylike.py:40\u001b[0m, in \u001b[0;36mOpsMixin.__eq__\u001b[0;34m(self, other)\u001b[0m\n\u001b[1;32m     38\u001b[0m \u001b[39m@unpack_zerodim_and_defer\u001b[39m(\u001b[39m\"\u001b[39m\u001b[39m__eq__\u001b[39m\u001b[39m\"\u001b[39m)\n\u001b[1;32m     39\u001b[0m \u001b[39mdef\u001b[39;00m \u001b[39m__eq__\u001b[39m(\u001b[39mself\u001b[39m, other):\n\u001b[0;32m---> 40\u001b[0m     \u001b[39mreturn\u001b[39;00m \u001b[39mself\u001b[39;49m\u001b[39m.\u001b[39;49m_cmp_method(other, operator\u001b[39m.\u001b[39;49meq)\n",
      "File \u001b[0;32m~/Library/Python/3.9/lib/python/site-packages/pandas/core/series.py:6091\u001b[0m, in \u001b[0;36mSeries._cmp_method\u001b[0;34m(self, other, op)\u001b[0m\n\u001b[1;32m   6088\u001b[0m res_name \u001b[39m=\u001b[39m ops\u001b[39m.\u001b[39mget_op_result_name(\u001b[39mself\u001b[39m, other)\n\u001b[1;32m   6090\u001b[0m \u001b[39mif\u001b[39;00m \u001b[39misinstance\u001b[39m(other, Series) \u001b[39mand\u001b[39;00m \u001b[39mnot\u001b[39;00m \u001b[39mself\u001b[39m\u001b[39m.\u001b[39m_indexed_same(other):\n\u001b[0;32m-> 6091\u001b[0m     \u001b[39mraise\u001b[39;00m \u001b[39mValueError\u001b[39;00m(\u001b[39m\"\u001b[39m\u001b[39mCan only compare identically-labeled Series objects\u001b[39m\u001b[39m\"\u001b[39m)\n\u001b[1;32m   6093\u001b[0m lvalues \u001b[39m=\u001b[39m \u001b[39mself\u001b[39m\u001b[39m.\u001b[39m_values\n\u001b[1;32m   6094\u001b[0m rvalues \u001b[39m=\u001b[39m extract_array(other, extract_numpy\u001b[39m=\u001b[39m\u001b[39mTrue\u001b[39;00m, extract_range\u001b[39m=\u001b[39m\u001b[39mTrue\u001b[39;00m)\n",
      "\u001b[0;31mValueError\u001b[0m: Can only compare identically-labeled Series objects"
     ]
    }
   ],
   "source": [
    "(df['회사명']== df1['회사명']).value_counts()"
   ]
  },
  {
   "cell_type": "code",
   "execution_count": null,
   "metadata": {},
   "outputs": [],
   "source": [
    "df_total=pd.concat([df,df1], axis=1)"
   ]
  },
  {
   "cell_type": "markdown",
   "metadata": {},
   "source": [
    "## 3개의 컬럼 추가\n",
    "- 통계청 한국표준산업분류 코드 10차(대분류)\n",
    "- 자본금\n",
    "- 영업손익(이익)"
   ]
  },
  {
   "cell_type": "code",
   "execution_count": null,
   "metadata": {},
   "outputs": [
    {
     "data": {
      "text/html": [
       "<div>\n",
       "<style scoped>\n",
       "    .dataframe tbody tr th:only-of-type {\n",
       "        vertical-align: middle;\n",
       "    }\n",
       "\n",
       "    .dataframe tbody tr th {\n",
       "        vertical-align: top;\n",
       "    }\n",
       "\n",
       "    .dataframe thead th {\n",
       "        text-align: right;\n",
       "    }\n",
       "</style>\n",
       "<table border=\"1\" class=\"dataframe\">\n",
       "  <thead>\n",
       "    <tr style=\"text-align: right;\">\n",
       "      <th></th>\n",
       "      <th>회사명</th>\n",
       "      <th>통계청 한국표준산업분류 10차(대분류)</th>\n",
       "      <th>자본금(*)(IFRS연결)(천원)</th>\n",
       "      <th>회사명</th>\n",
       "      <th>거래소코드</th>\n",
       "      <th>회계년도</th>\n",
       "      <th>통계청 한국표준산업분류 코드 10차(대분류)</th>\n",
       "      <th>부채비율(IFRS연결)</th>\n",
       "      <th>당좌비율(IFRS)</th>\n",
       "      <th>유동비율(IFRS)</th>\n",
       "      <th>...</th>\n",
       "      <th>자산(*)(IFRS연결)(천원)</th>\n",
       "      <th>부채(*)(IFRS연결)(천원)</th>\n",
       "      <th>자본(*)(IFRS연결)(천원)</th>\n",
       "      <th>연구개발비(IFRS연결)(천원)</th>\n",
       "      <th>* (정상)영업손익(보고서기재)(IFRS연결)(천원)</th>\n",
       "      <th>PER(최고)(IFRS)</th>\n",
       "      <th>PER(최저)(IFRS)</th>\n",
       "      <th>PBR(최고)(IFRS)</th>\n",
       "      <th>PBR(최저)(IFRS)</th>\n",
       "      <th>감사의견코드</th>\n",
       "    </tr>\n",
       "  </thead>\n",
       "  <tbody>\n",
       "    <tr>\n",
       "      <th>0</th>\n",
       "      <td>(주)CMG제약</td>\n",
       "      <td>제조업</td>\n",
       "      <td>21846600.0</td>\n",
       "      <td>(주)CMG제약</td>\n",
       "      <td>58820</td>\n",
       "      <td>2011/12</td>\n",
       "      <td>21</td>\n",
       "      <td>51.41</td>\n",
       "      <td>164.32</td>\n",
       "      <td>200.32</td>\n",
       "      <td>...</td>\n",
       "      <td>27305198.0</td>\n",
       "      <td>9270949.0</td>\n",
       "      <td>18034249.0</td>\n",
       "      <td>23703.0</td>\n",
       "      <td>640283.0</td>\n",
       "      <td>0.00</td>\n",
       "      <td>0.00</td>\n",
       "      <td>3.31</td>\n",
       "      <td>1.11</td>\n",
       "      <td>UQ</td>\n",
       "    </tr>\n",
       "    <tr>\n",
       "      <th>1</th>\n",
       "      <td>(주)CMG제약</td>\n",
       "      <td>제조업</td>\n",
       "      <td>33012770.0</td>\n",
       "      <td>(주)CMG제약</td>\n",
       "      <td>58820</td>\n",
       "      <td>2012/12</td>\n",
       "      <td>21</td>\n",
       "      <td>80.77</td>\n",
       "      <td>661.93</td>\n",
       "      <td>706.26</td>\n",
       "      <td>...</td>\n",
       "      <td>57108035.0</td>\n",
       "      <td>25517350.0</td>\n",
       "      <td>31590685.0</td>\n",
       "      <td>120052.0</td>\n",
       "      <td>-4205503.0</td>\n",
       "      <td>0.00</td>\n",
       "      <td>0.00</td>\n",
       "      <td>4.33</td>\n",
       "      <td>0.78</td>\n",
       "      <td>UQ</td>\n",
       "    </tr>\n",
       "    <tr>\n",
       "      <th>2</th>\n",
       "      <td>(주)CMG제약</td>\n",
       "      <td>제조업</td>\n",
       "      <td>43313433.0</td>\n",
       "      <td>(주)CMG제약</td>\n",
       "      <td>58820</td>\n",
       "      <td>2013/12</td>\n",
       "      <td>21</td>\n",
       "      <td>14.11</td>\n",
       "      <td>611.84</td>\n",
       "      <td>695.84</td>\n",
       "      <td>...</td>\n",
       "      <td>55912563.0</td>\n",
       "      <td>6915281.0</td>\n",
       "      <td>48997281.0</td>\n",
       "      <td>134454.0</td>\n",
       "      <td>791250.0</td>\n",
       "      <td>529.70</td>\n",
       "      <td>220.41</td>\n",
       "      <td>4.16</td>\n",
       "      <td>1.73</td>\n",
       "      <td>UQ</td>\n",
       "    </tr>\n",
       "    <tr>\n",
       "      <th>3</th>\n",
       "      <td>(주)CMG제약</td>\n",
       "      <td>제조업</td>\n",
       "      <td>43313433.0</td>\n",
       "      <td>(주)CMG제약</td>\n",
       "      <td>58820</td>\n",
       "      <td>2014/12</td>\n",
       "      <td>21</td>\n",
       "      <td>18.50</td>\n",
       "      <td>269.08</td>\n",
       "      <td>325.47</td>\n",
       "      <td>...</td>\n",
       "      <td>58068326.0</td>\n",
       "      <td>9065682.0</td>\n",
       "      <td>49002644.0</td>\n",
       "      <td>116533.0</td>\n",
       "      <td>442322.0</td>\n",
       "      <td>848.58</td>\n",
       "      <td>443.48</td>\n",
       "      <td>3.75</td>\n",
       "      <td>1.96</td>\n",
       "      <td>UQ</td>\n",
       "    </tr>\n",
       "    <tr>\n",
       "      <th>4</th>\n",
       "      <td>(주)CMG제약</td>\n",
       "      <td>제조업</td>\n",
       "      <td>44148622.0</td>\n",
       "      <td>(주)CMG제약</td>\n",
       "      <td>58820</td>\n",
       "      <td>2015/12</td>\n",
       "      <td>21</td>\n",
       "      <td>20.78</td>\n",
       "      <td>236.06</td>\n",
       "      <td>297.75</td>\n",
       "      <td>...</td>\n",
       "      <td>56532821.0</td>\n",
       "      <td>9725933.0</td>\n",
       "      <td>46806888.0</td>\n",
       "      <td>831910.0</td>\n",
       "      <td>-2572168.0</td>\n",
       "      <td>0.00</td>\n",
       "      <td>0.00</td>\n",
       "      <td>9.56</td>\n",
       "      <td>2.27</td>\n",
       "      <td>UQ</td>\n",
       "    </tr>\n",
       "    <tr>\n",
       "      <th>...</th>\n",
       "      <td>...</td>\n",
       "      <td>...</td>\n",
       "      <td>...</td>\n",
       "      <td>...</td>\n",
       "      <td>...</td>\n",
       "      <td>...</td>\n",
       "      <td>...</td>\n",
       "      <td>...</td>\n",
       "      <td>...</td>\n",
       "      <td>...</td>\n",
       "      <td>...</td>\n",
       "      <td>...</td>\n",
       "      <td>...</td>\n",
       "      <td>...</td>\n",
       "      <td>...</td>\n",
       "      <td>...</td>\n",
       "      <td>...</td>\n",
       "      <td>...</td>\n",
       "      <td>...</td>\n",
       "      <td>...</td>\n",
       "      <td>...</td>\n",
       "    </tr>\n",
       "    <tr>\n",
       "      <th>24425</th>\n",
       "      <td>흥아해운(주)</td>\n",
       "      <td>운수 및 창고업</td>\n",
       "      <td>87821715.0</td>\n",
       "      <td>흥아해운(주)</td>\n",
       "      <td>3280</td>\n",
       "      <td>2018/12</td>\n",
       "      <td>50</td>\n",
       "      <td>998.73</td>\n",
       "      <td>26.79</td>\n",
       "      <td>32.76</td>\n",
       "      <td>...</td>\n",
       "      <td>803698457.0</td>\n",
       "      <td>730550282.0</td>\n",
       "      <td>73148175.0</td>\n",
       "      <td>0.0</td>\n",
       "      <td>-37595967.0</td>\n",
       "      <td>0.00</td>\n",
       "      <td>0.00</td>\n",
       "      <td>2.97</td>\n",
       "      <td>1.09</td>\n",
       "      <td>UQ</td>\n",
       "    </tr>\n",
       "    <tr>\n",
       "      <th>24426</th>\n",
       "      <td>흥아해운(주)</td>\n",
       "      <td>운수 및 창고업</td>\n",
       "      <td>56056196.0</td>\n",
       "      <td>흥아해운(주)</td>\n",
       "      <td>3280</td>\n",
       "      <td>2019/12</td>\n",
       "      <td>50</td>\n",
       "      <td>1293.83</td>\n",
       "      <td>30.12</td>\n",
       "      <td>34.36</td>\n",
       "      <td>...</td>\n",
       "      <td>430962722.0</td>\n",
       "      <td>400043339.0</td>\n",
       "      <td>30919383.0</td>\n",
       "      <td>0.0</td>\n",
       "      <td>-12364293.0</td>\n",
       "      <td>0.00</td>\n",
       "      <td>0.00</td>\n",
       "      <td>7.85</td>\n",
       "      <td>1.93</td>\n",
       "      <td>DU</td>\n",
       "    </tr>\n",
       "    <tr>\n",
       "      <th>24427</th>\n",
       "      <td>흥아해운(주)</td>\n",
       "      <td>운수 및 창고업</td>\n",
       "      <td>58366280.0</td>\n",
       "      <td>흥아해운(주)</td>\n",
       "      <td>3280</td>\n",
       "      <td>2020/12</td>\n",
       "      <td>50</td>\n",
       "      <td>0.00</td>\n",
       "      <td>29.94</td>\n",
       "      <td>35.11</td>\n",
       "      <td>...</td>\n",
       "      <td>286775958.0</td>\n",
       "      <td>313059823.0</td>\n",
       "      <td>-26283865.0</td>\n",
       "      <td>0.0</td>\n",
       "      <td>-5797543.0</td>\n",
       "      <td>0.00</td>\n",
       "      <td>0.00</td>\n",
       "      <td>0.00</td>\n",
       "      <td>0.00</td>\n",
       "      <td>UQ</td>\n",
       "    </tr>\n",
       "    <tr>\n",
       "      <th>24428</th>\n",
       "      <td>흥아해운(주)</td>\n",
       "      <td>운수 및 창고업</td>\n",
       "      <td>120212450.0</td>\n",
       "      <td>흥아해운(주)</td>\n",
       "      <td>3280</td>\n",
       "      <td>2021/12</td>\n",
       "      <td>50</td>\n",
       "      <td>140.24</td>\n",
       "      <td>174.83</td>\n",
       "      <td>200.29</td>\n",
       "      <td>...</td>\n",
       "      <td>247298683.0</td>\n",
       "      <td>144358895.0</td>\n",
       "      <td>102939788.0</td>\n",
       "      <td>0.0</td>\n",
       "      <td>-1874689.0</td>\n",
       "      <td>84.63</td>\n",
       "      <td>2.95</td>\n",
       "      <td>12.35</td>\n",
       "      <td>0.43</td>\n",
       "      <td>UQ</td>\n",
       "    </tr>\n",
       "    <tr>\n",
       "      <th>24429</th>\n",
       "      <td>흥아해운(주)</td>\n",
       "      <td>운수 및 창고업</td>\n",
       "      <td>120212450.0</td>\n",
       "      <td>흥아해운(주)</td>\n",
       "      <td>3280</td>\n",
       "      <td>2022/12</td>\n",
       "      <td>50</td>\n",
       "      <td>134.33</td>\n",
       "      <td>130.73</td>\n",
       "      <td>149.00</td>\n",
       "      <td>...</td>\n",
       "      <td>317059937.0</td>\n",
       "      <td>181755200.0</td>\n",
       "      <td>135304736.0</td>\n",
       "      <td>0.0</td>\n",
       "      <td>29679322.0</td>\n",
       "      <td>66.22</td>\n",
       "      <td>20.78</td>\n",
       "      <td>7.21</td>\n",
       "      <td>2.26</td>\n",
       "      <td>UQ</td>\n",
       "    </tr>\n",
       "  </tbody>\n",
       "</table>\n",
       "<p>24430 rows × 58 columns</p>\n",
       "</div>"
      ],
      "text/plain": [
       "            회사명 통계청 한국표준산업분류 10차(대분류)  자본금(*)(IFRS연결)(천원)       회사명  거래소코드   \n",
       "0      (주)CMG제약                   제조업          21846600.0  (주)CMG제약  58820  \\\n",
       "1      (주)CMG제약                   제조업          33012770.0  (주)CMG제약  58820   \n",
       "2      (주)CMG제약                   제조업          43313433.0  (주)CMG제약  58820   \n",
       "3      (주)CMG제약                   제조업          43313433.0  (주)CMG제약  58820   \n",
       "4      (주)CMG제약                   제조업          44148622.0  (주)CMG제약  58820   \n",
       "...         ...                   ...                 ...       ...    ...   \n",
       "24425   흥아해운(주)              운수 및 창고업          87821715.0   흥아해운(주)   3280   \n",
       "24426   흥아해운(주)              운수 및 창고업          56056196.0   흥아해운(주)   3280   \n",
       "24427   흥아해운(주)              운수 및 창고업          58366280.0   흥아해운(주)   3280   \n",
       "24428   흥아해운(주)              운수 및 창고업         120212450.0   흥아해운(주)   3280   \n",
       "24429   흥아해운(주)              운수 및 창고업         120212450.0   흥아해운(주)   3280   \n",
       "\n",
       "          회계년도  통계청 한국표준산업분류 코드 10차(대분류)  부채비율(IFRS연결)  당좌비율(IFRS)   \n",
       "0      2011/12                        21         51.41      164.32  \\\n",
       "1      2012/12                        21         80.77      661.93   \n",
       "2      2013/12                        21         14.11      611.84   \n",
       "3      2014/12                        21         18.50      269.08   \n",
       "4      2015/12                        21         20.78      236.06   \n",
       "...        ...                       ...           ...         ...   \n",
       "24425  2018/12                        50        998.73       26.79   \n",
       "24426  2019/12                        50       1293.83       30.12   \n",
       "24427  2020/12                        50          0.00       29.94   \n",
       "24428  2021/12                        50        140.24      174.83   \n",
       "24429  2022/12                        50        134.33      130.73   \n",
       "\n",
       "       유동비율(IFRS)  ...  자산(*)(IFRS연결)(천원)  부채(*)(IFRS연결)(천원)   \n",
       "0          200.32  ...         27305198.0          9270949.0  \\\n",
       "1          706.26  ...         57108035.0         25517350.0   \n",
       "2          695.84  ...         55912563.0          6915281.0   \n",
       "3          325.47  ...         58068326.0          9065682.0   \n",
       "4          297.75  ...         56532821.0          9725933.0   \n",
       "...           ...  ...                ...                ...   \n",
       "24425       32.76  ...        803698457.0        730550282.0   \n",
       "24426       34.36  ...        430962722.0        400043339.0   \n",
       "24427       35.11  ...        286775958.0        313059823.0   \n",
       "24428      200.29  ...        247298683.0        144358895.0   \n",
       "24429      149.00  ...        317059937.0        181755200.0   \n",
       "\n",
       "       자본(*)(IFRS연결)(천원)  연구개발비(IFRS연결)(천원)  * (정상)영업손익(보고서기재)(IFRS연결)(천원)   \n",
       "0             18034249.0            23703.0                       640283.0  \\\n",
       "1             31590685.0           120052.0                     -4205503.0   \n",
       "2             48997281.0           134454.0                       791250.0   \n",
       "3             49002644.0           116533.0                       442322.0   \n",
       "4             46806888.0           831910.0                     -2572168.0   \n",
       "...                  ...                ...                            ...   \n",
       "24425         73148175.0                0.0                    -37595967.0   \n",
       "24426         30919383.0                0.0                    -12364293.0   \n",
       "24427        -26283865.0                0.0                     -5797543.0   \n",
       "24428        102939788.0                0.0                     -1874689.0   \n",
       "24429        135304736.0                0.0                     29679322.0   \n",
       "\n",
       "       PER(최고)(IFRS)  PER(최저)(IFRS)  PBR(최고)(IFRS)  PBR(최저)(IFRS)  감사의견코드  \n",
       "0               0.00           0.00           3.31           1.11      UQ  \n",
       "1               0.00           0.00           4.33           0.78      UQ  \n",
       "2             529.70         220.41           4.16           1.73      UQ  \n",
       "3             848.58         443.48           3.75           1.96      UQ  \n",
       "4               0.00           0.00           9.56           2.27      UQ  \n",
       "...              ...            ...            ...            ...     ...  \n",
       "24425           0.00           0.00           2.97           1.09      UQ  \n",
       "24426           0.00           0.00           7.85           1.93      DU  \n",
       "24427           0.00           0.00           0.00           0.00      UQ  \n",
       "24428          84.63           2.95          12.35           0.43      UQ  \n",
       "24429          66.22          20.78           7.21           2.26      UQ  \n",
       "\n",
       "[24430 rows x 58 columns]"
      ]
     },
     "execution_count": 60,
     "metadata": {},
     "output_type": "execute_result"
    }
   ],
   "source": [
    "df_total"
   ]
  },
  {
   "cell_type": "code",
   "execution_count": null,
   "metadata": {},
   "outputs": [],
   "source": [
    "# df_total.to_csv('상장raw2.csv',index=False,encoding='euc-kr')"
   ]
  },
  {
   "cell_type": "code",
   "execution_count": null,
   "metadata": {},
   "outputs": [],
   "source": []
  }
 ],
 "metadata": {
  "kernelspec": {
   "display_name": "Python 3",
   "language": "python",
   "name": "python3"
  },
  "language_info": {
   "codemirror_mode": {
    "name": "ipython",
    "version": 3
   },
   "file_extension": ".py",
   "mimetype": "text/x-python",
   "name": "python",
   "nbconvert_exporter": "python",
   "pygments_lexer": "ipython3",
   "version": "3.9.6"
  },
  "orig_nbformat": 4
 },
 "nbformat": 4,
 "nbformat_minor": 2
}
