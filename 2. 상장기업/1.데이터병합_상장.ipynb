{
 "cells": [
  {
   "cell_type": "code",
   "execution_count": 1,
   "metadata": {},
   "outputs": [],
   "source": [
    "import pandas as pd"
   ]
  },
  {
   "cell_type": "markdown",
   "metadata": {},
   "source": [
    "----\n",
    "# raw data 만들기\n",
    "* 로직\n",
    "    1.  감사의견 없는 연결, 개별, GAAP 합치기\n",
    "    \n",
    "        >  연결 -> 개별 -> GAAP 순으로 결측치 대체\n",
    "    2. 감사의견 있는 연결 파일의 감사의견 컬럼을 새로 만든 통합 데이터프레임에 입력"
   ]
  },
  {
   "cell_type": "code",
   "execution_count": 68,
   "metadata": {},
   "outputs": [],
   "source": [
    "# 데이터 로드\n",
    "data_1 = pd.read_csv('/Users/taewon/Documents/금융 빅데이터/Project_2/코딩/상장기업/원본/코스피_코스닥_연결.csv', encoding='cp949')\n",
    "data_2 = pd.read_csv('/Users/taewon/Documents/금융 빅데이터/Project_2/코딩/상장기업/원본/코스피_코스닥_개별.csv', encoding='cp949')\n",
    "data_3 = pd.read_csv('/Users/taewon/Documents/금융 빅데이터/Project_2/코딩/상장기업/원본/코스피_코스닥_gaap.csv', encoding='cp949')\n",
    "data_target = pd.read_csv('/Users/taewon/Documents/금융 빅데이터/Project_2/코딩/상장기업/원본/코스피_코스닥_타겟.csv', encoding='cp949')"
   ]
  },
  {
   "cell_type": "markdown",
   "metadata": {},
   "source": [
    "### 데이터 살펴보기"
   ]
  },
  {
   "cell_type": "markdown",
   "metadata": {},
   "source": [
    "- 데이터 수 : (24430, 54) + target ((24430, 6))개\n",
    "- 기업 수   : 2272개"
   ]
  },
  {
   "cell_type": "code",
   "execution_count": 69,
   "metadata": {},
   "outputs": [
    {
     "data": {
      "text/plain": [
       "2272"
      ]
     },
     "execution_count": 69,
     "metadata": {},
     "output_type": "execute_result"
    }
   ],
   "source": [
    "len(data_1['회사명'].unique())"
   ]
  },
  {
   "cell_type": "code",
   "execution_count": 70,
   "metadata": {},
   "outputs": [
    {
     "data": {
      "text/plain": [
       "(24430, 54)"
      ]
     },
     "execution_count": 70,
     "metadata": {},
     "output_type": "execute_result"
    }
   ],
   "source": [
    "data_1.shape"
   ]
  },
  {
   "cell_type": "code",
   "execution_count": 71,
   "metadata": {},
   "outputs": [
    {
     "data": {
      "text/plain": [
       "(24430, 54)"
      ]
     },
     "execution_count": 71,
     "metadata": {},
     "output_type": "execute_result"
    }
   ],
   "source": [
    "data_2.shape"
   ]
  },
  {
   "cell_type": "code",
   "execution_count": 72,
   "metadata": {},
   "outputs": [
    {
     "data": {
      "text/plain": [
       "(24430, 54)"
      ]
     },
     "execution_count": 72,
     "metadata": {},
     "output_type": "execute_result"
    }
   ],
   "source": [
    "data_3.shape "
   ]
  },
  {
   "cell_type": "code",
   "execution_count": 73,
   "metadata": {},
   "outputs": [
    {
     "data": {
      "text/plain": [
       "(24430, 6)"
      ]
     },
     "execution_count": 73,
     "metadata": {},
     "output_type": "execute_result"
    }
   ],
   "source": [
    "data_target.shape  "
   ]
  },
  {
   "cell_type": "code",
   "execution_count": 74,
   "metadata": {},
   "outputs": [],
   "source": [
    "# 컬럼명 저장\n",
    "col_list = data_1.columns.tolist()"
   ]
  },
  {
   "cell_type": "markdown",
   "metadata": {},
   "source": [
    "### 데이터 합치기 전 컬럼명 통일"
   ]
  },
  {
   "cell_type": "code",
   "execution_count": 75,
   "metadata": {},
   "outputs": [],
   "source": [
    "# 컬럼명 통일\n",
    "data_1.columns = [f\"X_{i}\" for i in range(1, 55)]\n",
    "data_2.columns = [f\"X_{i}\" for i in range(1, 55)]\n",
    "data_3.columns = [f\"X_{i}\" for i in range(1, 55)]"
   ]
  },
  {
   "cell_type": "code",
   "execution_count": 76,
   "metadata": {},
   "outputs": [],
   "source": [
    "# IFRS연결, IFRS개별 합치기\n",
    "raw_data_1 = data_1.fillna(data_2)"
   ]
  },
  {
   "cell_type": "code",
   "execution_count": 77,
   "metadata": {},
   "outputs": [],
   "source": [
    "# IFRS, GAAP 합치기\n",
    "raw_data_1 = raw_data_1.fillna(data_3)"
   ]
  },
  {
   "cell_type": "code",
   "execution_count": 78,
   "metadata": {},
   "outputs": [
    {
     "data": {
      "text/plain": [
       "X_1       0\n",
       "X_2       0\n",
       "X_3       0\n",
       "X_4       0\n",
       "X_5     721\n",
       "X_6     802\n",
       "X_7     802\n",
       "X_8     802\n",
       "X_9     255\n",
       "X_10    255\n",
       "X_11    721\n",
       "X_12    721\n",
       "X_13    255\n",
       "X_14    722\n",
       "X_15    722\n",
       "X_16    255\n",
       "X_17    255\n",
       "X_18    255\n",
       "X_19    802\n",
       "X_20    721\n",
       "X_21    721\n",
       "X_22    721\n",
       "X_23    255\n",
       "X_24    721\n",
       "X_25    721\n",
       "X_26    721\n",
       "X_27    721\n",
       "X_28    721\n",
       "X_29    721\n",
       "X_30    721\n",
       "X_31    721\n",
       "X_32    721\n",
       "X_33    721\n",
       "X_34    721\n",
       "X_35    721\n",
       "X_36    721\n",
       "X_37    721\n",
       "X_38    721\n",
       "X_39    722\n",
       "X_40    722\n",
       "X_41    722\n",
       "X_42    722\n",
       "X_43    722\n",
       "X_44    255\n",
       "X_45    255\n",
       "X_46    255\n",
       "X_47    255\n",
       "X_48    255\n",
       "X_49    255\n",
       "X_50    255\n",
       "X_51    805\n",
       "X_52    805\n",
       "X_53    805\n",
       "X_54    805\n",
       "dtype: int64"
      ]
     },
     "execution_count": 78,
     "metadata": {},
     "output_type": "execute_result"
    }
   ],
   "source": [
    "# 결측치 확인하기\n",
    "raw_data_1.isnull().sum()"
   ]
  },
  {
   "cell_type": "code",
   "execution_count": 79,
   "metadata": {},
   "outputs": [],
   "source": [
    "# 다시 원래 컬럼으로 정의하기\n",
    "raw_data_1.columns = col_list"
   ]
  },
  {
   "cell_type": "code",
   "execution_count": 80,
   "metadata": {},
   "outputs": [
    {
     "data": {
      "text/plain": [
       "(24430, 6)"
      ]
     },
     "execution_count": 80,
     "metadata": {},
     "output_type": "execute_result"
    }
   ],
   "source": [
    "data_target.shape"
   ]
  },
  {
   "cell_type": "code",
   "execution_count": 81,
   "metadata": {},
   "outputs": [
    {
     "data": {
      "text/plain": [
       "(24430, 54)"
      ]
     },
     "execution_count": 81,
     "metadata": {},
     "output_type": "execute_result"
    }
   ],
   "source": [
    "raw_data_1.shape"
   ]
  },
  {
   "cell_type": "markdown",
   "metadata": {},
   "source": [
    "---"
   ]
  },
  {
   "cell_type": "markdown",
   "metadata": {},
   "source": [
    "- 합치기 전 검증!!!"
   ]
  },
  {
   "cell_type": "code",
   "execution_count": 83,
   "metadata": {},
   "outputs": [
    {
     "data": {
      "text/plain": [
       "회사명\n",
       "True    24430\n",
       "Name: count, dtype: int64"
      ]
     },
     "execution_count": 83,
     "metadata": {},
     "output_type": "execute_result"
    }
   ],
   "source": [
    "(raw_data_1['회사명']==data_target['회사명']).value_counts()"
   ]
  },
  {
   "cell_type": "code",
   "execution_count": 84,
   "metadata": {},
   "outputs": [
    {
     "data": {
      "text/plain": [
       "회계년도\n",
       "True    24430\n",
       "Name: count, dtype: int64"
      ]
     },
     "execution_count": 84,
     "metadata": {},
     "output_type": "execute_result"
    }
   ],
   "source": [
    "(raw_data_1['회계년도']==data_target['회계년도']).value_counts()"
   ]
  },
  {
   "cell_type": "code",
   "execution_count": 85,
   "metadata": {},
   "outputs": [
    {
     "data": {
      "text/html": [
       "<div>\n",
       "<style scoped>\n",
       "    .dataframe tbody tr th:only-of-type {\n",
       "        vertical-align: middle;\n",
       "    }\n",
       "\n",
       "    .dataframe tbody tr th {\n",
       "        vertical-align: top;\n",
       "    }\n",
       "\n",
       "    .dataframe thead th {\n",
       "        text-align: right;\n",
       "    }\n",
       "</style>\n",
       "<table border=\"1\" class=\"dataframe\">\n",
       "  <thead>\n",
       "    <tr style=\"text-align: right;\">\n",
       "      <th></th>\n",
       "      <th>회사명</th>\n",
       "      <th>거래소코드</th>\n",
       "      <th>회계년도</th>\n",
       "      <th>통계청 한국표준산업분류 코드 10차(대분류)</th>\n",
       "      <th>부채비율(IFRS연결)</th>\n",
       "      <th>당좌비율(IFRS)</th>\n",
       "      <th>유동비율(IFRS)</th>\n",
       "      <th>이자보상배율(이자비용)(IFRS)</th>\n",
       "      <th>영업활동으로 인한 현금흐름(간접법)(*)(IFRS연결)(천원)</th>\n",
       "      <th>이자비용(IFRS연결)(천원)</th>\n",
       "      <th>...</th>\n",
       "      <th>자산(*)(IFRS연결)(천원)</th>\n",
       "      <th>부채(*)(IFRS연결)(천원)</th>\n",
       "      <th>자본(*)(IFRS연결)(천원)</th>\n",
       "      <th>연구개발비(IFRS연결)(천원)</th>\n",
       "      <th>* (정상)영업손익(보고서기재)(IFRS연결)(천원)</th>\n",
       "      <th>PER(최고)(IFRS)</th>\n",
       "      <th>PER(최저)(IFRS)</th>\n",
       "      <th>PBR(최고)(IFRS)</th>\n",
       "      <th>PBR(최저)(IFRS)</th>\n",
       "      <th>감사의견코드</th>\n",
       "    </tr>\n",
       "  </thead>\n",
       "  <tbody>\n",
       "    <tr>\n",
       "      <th>0</th>\n",
       "      <td>(주)CMG제약</td>\n",
       "      <td>58820</td>\n",
       "      <td>2011/12</td>\n",
       "      <td>21</td>\n",
       "      <td>51.41</td>\n",
       "      <td>164.32</td>\n",
       "      <td>200.32</td>\n",
       "      <td>3.94</td>\n",
       "      <td>-2560438.0</td>\n",
       "      <td>181404.0</td>\n",
       "      <td>...</td>\n",
       "      <td>27305198.0</td>\n",
       "      <td>9270949.0</td>\n",
       "      <td>18034249.0</td>\n",
       "      <td>23703.0</td>\n",
       "      <td>640283.0</td>\n",
       "      <td>0.00</td>\n",
       "      <td>0.00</td>\n",
       "      <td>3.31</td>\n",
       "      <td>1.11</td>\n",
       "      <td>UQ</td>\n",
       "    </tr>\n",
       "    <tr>\n",
       "      <th>1</th>\n",
       "      <td>(주)CMG제약</td>\n",
       "      <td>58820</td>\n",
       "      <td>2012/12</td>\n",
       "      <td>21</td>\n",
       "      <td>80.77</td>\n",
       "      <td>661.93</td>\n",
       "      <td>706.26</td>\n",
       "      <td>-7.45</td>\n",
       "      <td>-1572581.0</td>\n",
       "      <td>542880.0</td>\n",
       "      <td>...</td>\n",
       "      <td>57108035.0</td>\n",
       "      <td>25517350.0</td>\n",
       "      <td>31590685.0</td>\n",
       "      <td>120052.0</td>\n",
       "      <td>-4205503.0</td>\n",
       "      <td>0.00</td>\n",
       "      <td>0.00</td>\n",
       "      <td>4.33</td>\n",
       "      <td>0.78</td>\n",
       "      <td>UQ</td>\n",
       "    </tr>\n",
       "    <tr>\n",
       "      <th>2</th>\n",
       "      <td>(주)CMG제약</td>\n",
       "      <td>58820</td>\n",
       "      <td>2013/12</td>\n",
       "      <td>21</td>\n",
       "      <td>14.11</td>\n",
       "      <td>611.84</td>\n",
       "      <td>695.84</td>\n",
       "      <td>0.73</td>\n",
       "      <td>-3939013.0</td>\n",
       "      <td>1134104.0</td>\n",
       "      <td>...</td>\n",
       "      <td>55912563.0</td>\n",
       "      <td>6915281.0</td>\n",
       "      <td>48997281.0</td>\n",
       "      <td>134454.0</td>\n",
       "      <td>791250.0</td>\n",
       "      <td>529.70</td>\n",
       "      <td>220.41</td>\n",
       "      <td>4.16</td>\n",
       "      <td>1.73</td>\n",
       "      <td>UQ</td>\n",
       "    </tr>\n",
       "    <tr>\n",
       "      <th>3</th>\n",
       "      <td>(주)CMG제약</td>\n",
       "      <td>58820</td>\n",
       "      <td>2014/12</td>\n",
       "      <td>21</td>\n",
       "      <td>18.50</td>\n",
       "      <td>269.08</td>\n",
       "      <td>325.47</td>\n",
       "      <td>3.63</td>\n",
       "      <td>724893.0</td>\n",
       "      <td>122840.0</td>\n",
       "      <td>...</td>\n",
       "      <td>58068326.0</td>\n",
       "      <td>9065682.0</td>\n",
       "      <td>49002644.0</td>\n",
       "      <td>116533.0</td>\n",
       "      <td>442322.0</td>\n",
       "      <td>848.58</td>\n",
       "      <td>443.48</td>\n",
       "      <td>3.75</td>\n",
       "      <td>1.96</td>\n",
       "      <td>UQ</td>\n",
       "    </tr>\n",
       "    <tr>\n",
       "      <th>4</th>\n",
       "      <td>(주)CMG제약</td>\n",
       "      <td>58820</td>\n",
       "      <td>2015/12</td>\n",
       "      <td>21</td>\n",
       "      <td>20.78</td>\n",
       "      <td>236.06</td>\n",
       "      <td>297.75</td>\n",
       "      <td>-32.20</td>\n",
       "      <td>2410205.0</td>\n",
       "      <td>79830.0</td>\n",
       "      <td>...</td>\n",
       "      <td>56532821.0</td>\n",
       "      <td>9725933.0</td>\n",
       "      <td>46806888.0</td>\n",
       "      <td>831910.0</td>\n",
       "      <td>-2572168.0</td>\n",
       "      <td>0.00</td>\n",
       "      <td>0.00</td>\n",
       "      <td>9.56</td>\n",
       "      <td>2.27</td>\n",
       "      <td>UQ</td>\n",
       "    </tr>\n",
       "    <tr>\n",
       "      <th>...</th>\n",
       "      <td>...</td>\n",
       "      <td>...</td>\n",
       "      <td>...</td>\n",
       "      <td>...</td>\n",
       "      <td>...</td>\n",
       "      <td>...</td>\n",
       "      <td>...</td>\n",
       "      <td>...</td>\n",
       "      <td>...</td>\n",
       "      <td>...</td>\n",
       "      <td>...</td>\n",
       "      <td>...</td>\n",
       "      <td>...</td>\n",
       "      <td>...</td>\n",
       "      <td>...</td>\n",
       "      <td>...</td>\n",
       "      <td>...</td>\n",
       "      <td>...</td>\n",
       "      <td>...</td>\n",
       "      <td>...</td>\n",
       "      <td>...</td>\n",
       "    </tr>\n",
       "    <tr>\n",
       "      <th>24425</th>\n",
       "      <td>흥아해운(주)</td>\n",
       "      <td>3280</td>\n",
       "      <td>2018/12</td>\n",
       "      <td>50</td>\n",
       "      <td>998.73</td>\n",
       "      <td>26.79</td>\n",
       "      <td>32.76</td>\n",
       "      <td>-1.26</td>\n",
       "      <td>-33794586.0</td>\n",
       "      <td>32310603.0</td>\n",
       "      <td>...</td>\n",
       "      <td>803698457.0</td>\n",
       "      <td>730550282.0</td>\n",
       "      <td>73148175.0</td>\n",
       "      <td>0.0</td>\n",
       "      <td>-37595967.0</td>\n",
       "      <td>0.00</td>\n",
       "      <td>0.00</td>\n",
       "      <td>2.97</td>\n",
       "      <td>1.09</td>\n",
       "      <td>UQ</td>\n",
       "    </tr>\n",
       "    <tr>\n",
       "      <th>24426</th>\n",
       "      <td>흥아해운(주)</td>\n",
       "      <td>3280</td>\n",
       "      <td>2019/12</td>\n",
       "      <td>50</td>\n",
       "      <td>1293.83</td>\n",
       "      <td>30.12</td>\n",
       "      <td>34.36</td>\n",
       "      <td>-0.58</td>\n",
       "      <td>-12048291.0</td>\n",
       "      <td>22505539.0</td>\n",
       "      <td>...</td>\n",
       "      <td>430962722.0</td>\n",
       "      <td>400043339.0</td>\n",
       "      <td>30919383.0</td>\n",
       "      <td>0.0</td>\n",
       "      <td>-12364293.0</td>\n",
       "      <td>0.00</td>\n",
       "      <td>0.00</td>\n",
       "      <td>7.85</td>\n",
       "      <td>1.93</td>\n",
       "      <td>DU</td>\n",
       "    </tr>\n",
       "    <tr>\n",
       "      <th>24427</th>\n",
       "      <td>흥아해운(주)</td>\n",
       "      <td>3280</td>\n",
       "      <td>2020/12</td>\n",
       "      <td>50</td>\n",
       "      <td>0.00</td>\n",
       "      <td>29.94</td>\n",
       "      <td>35.11</td>\n",
       "      <td>-0.27</td>\n",
       "      <td>-3958237.0</td>\n",
       "      <td>15401087.0</td>\n",
       "      <td>...</td>\n",
       "      <td>286775958.0</td>\n",
       "      <td>313059823.0</td>\n",
       "      <td>-26283865.0</td>\n",
       "      <td>0.0</td>\n",
       "      <td>-5797543.0</td>\n",
       "      <td>0.00</td>\n",
       "      <td>0.00</td>\n",
       "      <td>0.00</td>\n",
       "      <td>0.00</td>\n",
       "      <td>UQ</td>\n",
       "    </tr>\n",
       "    <tr>\n",
       "      <th>24428</th>\n",
       "      <td>흥아해운(주)</td>\n",
       "      <td>3280</td>\n",
       "      <td>2021/12</td>\n",
       "      <td>50</td>\n",
       "      <td>140.24</td>\n",
       "      <td>174.83</td>\n",
       "      <td>200.29</td>\n",
       "      <td>-1.04</td>\n",
       "      <td>-2635682.0</td>\n",
       "      <td>1776666.0</td>\n",
       "      <td>...</td>\n",
       "      <td>247298683.0</td>\n",
       "      <td>144358895.0</td>\n",
       "      <td>102939788.0</td>\n",
       "      <td>0.0</td>\n",
       "      <td>-1874689.0</td>\n",
       "      <td>84.63</td>\n",
       "      <td>2.95</td>\n",
       "      <td>12.35</td>\n",
       "      <td>0.43</td>\n",
       "      <td>UQ</td>\n",
       "    </tr>\n",
       "    <tr>\n",
       "      <th>24429</th>\n",
       "      <td>흥아해운(주)</td>\n",
       "      <td>3280</td>\n",
       "      <td>2022/12</td>\n",
       "      <td>50</td>\n",
       "      <td>134.33</td>\n",
       "      <td>130.73</td>\n",
       "      <td>149.00</td>\n",
       "      <td>94.79</td>\n",
       "      <td>32737334.0</td>\n",
       "      <td>348416.0</td>\n",
       "      <td>...</td>\n",
       "      <td>317059937.0</td>\n",
       "      <td>181755200.0</td>\n",
       "      <td>135304736.0</td>\n",
       "      <td>0.0</td>\n",
       "      <td>29679322.0</td>\n",
       "      <td>66.22</td>\n",
       "      <td>20.78</td>\n",
       "      <td>7.21</td>\n",
       "      <td>2.26</td>\n",
       "      <td>UQ</td>\n",
       "    </tr>\n",
       "  </tbody>\n",
       "</table>\n",
       "<p>24430 rows × 55 columns</p>\n",
       "</div>"
      ],
      "text/plain": [
       "            회사명  거래소코드     회계년도  통계청 한국표준산업분류 코드 10차(대분류)  부채비율(IFRS연결)   \n",
       "0      (주)CMG제약  58820  2011/12                        21         51.41  \\\n",
       "1      (주)CMG제약  58820  2012/12                        21         80.77   \n",
       "2      (주)CMG제약  58820  2013/12                        21         14.11   \n",
       "3      (주)CMG제약  58820  2014/12                        21         18.50   \n",
       "4      (주)CMG제약  58820  2015/12                        21         20.78   \n",
       "...         ...    ...      ...                       ...           ...   \n",
       "24425   흥아해운(주)   3280  2018/12                        50        998.73   \n",
       "24426   흥아해운(주)   3280  2019/12                        50       1293.83   \n",
       "24427   흥아해운(주)   3280  2020/12                        50          0.00   \n",
       "24428   흥아해운(주)   3280  2021/12                        50        140.24   \n",
       "24429   흥아해운(주)   3280  2022/12                        50        134.33   \n",
       "\n",
       "       당좌비율(IFRS)  유동비율(IFRS)  이자보상배율(이자비용)(IFRS)   \n",
       "0          164.32      200.32                3.94  \\\n",
       "1          661.93      706.26               -7.45   \n",
       "2          611.84      695.84                0.73   \n",
       "3          269.08      325.47                3.63   \n",
       "4          236.06      297.75              -32.20   \n",
       "...           ...         ...                 ...   \n",
       "24425       26.79       32.76               -1.26   \n",
       "24426       30.12       34.36               -0.58   \n",
       "24427       29.94       35.11               -0.27   \n",
       "24428      174.83      200.29               -1.04   \n",
       "24429      130.73      149.00               94.79   \n",
       "\n",
       "       영업활동으로 인한 현금흐름(간접법)(*)(IFRS연결)(천원)  이자비용(IFRS연결)(천원)  ...   \n",
       "0                              -2560438.0          181404.0  ...  \\\n",
       "1                              -1572581.0          542880.0  ...   \n",
       "2                              -3939013.0         1134104.0  ...   \n",
       "3                                724893.0          122840.0  ...   \n",
       "4                               2410205.0           79830.0  ...   \n",
       "...                                   ...               ...  ...   \n",
       "24425                         -33794586.0        32310603.0  ...   \n",
       "24426                         -12048291.0        22505539.0  ...   \n",
       "24427                          -3958237.0        15401087.0  ...   \n",
       "24428                          -2635682.0         1776666.0  ...   \n",
       "24429                          32737334.0          348416.0  ...   \n",
       "\n",
       "       자산(*)(IFRS연결)(천원)  부채(*)(IFRS연결)(천원)  자본(*)(IFRS연결)(천원)   \n",
       "0             27305198.0          9270949.0         18034249.0  \\\n",
       "1             57108035.0         25517350.0         31590685.0   \n",
       "2             55912563.0          6915281.0         48997281.0   \n",
       "3             58068326.0          9065682.0         49002644.0   \n",
       "4             56532821.0          9725933.0         46806888.0   \n",
       "...                  ...                ...                ...   \n",
       "24425        803698457.0        730550282.0         73148175.0   \n",
       "24426        430962722.0        400043339.0         30919383.0   \n",
       "24427        286775958.0        313059823.0        -26283865.0   \n",
       "24428        247298683.0        144358895.0        102939788.0   \n",
       "24429        317059937.0        181755200.0        135304736.0   \n",
       "\n",
       "       연구개발비(IFRS연결)(천원)  * (정상)영업손익(보고서기재)(IFRS연결)(천원)  PER(최고)(IFRS)   \n",
       "0                23703.0                       640283.0           0.00  \\\n",
       "1               120052.0                     -4205503.0           0.00   \n",
       "2               134454.0                       791250.0         529.70   \n",
       "3               116533.0                       442322.0         848.58   \n",
       "4               831910.0                     -2572168.0           0.00   \n",
       "...                  ...                            ...            ...   \n",
       "24425                0.0                    -37595967.0           0.00   \n",
       "24426                0.0                    -12364293.0           0.00   \n",
       "24427                0.0                     -5797543.0           0.00   \n",
       "24428                0.0                     -1874689.0          84.63   \n",
       "24429                0.0                     29679322.0          66.22   \n",
       "\n",
       "       PER(최저)(IFRS)  PBR(최고)(IFRS)  PBR(최저)(IFRS)  감사의견코드  \n",
       "0               0.00           3.31           1.11      UQ  \n",
       "1               0.00           4.33           0.78      UQ  \n",
       "2             220.41           4.16           1.73      UQ  \n",
       "3             443.48           3.75           1.96      UQ  \n",
       "4               0.00           9.56           2.27      UQ  \n",
       "...              ...            ...            ...     ...  \n",
       "24425           0.00           2.97           1.09      UQ  \n",
       "24426           0.00           7.85           1.93      DU  \n",
       "24427           0.00           0.00           0.00      UQ  \n",
       "24428           2.95          12.35           0.43      UQ  \n",
       "24429          20.78           7.21           2.26      UQ  \n",
       "\n",
       "[24430 rows x 55 columns]"
      ]
     },
     "execution_count": 85,
     "metadata": {},
     "output_type": "execute_result"
    }
   ],
   "source": [
    "raw_data_2=pd.concat([raw_data_1,data_target.iloc[:,-1]],axis=1)\n",
    "raw_data_2"
   ]
  },
  {
   "cell_type": "markdown",
   "metadata": {},
   "source": [
    "---"
   ]
  },
  {
   "cell_type": "code",
   "execution_count": 2,
   "metadata": {},
   "outputs": [],
   "source": [
    "df = pd.read_csv('/Users/taewon/Documents/금융 빅데이터/Project_2/코딩/상장기업/상장raw2.csv', encoding='euc-kr')"
   ]
  },
  {
   "cell_type": "code",
   "execution_count": 3,
   "metadata": {},
   "outputs": [],
   "source": [
    "df['거래소코드'] = df['거래소코드'].astype(str).str.zfill(6)"
   ]
  },
  {
   "cell_type": "code",
   "execution_count": 4,
   "metadata": {},
   "outputs": [],
   "source": [
    "df['Year']= df['회계년도'].replace('/','').astype(str).str[:4].astype(int)"
   ]
  },
  {
   "cell_type": "code",
   "execution_count": 5,
   "metadata": {},
   "outputs": [],
   "source": [
    "df2013 = pd.read_csv('/Users/taewon/Documents/금융 빅데이터/Project_2/코딩/상장기업/시가총액/2013_4.csv', encoding='cp949')\n",
    "df2014 = pd.read_csv('/Users/taewon/Documents/금융 빅데이터/Project_2/코딩/상장기업/시가총액/2014_4.csv', encoding='cp949')\n",
    "df2015 = pd.read_csv('/Users/taewon/Documents/금융 빅데이터/Project_2/코딩/상장기업/시가총액/2015_4.csv', encoding='cp949')\n",
    "df2016 = pd.read_csv('/Users/taewon/Documents/금융 빅데이터/Project_2/코딩/상장기업/시가총액/2016_4.csv', encoding='cp949')\n",
    "df2017 = pd.read_csv('/Users/taewon/Documents/금융 빅데이터/Project_2/코딩/상장기업/시가총액/2017_4.csv', encoding='cp949')\n",
    "df2018 = pd.read_csv('/Users/taewon/Documents/금융 빅데이터/Project_2/코딩/상장기업/시가총액/2018_4.csv', encoding='cp949')\n",
    "df2019 = pd.read_csv('/Users/taewon/Documents/금융 빅데이터/Project_2/코딩/상장기업/시가총액/2019_4.csv', encoding='cp949')\n",
    "df2020 = pd.read_csv('/Users/taewon/Documents/금융 빅데이터/Project_2/코딩/상장기업/시가총액/2020_4.csv', encoding='cp949')\n",
    "df2021 = pd.read_csv('/Users/taewon/Documents/금융 빅데이터/Project_2/코딩/상장기업/시가총액/2021_4.csv', encoding='cp949')\n",
    "df2022 = pd.read_csv('/Users/taewon/Documents/금융 빅데이터/Project_2/코딩/상장기업/시가총액/2022_4.csv', encoding='cp949')"
   ]
  },
  {
   "cell_type": "code",
   "execution_count": 6,
   "metadata": {},
   "outputs": [],
   "source": [
    "df2013 = df2013.sort_values(by='시가총액', ascending=False).head(100)\n",
    "df2014 = df2014.sort_values(by='시가총액', ascending=False).head(100)\n",
    "df2015 = df2015.sort_values(by='시가총액', ascending=False).head(100)\n",
    "df2016 = df2016.sort_values(by='시가총액', ascending=False).head(100)\n",
    "df2017 = df2017.sort_values(by='시가총액', ascending=False).head(100)\n",
    "df2018 = df2018.sort_values(by='시가총액', ascending=False).head(100)\n",
    "df2019 = df2019.sort_values(by='시가총액', ascending=False).head(100)\n",
    "df2020 = df2020.sort_values(by='시가총액', ascending=False).head(100)\n",
    "df2021 = df2021.sort_values(by='시가총액', ascending=False).head(100)\n",
    "df2022 = df2022.sort_values(by='시가총액', ascending=False).head(100)"
   ]
  },
  {
   "cell_type": "code",
   "execution_count": 7,
   "metadata": {},
   "outputs": [],
   "source": [
    "list_2013 = df2013['종목코드'].tolist()\n",
    "list_2014 = df2014['종목코드'].tolist()\n",
    "list_2015 = df2015['종목코드'].tolist()\n",
    "list_2016 = df2016['종목코드'].tolist()\n",
    "list_2017 = df2017['종목코드'].tolist()\n",
    "list_2018 = df2018['종목코드'].tolist()\n",
    "list_2019 = df2019['종목코드'].tolist()\n",
    "list_2020 = df2020['종목코드'].tolist()\n",
    "list_2021 = df2021['종목코드'].tolist()\n",
    "list_2022 = df2022['종목코드'].tolist()"
   ]
  },
  {
   "cell_type": "code",
   "execution_count": 8,
   "metadata": {},
   "outputs": [],
   "source": [
    "for year, lst in zip(range(2013, 2023), [list_2013, list_2014, list_2015, list_2016, list_2017, list_2018, list_2019, list_2020, list_2021, list_2022]):\n",
    "    df = df[~((df['Year'] == year) & (df['거래소코드'].isin(lst)))]"
   ]
  }
 ],
 "metadata": {
  "kernelspec": {
   "display_name": "Python 3",
   "language": "python",
   "name": "python3"
  },
  "language_info": {
   "codemirror_mode": {
    "name": "ipython",
    "version": 3
   },
   "file_extension": ".py",
   "mimetype": "text/x-python",
   "name": "python",
   "nbconvert_exporter": "python",
   "pygments_lexer": "ipython3",
   "version": "3.9.6"
  },
  "orig_nbformat": 4
 },
 "nbformat": 4,
 "nbformat_minor": 2
}
