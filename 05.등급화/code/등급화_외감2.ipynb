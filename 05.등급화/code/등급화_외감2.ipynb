{
 "cells": [
  {
   "cell_type": "code",
   "execution_count": 9,
   "metadata": {},
   "outputs": [],
   "source": [
    "import pandas as pd\n",
    "import numpy as np"
   ]
  },
  {
   "cell_type": "code",
   "execution_count": 10,
   "metadata": {},
   "outputs": [],
   "source": [
    "df_외감=pd.read_excel('./Dataset/외감_dp(등급).xls')\n",
    "df_외감.columns = ['KIS','Stock','회사명','신용평점']"
   ]
  },
  {
   "cell_type": "code",
   "execution_count": 11,
   "metadata": {},
   "outputs": [
    {
     "name": "stderr",
     "output_type": "stream",
     "text": [
      "c:\\Users\\dgh06\\AppData\\Local\\Programs\\Python\\Python310\\lib\\site-packages\\pandas\\core\\arraylike.py:402: RuntimeWarning: divide by zero encountered in log\n",
      "  result = getattr(ufunc, method)(*inputs, **kwargs)\n"
     ]
    }
   ],
   "source": [
    "df=pd.read_csv('../외감기업/Dataset/외감raw3.csv',encoding='euc-kr')\n",
    "df['Year']= df['회계년도'].replace('/','').astype(str).str[:4].astype(int)\n",
    "df=df[df['Year']==2022]\n",
    "df['자산(*)(IFRS연결)(천원)'] = df['자산(*)(IFRS연결)(천원)'] * 1000\n",
    "df['log자산총계'] = np.log(df['자산(*)(IFRS연결)(천원)'])\n",
    "df['잉여현금흐름(FCF)']=df['영업활동으로 인한 현금흐름(간접법)(*)(IFRS연결)(천원)']-df['투자활동으로 인한 현금흐름(*)(IFRS연결)(천원)']\n",
    "df['전체현금흐름(천원)']=df['영업활동으로 인한 현금흐름(간접법)(*)(IFRS연결)(천원)']+df['투자활동으로 인한 현금흐름(*)(IFRS연결)(천원)']+df['재무활동으로 인한 현금흐름(*)(IFRS연결)(천원)']\n",
    "df['총자산대비잉여현금흐름'] = df['잉여현금흐름(FCF)']/df['자산(*)(IFRS연결)(천원)']\n",
    "df['총자산대비현금흐름'] = df['전체현금흐름(천원)'] / df['자산(*)(IFRS연결)(천원)']\n",
    "df=df[['회사명', '거래소코드','유동자산회전률', '총자산대비잉여현금흐름','자기자본구성비율', 'log자산총계','자기자본회전률', '순운전자본회전률', '자기자본증가율', '총자본증가율', '총자산대비현금흐름', '총자본투자효율']]"
   ]
  },
  {
   "cell_type": "code",
   "execution_count": 12,
   "metadata": {},
   "outputs": [],
   "source": [
    "df_등급화=pd.merge(df,df_외감,how='inner',on='회사명')"
   ]
  },
  {
   "cell_type": "code",
   "execution_count": 13,
   "metadata": {},
   "outputs": [],
   "source": [
    "df_등급화['신용평점']=df_등급화['신용평점'].map({\n",
    "    'AAA' : 'AA',\n",
    "    'AA':'AA',\n",
    "    'A':'A',\n",
    "    'BBB':'BBB',\n",
    "    'BB':'BB',\n",
    "    'B':'B',\n",
    "    'CCC':'CCC',\n",
    "    'CC':'CC',\n",
    "    'C': 'D',\n",
    "    'D':'D'\n",
    "\n",
    "})"
   ]
  },
  {
   "cell_type": "code",
   "execution_count": 14,
   "metadata": {},
   "outputs": [
    {
     "data": {
      "text/plain": [
       "회사명                0\n",
       "거래소코드              0\n",
       "유동자산회전률            3\n",
       "총자산대비잉여현금흐름        3\n",
       "자기자본구성비율           2\n",
       "log자산총계            2\n",
       "자기자본회전률            3\n",
       "순운전자본회전률           3\n",
       "자기자본증가율            2\n",
       "총자본증가율             2\n",
       "총자산대비현금흐름          3\n",
       "총자본투자효율            2\n",
       "KIS                0\n",
       "Stock          14540\n",
       "신용평점               0\n",
       "dtype: int64"
      ]
     },
     "execution_count": 14,
     "metadata": {},
     "output_type": "execute_result"
    }
   ],
   "source": [
    "df_등급화.isna().sum()"
   ]
  },
  {
   "cell_type": "code",
   "execution_count": 15,
   "metadata": {},
   "outputs": [],
   "source": [
    "df_등급화=df_등급화.dropna()\n",
    "df_등급화 = df_등급화[(df_등급화 != 0).all(axis=1)]\n",
    "df_등급화 = df_등급화.replace([np.inf, -np.inf], np.nan)  # inf 값을 NaN으로 대체\n",
    "df_등급화 = df_등급화.dropna()  # NaN이 있는 행 삭제"
   ]
  },
  {
   "cell_type": "code",
   "execution_count": 16,
   "metadata": {},
   "outputs": [],
   "source": [
    "import numpy as np\n",
    "\n",
    "# O-Score의 계수\n",
    "coefficients = {\n",
    "    '유동자산회전률':0.47765086,                    # 높아야 좋다\n",
    "    '총자산대비잉여현금흐름':0.53785436,            # 높아야 좋다\n",
    "    '자기자본구성비율':0.49360789,                  # 높아야 좋다\n",
    "    'log자산총계':0.94238478,                      # 높아야 좋다\n",
    "    '자기자본회전률':-0.08646556,                   # 높아야 좋다\n",
    "    '순운전자본회전률':-0.98107367,                 # 높아야 좋다\n",
    "    '자기자본증가율':0.19544705,                    # 높아야 좋다\n",
    "    '총자본증가율':0.44094258,                      # 높아야 좋다\n",
    "    '총자산대비현금흐름':-0.37036301,               # 높아야 좋다\n",
    "    '총자본투자효율':0.26458857,                    # 높아야 좋다\n",
    "\n",
    "    'constant': 0.90495308\n",
    "}\n",
    "\n",
    "# O-Score 계산\n",
    "df_등급화['dp_score'] = coefficients['constant']\n",
    "df_등급화['dp_score'] += coefficients['유동자산회전률'] * df_등급화['유동자산회전률']\n",
    "df_등급화['dp_score'] += coefficients['총자산대비잉여현금흐름'] * df_등급화['총자산대비잉여현금흐름']\n",
    "df_등급화['dp_score'] += coefficients['자기자본구성비율'] * df_등급화['자기자본구성비율']\n",
    "df_등급화['dp_score'] += coefficients['log자산총계'] * df_등급화['log자산총계']\n",
    "df_등급화['dp_score'] += coefficients['자기자본회전률'] * df_등급화['자기자본회전률']\n",
    "df_등급화['dp_score'] += coefficients['순운전자본회전률'] * df_등급화['순운전자본회전률']\n",
    "df_등급화['dp_score'] += coefficients['자기자본증가율'] * df_등급화['자기자본증가율']\n",
    "df_등급화['dp_score'] += coefficients['총자본증가율'] * df_등급화['총자본증가율']\n",
    "df_등급화['dp_score'] += coefficients['총자산대비현금흐름'] * df_등급화['총자산대비현금흐름']\n",
    "df_등급화['dp_score'] += coefficients['총자본투자효율'] * df_등급화['총자본투자효율']\n",
    "\n",
    "# 로지스틱 함수를 이용해 부도 확률 계산\n",
    "df_등급화['default_probability'] = 1 / (1 + np.exp(-df_등급화['dp_score']))"
   ]
  },
  {
   "cell_type": "code",
   "execution_count": 18,
   "metadata": {},
   "outputs": [],
   "source": [
    "lower_bound = df_등급화['dp_score'].quantile(0.01)\n",
    "upper_bound = df_등급화['dp_score'].quantile(0.99)\n",
    "df_등급화_filtered = df_등급화[(df_등급화['dp_score'] >= lower_bound) & (df_등급화['dp_score'] <= upper_bound)]\n"
   ]
  },
  {
   "cell_type": "code",
   "execution_count": 17,
   "metadata": {},
   "outputs": [
    {
     "data": {
      "text/html": [
       "<div>\n",
       "<style scoped>\n",
       "    .dataframe tbody tr th:only-of-type {\n",
       "        vertical-align: middle;\n",
       "    }\n",
       "\n",
       "    .dataframe tbody tr th {\n",
       "        vertical-align: top;\n",
       "    }\n",
       "\n",
       "    .dataframe thead tr th {\n",
       "        text-align: left;\n",
       "    }\n",
       "\n",
       "    .dataframe thead tr:last-of-type th {\n",
       "        text-align: right;\n",
       "    }\n",
       "</style>\n",
       "<table border=\"1\" class=\"dataframe\">\n",
       "  <thead>\n",
       "    <tr>\n",
       "      <th></th>\n",
       "      <th colspan=\"4\" halign=\"left\">dp_score</th>\n",
       "    </tr>\n",
       "    <tr>\n",
       "      <th></th>\n",
       "      <th>mean</th>\n",
       "      <th>&lt;lambda_0&gt;</th>\n",
       "      <th>&lt;lambda_1&gt;</th>\n",
       "      <th>&lt;lambda_2&gt;</th>\n",
       "    </tr>\n",
       "    <tr>\n",
       "      <th>신용평점</th>\n",
       "      <th></th>\n",
       "      <th></th>\n",
       "      <th></th>\n",
       "      <th></th>\n",
       "    </tr>\n",
       "  </thead>\n",
       "  <tbody>\n",
       "    <tr>\n",
       "      <th>A</th>\n",
       "      <td>66.789312</td>\n",
       "      <td>54.000230</td>\n",
       "      <td>67.836619</td>\n",
       "      <td>81.421737</td>\n",
       "    </tr>\n",
       "    <tr>\n",
       "      <th>AA</th>\n",
       "      <td>69.826705</td>\n",
       "      <td>66.610527</td>\n",
       "      <td>72.144788</td>\n",
       "      <td>78.929001</td>\n",
       "    </tr>\n",
       "    <tr>\n",
       "      <th>B</th>\n",
       "      <td>53.369724</td>\n",
       "      <td>44.491386</td>\n",
       "      <td>50.829527</td>\n",
       "      <td>62.240600</td>\n",
       "    </tr>\n",
       "    <tr>\n",
       "      <th>BB</th>\n",
       "      <td>66.110675</td>\n",
       "      <td>51.359222</td>\n",
       "      <td>60.893620</td>\n",
       "      <td>68.251813</td>\n",
       "    </tr>\n",
       "    <tr>\n",
       "      <th>BBB</th>\n",
       "      <td>62.453246</td>\n",
       "      <td>49.688593</td>\n",
       "      <td>59.825249</td>\n",
       "      <td>73.730508</td>\n",
       "    </tr>\n",
       "    <tr>\n",
       "      <th>CC</th>\n",
       "      <td>42.225740</td>\n",
       "      <td>25.388495</td>\n",
       "      <td>41.296266</td>\n",
       "      <td>53.304356</td>\n",
       "    </tr>\n",
       "    <tr>\n",
       "      <th>CCC</th>\n",
       "      <td>49.269174</td>\n",
       "      <td>35.486912</td>\n",
       "      <td>42.682812</td>\n",
       "      <td>59.758256</td>\n",
       "    </tr>\n",
       "    <tr>\n",
       "      <th>D</th>\n",
       "      <td>83.952231</td>\n",
       "      <td>24.550289</td>\n",
       "      <td>34.637690</td>\n",
       "      <td>94.039632</td>\n",
       "    </tr>\n",
       "  </tbody>\n",
       "</table>\n",
       "</div>"
      ],
      "text/plain": [
       "       dp_score                                 \n",
       "           mean <lambda_0> <lambda_1> <lambda_2>\n",
       "신용평점                                            \n",
       "A     66.789312  54.000230  67.836619  81.421737\n",
       "AA    69.826705  66.610527  72.144788  78.929001\n",
       "B     53.369724  44.491386  50.829527  62.240600\n",
       "BB    66.110675  51.359222  60.893620  68.251813\n",
       "BBB   62.453246  49.688593  59.825249  73.730508\n",
       "CC    42.225740  25.388495  41.296266  53.304356\n",
       "CCC   49.269174  35.486912  42.682812  59.758256\n",
       "D     83.952231  24.550289  34.637690  94.039632"
      ]
     },
     "execution_count": 17,
     "metadata": {},
     "output_type": "execute_result"
    }
   ],
   "source": [
    "df_등급화[['dp_score','신용평점']].groupby('신용평점').agg(['mean', lambda x: x.quantile(0.25), lambda x: x.quantile(0.5), lambda x: x.quantile(0.75)])"
   ]
  },
  {
   "cell_type": "code",
   "execution_count": 20,
   "metadata": {},
   "outputs": [
    {
     "data": {
      "text/html": [
       "<div>\n",
       "<style scoped>\n",
       "    .dataframe tbody tr th:only-of-type {\n",
       "        vertical-align: middle;\n",
       "    }\n",
       "\n",
       "    .dataframe tbody tr th {\n",
       "        vertical-align: top;\n",
       "    }\n",
       "\n",
       "    .dataframe thead th {\n",
       "        text-align: right;\n",
       "    }\n",
       "</style>\n",
       "<table border=\"1\" class=\"dataframe\">\n",
       "  <thead>\n",
       "    <tr style=\"text-align: right;\">\n",
       "      <th></th>\n",
       "      <th>dp_score</th>\n",
       "    </tr>\n",
       "    <tr>\n",
       "      <th>신용평점</th>\n",
       "      <th></th>\n",
       "    </tr>\n",
       "  </thead>\n",
       "  <tbody>\n",
       "    <tr>\n",
       "      <th>A</th>\n",
       "      <td>68.528125</td>\n",
       "    </tr>\n",
       "    <tr>\n",
       "      <th>AA</th>\n",
       "      <td>69.826705</td>\n",
       "    </tr>\n",
       "    <tr>\n",
       "      <th>B</th>\n",
       "      <td>53.369724</td>\n",
       "    </tr>\n",
       "    <tr>\n",
       "      <th>BB</th>\n",
       "      <td>59.750166</td>\n",
       "    </tr>\n",
       "    <tr>\n",
       "      <th>BBB</th>\n",
       "      <td>63.601743</td>\n",
       "    </tr>\n",
       "    <tr>\n",
       "      <th>CC</th>\n",
       "      <td>42.225740</td>\n",
       "    </tr>\n",
       "    <tr>\n",
       "      <th>CCC</th>\n",
       "      <td>49.269174</td>\n",
       "    </tr>\n",
       "    <tr>\n",
       "      <th>D</th>\n",
       "      <td>30.959408</td>\n",
       "    </tr>\n",
       "  </tbody>\n",
       "</table>\n",
       "</div>"
      ],
      "text/plain": [
       "       dp_score\n",
       "신용평점           \n",
       "A     68.528125\n",
       "AA    69.826705\n",
       "B     53.369724\n",
       "BB    59.750166\n",
       "BBB   63.601743\n",
       "CC    42.225740\n",
       "CCC   49.269174\n",
       "D     30.959408"
      ]
     },
     "execution_count": 20,
     "metadata": {},
     "output_type": "execute_result"
    }
   ],
   "source": [
    "df_등급화_filtered[['dp_score','신용평점']].groupby('신용평점').mean()"
   ]
  },
  {
   "cell_type": "code",
   "execution_count": null,
   "metadata": {},
   "outputs": [],
   "source": []
  }
 ],
 "metadata": {
  "kernelspec": {
   "display_name": "Python 3",
   "language": "python",
   "name": "python3"
  },
  "language_info": {
   "codemirror_mode": {
    "name": "ipython",
    "version": 3
   },
   "file_extension": ".py",
   "mimetype": "text/x-python",
   "name": "python",
   "nbconvert_exporter": "python",
   "pygments_lexer": "ipython3",
   "version": "3.10.9"
  },
  "orig_nbformat": 4
 },
 "nbformat": 4,
 "nbformat_minor": 2
}
