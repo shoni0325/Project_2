{
 "cells": [
  {
   "cell_type": "code",
   "execution_count": 13,
   "metadata": {},
   "outputs": [],
   "source": [
    "import pandas as pd\n",
    "import numpy as np"
   ]
  },
  {
   "cell_type": "markdown",
   "metadata": {},
   "source": [
    "---"
   ]
  },
  {
   "cell_type": "markdown",
   "metadata": {},
   "source": [
    "- df_외감 : 2022 신용등급\n",
    "- df : 우리가 가진 데이터 프레임"
   ]
  },
  {
   "cell_type": "code",
   "execution_count": 14,
   "metadata": {},
   "outputs": [],
   "source": [
    "df_외감=pd.read_excel('./Dataset/외감_dp(등급).xls')\n",
    "df_외감.columns = ['KIS','Stock','회사명','신용평점']"
   ]
  },
  {
   "cell_type": "code",
   "execution_count": 15,
   "metadata": {},
   "outputs": [
    {
     "name": "stderr",
     "output_type": "stream",
     "text": [
      "c:\\Users\\dgh06\\AppData\\Local\\Programs\\Python\\Python310\\lib\\site-packages\\pandas\\core\\arraylike.py:402: RuntimeWarning: divide by zero encountered in log\n",
      "  result = getattr(ufunc, method)(*inputs, **kwargs)\n"
     ]
    }
   ],
   "source": [
    "df=pd.read_csv('../외감기업/Dataset/외감raw3.csv',encoding='euc-kr')\n",
    "df['Year']= df['회계년도'].replace('/','').astype(str).str[:4].astype(int)\n",
    "df=df[df['Year']==2022]\n",
    "df['자산(*)(IFRS연결)(천원)'] = df['자산(*)(IFRS연결)(천원)'] * 1000\n",
    "df['log자산총계'] = np.log(df['자산(*)(IFRS연결)(천원)'])\n",
    "df['잉여현금흐름(FCF)']=df['영업활동으로 인한 현금흐름(간접법)(*)(IFRS연결)(천원)']-df['투자활동으로 인한 현금흐름(*)(IFRS연결)(천원)']\n",
    "df['전체현금흐름(천원)']=df['영업활동으로 인한 현금흐름(간접법)(*)(IFRS연결)(천원)']+df['투자활동으로 인한 현금흐름(*)(IFRS연결)(천원)']+df['재무활동으로 인한 현금흐름(*)(IFRS연결)(천원)']\n",
    "df['총자산대비잉여현금흐름'] = df['잉여현금흐름(FCF)']/df['자산(*)(IFRS연결)(천원)']\n",
    "df['총자산대비현금흐름'] = df['전체현금흐름(천원)'] / df['자산(*)(IFRS연결)(천원)']\n",
    "df=df[['회사명', '거래소코드','유동자산회전률', '총자산대비잉여현금흐름','자기자본구성비율', 'log자산총계','자기자본회전률', '순운전자본회전률', '자기자본증가율', '총자본증가율', '총자산대비현금흐름', '총자본투자효율']]"
   ]
  },
  {
   "cell_type": "code",
   "execution_count": 16,
   "metadata": {},
   "outputs": [],
   "source": [
    "# df.to_csv('등급화_외감.csv')"
   ]
  },
  {
   "cell_type": "markdown",
   "metadata": {},
   "source": [
    "---"
   ]
  },
  {
   "cell_type": "markdown",
   "metadata": {},
   "source": [
    "- df_등급화 : merge (회사명을 기준으로)"
   ]
  },
  {
   "cell_type": "code",
   "execution_count": 17,
   "metadata": {},
   "outputs": [],
   "source": [
    "df_등급화=pd.merge(df,df_외감,how='inner',on='회사명')"
   ]
  },
  {
   "cell_type": "code",
   "execution_count": 18,
   "metadata": {},
   "outputs": [
    {
     "data": {
      "text/plain": [
       "BBB    3732\n",
       "BB     2863\n",
       "B      2687\n",
       "A      2053\n",
       "CC     1563\n",
       "CCC     692\n",
       "C       554\n",
       "AA      406\n",
       "D       142\n",
       "AAA       1\n",
       "Name: 신용평점, dtype: int64"
      ]
     },
     "execution_count": 18,
     "metadata": {},
     "output_type": "execute_result"
    }
   ],
   "source": [
    "df_등급화['신용평점'].value_counts()"
   ]
  },
  {
   "cell_type": "code",
   "execution_count": 19,
   "metadata": {},
   "outputs": [
    {
     "data": {
      "text/plain": [
       "회사명                0\n",
       "거래소코드              0\n",
       "유동자산회전률            3\n",
       "총자산대비잉여현금흐름        3\n",
       "자기자본구성비율           2\n",
       "log자산총계            2\n",
       "자기자본회전률            3\n",
       "순운전자본회전률           3\n",
       "자기자본증가율            2\n",
       "총자본증가율             2\n",
       "총자산대비현금흐름          3\n",
       "총자본투자효율            2\n",
       "KIS                0\n",
       "Stock          14540\n",
       "신용평점               0\n",
       "dtype: int64"
      ]
     },
     "execution_count": 19,
     "metadata": {},
     "output_type": "execute_result"
    }
   ],
   "source": [
    "df_등급화.isna().sum()"
   ]
  },
  {
   "cell_type": "code",
   "execution_count": 20,
   "metadata": {},
   "outputs": [],
   "source": [
    "df_등급화=df_등급화.drop('Stock',axis=1)"
   ]
  },
  {
   "cell_type": "code",
   "execution_count": 21,
   "metadata": {},
   "outputs": [],
   "source": [
    "df_등급화=df_등급화.dropna()\n",
    "df_등급화 = df_등급화[(df_등급화 != 0).all(axis=1)]"
   ]
  },
  {
   "cell_type": "code",
   "execution_count": 22,
   "metadata": {},
   "outputs": [],
   "source": [
    "df_등급화 = df_등급화.replace([np.inf, -np.inf], np.nan)  # inf 값을 NaN으로 대체\n",
    "df_등급화 = df_등급화.dropna()  # NaN이 있는 행 삭제"
   ]
  },
  {
   "cell_type": "code",
   "execution_count": 23,
   "metadata": {},
   "outputs": [],
   "source": [
    "import numpy as np\n",
    "\n",
    "# O-Score의 계수\n",
    "coefficients = {\n",
    "    '유동자산회전률':0.47765086,\n",
    "    '총자산대비잉여현금흐름':0.53785436,\n",
    "    '자기자본구성비율':0.49360789,\n",
    "    'log자산총계':0.94238478,\n",
    "    '자기자본회전률':-0.08646556,\n",
    "    '순운전자본회전률':-0.98107367,\n",
    "    '자기자본증가율':0.19544705,\n",
    "    '총자본증가율':0.44094258,\n",
    "    '총자산대비현금흐름':-0.37036301,\n",
    "    '총자본투자효율':0.26458857,\n",
    "\n",
    "    'constant': 0.90495308\n",
    "}\n",
    "\n",
    "# O-Score 계산\n",
    "df_등급화['dp_score'] = coefficients['constant']\n",
    "df_등급화['dp_score'] += coefficients['유동자산회전률'] * df_등급화['유동자산회전률']\n",
    "df_등급화['dp_score'] += coefficients['총자산대비잉여현금흐름'] * df_등급화['총자산대비잉여현금흐름']\n",
    "df_등급화['dp_score'] += coefficients['자기자본구성비율'] * df_등급화['자기자본구성비율']\n",
    "df_등급화['dp_score'] += coefficients['log자산총계'] * df_등급화['log자산총계']\n",
    "df_등급화['dp_score'] += coefficients['자기자본회전률'] * df_등급화['자기자본회전률']\n",
    "df_등급화['dp_score'] += coefficients['순운전자본회전률'] * df_등급화['순운전자본회전률']\n",
    "df_등급화['dp_score'] += coefficients['자기자본증가율'] * df_등급화['자기자본증가율']\n",
    "df_등급화['dp_score'] += coefficients['총자본증가율'] * df_등급화['총자본증가율']\n",
    "df_등급화['dp_score'] += coefficients['총자산대비현금흐름'] * df_등급화['총자산대비현금흐름']\n",
    "df_등급화['dp_score'] += coefficients['총자본투자효율'] * df_등급화['총자본투자효율']\n",
    "\n",
    "# 로지스틱 함수를 이용해 부도 확률 계산\n",
    "df_등급화['default_probability'] = 1 / (1 + np.exp(-df_등급화['dp_score']))"
   ]
  },
  {
   "cell_type": "code",
   "execution_count": 24,
   "metadata": {},
   "outputs": [
    {
     "data": {
      "text/html": [
       "<div>\n",
       "<style scoped>\n",
       "    .dataframe tbody tr th:only-of-type {\n",
       "        vertical-align: middle;\n",
       "    }\n",
       "\n",
       "    .dataframe tbody tr th {\n",
       "        vertical-align: top;\n",
       "    }\n",
       "\n",
       "    .dataframe thead th {\n",
       "        text-align: right;\n",
       "    }\n",
       "</style>\n",
       "<table border=\"1\" class=\"dataframe\">\n",
       "  <thead>\n",
       "    <tr style=\"text-align: right;\">\n",
       "      <th></th>\n",
       "      <th>dp_score</th>\n",
       "    </tr>\n",
       "    <tr>\n",
       "      <th>신용평점</th>\n",
       "      <th></th>\n",
       "    </tr>\n",
       "  </thead>\n",
       "  <tbody>\n",
       "    <tr>\n",
       "      <th>A</th>\n",
       "      <td>76.479800</td>\n",
       "    </tr>\n",
       "    <tr>\n",
       "      <th>AA</th>\n",
       "      <td>77.900646</td>\n",
       "    </tr>\n",
       "    <tr>\n",
       "      <th>AAA</th>\n",
       "      <td>101.204536</td>\n",
       "    </tr>\n",
       "    <tr>\n",
       "      <th>B</th>\n",
       "      <td>59.562975</td>\n",
       "    </tr>\n",
       "    <tr>\n",
       "      <th>BB</th>\n",
       "      <td>57.882489</td>\n",
       "    </tr>\n",
       "    <tr>\n",
       "      <th>BBB</th>\n",
       "      <td>70.520457</td>\n",
       "    </tr>\n",
       "    <tr>\n",
       "      <th>C</th>\n",
       "      <td>49.292018</td>\n",
       "    </tr>\n",
       "    <tr>\n",
       "      <th>CC</th>\n",
       "      <td>54.179345</td>\n",
       "    </tr>\n",
       "    <tr>\n",
       "      <th>CCC</th>\n",
       "      <td>57.872817</td>\n",
       "    </tr>\n",
       "    <tr>\n",
       "      <th>D</th>\n",
       "      <td>34.929793</td>\n",
       "    </tr>\n",
       "  </tbody>\n",
       "</table>\n",
       "</div>"
      ],
      "text/plain": [
       "        dp_score\n",
       "신용평점            \n",
       "A      76.479800\n",
       "AA     77.900646\n",
       "AAA   101.204536\n",
       "B      59.562975\n",
       "BB     57.882489\n",
       "BBB    70.520457\n",
       "C      49.292018\n",
       "CC     54.179345\n",
       "CCC    57.872817\n",
       "D      34.929793"
      ]
     },
     "execution_count": 24,
     "metadata": {},
     "output_type": "execute_result"
    }
   ],
   "source": [
    "df_등급화[['dp_score','신용평점']].groupby('신용평점').mean()"
   ]
  },
  {
   "cell_type": "code",
   "execution_count": null,
   "metadata": {},
   "outputs": [],
   "source": []
  },
  {
   "cell_type": "code",
   "execution_count": null,
   "metadata": {},
   "outputs": [],
   "source": []
  }
 ],
 "metadata": {
  "kernelspec": {
   "display_name": "Python 3",
   "language": "python",
   "name": "python3"
  },
  "language_info": {
   "codemirror_mode": {
    "name": "ipython",
    "version": 3
   },
   "file_extension": ".py",
   "mimetype": "text/x-python",
   "name": "python",
   "nbconvert_exporter": "python",
   "pygments_lexer": "ipython3",
   "version": "3.10.9"
  },
  "orig_nbformat": 4
 },
 "nbformat": 4,
 "nbformat_minor": 2
}
