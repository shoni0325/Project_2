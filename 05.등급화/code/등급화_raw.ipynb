{
 "cells": [
  {
   "cell_type": "code",
   "execution_count": 1,
   "metadata": {},
   "outputs": [],
   "source": [
    "import pandas as pd\n",
    "import numpy as np\n",
    "import seaborn as sns\n",
    "import matplotlib.pyplot as plt\n",
    "from sklearn.preprocessing import MinMaxScaler\n",
    "# 그래프에서 한글 깨짐 방지\n",
    "import platform\n",
    "if platform.system() == \"Darwin\":          # MAC인 경우\n",
    "    plt.rc('font', family =\"AppleGothic\")\n",
    "else:\n",
    "    plt.rc('font',family='Malgun Gothic')\n",
    "\n",
    "#멧플로립에서 음수를 표시\n",
    "plt.rc('axes',unicode_minus=False)\n",
    "\n",
    "#워닝 메시지\n",
    "import warnings\n",
    "warnings.filterwarnings('ignore')"
   ]
  },
  {
   "cell_type": "code",
   "execution_count": 2,
   "metadata": {},
   "outputs": [],
   "source": [
    "df=pd.read_csv('../외감기업/raw_data/t-1_raw_외감.csv',encoding='euc-kr')"
   ]
  },
  {
   "cell_type": "code",
   "execution_count": 3,
   "metadata": {},
   "outputs": [
    {
     "data": {
      "text/plain": [
       "(188707, 55)"
      ]
     },
     "execution_count": 3,
     "metadata": {},
     "output_type": "execute_result"
    }
   ],
   "source": [
    "df.shape"
   ]
  },
  {
   "cell_type": "code",
   "execution_count": 18,
   "metadata": {},
   "outputs": [],
   "source": [
    "for i in df.index :\n",
    "    if (df.loc[i,'OCF(천원)'] < 0) & (df.loc[i,'ICF(천원)'] < 0) &(df.loc[i,'FCF(천원)'] > 0) :\n",
    "        df.loc[i,'기업수명주기'] = '도입기'\n",
    "    elif (df.loc[i,'OCF(천원)'] > 0) & (df.loc[i,'ICF(천원)'] < 0) &(df.loc[i,'FCF(천원)'] > 0) :\n",
    "        df.loc[i,'기업수명주기'] = '성장기'\n",
    "    elif (df.loc[i,'OCF(천원)'] > 0) & (df.loc[i,'ICF(천원)'] < 0) &(df.loc[i,'FCF(천원)'] < 0) :\n",
    "        df.loc[i,'기업수명주기'] = '성숙기'\n",
    "    elif (df.loc[i,'OCF(천원)'] < 0) & (df.loc[i,'ICF(천원)'] > 0):\n",
    "        df.loc[i,'기업수명주기'] = '쇠퇴기'\n",
    "    else :\n",
    "        df.loc[i,'기업수명주기'] = '수축기'"
   ]
  },
  {
   "cell_type": "code",
   "execution_count": 19,
   "metadata": {},
   "outputs": [],
   "source": [
    "df['자산총계(천원)'] = df['자산총계(천원)'] * 1000\n",
    "df['log자산총계'] = np.log(df['자산총계(천원)'])\n",
    "df['잉여현금흐름(FCF)']=df['OCF(천원)']-df['ICF(천원)']\n",
    "df['전체현금흐름(천원)']=df['OCF(천원)']+df['ICF(천원)']+df['FCF(천원)']\n",
    "\n",
    "df['총자산대비잉여현금흐름'] = df['잉여현금흐름(FCF)']/df['자산총계(천원)']\n",
    "df['총자산대비현금흐름'] = df['전체현금흐름(천원)'] / df['자산총계(천원)']\n",
    "df=df[['회사명', '거래소코드','유동자산회전률', '총자산대비잉여현금흐름','자기자본구성비율', 'log자산총계','자기자본회전률', '순운전자본회전률', '자기자본증가율', '총자본증가율', '총자산대비현금흐름', '총자본투자효율','기업수명주기','t-1감사의견코드']]"
   ]
  },
  {
   "cell_type": "markdown",
   "metadata": {},
   "source": [
    "---\n",
    "- 결측치, 무한대값 삭제"
   ]
  },
  {
   "cell_type": "code",
   "execution_count": 20,
   "metadata": {},
   "outputs": [],
   "source": [
    "df.isna().sum()\n",
    "df.dropna(axis=0,inplace=True)"
   ]
  },
  {
   "cell_type": "code",
   "execution_count": 21,
   "metadata": {},
   "outputs": [],
   "source": [
    "df.isin([np.inf,-np.inf]).sum()\n",
    "df = df.replace([np.inf, -np.inf], np.nan)  # inf 값을 NaN으로 대체\n",
    "df = df.dropna()  # NaN이 있는 행 삭제"
   ]
  },
  {
   "cell_type": "markdown",
   "metadata": {},
   "source": [
    "---"
   ]
  },
  {
   "cell_type": "code",
   "execution_count": 22,
   "metadata": {},
   "outputs": [
    {
     "data": {
      "text/html": [
       "<div>\n",
       "<style scoped>\n",
       "    .dataframe tbody tr th:only-of-type {\n",
       "        vertical-align: middle;\n",
       "    }\n",
       "\n",
       "    .dataframe tbody tr th {\n",
       "        vertical-align: top;\n",
       "    }\n",
       "\n",
       "    .dataframe thead th {\n",
       "        text-align: right;\n",
       "    }\n",
       "</style>\n",
       "<table border=\"1\" class=\"dataframe\">\n",
       "  <thead>\n",
       "    <tr style=\"text-align: right;\">\n",
       "      <th></th>\n",
       "      <th>거래소코드</th>\n",
       "      <th>유동자산회전률</th>\n",
       "      <th>총자산대비잉여현금흐름</th>\n",
       "      <th>자기자본구성비율</th>\n",
       "      <th>log자산총계</th>\n",
       "      <th>자기자본회전률</th>\n",
       "      <th>순운전자본회전률</th>\n",
       "      <th>자기자본증가율</th>\n",
       "      <th>총자본증가율</th>\n",
       "      <th>총자산대비현금흐름</th>\n",
       "      <th>총자본투자효율</th>\n",
       "      <th>t-1감사의견코드</th>\n",
       "    </tr>\n",
       "  </thead>\n",
       "  <tbody>\n",
       "    <tr>\n",
       "      <th>count</th>\n",
       "      <td>188632.000000</td>\n",
       "      <td>188632.000000</td>\n",
       "      <td>188632.000000</td>\n",
       "      <td>188632.000000</td>\n",
       "      <td>188632.000000</td>\n",
       "      <td>1.886320e+05</td>\n",
       "      <td>188632.000000</td>\n",
       "      <td>1.886320e+05</td>\n",
       "      <td>188632.000000</td>\n",
       "      <td>1.886320e+05</td>\n",
       "      <td>188632.000000</td>\n",
       "      <td>188632.000000</td>\n",
       "    </tr>\n",
       "    <tr>\n",
       "      <th>mean</th>\n",
       "      <td>57668.828921</td>\n",
       "      <td>7.222784</td>\n",
       "      <td>0.000188</td>\n",
       "      <td>38.189427</td>\n",
       "      <td>24.107570</td>\n",
       "      <td>2.545350e+01</td>\n",
       "      <td>1.836898</td>\n",
       "      <td>8.810251e+01</td>\n",
       "      <td>11.691526</td>\n",
       "      <td>1.006807e-05</td>\n",
       "      <td>22.918809</td>\n",
       "      <td>0.071430</td>\n",
       "    </tr>\n",
       "    <tr>\n",
       "      <th>std</th>\n",
       "      <td>25364.722797</td>\n",
       "      <td>1303.567886</td>\n",
       "      <td>0.035730</td>\n",
       "      <td>27.920730</td>\n",
       "      <td>1.047462</td>\n",
       "      <td>5.713013e+03</td>\n",
       "      <td>132.823897</td>\n",
       "      <td>1.039052e+04</td>\n",
       "      <td>1183.568960</td>\n",
       "      <td>1.077189e-04</td>\n",
       "      <td>2122.426734</td>\n",
       "      <td>0.257543</td>\n",
       "    </tr>\n",
       "    <tr>\n",
       "      <th>min</th>\n",
       "      <td>10000.000000</td>\n",
       "      <td>-886.600000</td>\n",
       "      <td>-0.013627</td>\n",
       "      <td>-22.870000</td>\n",
       "      <td>13.815511</td>\n",
       "      <td>-4.050000e+00</td>\n",
       "      <td>-7.110000</td>\n",
       "      <td>-1.299710e+03</td>\n",
       "      <td>-100.000000</td>\n",
       "      <td>-5.389148e-03</td>\n",
       "      <td>-680430.510000</td>\n",
       "      <td>0.000000</td>\n",
       "    </tr>\n",
       "    <tr>\n",
       "      <th>25%</th>\n",
       "      <td>41837.000000</td>\n",
       "      <td>0.990000</td>\n",
       "      <td>-0.000004</td>\n",
       "      <td>14.490000</td>\n",
       "      <td>23.405923</td>\n",
       "      <td>4.900000e-01</td>\n",
       "      <td>0.410000</td>\n",
       "      <td>0.000000e+00</td>\n",
       "      <td>-2.320000</td>\n",
       "      <td>-1.192663e-05</td>\n",
       "      <td>4.520000</td>\n",
       "      <td>0.000000</td>\n",
       "    </tr>\n",
       "    <tr>\n",
       "      <th>50%</th>\n",
       "      <td>59713.000000</td>\n",
       "      <td>2.120000</td>\n",
       "      <td>0.000077</td>\n",
       "      <td>34.910000</td>\n",
       "      <td>23.887455</td>\n",
       "      <td>1.840000e+00</td>\n",
       "      <td>1.030000</td>\n",
       "      <td>1.190000e+00</td>\n",
       "      <td>0.000000</td>\n",
       "      <td>9.464303e-07</td>\n",
       "      <td>11.490000</td>\n",
       "      <td>0.000000</td>\n",
       "    </tr>\n",
       "    <tr>\n",
       "      <th>75%</th>\n",
       "      <td>76679.000000</td>\n",
       "      <td>3.770000</td>\n",
       "      <td>0.000211</td>\n",
       "      <td>59.190000</td>\n",
       "      <td>24.605937</td>\n",
       "      <td>4.520000e+00</td>\n",
       "      <td>1.740000</td>\n",
       "      <td>1.199000e+01</td>\n",
       "      <td>10.230000</td>\n",
       "      <td>2.716033e-05</td>\n",
       "      <td>19.970000</td>\n",
       "      <td>0.000000</td>\n",
       "    </tr>\n",
       "    <tr>\n",
       "      <th>max</th>\n",
       "      <td>107278.000000</td>\n",
       "      <td>561521.620000</td>\n",
       "      <td>15.517038</td>\n",
       "      <td>106.700000</td>\n",
       "      <td>31.807494</td>\n",
       "      <td>2.404983e+06</td>\n",
       "      <td>57115.340000</td>\n",
       "      <td>3.182429e+06</td>\n",
       "      <td>513178.820000</td>\n",
       "      <td>2.498063e-03</td>\n",
       "      <td>345127.770000</td>\n",
       "      <td>1.000000</td>\n",
       "    </tr>\n",
       "  </tbody>\n",
       "</table>\n",
       "</div>"
      ],
      "text/plain": [
       "               거래소코드        유동자산회전률    총자산대비잉여현금흐름       자기자본구성비율  \\\n",
       "count  188632.000000  188632.000000  188632.000000  188632.000000   \n",
       "mean    57668.828921       7.222784       0.000188      38.189427   \n",
       "std     25364.722797    1303.567886       0.035730      27.920730   \n",
       "min     10000.000000    -886.600000      -0.013627     -22.870000   \n",
       "25%     41837.000000       0.990000      -0.000004      14.490000   \n",
       "50%     59713.000000       2.120000       0.000077      34.910000   \n",
       "75%     76679.000000       3.770000       0.000211      59.190000   \n",
       "max    107278.000000  561521.620000      15.517038     106.700000   \n",
       "\n",
       "             log자산총계       자기자본회전률       순운전자본회전률       자기자본증가율  \\\n",
       "count  188632.000000  1.886320e+05  188632.000000  1.886320e+05   \n",
       "mean       24.107570  2.545350e+01       1.836898  8.810251e+01   \n",
       "std         1.047462  5.713013e+03     132.823897  1.039052e+04   \n",
       "min        13.815511 -4.050000e+00      -7.110000 -1.299710e+03   \n",
       "25%        23.405923  4.900000e-01       0.410000  0.000000e+00   \n",
       "50%        23.887455  1.840000e+00       1.030000  1.190000e+00   \n",
       "75%        24.605937  4.520000e+00       1.740000  1.199000e+01   \n",
       "max        31.807494  2.404983e+06   57115.340000  3.182429e+06   \n",
       "\n",
       "              총자본증가율     총자산대비현금흐름        총자본투자효율      t-1감사의견코드  \n",
       "count  188632.000000  1.886320e+05  188632.000000  188632.000000  \n",
       "mean       11.691526  1.006807e-05      22.918809       0.071430  \n",
       "std      1183.568960  1.077189e-04    2122.426734       0.257543  \n",
       "min      -100.000000 -5.389148e-03 -680430.510000       0.000000  \n",
       "25%        -2.320000 -1.192663e-05       4.520000       0.000000  \n",
       "50%         0.000000  9.464303e-07      11.490000       0.000000  \n",
       "75%        10.230000  2.716033e-05      19.970000       0.000000  \n",
       "max    513178.820000  2.498063e-03  345127.770000       1.000000  "
      ]
     },
     "execution_count": 22,
     "metadata": {},
     "output_type": "execute_result"
    }
   ],
   "source": [
    "# std, Mean·Median\n",
    "df.describe()"
   ]
  },
  {
   "cell_type": "code",
   "execution_count": 23,
   "metadata": {},
   "outputs": [],
   "source": [
    "import numpy as np\n",
    "\n",
    "# 컬럼 이름\n",
    "column_name = '자기자본증가율'\n",
    "\n",
    "# 하위 1%, 상위 1% 값을 계산\n",
    "lower_bound = df[column_name].quantile(0.005)\n",
    "upper_bound = df[column_name].quantile(0.995)\n",
    "\n",
    "# 1% 미만 및 1% 초과 데이터 선택 후 삭제\n",
    "df = df[(df[column_name] >= lower_bound) & (df[column_name] <= upper_bound)]"
   ]
  },
  {
   "cell_type": "code",
   "execution_count": 24,
   "metadata": {},
   "outputs": [],
   "source": [
    "import numpy as np\n",
    "\n",
    "# 컬럼 이름\n",
    "column_name = '유동자산회전률'\n",
    "\n",
    "# 하위 1%, 상위 1% 값을 계산\n",
    "lower_bound = df[column_name].quantile(0.005)\n",
    "upper_bound = df[column_name].quantile(0.995)\n",
    "\n",
    "# 1% 미만 및 1% 초과 데이터 선택 후 삭제\n",
    "df = df[(df[column_name] >= lower_bound) & (df[column_name] <= upper_bound)]"
   ]
  },
  {
   "cell_type": "code",
   "execution_count": 25,
   "metadata": {},
   "outputs": [],
   "source": [
    "import numpy as np\n",
    "\n",
    "# 컬럼 이름\n",
    "column_name = '총자산대비현금흐름'\n",
    "\n",
    "# 하위 1%, 상위 1% 값을 계산\n",
    "lower_bound = df[column_name].quantile(0.005)\n",
    "upper_bound = df[column_name].quantile(0.995)\n",
    "\n",
    "# 1% 미만 및 1% 초과 데이터 선택 후 삭제\n",
    "df = df[(df[column_name] >= lower_bound) & (df[column_name] <= upper_bound)]"
   ]
  },
  {
   "cell_type": "markdown",
   "metadata": {},
   "source": [
    "---"
   ]
  },
  {
   "cell_type": "code",
   "execution_count": 26,
   "metadata": {},
   "outputs": [],
   "source": [
    "scaler=MinMaxScaler()\n",
    "df.iloc[:,2:12]=scaler.fit_transform(df.iloc[:,2:12])"
   ]
  },
  {
   "cell_type": "code",
   "execution_count": 27,
   "metadata": {},
   "outputs": [],
   "source": [
    "# dp-Score의 계수\n",
    "coefficients = {\n",
    "    '유동자산회전률':np.exp(0.47765086),                    # 높아야 좋다\n",
    "    '총자산대비잉여현금흐름':np.exp(0.53785436),            # 높아야 좋다\n",
    "    '자기자본구성비율':np.exp(0.49360789),                  # 높아야 좋다\n",
    "    'log자산총계':np.exp(0.94238478),                      # 높아야 좋다\n",
    "    '자기자본회전률':np.exp(-0.08646556),                   # 높아야 좋다\n",
    "    '순운전자본회전률':np.exp(-0.98107367),                 # 높아야 좋다\n",
    "    '자기자본증가율':np.exp(0.19544705),                    # 높아야 좋다\n",
    "    '총자본증가율':np.exp(0.44094258),                      # 높아야 좋다\n",
    "    '총자산대비현금흐름':np.exp(-0.37036301),               # 높아야 좋다\n",
    "    '총자본투자효율':np.exp(0.26458857),                    # 높아야 좋다\n",
    "\n",
    "    'constant': 0.90495308\n",
    "}\n",
    "\n",
    "\n",
    "# O-Score 계산\n",
    "df['dp_score'] = coefficients['constant']\n",
    "df['dp_score'] += coefficients['유동자산회전률'] * df['유동자산회전률']\n",
    "df['dp_score'] += coefficients['총자산대비잉여현금흐름'] * df['총자산대비잉여현금흐름']\n",
    "df['dp_score'] += coefficients['자기자본구성비율'] * df['자기자본구성비율']\n",
    "df['dp_score'] += coefficients['log자산총계'] * df['log자산총계']\n",
    "df['dp_score'] += coefficients['자기자본회전률'] * df['자기자본회전률']\n",
    "df['dp_score'] += coefficients['순운전자본회전률'] * df['순운전자본회전률']\n",
    "df['dp_score'] += coefficients['자기자본증가율'] * df['자기자본증가율']\n",
    "df['dp_score'] += coefficients['총자본증가율'] * df['총자본증가율']\n",
    "df['dp_score'] += coefficients['총자산대비현금흐름'] * df['총자산대비현금흐름']\n",
    "df['dp_score'] += coefficients['총자본투자효율'] * df['총자본투자효율']\n",
    "\n",
    "# 로지스틱 함수를 이용해 부도 확률 계산\n",
    "# df_등급화['default_probability'] = 1 / (1 + np.exp(-df_등급화['dp_score']))"
   ]
  },
  {
   "cell_type": "code",
   "execution_count": 28,
   "metadata": {},
   "outputs": [
    {
     "data": {
      "text/plain": [
       "(183887, 15)"
      ]
     },
     "execution_count": 28,
     "metadata": {},
     "output_type": "execute_result"
    }
   ],
   "source": [
    "df.shape"
   ]
  },
  {
   "cell_type": "code",
   "execution_count": 29,
   "metadata": {},
   "outputs": [
    {
     "data": {
      "text/html": [
       "<div>\n",
       "<style scoped>\n",
       "    .dataframe tbody tr th:only-of-type {\n",
       "        vertical-align: middle;\n",
       "    }\n",
       "\n",
       "    .dataframe tbody tr th {\n",
       "        vertical-align: top;\n",
       "    }\n",
       "\n",
       "    .dataframe thead th {\n",
       "        text-align: right;\n",
       "    }\n",
       "</style>\n",
       "<table border=\"1\" class=\"dataframe\">\n",
       "  <thead>\n",
       "    <tr style=\"text-align: right;\">\n",
       "      <th></th>\n",
       "      <th>거래소코드</th>\n",
       "      <th>유동자산회전률</th>\n",
       "      <th>총자산대비잉여현금흐름</th>\n",
       "      <th>자기자본구성비율</th>\n",
       "      <th>log자산총계</th>\n",
       "      <th>자기자본회전률</th>\n",
       "      <th>순운전자본회전률</th>\n",
       "      <th>자기자본증가율</th>\n",
       "      <th>총자본증가율</th>\n",
       "      <th>총자산대비현금흐름</th>\n",
       "      <th>총자본투자효율</th>\n",
       "      <th>t-1감사의견코드</th>\n",
       "      <th>dp_score</th>\n",
       "    </tr>\n",
       "  </thead>\n",
       "  <tbody>\n",
       "    <tr>\n",
       "      <th>count</th>\n",
       "      <td>183887.000000</td>\n",
       "      <td>183887.000000</td>\n",
       "      <td>183887.000000</td>\n",
       "      <td>183887.000000</td>\n",
       "      <td>183887.000000</td>\n",
       "      <td>1.838870e+05</td>\n",
       "      <td>183887.000000</td>\n",
       "      <td>183887.000000</td>\n",
       "      <td>183887.000000</td>\n",
       "      <td>183887.000000</td>\n",
       "      <td>183887.000000</td>\n",
       "      <td>183887.000000</td>\n",
       "      <td>183887.000000</td>\n",
       "    </tr>\n",
       "    <tr>\n",
       "      <th>mean</th>\n",
       "      <td>57339.767711</td>\n",
       "      <td>0.091181</td>\n",
       "      <td>0.000890</td>\n",
       "      <td>0.472503</td>\n",
       "      <td>0.567562</td>\n",
       "      <td>1.983453e-05</td>\n",
       "      <td>0.028046</td>\n",
       "      <td>0.094330</td>\n",
       "      <td>0.000217</td>\n",
       "      <td>0.464190</td>\n",
       "      <td>0.667033</td>\n",
       "      <td>0.071294</td>\n",
       "      <td>4.599117</td>\n",
       "    </tr>\n",
       "    <tr>\n",
       "      <th>std</th>\n",
       "      <td>25339.667481</td>\n",
       "      <td>0.104455</td>\n",
       "      <td>0.002330</td>\n",
       "      <td>0.214346</td>\n",
       "      <td>0.058517</td>\n",
       "      <td>2.403682e-03</td>\n",
       "      <td>0.031826</td>\n",
       "      <td>0.057020</td>\n",
       "      <td>0.002334</td>\n",
       "      <td>0.093139</td>\n",
       "      <td>0.001954</td>\n",
       "      <td>0.257316</td>\n",
       "      <td>0.436598</td>\n",
       "    </tr>\n",
       "    <tr>\n",
       "      <th>min</th>\n",
       "      <td>10000.000000</td>\n",
       "      <td>0.000000</td>\n",
       "      <td>0.000000</td>\n",
       "      <td>0.000000</td>\n",
       "      <td>0.000000</td>\n",
       "      <td>0.000000e+00</td>\n",
       "      <td>0.000000</td>\n",
       "      <td>0.000000</td>\n",
       "      <td>0.000000</td>\n",
       "      <td>0.000000</td>\n",
       "      <td>0.000000</td>\n",
       "      <td>0.000000</td>\n",
       "      <td>2.731496</td>\n",
       "    </tr>\n",
       "    <tr>\n",
       "      <th>25%</th>\n",
       "      <td>41619.000000</td>\n",
       "      <td>0.030385</td>\n",
       "      <td>0.000877</td>\n",
       "      <td>0.292274</td>\n",
       "      <td>0.527947</td>\n",
       "      <td>9.304649e-07</td>\n",
       "      <td>0.008651</td>\n",
       "      <td>0.081536</td>\n",
       "      <td>0.000190</td>\n",
       "      <td>0.437382</td>\n",
       "      <td>0.667017</td>\n",
       "      <td>0.000000</td>\n",
       "      <td>4.271086</td>\n",
       "    </tr>\n",
       "    <tr>\n",
       "      <th>50%</th>\n",
       "      <td>59356.000000</td>\n",
       "      <td>0.064079</td>\n",
       "      <td>0.000882</td>\n",
       "      <td>0.447789</td>\n",
       "      <td>0.555006</td>\n",
       "      <td>3.222166e-06</td>\n",
       "      <td>0.021215</td>\n",
       "      <td>0.082833</td>\n",
       "      <td>0.000195</td>\n",
       "      <td>0.452625</td>\n",
       "      <td>0.667024</td>\n",
       "      <td>0.000000</td>\n",
       "      <td>4.592531</td>\n",
       "    </tr>\n",
       "    <tr>\n",
       "      <th>75%</th>\n",
       "      <td>76334.500000</td>\n",
       "      <td>0.112816</td>\n",
       "      <td>0.000891</td>\n",
       "      <td>0.633403</td>\n",
       "      <td>0.595385</td>\n",
       "      <td>7.736644e-06</td>\n",
       "      <td>0.035839</td>\n",
       "      <td>0.093571</td>\n",
       "      <td>0.000215</td>\n",
       "      <td>0.483790</td>\n",
       "      <td>0.667032</td>\n",
       "      <td>0.000000</td>\n",
       "      <td>4.919107</td>\n",
       "    </tr>\n",
       "    <tr>\n",
       "      <th>max</th>\n",
       "      <td>107278.000000</td>\n",
       "      <td>1.000000</td>\n",
       "      <td>1.000000</td>\n",
       "      <td>1.000000</td>\n",
       "      <td>1.000000</td>\n",
       "      <td>1.000000e+00</td>\n",
       "      <td>1.000000</td>\n",
       "      <td>1.000000</td>\n",
       "      <td>1.000000</td>\n",
       "      <td>1.000000</td>\n",
       "      <td>1.000000</td>\n",
       "      <td>1.000000</td>\n",
       "      <td>7.470862</td>\n",
       "    </tr>\n",
       "  </tbody>\n",
       "</table>\n",
       "</div>"
      ],
      "text/plain": [
       "               거래소코드        유동자산회전률    총자산대비잉여현금흐름       자기자본구성비율  \\\n",
       "count  183887.000000  183887.000000  183887.000000  183887.000000   \n",
       "mean    57339.767711       0.091181       0.000890       0.472503   \n",
       "std     25339.667481       0.104455       0.002330       0.214346   \n",
       "min     10000.000000       0.000000       0.000000       0.000000   \n",
       "25%     41619.000000       0.030385       0.000877       0.292274   \n",
       "50%     59356.000000       0.064079       0.000882       0.447789   \n",
       "75%     76334.500000       0.112816       0.000891       0.633403   \n",
       "max    107278.000000       1.000000       1.000000       1.000000   \n",
       "\n",
       "             log자산총계       자기자본회전률       순운전자본회전률        자기자본증가율  \\\n",
       "count  183887.000000  1.838870e+05  183887.000000  183887.000000   \n",
       "mean        0.567562  1.983453e-05       0.028046       0.094330   \n",
       "std         0.058517  2.403682e-03       0.031826       0.057020   \n",
       "min         0.000000  0.000000e+00       0.000000       0.000000   \n",
       "25%         0.527947  9.304649e-07       0.008651       0.081536   \n",
       "50%         0.555006  3.222166e-06       0.021215       0.082833   \n",
       "75%         0.595385  7.736644e-06       0.035839       0.093571   \n",
       "max         1.000000  1.000000e+00       1.000000       1.000000   \n",
       "\n",
       "              총자본증가율      총자산대비현금흐름        총자본투자효율      t-1감사의견코드  \\\n",
       "count  183887.000000  183887.000000  183887.000000  183887.000000   \n",
       "mean        0.000217       0.464190       0.667033       0.071294   \n",
       "std         0.002334       0.093139       0.001954       0.257316   \n",
       "min         0.000000       0.000000       0.000000       0.000000   \n",
       "25%         0.000190       0.437382       0.667017       0.000000   \n",
       "50%         0.000195       0.452625       0.667024       0.000000   \n",
       "75%         0.000215       0.483790       0.667032       0.000000   \n",
       "max         1.000000       1.000000       1.000000       1.000000   \n",
       "\n",
       "            dp_score  \n",
       "count  183887.000000  \n",
       "mean        4.599117  \n",
       "std         0.436598  \n",
       "min         2.731496  \n",
       "25%         4.271086  \n",
       "50%         4.592531  \n",
       "75%         4.919107  \n",
       "max         7.470862  "
      ]
     },
     "execution_count": 29,
     "metadata": {},
     "output_type": "execute_result"
    }
   ],
   "source": [
    "df.describe()"
   ]
  },
  {
   "cell_type": "code",
   "execution_count": 30,
   "metadata": {},
   "outputs": [
    {
     "data": {
      "text/plain": [
       "4.4141268217511875"
      ]
     },
     "execution_count": 30,
     "metadata": {},
     "output_type": "execute_result"
    }
   ],
   "source": [
    "df[df['t-1감사의견코드']==1]['dp_score'].mean()"
   ]
  },
  {
   "cell_type": "code",
   "execution_count": 31,
   "metadata": {},
   "outputs": [
    {
     "data": {
      "text/plain": [
       "4.613318468681839"
      ]
     },
     "execution_count": 31,
     "metadata": {},
     "output_type": "execute_result"
    }
   ],
   "source": [
    "df[df['t-1감사의견코드']==0]['dp_score'].mean()"
   ]
  },
  {
   "cell_type": "markdown",
   "metadata": {},
   "source": [
    "- AA\t4.859760\n",
    "- A\t4.704991\n",
    "- BBB\t4.456432\n",
    "- BB\t4.253703\n",
    "- B\t4.105671\n",
    "- C\t3.954838"
   ]
  },
  {
   "cell_type": "code",
   "execution_count": 32,
   "metadata": {},
   "outputs": [
    {
     "data": {
      "text/plain": [
       "성장기    4591\n",
       "도입기    3871\n",
       "수축기    2043\n",
       "성숙기    1560\n",
       "쇠퇴기    1045\n",
       "Name: 기업수명주기, dtype: int64"
      ]
     },
     "execution_count": 32,
     "metadata": {},
     "output_type": "execute_result"
    }
   ],
   "source": [
    "df[df['t-1감사의견코드']==1]['기업수명주기'].value_counts()"
   ]
  },
  {
   "cell_type": "code",
   "execution_count": 33,
   "metadata": {},
   "outputs": [
    {
     "data": {
      "text/plain": [
       "성숙기    50978\n",
       "수축기    37714\n",
       "성장기    35302\n",
       "도입기    29288\n",
       "쇠퇴기    17495\n",
       "Name: 기업수명주기, dtype: int64"
      ]
     },
     "execution_count": 33,
     "metadata": {},
     "output_type": "execute_result"
    }
   ],
   "source": [
    "df[df['t-1감사의견코드']==0]['기업수명주기'].value_counts()"
   ]
  },
  {
   "cell_type": "code",
   "execution_count": 46,
   "metadata": {},
   "outputs": [
    {
     "data": {
      "image/png": "[encoded data removed]",
      "text/plain": [
       "<Figure size 640x480 with 1 Axes>"
      ]
     },
     "metadata": {},
     "output_type": "display_data"
    }
   ],
   "source": [
    "# 파이차트 그리기\n",
    "labels=['성장기','도입기','수축기','성숙기','쇠퇴기']\n",
    "sizes=[4591,3871,2043,1560,1045]\n",
    "colors=  ['#FFB2B2', '#B2FFD8', '#FFFFB2', '#B2CCFF', '#FFD9B2']\n",
    "plt.pie(sizes, labels=labels, colors=colors, autopct='%1.1f%%', startangle=90)\n",
    "\n",
    "# 제목 추가\n",
    "plt.title('타겟이 1인 친구들')\n",
    "\n",
    "# 그래프 보여주기\n",
    "plt.show()"
   ]
  },
  {
   "cell_type": "code",
   "execution_count": 47,
   "metadata": {},
   "outputs": [
    {
     "data": {
      "image/png": "[encoded data removed]",
      "text/plain": [
       "<Figure size 640x480 with 1 Axes>"
      ]
     },
     "metadata": {},
     "output_type": "display_data"
    }
   ],
   "source": [
    "# 파이차트 그리기\n",
    "labels=['성숙기','수축기','성장기','도입기','쇠퇴기']\n",
    "sizes=[50978,37714,35302,29288,17495]\n",
    "colors=  ['#B2CCFF', '#FFFFB2', '#FFB2B2', '#B2FFD8', '#FFD9B2']\n",
    "plt.pie(sizes, labels=labels, colors=colors, autopct='%1.1f%%', startangle=90)\n",
    "\n",
    "# 제목 추가\n",
    "plt.title('타겟이 0인 친구들')\n",
    "\n",
    "# 그래프 보여주기\n",
    "plt.show()"
   ]
  },
  {
   "cell_type": "markdown",
   "metadata": {},
   "source": [
    "----"
   ]
  },
  {
   "cell_type": "code",
   "execution_count": 64,
   "metadata": {},
   "outputs": [
    {
     "data": {
      "image/png": "[encoded data removed]",
      "text/plain": [
       "<Figure size 640x480 with 1 Axes>"
      ]
     },
     "metadata": {},
     "output_type": "display_data"
    }
   ],
   "source": [
    "import matplotlib.pyplot as plt\n",
    "\n",
    "labels = ['도입기', '성장기', '성숙기', '수축기', '쇠퇴기']\n",
    "sizes = [29288, 35302, 50978, 37714, 17495]\n",
    "\n",
    "# 색상을 이쁘게 설정해보세요\n",
    "colors = ['lightsteelblue', 'mediumaquamarine', 'lightcoral', 'darksalmon', 'khaki']\n",
    "\n",
    "plt.bar(labels, sizes, color=colors)\n",
    "plt.xlabel('기업수명주기')\n",
    "plt.ylabel('기업수')\n",
    "plt.title('정상 기업의 수명주기')\n",
    "plt.show()\n"
   ]
  }
 ],
 "metadata": {
  "kernelspec": {
   "display_name": "Python 3",
   "language": "python",
   "name": "python3"
  },
  "language_info": {
   "codemirror_mode": {
    "name": "ipython",
    "version": 3
   },
   "file_extension": ".py",
   "mimetype": "text/x-python",
   "name": "python",
   "nbconvert_exporter": "python",
   "pygments_lexer": "ipython3",
   "version": "3.10.9"
  },
  "orig_nbformat": 4
 },
 "nbformat": 4,
 "nbformat_minor": 2
}
