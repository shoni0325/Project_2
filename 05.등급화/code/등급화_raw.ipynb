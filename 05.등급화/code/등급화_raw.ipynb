{
 "cells": [
  {
   "cell_type": "code",
   "execution_count": 32,
   "metadata": {},
   "outputs": [],
   "source": [
    "import pandas as pd\n",
    "import numpy as np\n",
    "import seaborn as sns\n",
    "import matplotlib.pyplot as plt\n",
    "from sklearn.preprocessing import MinMaxScaler\n",
    "# 그래프에서 한글 깨짐 방지\n",
    "import platform\n",
    "if platform.system() == \"Darwin\":          # MAC인 경우\n",
    "    plt.rc('font', family =\"AppleGothic\")\n",
    "else:\n",
    "    plt.rc('font',family='Malgun Gothic')\n",
    "\n",
    "#멧플로립에서 음수를 표시\n",
    "plt.rc('axes',unicode_minus=False)\n",
    "\n",
    "#워닝 메시지\n",
    "import warnings\n",
    "warnings.filterwarnings('ignore')"
   ]
  },
  {
   "cell_type": "code",
   "execution_count": 19,
   "metadata": {},
   "outputs": [],
   "source": [
    "df=pd.read_csv('../외감기업/raw_data/t-1_raw_외감.csv',encoding='euc-kr')"
   ]
  },
  {
   "cell_type": "code",
   "execution_count": 21,
   "metadata": {},
   "outputs": [
    {
     "name": "stderr",
     "output_type": "stream",
     "text": [
      "c:\\Users\\dgh06\\AppData\\Local\\Programs\\Python\\Python310\\lib\\site-packages\\pandas\\core\\arraylike.py:402: RuntimeWarning: divide by zero encountered in log\n",
      "  result = getattr(ufunc, method)(*inputs, **kwargs)\n"
     ]
    }
   ],
   "source": [
    "df['자산총계(천원)'] = df['자산총계(천원)'] * 1000\n",
    "df['log자산총계'] = np.log(df['자산총계(천원)'])\n",
    "df['잉여현금흐름(FCF)']=df['OCF(천원)']-df['ICF(천원)']\n",
    "df['전체현금흐름(천원)']=df['OCF(천원)']+df['ICF(천원)']+df['FCF(천원)']\n",
    "\n",
    "df['총자산대비잉여현금흐름'] = df['잉여현금흐름(FCF)']/df['자산총계(천원)']\n",
    "df['총자산대비현금흐름'] = df['전체현금흐름(천원)'] / df['자산총계(천원)']\n",
    "df=df[['회사명', '거래소코드','유동자산회전률', '총자산대비잉여현금흐름','자기자본구성비율', 'log자산총계','자기자본회전률', '순운전자본회전률', '자기자본증가율', '총자본증가율', '총자산대비현금흐름', '총자본투자효율','t-1감사의견코드']]"
   ]
  },
  {
   "cell_type": "markdown",
   "metadata": {},
   "source": [
    "---\n",
    "- 결측치, 무한대값 삭제"
   ]
  },
  {
   "cell_type": "code",
   "execution_count": 26,
   "metadata": {},
   "outputs": [],
   "source": [
    "df.isna().sum()\n",
    "df.dropna(axis=0,inplace=True)"
   ]
  },
  {
   "cell_type": "code",
   "execution_count": 30,
   "metadata": {},
   "outputs": [],
   "source": [
    "df.isin([np.inf,-np.inf]).sum()\n",
    "df = df.replace([np.inf, -np.inf], np.nan)  # inf 값을 NaN으로 대체\n",
    "df = df.dropna()  # NaN이 있는 행 삭제"
   ]
  },
  {
   "cell_type": "code",
   "execution_count": 35,
   "metadata": {},
   "outputs": [],
   "source": [
    "# df.iloc[:,2:12]"
   ]
  },
  {
   "cell_type": "code",
   "execution_count": 37,
   "metadata": {},
   "outputs": [],
   "source": [
    "scaler=MinMaxScaler()\n",
    "df.iloc[:,2:12]=scaler.fit_transform(df.iloc[:,2:12])"
   ]
  },
  {
   "cell_type": "code",
   "execution_count": 39,
   "metadata": {},
   "outputs": [],
   "source": [
    "# dp-Score의 계수\n",
    "coefficients = {\n",
    "    '유동자산회전률':np.exp(0.47765086),                    # 높아야 좋다\n",
    "    '총자산대비잉여현금흐름':np.exp(0.53785436),            # 높아야 좋다\n",
    "    '자기자본구성비율':np.exp(0.49360789),                  # 높아야 좋다\n",
    "    'log자산총계':np.exp(0.94238478),                      # 높아야 좋다\n",
    "    '자기자본회전률':np.exp(-0.08646556),                   # 높아야 좋다\n",
    "    '순운전자본회전률':np.exp(-0.98107367),                 # 높아야 좋다\n",
    "    '자기자본증가율':np.exp(0.19544705),                    # 높아야 좋다\n",
    "    '총자본증가율':np.exp(0.44094258),                      # 높아야 좋다\n",
    "    '총자산대비현금흐름':np.exp(-0.37036301),               # 높아야 좋다\n",
    "    '총자본투자효율':np.exp(0.26458857),                    # 높아야 좋다\n",
    "\n",
    "    'constant': 0.90495308\n",
    "}\n",
    "\n",
    "\n",
    "# O-Score 계산\n",
    "df['dp_score'] = coefficients['constant']\n",
    "df['dp_score'] += coefficients['유동자산회전률'] * df['유동자산회전률']\n",
    "df['dp_score'] += coefficients['총자산대비잉여현금흐름'] * df['총자산대비잉여현금흐름']\n",
    "df['dp_score'] += coefficients['자기자본구성비율'] * df['자기자본구성비율']\n",
    "df['dp_score'] += coefficients['log자산총계'] * df['log자산총계']\n",
    "df['dp_score'] += coefficients['자기자본회전률'] * df['자기자본회전률']\n",
    "df['dp_score'] += coefficients['순운전자본회전률'] * df['순운전자본회전률']\n",
    "df['dp_score'] += coefficients['자기자본증가율'] * df['자기자본증가율']\n",
    "df['dp_score'] += coefficients['총자본증가율'] * df['총자본증가율']\n",
    "df['dp_score'] += coefficients['총자산대비현금흐름'] * df['총자산대비현금흐름']\n",
    "df['dp_score'] += coefficients['총자본투자효율'] * df['총자본투자효율']\n",
    "\n",
    "# 로지스틱 함수를 이용해 부도 확률 계산\n",
    "# df_등급화['default_probability'] = 1 / (1 + np.exp(-df_등급화['dp_score']))"
   ]
  },
  {
   "cell_type": "code",
   "execution_count": 40,
   "metadata": {},
   "outputs": [
    {
     "data": {
      "text/plain": [
       "(188632, 14)"
      ]
     },
     "execution_count": 40,
     "metadata": {},
     "output_type": "execute_result"
    }
   ],
   "source": [
    "df.shape"
   ]
  },
  {
   "cell_type": "code",
   "execution_count": 41,
   "metadata": {},
   "outputs": [
    {
     "data": {
      "text/html": [
       "<div>\n",
       "<style scoped>\n",
       "    .dataframe tbody tr th:only-of-type {\n",
       "        vertical-align: middle;\n",
       "    }\n",
       "\n",
       "    .dataframe tbody tr th {\n",
       "        vertical-align: top;\n",
       "    }\n",
       "\n",
       "    .dataframe thead th {\n",
       "        text-align: right;\n",
       "    }\n",
       "</style>\n",
       "<table border=\"1\" class=\"dataframe\">\n",
       "  <thead>\n",
       "    <tr style=\"text-align: right;\">\n",
       "      <th></th>\n",
       "      <th>거래소코드</th>\n",
       "      <th>유동자산회전률</th>\n",
       "      <th>총자산대비잉여현금흐름</th>\n",
       "      <th>자기자본구성비율</th>\n",
       "      <th>log자산총계</th>\n",
       "      <th>자기자본회전률</th>\n",
       "      <th>순운전자본회전률</th>\n",
       "      <th>자기자본증가율</th>\n",
       "      <th>총자본증가율</th>\n",
       "      <th>총자산대비현금흐름</th>\n",
       "      <th>총자본투자효율</th>\n",
       "      <th>t-1감사의견코드</th>\n",
       "      <th>dp_score</th>\n",
       "    </tr>\n",
       "  </thead>\n",
       "  <tbody>\n",
       "    <tr>\n",
       "      <th>count</th>\n",
       "      <td>188632.000000</td>\n",
       "      <td>188632.000000</td>\n",
       "      <td>188632.000000</td>\n",
       "      <td>188632.000000</td>\n",
       "      <td>188632.000000</td>\n",
       "      <td>188632.000000</td>\n",
       "      <td>188632.000000</td>\n",
       "      <td>188632.000000</td>\n",
       "      <td>188632.000000</td>\n",
       "      <td>188632.000000</td>\n",
       "      <td>188632.000000</td>\n",
       "      <td>188632.000000</td>\n",
       "      <td>188632.000000</td>\n",
       "    </tr>\n",
       "    <tr>\n",
       "      <th>mean</th>\n",
       "      <td>57668.828921</td>\n",
       "      <td>0.001589</td>\n",
       "      <td>0.000890</td>\n",
       "      <td>0.471247</td>\n",
       "      <td>0.572036</td>\n",
       "      <td>0.000012</td>\n",
       "      <td>0.000157</td>\n",
       "      <td>0.000436</td>\n",
       "      <td>0.000218</td>\n",
       "      <td>0.684553</td>\n",
       "      <td>0.663496</td>\n",
       "      <td>0.071430</td>\n",
       "      <td>4.487016</td>\n",
       "    </tr>\n",
       "    <tr>\n",
       "      <th>std</th>\n",
       "      <td>25364.722797</td>\n",
       "      <td>0.002318</td>\n",
       "      <td>0.002301</td>\n",
       "      <td>0.215488</td>\n",
       "      <td>0.058218</td>\n",
       "      <td>0.002375</td>\n",
       "      <td>0.002325</td>\n",
       "      <td>0.003264</td>\n",
       "      <td>0.002306</td>\n",
       "      <td>0.013657</td>\n",
       "      <td>0.002070</td>\n",
       "      <td>0.257543</td>\n",
       "      <td>0.407585</td>\n",
       "    </tr>\n",
       "    <tr>\n",
       "      <th>min</th>\n",
       "      <td>10000.000000</td>\n",
       "      <td>0.000000</td>\n",
       "      <td>0.000000</td>\n",
       "      <td>0.000000</td>\n",
       "      <td>0.000000</td>\n",
       "      <td>0.000000</td>\n",
       "      <td>0.000000</td>\n",
       "      <td>0.000000</td>\n",
       "      <td>0.000000</td>\n",
       "      <td>0.000000</td>\n",
       "      <td>0.000000</td>\n",
       "      <td>0.000000</td>\n",
       "      <td>2.285626</td>\n",
       "    </tr>\n",
       "    <tr>\n",
       "      <th>25%</th>\n",
       "      <td>41837.000000</td>\n",
       "      <td>0.001578</td>\n",
       "      <td>0.000877</td>\n",
       "      <td>0.288338</td>\n",
       "      <td>0.533038</td>\n",
       "      <td>0.000002</td>\n",
       "      <td>0.000132</td>\n",
       "      <td>0.000408</td>\n",
       "      <td>0.000190</td>\n",
       "      <td>0.681765</td>\n",
       "      <td>0.663478</td>\n",
       "      <td>0.000000</td>\n",
       "      <td>4.159155</td>\n",
       "    </tr>\n",
       "    <tr>\n",
       "      <th>50%</th>\n",
       "      <td>59713.000000</td>\n",
       "      <td>0.001580</td>\n",
       "      <td>0.000882</td>\n",
       "      <td>0.445937</td>\n",
       "      <td>0.559802</td>\n",
       "      <td>0.000002</td>\n",
       "      <td>0.000143</td>\n",
       "      <td>0.000409</td>\n",
       "      <td>0.000195</td>\n",
       "      <td>0.683397</td>\n",
       "      <td>0.663484</td>\n",
       "      <td>0.000000</td>\n",
       "      <td>4.452505</td>\n",
       "    </tr>\n",
       "    <tr>\n",
       "      <th>75%</th>\n",
       "      <td>76679.000000</td>\n",
       "      <td>0.001583</td>\n",
       "      <td>0.000891</td>\n",
       "      <td>0.633326</td>\n",
       "      <td>0.599735</td>\n",
       "      <td>0.000004</td>\n",
       "      <td>0.000155</td>\n",
       "      <td>0.000412</td>\n",
       "      <td>0.000215</td>\n",
       "      <td>0.686720</td>\n",
       "      <td>0.663493</td>\n",
       "      <td>0.000000</td>\n",
       "      <td>4.788795</td>\n",
       "    </tr>\n",
       "    <tr>\n",
       "      <th>max</th>\n",
       "      <td>107278.000000</td>\n",
       "      <td>1.000000</td>\n",
       "      <td>1.000000</td>\n",
       "      <td>1.000000</td>\n",
       "      <td>1.000000</td>\n",
       "      <td>1.000000</td>\n",
       "      <td>1.000000</td>\n",
       "      <td>1.000000</td>\n",
       "      <td>1.000000</td>\n",
       "      <td>1.000000</td>\n",
       "      <td>1.000000</td>\n",
       "      <td>1.000000</td>\n",
       "      <td>6.199626</td>\n",
       "    </tr>\n",
       "  </tbody>\n",
       "</table>\n",
       "</div>"
      ],
      "text/plain": [
       "               거래소코드        유동자산회전률    총자산대비잉여현금흐름       자기자본구성비율  \\\n",
       "count  188632.000000  188632.000000  188632.000000  188632.000000   \n",
       "mean    57668.828921       0.001589       0.000890       0.471247   \n",
       "std     25364.722797       0.002318       0.002301       0.215488   \n",
       "min     10000.000000       0.000000       0.000000       0.000000   \n",
       "25%     41837.000000       0.001578       0.000877       0.288338   \n",
       "50%     59713.000000       0.001580       0.000882       0.445937   \n",
       "75%     76679.000000       0.001583       0.000891       0.633326   \n",
       "max    107278.000000       1.000000       1.000000       1.000000   \n",
       "\n",
       "             log자산총계        자기자본회전률       순운전자본회전률        자기자본증가율  \\\n",
       "count  188632.000000  188632.000000  188632.000000  188632.000000   \n",
       "mean        0.572036       0.000012       0.000157       0.000436   \n",
       "std         0.058218       0.002375       0.002325       0.003264   \n",
       "min         0.000000       0.000000       0.000000       0.000000   \n",
       "25%         0.533038       0.000002       0.000132       0.000408   \n",
       "50%         0.559802       0.000002       0.000143       0.000409   \n",
       "75%         0.599735       0.000004       0.000155       0.000412   \n",
       "max         1.000000       1.000000       1.000000       1.000000   \n",
       "\n",
       "              총자본증가율      총자산대비현금흐름        총자본투자효율      t-1감사의견코드  \\\n",
       "count  188632.000000  188632.000000  188632.000000  188632.000000   \n",
       "mean        0.000218       0.684553       0.663496       0.071430   \n",
       "std         0.002306       0.013657       0.002070       0.257543   \n",
       "min         0.000000       0.000000       0.000000       0.000000   \n",
       "25%         0.000190       0.681765       0.663478       0.000000   \n",
       "50%         0.000195       0.683397       0.663484       0.000000   \n",
       "75%         0.000215       0.686720       0.663493       0.000000   \n",
       "max         1.000000       1.000000       1.000000       1.000000   \n",
       "\n",
       "            dp_score  \n",
       "count  188632.000000  \n",
       "mean        4.487016  \n",
       "std         0.407585  \n",
       "min         2.285626  \n",
       "25%         4.159155  \n",
       "50%         4.452505  \n",
       "75%         4.788795  \n",
       "max         6.199626  "
      ]
     },
     "execution_count": 41,
     "metadata": {},
     "output_type": "execute_result"
    }
   ],
   "source": [
    "df.describe()"
   ]
  },
  {
   "cell_type": "code",
   "execution_count": 42,
   "metadata": {},
   "outputs": [
    {
     "data": {
      "text/plain": [
       "4.2188499153072385"
      ]
     },
     "execution_count": 42,
     "metadata": {},
     "output_type": "execute_result"
    }
   ],
   "source": [
    "df[df['t-1감사의견코드']==1]['dp_score'].mean()"
   ]
  },
  {
   "cell_type": "markdown",
   "metadata": {},
   "source": [
    "- dp_score\n",
    "- 신용평점\t\n",
    "- A\t    67.025568\n",
    "- AA\t69.826705\n",
    "- B \t53.369724\n",
    "- BB\t57.360487\n",
    "- BBB\t60.007862\n",
    "- CC\t42.225740\n",
    "- CCC\t49.269174\n",
    "- D\t30.959408"
   ]
  },
  {
   "cell_type": "markdown",
   "metadata": {},
   "source": []
  }
 ],
 "metadata": {
  "kernelspec": {
   "display_name": "Python 3",
   "language": "python",
   "name": "python3"
  },
  "language_info": {
   "codemirror_mode": {
    "name": "ipython",
    "version": 3
   },
   "file_extension": ".py",
   "mimetype": "text/x-python",
   "name": "python",
   "nbconvert_exporter": "python",
   "pygments_lexer": "ipython3",
   "version": "3.10.9"
  },
  "orig_nbformat": 4
 },
 "nbformat": 4,
 "nbformat_minor": 2
}
