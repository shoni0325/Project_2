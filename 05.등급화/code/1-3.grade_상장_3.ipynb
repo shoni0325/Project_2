{
 "cells": [
  {
   "cell_type": "code",
   "execution_count": 1,
   "metadata": {},
   "outputs": [],
   "source": [
    "import pandas as pd\n",
    "import numpy as np\n",
    "import warnings\n",
    "warnings.filterwarnings(\"ignore\")"
   ]
  },
  {
   "cell_type": "code",
   "execution_count": 2,
   "metadata": {},
   "outputs": [],
   "source": [
    "df = pd.read_csv('../data/상장raw2.csv', encoding='euc-kr')\n",
    "df상장 = pd.read_excel('../data/kospi+kodaq_dp(등급).xls')"
   ]
  },
  {
   "cell_type": "code",
   "execution_count": 3,
   "metadata": {},
   "outputs": [],
   "source": [
    "df['회계년도']= df['회계년도'].replace('/','').astype(str).str[:4].astype(int)\n",
    "df = df[df['회계년도'] == 2022]"
   ]
  },
  {
   "cell_type": "code",
   "execution_count": 4,
   "metadata": {},
   "outputs": [],
   "source": [
    "df['FCF'] = df['영업활동으로 인한 현금흐름(간접법)(*)(IFRS연결)(천원)'] + df['투자활동으로 인한 현금흐름(*)(IFRS연결)(천원)']\n",
    "df['매출액대비잉여현금흐름'] = df['FCF'] / df['매출액(수익)(*)(IFRS연결)(천원)']\n",
    "df['총자산대비영업현금흐름'] = df['영업활동으로 인한 현금흐름(간접법)(*)(IFRS연결)(천원)'] / df['자산(*)(IFRS연결)(천원)']\n",
    "df['PBR'] = df['PBR(최고)(IFRS)'] + df['PBR(최저)(IFRS)'] /2"
   ]
  },
  {
   "cell_type": "code",
   "execution_count": 5,
   "metadata": {},
   "outputs": [],
   "source": [
    "df = df[['회사명', '거래소코드', '부채비율(IFRS연결)', '총자본회전률(IFRS연결)', '매출액대비잉여현금흐름', 'PBR', '자기자본순이익률(IFRS연결)', '총자산대비영업현금흐름', '부가가치율(IFRS연결)', '자기자본증가율(IFRS연결)', '총자본투자효율(IFRS연결)', '총자본순이익률(IFRS연결)', '매출액정상영업이익률(IFRS연결)' ]]"
   ]
  },
  {
   "cell_type": "code",
   "execution_count": 6,
   "metadata": {},
   "outputs": [],
   "source": [
    "df['거래소코드'] = df['거래소코드'].astype(str).str.zfill(6)"
   ]
  },
  {
   "cell_type": "code",
   "execution_count": 7,
   "metadata": {},
   "outputs": [],
   "source": [
    "df상장.dropna(axis=0, inplace=True)"
   ]
  },
  {
   "cell_type": "code",
   "execution_count": 8,
   "metadata": {},
   "outputs": [],
   "source": [
    "df상장['Stock'] = df상장['Stock'].astype(int)"
   ]
  },
  {
   "cell_type": "code",
   "execution_count": 9,
   "metadata": {},
   "outputs": [],
   "source": [
    "df상장['Stock'] = df상장['Stock'].astype(str).str.zfill(6)"
   ]
  },
  {
   "cell_type": "code",
   "execution_count": 10,
   "metadata": {},
   "outputs": [],
   "source": [
    "df상장.columns = ['KIS', '거래소코드', '회사명_1', '신용평점']"
   ]
  },
  {
   "cell_type": "code",
   "execution_count": 11,
   "metadata": {},
   "outputs": [],
   "source": [
    "df_total = pd.merge(df,df상장,how='inner',on='거래소코드')"
   ]
  },
  {
   "cell_type": "code",
   "execution_count": 12,
   "metadata": {},
   "outputs": [],
   "source": [
    "df_total['신용평점']=df_total['신용평점'].map({\n",
    "    'AAA' : 'AA',\n",
    "    'AA':'AA',\n",
    "    'A':'A',\n",
    "    'BBB':'BBB',\n",
    "    'BB':'BB',\n",
    "    'B':'B',\n",
    "    'CCC':'CCC',\n",
    "    'CC':'CC',\n",
    "    'C': 'D',\n",
    "    'D':'D'\n",
    "\n",
    "})"
   ]
  },
  {
   "cell_type": "code",
   "execution_count": 13,
   "metadata": {},
   "outputs": [
    {
     "data": {
      "text/plain": [
       "회사명                   0\n",
       "거래소코드                 0\n",
       "부채비율(IFRS연결)          7\n",
       "총자본회전률(IFRS연결)        7\n",
       "매출액대비잉여현금흐름           3\n",
       "PBR                   7\n",
       "자기자본순이익률(IFRS연결)      7\n",
       "총자산대비영업현금흐름           3\n",
       "부가가치율(IFRS연결)         7\n",
       "자기자본증가율(IFRS연결)       7\n",
       "총자본투자효율(IFRS연결)       7\n",
       "총자본순이익률(IFRS연결)       7\n",
       "매출액정상영업이익률(IFRS연결)    7\n",
       "KIS                   0\n",
       "회사명_1                 0\n",
       "신용평점                  0\n",
       "dtype: int64"
      ]
     },
     "execution_count": 13,
     "metadata": {},
     "output_type": "execute_result"
    }
   ],
   "source": [
    "df_total.isna().sum()"
   ]
  },
  {
   "cell_type": "code",
   "execution_count": 14,
   "metadata": {},
   "outputs": [],
   "source": [
    "df_total=df_total.dropna()"
   ]
  },
  {
   "cell_type": "code",
   "execution_count": 15,
   "metadata": {},
   "outputs": [],
   "source": [
    "df_total = df_total.replace([np.inf, -np.inf], np.nan)  # inf 값을 NaN으로 대체\n",
    "df_total = df_total.dropna()  # NaN이 있는 행 삭제"
   ]
  },
  {
   "cell_type": "code",
   "execution_count": 16,
   "metadata": {},
   "outputs": [
    {
     "data": {
      "text/html": [
       "<div>\n",
       "<style scoped>\n",
       "    .dataframe tbody tr th:only-of-type {\n",
       "        vertical-align: middle;\n",
       "    }\n",
       "\n",
       "    .dataframe tbody tr th {\n",
       "        vertical-align: top;\n",
       "    }\n",
       "\n",
       "    .dataframe thead th {\n",
       "        text-align: right;\n",
       "    }\n",
       "</style>\n",
       "<table border=\"1\" class=\"dataframe\">\n",
       "  <thead>\n",
       "    <tr style=\"text-align: right;\">\n",
       "      <th></th>\n",
       "      <th>부채비율(IFRS연결)</th>\n",
       "      <th>총자본회전률(IFRS연결)</th>\n",
       "      <th>매출액대비잉여현금흐름</th>\n",
       "      <th>PBR</th>\n",
       "      <th>자기자본순이익률(IFRS연결)</th>\n",
       "      <th>총자산대비영업현금흐름</th>\n",
       "      <th>부가가치율(IFRS연결)</th>\n",
       "      <th>자기자본증가율(IFRS연결)</th>\n",
       "      <th>총자본투자효율(IFRS연결)</th>\n",
       "      <th>총자본순이익률(IFRS연결)</th>\n",
       "      <th>매출액정상영업이익률(IFRS연결)</th>\n",
       "    </tr>\n",
       "  </thead>\n",
       "  <tbody>\n",
       "    <tr>\n",
       "      <th>count</th>\n",
       "      <td>2227.000000</td>\n",
       "      <td>2227.000000</td>\n",
       "      <td>2227.000000</td>\n",
       "      <td>2227.000000</td>\n",
       "      <td>2227.000000</td>\n",
       "      <td>2227.000000</td>\n",
       "      <td>2227.000000</td>\n",
       "      <td>2227.000000</td>\n",
       "      <td>2227.000000</td>\n",
       "      <td>2227.000000</td>\n",
       "      <td>2227.000000</td>\n",
       "    </tr>\n",
       "    <tr>\n",
       "      <th>mean</th>\n",
       "      <td>116.800319</td>\n",
       "      <td>0.824378</td>\n",
       "      <td>-0.458614</td>\n",
       "      <td>4.835846</td>\n",
       "      <td>-3.629600</td>\n",
       "      <td>0.018190</td>\n",
       "      <td>-18.366161</td>\n",
       "      <td>15.421423</td>\n",
       "      <td>14.472613</td>\n",
       "      <td>-0.162317</td>\n",
       "      <td>-49.961823</td>\n",
       "    </tr>\n",
       "    <tr>\n",
       "      <th>std</th>\n",
       "      <td>372.215819</td>\n",
       "      <td>0.538563</td>\n",
       "      <td>6.208763</td>\n",
       "      <td>10.441767</td>\n",
       "      <td>52.901335</td>\n",
       "      <td>0.125568</td>\n",
       "      <td>582.062478</td>\n",
       "      <td>124.259074</td>\n",
       "      <td>20.073565</td>\n",
       "      <td>14.605982</td>\n",
       "      <td>698.404368</td>\n",
       "    </tr>\n",
       "    <tr>\n",
       "      <th>min</th>\n",
       "      <td>0.000000</td>\n",
       "      <td>0.000000</td>\n",
       "      <td>-191.728290</td>\n",
       "      <td>-7.190000</td>\n",
       "      <td>-1464.690000</td>\n",
       "      <td>-2.012239</td>\n",
       "      <td>-20814.490000</td>\n",
       "      <td>-1181.720000</td>\n",
       "      <td>-232.580000</td>\n",
       "      <td>-121.860000</td>\n",
       "      <td>-19661.230000</td>\n",
       "    </tr>\n",
       "    <tr>\n",
       "      <th>25%</th>\n",
       "      <td>31.805000</td>\n",
       "      <td>0.460000</td>\n",
       "      <td>-0.138168</td>\n",
       "      <td>1.490000</td>\n",
       "      <td>-5.110000</td>\n",
       "      <td>-0.023213</td>\n",
       "      <td>10.170000</td>\n",
       "      <td>-1.275000</td>\n",
       "      <td>7.590000</td>\n",
       "      <td>-2.895000</td>\n",
       "      <td>-1.245000</td>\n",
       "    </tr>\n",
       "    <tr>\n",
       "      <th>50%</th>\n",
       "      <td>67.220000</td>\n",
       "      <td>0.730000</td>\n",
       "      <td>-0.016669</td>\n",
       "      <td>2.685000</td>\n",
       "      <td>4.440000</td>\n",
       "      <td>0.030037</td>\n",
       "      <td>19.920000</td>\n",
       "      <td>5.100000</td>\n",
       "      <td>15.160000</td>\n",
       "      <td>2.490000</td>\n",
       "      <td>3.770000</td>\n",
       "    </tr>\n",
       "    <tr>\n",
       "      <th>75%</th>\n",
       "      <td>124.195000</td>\n",
       "      <td>1.090000</td>\n",
       "      <td>0.046609</td>\n",
       "      <td>5.035000</td>\n",
       "      <td>11.060000</td>\n",
       "      <td>0.075364</td>\n",
       "      <td>32.600000</td>\n",
       "      <td>14.420000</td>\n",
       "      <td>23.185000</td>\n",
       "      <td>6.575000</td>\n",
       "      <td>8.940000</td>\n",
       "    </tr>\n",
       "    <tr>\n",
       "      <th>max</th>\n",
       "      <td>12457.270000</td>\n",
       "      <td>4.810000</td>\n",
       "      <td>89.030218</td>\n",
       "      <td>285.595000</td>\n",
       "      <td>227.300000</td>\n",
       "      <td>0.564594</td>\n",
       "      <td>1252.350000</td>\n",
       "      <td>3969.200000</td>\n",
       "      <td>201.280000</td>\n",
       "      <td>100.800000</td>\n",
       "      <td>67.070000</td>\n",
       "    </tr>\n",
       "  </tbody>\n",
       "</table>\n",
       "</div>"
      ],
      "text/plain": [
       "       부채비율(IFRS연결)  총자본회전률(IFRS연결)  매출액대비잉여현금흐름          PBR  \\\n",
       "count   2227.000000     2227.000000  2227.000000  2227.000000   \n",
       "mean     116.800319        0.824378    -0.458614     4.835846   \n",
       "std      372.215819        0.538563     6.208763    10.441767   \n",
       "min        0.000000        0.000000  -191.728290    -7.190000   \n",
       "25%       31.805000        0.460000    -0.138168     1.490000   \n",
       "50%       67.220000        0.730000    -0.016669     2.685000   \n",
       "75%      124.195000        1.090000     0.046609     5.035000   \n",
       "max    12457.270000        4.810000    89.030218   285.595000   \n",
       "\n",
       "       자기자본순이익률(IFRS연결)  총자산대비영업현금흐름  부가가치율(IFRS연결)  자기자본증가율(IFRS연결)  \\\n",
       "count       2227.000000  2227.000000    2227.000000      2227.000000   \n",
       "mean          -3.629600     0.018190     -18.366161        15.421423   \n",
       "std           52.901335     0.125568     582.062478       124.259074   \n",
       "min        -1464.690000    -2.012239  -20814.490000     -1181.720000   \n",
       "25%           -5.110000    -0.023213      10.170000        -1.275000   \n",
       "50%            4.440000     0.030037      19.920000         5.100000   \n",
       "75%           11.060000     0.075364      32.600000        14.420000   \n",
       "max          227.300000     0.564594    1252.350000      3969.200000   \n",
       "\n",
       "       총자본투자효율(IFRS연결)  총자본순이익률(IFRS연결)  매출액정상영업이익률(IFRS연결)  \n",
       "count      2227.000000      2227.000000         2227.000000  \n",
       "mean         14.472613        -0.162317          -49.961823  \n",
       "std          20.073565        14.605982          698.404368  \n",
       "min        -232.580000      -121.860000       -19661.230000  \n",
       "25%           7.590000        -2.895000           -1.245000  \n",
       "50%          15.160000         2.490000            3.770000  \n",
       "75%          23.185000         6.575000            8.940000  \n",
       "max         201.280000       100.800000           67.070000  "
      ]
     },
     "execution_count": 16,
     "metadata": {},
     "output_type": "execute_result"
    }
   ],
   "source": [
    "df_total.describe()"
   ]
  },
  {
   "cell_type": "code",
   "execution_count": 17,
   "metadata": {},
   "outputs": [],
   "source": [
    "df_total.drop('회사명_1', axis=1, inplace=True)"
   ]
  },
  {
   "cell_type": "code",
   "execution_count": 18,
   "metadata": {},
   "outputs": [],
   "source": [
    "df_total.columns = ['회사명', '거래소코드', '부채비율', '총자본회전률', '매출액대비잉여현금흐름', 'PBR',\n",
    "       '자기자본순이익률', '총자산대비영업현금흐름', '부가가치율', '자기자본증가율',\n",
    "       '총자본투자효율', '총자본순이익률', '매출액영업이익률', 'KIS',\n",
    "       '신용평점']"
   ]
  },
  {
   "cell_type": "code",
   "execution_count": 19,
   "metadata": {},
   "outputs": [],
   "source": [
    "coefficients = {\n",
    "    '부채비율' : -0.17176446,\n",
    "    '총자본회전률' : 1.00856286,\n",
    "    '매출액대비잉여현금흐름' : -0.0044608,\n",
    "    'PBR' : -0.20304586,\n",
    "    '자기자본순이익률' : 0.67645199,\n",
    "    '총자산대비영업현금흐름' : -0.28369245,\n",
    "    '부가가치율' : -0.46108049,\n",
    "    '자기자본증가율' : -0.51168342,\n",
    "    '총자본투자효율' : -0.07842666,\n",
    "    '총자본순이익률' : 0.52424143,\n",
    "    '매출액영업이익률' : -0.05487773,\n",
    "    'constant' : 50.77631127\n",
    "}\n",
    "\n",
    "\n",
    "# O-Score 계산\n",
    "df_total['dp_score'] = coefficients['constant']\n",
    "df_total['dp_score'] += coefficients['부채비율'] * df_total['부채비율']\n",
    "df_total['dp_score'] += coefficients['총자본회전률'] * df_total['총자본회전률']\n",
    "df_total['dp_score'] += coefficients['매출액대비잉여현금흐름'] * df_total['매출액대비잉여현금흐름']\n",
    "df_total['dp_score'] += coefficients['PBR'] * df_total['PBR']\n",
    "df_total['dp_score'] += coefficients['자기자본순이익률'] * df_total['자기자본순이익률']\n",
    "df_total['dp_score'] += coefficients['총자산대비영업현금흐름'] * df_total['총자산대비영업현금흐름']\n",
    "df_total['dp_score'] += coefficients['부가가치율'] * df_total['부가가치율']\n",
    "df_total['dp_score'] += coefficients['자기자본증가율'] * df_total['자기자본증가율']\n",
    "df_total['dp_score'] += coefficients['총자본투자효율'] * df_total['총자본투자효율']\n",
    "df_total['dp_score'] += coefficients['총자본순이익률'] * df_total['총자본순이익률']\n",
    "df_total['dp_score'] += coefficients['매출액영업이익률'] * df_total['매출액영업이익률']"
   ]
  },
  {
   "cell_type": "code",
   "execution_count": 20,
   "metadata": {},
   "outputs": [],
   "source": [
    "lower_bound = df_total['dp_score'].quantile(0.02)\n",
    "upper_bound = df_total['dp_score'].quantile(0.98)\n",
    "df_total_filtered = df_total[(df_total['dp_score'] >= lower_bound) & (df_total['dp_score'] <= upper_bound)]"
   ]
  },
  {
   "cell_type": "code",
   "execution_count": 21,
   "metadata": {},
   "outputs": [
    {
     "data": {
      "text/html": [
       "<div>\n",
       "<style scoped>\n",
       "    .dataframe tbody tr th:only-of-type {\n",
       "        vertical-align: middle;\n",
       "    }\n",
       "\n",
       "    .dataframe tbody tr th {\n",
       "        vertical-align: top;\n",
       "    }\n",
       "\n",
       "    .dataframe thead tr th {\n",
       "        text-align: left;\n",
       "    }\n",
       "\n",
       "    .dataframe thead tr:last-of-type th {\n",
       "        text-align: right;\n",
       "    }\n",
       "</style>\n",
       "<table border=\"1\" class=\"dataframe\">\n",
       "  <thead>\n",
       "    <tr>\n",
       "      <th></th>\n",
       "      <th colspan=\"4\" halign=\"left\">dp_score</th>\n",
       "    </tr>\n",
       "    <tr>\n",
       "      <th></th>\n",
       "      <th>mean</th>\n",
       "      <th>&lt;lambda_0&gt;</th>\n",
       "      <th>&lt;lambda_1&gt;</th>\n",
       "      <th>&lt;lambda_2&gt;</th>\n",
       "    </tr>\n",
       "    <tr>\n",
       "      <th>신용평점</th>\n",
       "      <th></th>\n",
       "      <th></th>\n",
       "      <th></th>\n",
       "      <th></th>\n",
       "    </tr>\n",
       "  </thead>\n",
       "  <tbody>\n",
       "    <tr>\n",
       "      <th>A</th>\n",
       "      <td>28.154951</td>\n",
       "      <td>23.745091</td>\n",
       "      <td>32.890996</td>\n",
       "      <td>38.955927</td>\n",
       "    </tr>\n",
       "    <tr>\n",
       "      <th>AA</th>\n",
       "      <td>28.274881</td>\n",
       "      <td>23.113077</td>\n",
       "      <td>29.142690</td>\n",
       "      <td>35.280266</td>\n",
       "    </tr>\n",
       "    <tr>\n",
       "      <th>B</th>\n",
       "      <td>35.983874</td>\n",
       "      <td>-4.708380</td>\n",
       "      <td>14.277468</td>\n",
       "      <td>28.265222</td>\n",
       "    </tr>\n",
       "    <tr>\n",
       "      <th>BB</th>\n",
       "      <td>16.971487</td>\n",
       "      <td>8.482243</td>\n",
       "      <td>20.936997</td>\n",
       "      <td>30.160283</td>\n",
       "    </tr>\n",
       "    <tr>\n",
       "      <th>BBB</th>\n",
       "      <td>24.572397</td>\n",
       "      <td>18.450270</td>\n",
       "      <td>29.859557</td>\n",
       "      <td>36.544599</td>\n",
       "    </tr>\n",
       "    <tr>\n",
       "      <th>CC</th>\n",
       "      <td>136.886995</td>\n",
       "      <td>-21.416158</td>\n",
       "      <td>12.053075</td>\n",
       "      <td>47.885410</td>\n",
       "    </tr>\n",
       "    <tr>\n",
       "      <th>CCC</th>\n",
       "      <td>20.589735</td>\n",
       "      <td>-13.812044</td>\n",
       "      <td>13.512390</td>\n",
       "      <td>27.339484</td>\n",
       "    </tr>\n",
       "    <tr>\n",
       "      <th>D</th>\n",
       "      <td>-45.733871</td>\n",
       "      <td>-72.809402</td>\n",
       "      <td>-14.435563</td>\n",
       "      <td>19.630394</td>\n",
       "    </tr>\n",
       "  </tbody>\n",
       "</table>\n",
       "</div>"
      ],
      "text/plain": [
       "        dp_score                                 \n",
       "            mean <lambda_0> <lambda_1> <lambda_2>\n",
       "신용평점                                             \n",
       "A      28.154951  23.745091  32.890996  38.955927\n",
       "AA     28.274881  23.113077  29.142690  35.280266\n",
       "B      35.983874  -4.708380  14.277468  28.265222\n",
       "BB     16.971487   8.482243  20.936997  30.160283\n",
       "BBB    24.572397  18.450270  29.859557  36.544599\n",
       "CC    136.886995 -21.416158  12.053075  47.885410\n",
       "CCC    20.589735 -13.812044  13.512390  27.339484\n",
       "D     -45.733871 -72.809402 -14.435563  19.630394"
      ]
     },
     "execution_count": 21,
     "metadata": {},
     "output_type": "execute_result"
    }
   ],
   "source": [
    "df_total[['dp_score','신용평점']].groupby('신용평점').agg(['mean', lambda x: x.quantile(0.25), lambda x: x.quantile(0.5), lambda x: x.quantile(0.75)])"
   ]
  },
  {
   "cell_type": "code",
   "execution_count": 22,
   "metadata": {},
   "outputs": [
    {
     "data": {
      "text/html": [
       "<div>\n",
       "<style scoped>\n",
       "    .dataframe tbody tr th:only-of-type {\n",
       "        vertical-align: middle;\n",
       "    }\n",
       "\n",
       "    .dataframe tbody tr th {\n",
       "        vertical-align: top;\n",
       "    }\n",
       "\n",
       "    .dataframe thead th {\n",
       "        text-align: right;\n",
       "    }\n",
       "</style>\n",
       "<table border=\"1\" class=\"dataframe\">\n",
       "  <thead>\n",
       "    <tr style=\"text-align: right;\">\n",
       "      <th></th>\n",
       "      <th>dp_score</th>\n",
       "    </tr>\n",
       "    <tr>\n",
       "      <th>신용평점</th>\n",
       "      <th></th>\n",
       "    </tr>\n",
       "  </thead>\n",
       "  <tbody>\n",
       "    <tr>\n",
       "      <th>A</th>\n",
       "      <td>28.494314</td>\n",
       "    </tr>\n",
       "    <tr>\n",
       "      <th>AA</th>\n",
       "      <td>28.274881</td>\n",
       "    </tr>\n",
       "    <tr>\n",
       "      <th>B</th>\n",
       "      <td>10.679252</td>\n",
       "    </tr>\n",
       "    <tr>\n",
       "      <th>BB</th>\n",
       "      <td>17.526530</td>\n",
       "    </tr>\n",
       "    <tr>\n",
       "      <th>BBB</th>\n",
       "      <td>25.124076</td>\n",
       "    </tr>\n",
       "    <tr>\n",
       "      <th>CC</th>\n",
       "      <td>3.743929</td>\n",
       "    </tr>\n",
       "    <tr>\n",
       "      <th>CCC</th>\n",
       "      <td>3.176542</td>\n",
       "    </tr>\n",
       "    <tr>\n",
       "      <th>D</th>\n",
       "      <td>-16.799704</td>\n",
       "    </tr>\n",
       "  </tbody>\n",
       "</table>\n",
       "</div>"
      ],
      "text/plain": [
       "       dp_score\n",
       "신용평점           \n",
       "A     28.494314\n",
       "AA    28.274881\n",
       "B     10.679252\n",
       "BB    17.526530\n",
       "BBB   25.124076\n",
       "CC     3.743929\n",
       "CCC    3.176542\n",
       "D    -16.799704"
      ]
     },
     "execution_count": 22,
     "metadata": {},
     "output_type": "execute_result"
    }
   ],
   "source": [
    "df_total_filtered[['dp_score','신용평점']].groupby('신용평점').mean()"
   ]
  }
 ],
 "metadata": {
  "kernelspec": {
   "display_name": "Python 3",
   "language": "python",
   "name": "python3"
  },
  "language_info": {
   "codemirror_mode": {
    "name": "ipython",
    "version": 3
   },
   "file_extension": ".py",
   "mimetype": "text/x-python",
   "name": "python",
   "nbconvert_exporter": "python",
   "pygments_lexer": "ipython3",
   "version": "3.10.9"
  },
  "orig_nbformat": 4
 },
 "nbformat": 4,
 "nbformat_minor": 2
}
