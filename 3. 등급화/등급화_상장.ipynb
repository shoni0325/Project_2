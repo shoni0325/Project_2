{
 "cells": [
  {
   "cell_type": "code",
   "execution_count": 33,
   "metadata": {},
   "outputs": [],
   "source": [
    "import pandas as pd\n",
    "import numpy as np\n",
    "import seaborn as sns\n",
    "import matplotlib.pyplot as plt\n",
    "from sklearn.preprocessing import MinMaxScaler\n",
    "# 그래프에서 한글 깨짐 방지\n",
    "import platform\n",
    "if platform.system() == \"Darwin\":          # MAC인 경우\n",
    "    plt.rc('font', family =\"AppleGothic\")\n",
    "else:\n",
    "    plt.rc('font',family='Malgun Gothic')\n",
    "\n",
    "#멧플로립에서 음수를 표시\n",
    "plt.rc('axes',unicode_minus=False)\n",
    "\n",
    "#워닝 메시지\n",
    "import warnings\n",
    "warnings.filterwarnings('ignore')"
   ]
  },
  {
   "cell_type": "code",
   "execution_count": 34,
   "metadata": {},
   "outputs": [],
   "source": [
    "df = pd.read_csv('../data/t-1_raw_상장.csv')"
   ]
  },
  {
   "cell_type": "code",
   "execution_count": 35,
   "metadata": {},
   "outputs": [],
   "source": [
    "df['FCF'] = df['OCF(천원)'] + df['ICF(천원)']\n",
    "df['매출액대비잉여현금흐름'] = df['FCF'] / df['매출액(천원)']\n",
    "df['총자산대비영업현금흐름'] = df['OCF(천원)'] / df['자산총계(천원)']"
   ]
  },
  {
   "cell_type": "markdown",
   "metadata": {},
   "source": [
    "---\n",
    "- 결측치, 무한대값 삭제"
   ]
  },
  {
   "cell_type": "code",
   "execution_count": 36,
   "metadata": {},
   "outputs": [],
   "source": [
    "df = df[['회사명', '거래소코드', '부채비율', '총자본회전률', '매출액대비잉여현금흐름', 'PBR', '총자산대비영업현금흐름', '자기자본증가율', '총자본투자효율', '총자본순이익률', '매출액영업이익률', 't-1감사의견코드']]"
   ]
  },
  {
   "cell_type": "code",
   "execution_count": 37,
   "metadata": {},
   "outputs": [],
   "source": [
    "df.isna().sum()\n",
    "df.dropna(axis=0,inplace=True)"
   ]
  },
  {
   "cell_type": "code",
   "execution_count": 38,
   "metadata": {},
   "outputs": [],
   "source": [
    "df.isin([np.inf,-np.inf]).sum()\n",
    "df = df.replace([np.inf, -np.inf], np.nan)  # inf 값을 NaN으로 대체\n",
    "df = df.dropna()  # NaN이 있는 행 삭제"
   ]
  },
  {
   "cell_type": "markdown",
   "metadata": {},
   "source": [
    "---\n",
    "- 이상치 제거 (1%)"
   ]
  },
  {
   "cell_type": "code",
   "execution_count": 39,
   "metadata": {},
   "outputs": [
    {
     "data": {
      "text/html": [
       "<div>\n",
       "<style scoped>\n",
       "    .dataframe tbody tr th:only-of-type {\n",
       "        vertical-align: middle;\n",
       "    }\n",
       "\n",
       "    .dataframe tbody tr th {\n",
       "        vertical-align: top;\n",
       "    }\n",
       "\n",
       "    .dataframe thead th {\n",
       "        text-align: right;\n",
       "    }\n",
       "</style>\n",
       "<table border=\"1\" class=\"dataframe\">\n",
       "  <thead>\n",
       "    <tr style=\"text-align: right;\">\n",
       "      <th></th>\n",
       "      <th>거래소코드</th>\n",
       "      <th>부채비율</th>\n",
       "      <th>총자본회전률</th>\n",
       "      <th>매출액대비잉여현금흐름</th>\n",
       "      <th>PBR</th>\n",
       "      <th>총자산대비영업현금흐름</th>\n",
       "      <th>자기자본증가율</th>\n",
       "      <th>총자본투자효율</th>\n",
       "      <th>총자본순이익률</th>\n",
       "      <th>매출액영업이익률</th>\n",
       "      <th>t-1감사의견코드</th>\n",
       "    </tr>\n",
       "  </thead>\n",
       "  <tbody>\n",
       "    <tr>\n",
       "      <th>count</th>\n",
       "      <td>14716.000000</td>\n",
       "      <td>14716.000000</td>\n",
       "      <td>14716.000000</td>\n",
       "      <td>14716.000000</td>\n",
       "      <td>14716.000000</td>\n",
       "      <td>14716.000000</td>\n",
       "      <td>14716.000000</td>\n",
       "      <td>14716.000000</td>\n",
       "      <td>14716.000000</td>\n",
       "      <td>14716.000000</td>\n",
       "      <td>14716.000000</td>\n",
       "    </tr>\n",
       "    <tr>\n",
       "      <th>mean</th>\n",
       "      <td>78234.785947</td>\n",
       "      <td>137.238289</td>\n",
       "      <td>0.922312</td>\n",
       "      <td>-1.958144</td>\n",
       "      <td>-21.832149</td>\n",
       "      <td>0.040765</td>\n",
       "      <td>16.380499</td>\n",
       "      <td>18.061905</td>\n",
       "      <td>1.205548</td>\n",
       "      <td>-90.270031</td>\n",
       "      <td>0.005096</td>\n",
       "    </tr>\n",
       "    <tr>\n",
       "      <th>std</th>\n",
       "      <td>81340.164128</td>\n",
       "      <td>964.774898</td>\n",
       "      <td>0.565298</td>\n",
       "      <td>166.002738</td>\n",
       "      <td>468.534317</td>\n",
       "      <td>0.102508</td>\n",
       "      <td>187.670567</td>\n",
       "      <td>17.901886</td>\n",
       "      <td>14.051543</td>\n",
       "      <td>4501.911671</td>\n",
       "      <td>0.071210</td>\n",
       "    </tr>\n",
       "    <tr>\n",
       "      <th>min</th>\n",
       "      <td>20.000000</td>\n",
       "      <td>0.000000</td>\n",
       "      <td>0.000000</td>\n",
       "      <td>-19895.239494</td>\n",
       "      <td>-56563.287051</td>\n",
       "      <td>-2.187211</td>\n",
       "      <td>-807.100000</td>\n",
       "      <td>-348.610000</td>\n",
       "      <td>-318.880000</td>\n",
       "      <td>-373364.740000</td>\n",
       "      <td>0.000000</td>\n",
       "    </tr>\n",
       "    <tr>\n",
       "      <th>25%</th>\n",
       "      <td>15710.000000</td>\n",
       "      <td>36.880000</td>\n",
       "      <td>0.560000</td>\n",
       "      <td>-0.083781</td>\n",
       "      <td>-18.997475</td>\n",
       "      <td>-0.001988</td>\n",
       "      <td>0.000000</td>\n",
       "      <td>10.690000</td>\n",
       "      <td>-1.200000</td>\n",
       "      <td>0.600000</td>\n",
       "      <td>0.000000</td>\n",
       "    </tr>\n",
       "    <tr>\n",
       "      <th>50%</th>\n",
       "      <td>52860.000000</td>\n",
       "      <td>78.685000</td>\n",
       "      <td>0.830000</td>\n",
       "      <td>-0.002317</td>\n",
       "      <td>-9.394634</td>\n",
       "      <td>0.045075</td>\n",
       "      <td>4.430000</td>\n",
       "      <td>17.440000</td>\n",
       "      <td>2.680000</td>\n",
       "      <td>4.270000</td>\n",
       "      <td>0.000000</td>\n",
       "    </tr>\n",
       "    <tr>\n",
       "      <th>75%</th>\n",
       "      <td>101400.000000</td>\n",
       "      <td>145.585000</td>\n",
       "      <td>1.160000</td>\n",
       "      <td>0.052914</td>\n",
       "      <td>-3.768958</td>\n",
       "      <td>0.091053</td>\n",
       "      <td>13.860000</td>\n",
       "      <td>25.260000</td>\n",
       "      <td>6.590000</td>\n",
       "      <td>9.010000</td>\n",
       "      <td>0.000000</td>\n",
       "    </tr>\n",
       "    <tr>\n",
       "      <th>max</th>\n",
       "      <td>439090.000000</td>\n",
       "      <td>84510.240000</td>\n",
       "      <td>8.510000</td>\n",
       "      <td>411.793790</td>\n",
       "      <td>37.980402</td>\n",
       "      <td>0.782707</td>\n",
       "      <td>14501.350000</td>\n",
       "      <td>233.670000</td>\n",
       "      <td>252.030000</td>\n",
       "      <td>88.370000</td>\n",
       "      <td>1.000000</td>\n",
       "    </tr>\n",
       "  </tbody>\n",
       "</table>\n",
       "</div>"
      ],
      "text/plain": [
       "               거래소코드          부채비율        총자본회전률   매출액대비잉여현금흐름           PBR  \\\n",
       "count   14716.000000  14716.000000  14716.000000  14716.000000  14716.000000   \n",
       "mean    78234.785947    137.238289      0.922312     -1.958144    -21.832149   \n",
       "std     81340.164128    964.774898      0.565298    166.002738    468.534317   \n",
       "min        20.000000      0.000000      0.000000 -19895.239494 -56563.287051   \n",
       "25%     15710.000000     36.880000      0.560000     -0.083781    -18.997475   \n",
       "50%     52860.000000     78.685000      0.830000     -0.002317     -9.394634   \n",
       "75%    101400.000000    145.585000      1.160000      0.052914     -3.768958   \n",
       "max    439090.000000  84510.240000      8.510000    411.793790     37.980402   \n",
       "\n",
       "        총자산대비영업현금흐름       자기자본증가율       총자본투자효율       총자본순이익률       매출액영업이익률  \\\n",
       "count  14716.000000  14716.000000  14716.000000  14716.000000   14716.000000   \n",
       "mean       0.040765     16.380499     18.061905      1.205548     -90.270031   \n",
       "std        0.102508    187.670567     17.901886     14.051543    4501.911671   \n",
       "min       -2.187211   -807.100000   -348.610000   -318.880000 -373364.740000   \n",
       "25%       -0.001988      0.000000     10.690000     -1.200000       0.600000   \n",
       "50%        0.045075      4.430000     17.440000      2.680000       4.270000   \n",
       "75%        0.091053     13.860000     25.260000      6.590000       9.010000   \n",
       "max        0.782707  14501.350000    233.670000    252.030000      88.370000   \n",
       "\n",
       "          t-1감사의견코드  \n",
       "count  14716.000000  \n",
       "mean       0.005096  \n",
       "std        0.071210  \n",
       "min        0.000000  \n",
       "25%        0.000000  \n",
       "50%        0.000000  \n",
       "75%        0.000000  \n",
       "max        1.000000  "
      ]
     },
     "execution_count": 39,
     "metadata": {},
     "output_type": "execute_result"
    }
   ],
   "source": [
    "# std, Mean·Median\n",
    "df.describe()"
   ]
  },
  {
   "cell_type": "code",
   "execution_count": 40,
   "metadata": {},
   "outputs": [],
   "source": [
    "import numpy as np\n",
    "\n",
    "# 컬럼 이름\n",
    "column_name = '매출액영업이익률'\n",
    "\n",
    "# 하위 1%, 상위 1% 값을 계산\n",
    "lower_bound = df[column_name].quantile(0.005)\n",
    "upper_bound = df[column_name].quantile(0.995)\n",
    "\n",
    "# 1% 미만 및 1% 초과 데이터 선택 후 삭제\n",
    "df = df[(df[column_name] >= lower_bound) & (df[column_name] <= upper_bound)]\n"
   ]
  },
  {
   "cell_type": "code",
   "execution_count": 41,
   "metadata": {},
   "outputs": [],
   "source": [
    "# import numpy as np\n",
    "\n",
    "# # 컬럼 이름\n",
    "# column_name = '부채비율'\n",
    "\n",
    "# # 하위 1%, 상위 1% 값을 계산\n",
    "# lower_bound = df[column_name].quantile(0.005)\n",
    "# upper_bound = df[column_name].quantile(0.995)\n",
    "\n",
    "# # 1% 미만 및 1% 초과 데이터 선택 후 삭제\n",
    "# df = df[(df[column_name] >= lower_bound) & (df[column_name] <= upper_bound)]"
   ]
  },
  {
   "cell_type": "code",
   "execution_count": 42,
   "metadata": {},
   "outputs": [],
   "source": [
    "# import numpy as np\n",
    "\n",
    "# # 컬럼 이름\n",
    "# column_name = 'PBR'\n",
    "\n",
    "# # 하위 1%, 상위 1% 값을 계산\n",
    "# lower_bound = df[column_name].quantile(0.01)\n",
    "# upper_bound = df[column_name].quantile(0.99)\n",
    "\n",
    "# # 1% 미만 및 1% 초과 데이터 선택 후 삭제\n",
    "# df = df[(df[column_name] >= lower_bound) & (df[column_name] <= upper_bound)]"
   ]
  },
  {
   "cell_type": "code",
   "execution_count": 43,
   "metadata": {},
   "outputs": [],
   "source": [
    "# import numpy as np\n",
    "\n",
    "# # 컬럼 이름\n",
    "# column_name = '자기자본증가율'\n",
    "\n",
    "# # 하위 1%, 상위 1% 값을 계산\n",
    "# lower_bound = df[column_name].quantile(0.01)\n",
    "# upper_bound = df[column_name].quantile(0.99)\n",
    "\n",
    "# # 1% 미만 및 1% 초과 데이터 선택 후 삭제\n",
    "# df = df[(df[column_name] >= lower_bound) & (df[column_name] <= upper_bound)]"
   ]
  },
  {
   "cell_type": "markdown",
   "metadata": {},
   "source": [
    "---\n",
    "- DP_score"
   ]
  },
  {
   "cell_type": "code",
   "execution_count": 44,
   "metadata": {},
   "outputs": [],
   "source": [
    "# Scaling\n",
    "scaler=MinMaxScaler()\n",
    "df.iloc[:,2:-1]=scaler.fit_transform(df.iloc[:,2:-1])"
   ]
  },
  {
   "cell_type": "code",
   "execution_count": 45,
   "metadata": {},
   "outputs": [],
   "source": [
    "# dp-score 계수\n",
    "coefficients = {\n",
    "    '부채비율' : np.exp(-0.30259864),\n",
    "    '총자본회전률' : np.exp(1.0667429),\n",
    "    '매출액대비잉여현금흐름' : np.exp(0.03715004),\n",
    "    'PBR' : np.exp(-0.33048908),\n",
    "    '총자산대비영업현금흐름' : np.exp(-0.12926251),\n",
    "    '자기자본증가율' : np.exp(-0.36731349),\n",
    "    '총자본투자효율' : np.exp(-0.33997948),\n",
    "    '총자본순이익률' : np.exp(0.94653419),\n",
    "    '매출액영업이익률' : np.exp(-0.35456208),\n",
    "    'constant' : 0.71344978\n",
    "}\n",
    "\n",
    "# O-Score 계산\n",
    "df['dp_score'] = coefficients['constant']\n",
    "df['dp_score'] += coefficients['부채비율'] * df['부채비율']\n",
    "df['dp_score'] += coefficients['총자본회전률'] * df['총자본회전률']\n",
    "df['dp_score'] += coefficients['매출액대비잉여현금흐름'] * df['매출액대비잉여현금흐름']\n",
    "df['dp_score'] += coefficients['PBR'] * df['PBR']\n",
    "df['dp_score'] += coefficients['총자산대비영업현금흐름'] * df['총자산대비영업현금흐름']\n",
    "df['dp_score'] += coefficients['자기자본증가율'] * df['자기자본증가율']\n",
    "df['dp_score'] += coefficients['총자본투자효율'] * df['총자본투자효율']\n",
    "df['dp_score'] += coefficients['총자본순이익률'] * df['총자본순이익률']\n",
    "df['dp_score'] += coefficients['매출액영업이익률'] * df['매출액영업이익률']"
   ]
  },
  {
   "cell_type": "code",
   "execution_count": 46,
   "metadata": {},
   "outputs": [
    {
     "data": {
      "text/plain": [
       "(14568, 13)"
      ]
     },
     "execution_count": 46,
     "metadata": {},
     "output_type": "execute_result"
    }
   ],
   "source": [
    "df.shape"
   ]
  },
  {
   "cell_type": "code",
   "execution_count": 47,
   "metadata": {},
   "outputs": [
    {
     "data": {
      "text/plain": [
       "5.270520170808479"
      ]
     },
     "execution_count": 47,
     "metadata": {},
     "output_type": "execute_result"
    }
   ],
   "source": [
    "df[df['t-1감사의견코드']==1]['dp_score'].mean()"
   ]
  },
  {
   "cell_type": "markdown",
   "metadata": {},
   "source": [
    "- 2022년 신용평가\n",
    "    - AA : 5.371351\n",
    "    - A : 5.478527\n",
    "    - BBB : 5.469861\n",
    "    - BB : 5.390075\n",
    "    - B : 5.204838\n",
    "    - C : 4.793609\n"
   ]
  },
  {
   "cell_type": "code",
   "execution_count": 48,
   "metadata": {},
   "outputs": [
    {
     "data": {
      "text/plain": [
       "count    14568.000000\n",
       "mean         5.539700\n",
       "std          0.261150\n",
       "min          3.367792\n",
       "25%          5.405715\n",
       "50%          5.530197\n",
       "75%          5.667366\n",
       "max          7.817149\n",
       "Name: dp_score, dtype: float64"
      ]
     },
     "execution_count": 48,
     "metadata": {},
     "output_type": "execute_result"
    }
   ],
   "source": [
    "df['dp_score'].describe()"
   ]
  }
 ],
 "metadata": {
  "kernelspec": {
   "display_name": "Python 3",
   "language": "python",
   "name": "python3"
  },
  "language_info": {
   "codemirror_mode": {
    "name": "ipython",
    "version": 3
   },
   "file_extension": ".py",
   "mimetype": "text/x-python",
   "name": "python",
   "nbconvert_exporter": "python",
   "pygments_lexer": "ipython3",
   "version": "3.10.9"
  },
  "orig_nbformat": 4
 },
 "nbformat": 4,
 "nbformat_minor": 2
}
