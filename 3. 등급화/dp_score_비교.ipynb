{
 "cells": [
  {
   "cell_type": "code",
   "execution_count": 54,
   "metadata": {},
   "outputs": [],
   "source": [
    "import pandas as pd\n",
    "import numpy as np\n",
    "import seaborn as sns\n",
    "import matplotlib.pyplot as plt\n",
    "from sklearn.preprocessing import MinMaxScaler\n",
    "# 그래프에서 한글 깨짐 방지\n",
    "import platform\n",
    "if platform.system() == \"Darwin\":          # MAC인 경우\n",
    "    plt.rc('font', family =\"AppleGothic\")\n",
    "else:\n",
    "    plt.rc('font',family='Malgun Gothic')\n",
    "\n",
    "#멧플로립에서 음수를 표시\n",
    "plt.rc('axes',unicode_minus=False)\n",
    "\n",
    "#워닝 메시지\n",
    "import warnings\n",
    "warnings.filterwarnings('ignore')"
   ]
  },
  {
   "cell_type": "code",
   "execution_count": 55,
   "metadata": {},
   "outputs": [],
   "source": [
    "df = pd.read_csv('../상장기업/Dataset/t-1_raw_상장.csv')\n",
    "\n",
    "df['FCF'] = df['OCF(천원)'] + df['ICF(천원)']\n",
    "df['매출액대비잉여현금흐름'] = df['FCF'] / df['매출액(천원)']\n",
    "df['총자산대비영업현금흐름'] = df['OCF(천원)'] / df['자산총계(천원)']\n",
    "df = df[['회사명', '거래소코드', '부채비율', '총자본회전률', '매출액대비잉여현금흐름', 'PBR', '총자산대비영업현금흐름', '자기자본증가율', '총자본투자효율', '총자본순이익률', '매출액영업이익률', 't-1감사의견코드']]\n",
    "df = df[['회사명', '거래소코드', '부채비율', '총자본회전률', '매출액대비잉여현금흐름', 'PBR', '총자산대비영업현금흐름', '자기자본증가율', '총자본투자효율', '총자본순이익률', '매출액영업이익률', 't-1감사의견코드']]"
   ]
  },
  {
   "cell_type": "code",
   "execution_count": 56,
   "metadata": {},
   "outputs": [],
   "source": [
    "df.isna().sum()\n",
    "df.dropna(axis=0,inplace=True)\n",
    "df.isin([np.inf,-np.inf]).sum()\n",
    "df = df.replace([np.inf, -np.inf], np.nan)  # inf 값을 NaN으로 대체\n",
    "df = df.dropna()  # NaN이 있는 행 삭제"
   ]
  },
  {
   "cell_type": "code",
   "execution_count": 57,
   "metadata": {},
   "outputs": [],
   "source": [
    "import numpy as np\n",
    "\n",
    "# 컬럼 이름\n",
    "column_name = '매출액영업이익률'\n",
    "\n",
    "# 하위 1%, 상위 1% 값을 계산\n",
    "lower_bound = df[column_name].quantile(0.005)\n",
    "upper_bound = df[column_name].quantile(0.995)\n",
    "\n",
    "# 1% 미만 및 1% 초과 데이터 선택 후 삭제\n",
    "df = df[(df[column_name] >= lower_bound) & (df[column_name] <= upper_bound)]\n"
   ]
  },
  {
   "cell_type": "code",
   "execution_count": 58,
   "metadata": {},
   "outputs": [],
   "source": [
    "# Scaling\n",
    "scaler=MinMaxScaler()\n",
    "df.iloc[:,2:-1]=scaler.fit_transform(df.iloc[:,2:-1])"
   ]
  },
  {
   "cell_type": "code",
   "execution_count": 59,
   "metadata": {},
   "outputs": [],
   "source": [
    "# dp-score 계수\n",
    "coefficients = {\n",
    "    '부채비율' : np.exp(-0.30259864),\n",
    "    '총자본회전률' : np.exp(1.0667429),\n",
    "    '매출액대비잉여현금흐름' : np.exp(0.03715004),\n",
    "    'PBR' : np.exp(-0.33048908),\n",
    "    '총자산대비영업현금흐름' : np.exp(-0.12926251),\n",
    "    '자기자본증가율' : np.exp(-0.36731349),\n",
    "    '총자본투자효율' : np.exp(-0.33997948),\n",
    "    '총자본순이익률' : np.exp(0.94653419),\n",
    "    '매출액영업이익률' : np.exp(-0.35456208),\n",
    "    'constant' : 0.71344978\n",
    "}\n",
    "\n",
    "# O-Score 계산\n",
    "df['dp_score'] = coefficients['constant']\n",
    "df['dp_score'] += coefficients['부채비율'] * df['부채비율']\n",
    "df['dp_score'] += coefficients['총자본회전률'] * df['총자본회전률']\n",
    "df['dp_score'] += coefficients['매출액대비잉여현금흐름'] * df['매출액대비잉여현금흐름']\n",
    "df['dp_score'] += coefficients['PBR'] * df['PBR']\n",
    "df['dp_score'] += coefficients['총자산대비영업현금흐름'] * df['총자산대비영업현금흐름']\n",
    "df['dp_score'] += coefficients['자기자본증가율'] * df['자기자본증가율']\n",
    "df['dp_score'] += coefficients['총자본투자효율'] * df['총자본투자효율']\n",
    "df['dp_score'] += coefficients['총자본순이익률'] * df['총자본순이익률']\n",
    "df['dp_score'] += coefficients['매출액영업이익률'] * df['매출액영업이익률']"
   ]
  },
  {
   "cell_type": "code",
   "execution_count": 60,
   "metadata": {},
   "outputs": [],
   "source": [
    "df_상장=df[df['t-1감사의견코드']==1]\n",
    "# df_상장['dp_score'].mean()"
   ]
  },
  {
   "cell_type": "markdown",
   "metadata": {},
   "source": [
    "---"
   ]
  },
  {
   "cell_type": "code",
   "execution_count": 61,
   "metadata": {},
   "outputs": [],
   "source": [
    "df=pd.read_csv('../외감기업/raw_data/t-1_raw_외감.csv',encoding='euc-kr')\n",
    "df['자산총계(천원)'] = df['자산총계(천원)'] * 1000\n",
    "df['log자산총계'] = np.log(df['자산총계(천원)'])\n",
    "df['잉여현금흐름(FCF)']=df['OCF(천원)']-df['ICF(천원)']\n",
    "df['전체현금흐름(천원)']=df['OCF(천원)']+df['ICF(천원)']+df['FCF(천원)']\n",
    "\n",
    "df['총자산대비잉여현금흐름'] = df['잉여현금흐름(FCF)']/df['자산총계(천원)']\n",
    "df['총자산대비현금흐름'] = df['전체현금흐름(천원)'] / df['자산총계(천원)']\n",
    "df=df[['유동자산회전률', '총자산대비잉여현금흐름','자기자본구성비율', 'log자산총계','자기자본회전률', '순운전자본회전률', '자기자본증가율', '총자본증가율', '총자산대비현금흐름', '총자본투자효율','t-1감사의견코드']]"
   ]
  },
  {
   "cell_type": "code",
   "execution_count": 62,
   "metadata": {},
   "outputs": [],
   "source": [
    "df.isna().sum()\n",
    "df.dropna(axis=0,inplace=True)\n",
    "df.isin([np.inf,-np.inf]).sum()\n",
    "df = df.replace([np.inf, -np.inf], np.nan)  # inf 값을 NaN으로 대체\n",
    "df = df.dropna()  # NaN이 있는 행 삭제"
   ]
  },
  {
   "cell_type": "code",
   "execution_count": 63,
   "metadata": {},
   "outputs": [],
   "source": [
    "import numpy as np\n",
    "\n",
    "# 컬럼 이름\n",
    "column_name = '자기자본증가율'\n",
    "\n",
    "# 하위 1%, 상위 1% 값을 계산\n",
    "lower_bound = df[column_name].quantile(0.005)\n",
    "upper_bound = df[column_name].quantile(0.995)\n",
    "\n",
    "# 1% 미만 및 1% 초과 데이터 선택 후 삭제\n",
    "df = df[(df[column_name] >= lower_bound) & (df[column_name] <= upper_bound)]\n",
    "\n",
    "# 컬럼 이름\n",
    "column_name = '유동자산회전률'\n",
    "\n",
    "# 하위 1%, 상위 1% 값을 계산\n",
    "lower_bound = df[column_name].quantile(0.005)\n",
    "upper_bound = df[column_name].quantile(0.995)\n",
    "\n",
    "# 1% 미만 및 1% 초과 데이터 선택 후 삭제\n",
    "df = df[(df[column_name] >= lower_bound) & (df[column_name] <= upper_bound)]\n",
    "\n",
    "# 컬럼 이름\n",
    "column_name = '총자산대비현금흐름'\n",
    "\n",
    "# 하위 1%, 상위 1% 값을 계산\n",
    "lower_bound = df[column_name].quantile(0.005)\n",
    "upper_bound = df[column_name].quantile(0.995)\n",
    "\n",
    "# 1% 미만 및 1% 초과 데이터 선택 후 삭제\n",
    "df = df[(df[column_name] >= lower_bound) & (df[column_name] <= upper_bound)]"
   ]
  },
  {
   "cell_type": "code",
   "execution_count": 64,
   "metadata": {},
   "outputs": [],
   "source": [
    "scaler=MinMaxScaler()\n",
    "df.iloc[:,0:10]=scaler.fit_transform(df.iloc[:,0:10])"
   ]
  },
  {
   "cell_type": "code",
   "execution_count": 65,
   "metadata": {},
   "outputs": [],
   "source": [
    "# dp-Score의 계수\n",
    "coefficients = {\n",
    "    '유동자산회전률':np.exp(0.47765086),                    # 높아야 좋다\n",
    "    '총자산대비잉여현금흐름':np.exp(0.53785436),            # 높아야 좋다\n",
    "    '자기자본구성비율':np.exp(0.49360789),                  # 높아야 좋다\n",
    "    'log자산총계':np.exp(0.94238478),                      # 높아야 좋다\n",
    "    '자기자본회전률':np.exp(-0.08646556),                   # 높아야 좋다\n",
    "    '순운전자본회전률':np.exp(-0.98107367),                 # 높아야 좋다\n",
    "    '자기자본증가율':np.exp(0.19544705),                    # 높아야 좋다\n",
    "    '총자본증가율':np.exp(0.44094258),                      # 높아야 좋다\n",
    "    '총자산대비현금흐름':np.exp(-0.37036301),               # 높아야 좋다\n",
    "    '총자본투자효율':np.exp(0.26458857),                    # 높아야 좋다\n",
    "\n",
    "    'constant': 0.90495308\n",
    "}\n",
    "\n",
    "\n",
    "# O-Score 계산\n",
    "df['dp_score'] = coefficients['constant']\n",
    "df['dp_score'] += coefficients['유동자산회전률'] * df['유동자산회전률']\n",
    "df['dp_score'] += coefficients['총자산대비잉여현금흐름'] * df['총자산대비잉여현금흐름']\n",
    "df['dp_score'] += coefficients['자기자본구성비율'] * df['자기자본구성비율']\n",
    "df['dp_score'] += coefficients['log자산총계'] * df['log자산총계']\n",
    "df['dp_score'] += coefficients['자기자본회전률'] * df['자기자본회전률']\n",
    "df['dp_score'] += coefficients['순운전자본회전률'] * df['순운전자본회전률']\n",
    "df['dp_score'] += coefficients['자기자본증가율'] * df['자기자본증가율']\n",
    "df['dp_score'] += coefficients['총자본증가율'] * df['총자본증가율']\n",
    "df['dp_score'] += coefficients['총자산대비현금흐름'] * df['총자산대비현금흐름']\n",
    "df['dp_score'] += coefficients['총자본투자효율'] * df['총자본투자효율']\n",
    "\n",
    "# 로지스틱 함수를 이용해 부도 확률 계산\n",
    "# df_등급화['default_probability'] = 1 / (1 + np.exp(-df_등급화['dp_score']))"
   ]
  },
  {
   "cell_type": "code",
   "execution_count": 68,
   "metadata": {},
   "outputs": [
    {
     "data": {
      "text/plain": [
       "4.4141268217511875"
      ]
     },
     "execution_count": 68,
     "metadata": {},
     "output_type": "execute_result"
    }
   ],
   "source": [
    "df_외감 =df[df['t-1감사의견코드']==1]\n",
    "df_외감['dp_score'].mean()"
   ]
  },
  {
   "cell_type": "markdown",
   "metadata": {},
   "source": [
    "---"
   ]
  },
  {
   "cell_type": "markdown",
   "metadata": {},
   "source": [
    "- dp_score의 상장 , 비상장 외감기업의 레이블링이 1인 기업들의 유의미한 차이가 있는지 검정"
   ]
  },
  {
   "cell_type": "markdown",
   "metadata": {},
   "source": [
    "- 1. 등분산 검정 (levene,bartlett)\n",
    "- 2. t-test검정  (Welch's t-test)"
   ]
  },
  {
   "cell_type": "markdown",
   "metadata": {},
   "source": [
    "---"
   ]
  },
  {
   "cell_type": "code",
   "execution_count": 70,
   "metadata": {},
   "outputs": [
    {
     "name": "stdout",
     "output_type": "stream",
     "text": [
      "Levene's 등분산성 검정 결과:\n",
      "통계량: 27.797153413031545\n",
      "p-value: 1.3685239738560248e-07\n",
      "p-value가 유의수준보다 작으므로 등분산성 가정을 기각합니다.\n",
      "따라서 등분산성이 만족되지 않습니다.\n"
     ]
    }
   ],
   "source": [
    "import numpy as np\n",
    "from scipy.stats import levene\n",
    "\n",
    "# 두 그룹의 데이터 생성\n",
    "\n",
    "# Levene의 등분산성 검정 수행\n",
    "statistic, p_value = levene(df_상장['dp_score'], df_외감['dp_score'])\n",
    "\n",
    "# 결과 출력\n",
    "print(\"Levene's 등분산성 검정 결과:\")\n",
    "print(\"통계량:\", statistic)\n",
    "print(\"p-value:\", p_value)\n",
    "\n",
    "# 유의수준 설정\n",
    "alpha = 0.05\n",
    "\n",
    "# p-value와 유의수준을 비교하여 결과 해석\n",
    "if p_value < alpha:\n",
    "    print(\"p-value가 유의수준보다 작으므로 등분산성 가정을 기각합니다.\")\n",
    "    print(\"따라서 등분산성이 만족되지 않습니다.\")\n",
    "else:\n",
    "    print(\"p-value가 유의수준보다 크므로 등분산성 가정을 기각할 수 없습니다.\")\n",
    "    print(\"따라서 등분산성이 만족됩니다.\")\n"
   ]
  },
  {
   "cell_type": "code",
   "execution_count": 72,
   "metadata": {},
   "outputs": [
    {
     "name": "stdout",
     "output_type": "stream",
     "text": [
      "Bartlett's 등분산성 검정 결과:\n",
      "통계량: 32.2777488813525\n",
      "p-value: 1.336349264112477e-08\n",
      "p-value가 유의수준보다 작으므로 등분산성 가정을 기각합니다.\n",
      "따라서 등분산성이 만족되지 않습니다.\n"
     ]
    }
   ],
   "source": [
    "import numpy as np\n",
    "from scipy.stats import bartlett\n",
    "\n",
    "# Bartlett의 등분산성 검정 수행\n",
    "statistic, p_value = bartlett(df_상장['dp_score'], df_외감['dp_score'])\n",
    "\n",
    "# 결과 출력\n",
    "print(\"Bartlett's 등분산성 검정 결과:\")\n",
    "print(\"통계량:\", statistic)\n",
    "print(\"p-value:\", p_value)\n",
    "\n",
    "# 유의수준 설정\n",
    "alpha = 0.05\n",
    "\n",
    "# p-value와 유의수준을 비교하여 결과 해석\n",
    "if p_value < alpha:\n",
    "    print(\"p-value가 유의수준보다 작으므로 등분산성 가정을 기각합니다.\")\n",
    "    print(\"따라서 등분산성이 만족되지 않습니다.\")\n",
    "else:\n",
    "    print(\"p-value가 유의수준보다 크므로 등분산성 가정을 기각할 수 없습니다.\")\n",
    "    print(\"따라서 등분산성이 만족됩니다.\")\n"
   ]
  },
  {
   "cell_type": "markdown",
   "metadata": {},
   "source": [
    "---"
   ]
  },
  {
   "cell_type": "code",
   "execution_count": 71,
   "metadata": {},
   "outputs": [
    {
     "name": "stdout",
     "output_type": "stream",
     "text": [
      "Welch's t-test 결과:\n",
      "t-statistic: 30.440984262331284\n",
      "p-value: 8.923973556398974e-44\n",
      "p-value가 유의수준보다 작으므로 귀무가설을 기각합니다.\n",
      "따라서 두 그룹 간의 평균 차이는 통계적으로 유의미합니다.\n"
     ]
    }
   ],
   "source": [
    "import numpy as np\n",
    "from scipy.stats import ttest_ind\n",
    "\n",
    "# 두 그룹의 데이터 생성\n",
    "\n",
    "# Welch's t-test 수행\n",
    "t_statistic, p_value = ttest_ind(df_상장['dp_score'], df_외감['dp_score'], equal_var=False)\n",
    "\n",
    "# 결과 출력\n",
    "print(\"Welch's t-test 결과:\")\n",
    "print(\"t-statistic:\", t_statistic)\n",
    "print(\"p-value:\", p_value)\n",
    "\n",
    "# 유의수준 설정\n",
    "alpha = 0.05\n",
    "\n",
    "# p-value와 유의수준을 비교하여 결과 해석\n",
    "if p_value < alpha:\n",
    "    print(\"p-value가 유의수준보다 작으므로 귀무가설을 기각합니다.\")\n",
    "    print(\"따라서 두 그룹 간의 평균 차이는 통계적으로 유의미합니다.\")\n",
    "else:\n",
    "    print(\"p-value가 유의수준보다 크므로 귀무가설을 기각할 수 없습니다.\")\n",
    "    print(\"따라서 두 그룹 간의 평균 차이는 통계적으로 유의미하지 않습니다.\")\n"
   ]
  },
  {
   "cell_type": "code",
   "execution_count": null,
   "metadata": {},
   "outputs": [],
   "source": []
  }
 ],
 "metadata": {
  "kernelspec": {
   "display_name": "Python 3",
   "language": "python",
   "name": "python3"
  },
  "language_info": {
   "codemirror_mode": {
    "name": "ipython",
    "version": 3
   },
   "file_extension": ".py",
   "mimetype": "text/x-python",
   "name": "python",
   "nbconvert_exporter": "python",
   "pygments_lexer": "ipython3",
   "version": "3.10.9"
  },
  "orig_nbformat": 4
 },
 "nbformat": 4,
 "nbformat_minor": 2
}
