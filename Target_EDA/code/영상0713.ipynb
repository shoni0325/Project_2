{
 "cells": [
  {
   "cell_type": "markdown",
   "metadata": {},
   "source": [
    "## 데이터 EDA과정"
   ]
  },
  {
   "cell_type": "code",
   "execution_count": 97,
   "metadata": {},
   "outputs": [],
   "source": [
    "import pandas as pd"
   ]
  },
  {
   "cell_type": "code",
   "execution_count": 98,
   "metadata": {},
   "outputs": [
    {
     "data": {
      "text/html": [
       "<div>\n",
       "<style scoped>\n",
       "    .dataframe tbody tr th:only-of-type {\n",
       "        vertical-align: middle;\n",
       "    }\n",
       "\n",
       "    .dataframe tbody tr th {\n",
       "        vertical-align: top;\n",
       "    }\n",
       "\n",
       "    .dataframe thead th {\n",
       "        text-align: right;\n",
       "    }\n",
       "</style>\n",
       "<table border=\"1\" class=\"dataframe\">\n",
       "  <thead>\n",
       "    <tr style=\"text-align: right;\">\n",
       "      <th></th>\n",
       "      <th>거래소코드</th>\n",
       "      <th>회계년도</th>\n",
       "      <th>감사의견코드</th>\n",
       "    </tr>\n",
       "    <tr>\n",
       "      <th>회사명</th>\n",
       "      <th></th>\n",
       "      <th></th>\n",
       "      <th></th>\n",
       "    </tr>\n",
       "  </thead>\n",
       "  <tbody>\n",
       "    <tr>\n",
       "      <th>(유)그룹세브코리아</th>\n",
       "      <td>13171</td>\n",
       "      <td>2019/12</td>\n",
       "      <td>NaN</td>\n",
       "    </tr>\n",
       "    <tr>\n",
       "      <th>(유)그룹세브코리아</th>\n",
       "      <td>13171</td>\n",
       "      <td>2020/12</td>\n",
       "      <td>UQ</td>\n",
       "    </tr>\n",
       "    <tr>\n",
       "      <th>(유)그룹세브코리아</th>\n",
       "      <td>13171</td>\n",
       "      <td>2021/12</td>\n",
       "      <td>UQ</td>\n",
       "    </tr>\n",
       "    <tr>\n",
       "      <th>(유)그룹세브코리아</th>\n",
       "      <td>13171</td>\n",
       "      <td>2022/12</td>\n",
       "      <td>UQ</td>\n",
       "    </tr>\n",
       "    <tr>\n",
       "      <th>(유)디에스브이에어앤씨인터내셔널</th>\n",
       "      <td>104275</td>\n",
       "      <td>2021/12</td>\n",
       "      <td>NaN</td>\n",
       "    </tr>\n",
       "    <tr>\n",
       "      <th>...</th>\n",
       "      <td>...</td>\n",
       "      <td>...</td>\n",
       "      <td>...</td>\n",
       "    </tr>\n",
       "    <tr>\n",
       "      <th>힐중공업주식회사</th>\n",
       "      <td>82007</td>\n",
       "      <td>2017/12</td>\n",
       "      <td>QS</td>\n",
       "    </tr>\n",
       "    <tr>\n",
       "      <th>힐중공업주식회사</th>\n",
       "      <td>82007</td>\n",
       "      <td>2018/12</td>\n",
       "      <td>QU</td>\n",
       "    </tr>\n",
       "    <tr>\n",
       "      <th>（주）신미코스메틱</th>\n",
       "      <td>85105</td>\n",
       "      <td>2017/12</td>\n",
       "      <td>NaN</td>\n",
       "    </tr>\n",
       "    <tr>\n",
       "      <th>（주）신미코스메틱</th>\n",
       "      <td>85105</td>\n",
       "      <td>2018/12</td>\n",
       "      <td>UQ</td>\n",
       "    </tr>\n",
       "    <tr>\n",
       "      <th>（주）신미코스메틱</th>\n",
       "      <td>85105</td>\n",
       "      <td>2019/12</td>\n",
       "      <td>UQ</td>\n",
       "    </tr>\n",
       "  </tbody>\n",
       "</table>\n",
       "<p>294820 rows × 3 columns</p>\n",
       "</div>"
      ],
      "text/plain": [
       "                    거래소코드     회계년도 감사의견코드\n",
       "회사명                                      \n",
       "(유)그룹세브코리아          13171  2019/12    NaN\n",
       "(유)그룹세브코리아          13171  2020/12     UQ\n",
       "(유)그룹세브코리아          13171  2021/12     UQ\n",
       "(유)그룹세브코리아          13171  2022/12     UQ\n",
       "(유)디에스브이에어앤씨인터내셔널  104275  2021/12    NaN\n",
       "...                   ...      ...    ...\n",
       "힐중공업주식회사            82007  2017/12     QS\n",
       "힐중공업주식회사            82007  2018/12     QU\n",
       "（주）신미코스메틱           85105  2017/12    NaN\n",
       "（주）신미코스메틱           85105  2018/12     UQ\n",
       "（주）신미코스메틱           85105  2019/12     UQ\n",
       "\n",
       "[294820 rows x 3 columns]"
      ]
     },
     "execution_count": 98,
     "metadata": {},
     "output_type": "execute_result"
    }
   ],
   "source": [
    "df=pd.read_csv('./Dataset/mk_target.csv',encoding='euc-kr',index_col=0)\n",
    "df"
   ]
  },
  {
   "cell_type": "code",
   "execution_count": 99,
   "metadata": {},
   "outputs": [
    {
     "data": {
      "text/plain": [
       "거래소코드         0\n",
       "회계년도          0\n",
       "감사의견코드    32934\n",
       "dtype: int64"
      ]
     },
     "execution_count": 99,
     "metadata": {},
     "output_type": "execute_result"
    }
   ],
   "source": [
    "df.isna().sum()"
   ]
  },
  {
   "cell_type": "code",
   "execution_count": 100,
   "metadata": {},
   "outputs": [
    {
     "data": {
      "text/html": [
       "<div>\n",
       "<style scoped>\n",
       "    .dataframe tbody tr th:only-of-type {\n",
       "        vertical-align: middle;\n",
       "    }\n",
       "\n",
       "    .dataframe tbody tr th {\n",
       "        vertical-align: top;\n",
       "    }\n",
       "\n",
       "    .dataframe thead th {\n",
       "        text-align: right;\n",
       "    }\n",
       "</style>\n",
       "<table border=\"1\" class=\"dataframe\">\n",
       "  <thead>\n",
       "    <tr style=\"text-align: right;\">\n",
       "      <th></th>\n",
       "      <th>거래소코드</th>\n",
       "      <th>회계년도</th>\n",
       "      <th>감사의견코드</th>\n",
       "    </tr>\n",
       "    <tr>\n",
       "      <th>회사명</th>\n",
       "      <th></th>\n",
       "      <th></th>\n",
       "      <th></th>\n",
       "    </tr>\n",
       "  </thead>\n",
       "  <tbody>\n",
       "    <tr>\n",
       "      <th>(주)제이더블유엘</th>\n",
       "      <td>58276</td>\n",
       "      <td>2012/12</td>\n",
       "      <td>ZZ</td>\n",
       "    </tr>\n",
       "  </tbody>\n",
       "</table>\n",
       "</div>"
      ],
      "text/plain": [
       "           거래소코드     회계년도 감사의견코드\n",
       "회사명                             \n",
       "(주)제이더블유엘  58276  2012/12     ZZ"
      ]
     },
     "execution_count": 100,
     "metadata": {},
     "output_type": "execute_result"
    }
   ],
   "source": [
    "df[df['감사의견코드']=='ZZ']"
   ]
  },
  {
   "cell_type": "code",
   "execution_count": 101,
   "metadata": {},
   "outputs": [
    {
     "data": {
      "text/plain": [
       "감사의견코드\n",
       "UQ    239780\n",
       "QS     13023\n",
       "DU      3604\n",
       "DS      2559\n",
       "QG      1208\n",
       "QU      1152\n",
       "AG       527\n",
       "QQ        27\n",
       "QA         4\n",
       "ZZ         1\n",
       "DI         1\n",
       "Name: count, dtype: int64"
      ]
     },
     "execution_count": 101,
     "metadata": {},
     "output_type": "execute_result"
    }
   ],
   "source": [
    "df['감사의견코드'].value_counts()"
   ]
  },
  {
   "cell_type": "code",
   "execution_count": 102,
   "metadata": {},
   "outputs": [],
   "source": [
    "df['감사의견코드']=df['감사의견코드'].map({\n",
    "    'AG':'부적정',\n",
    "    'DS':'의견거절',\n",
    "    'DI':'의견거절',\n",
    "    'DU':'의견거절',\n",
    "    'QA':'한정',\n",
    "    'QC':'한정',\n",
    "    'QG':'한정',\n",
    "    'QQ':'한정',\n",
    "    'QS':'한정',\n",
    "    'QU':'한정',\n",
    "    'UQ':'적정',\n",
    "    'ZZ':'ZZ'\n",
    "\n",
    "})"
   ]
  },
  {
   "cell_type": "code",
   "execution_count": 103,
   "metadata": {},
   "outputs": [
    {
     "data": {
      "text/plain": [
       "32934"
      ]
     },
     "execution_count": 103,
     "metadata": {},
     "output_type": "execute_result"
    }
   ],
   "source": [
    "df['감사의견코드'].isna().sum()"
   ]
  },
  {
   "cell_type": "code",
   "execution_count": 104,
   "metadata": {},
   "outputs": [
    {
     "data": {
      "text/plain": [
       "감사의견코드\n",
       "적정      239780\n",
       "한정       15414\n",
       "의견거절      6164\n",
       "부적정        527\n",
       "ZZ           1\n",
       "Name: count, dtype: int64"
      ]
     },
     "execution_count": 104,
     "metadata": {},
     "output_type": "execute_result"
    }
   ],
   "source": [
    "df['감사의견코드'].value_counts()"
   ]
  },
  {
   "cell_type": "code",
   "execution_count": 105,
   "metadata": {},
   "outputs": [
    {
     "data": {
      "text/plain": [
       "0.09218867295020436"
      ]
     },
     "execution_count": 105,
     "metadata": {},
     "output_type": "execute_result"
    }
   ],
   "source": [
    "(15414+6164+527)/239780"
   ]
  },
  {
   "cell_type": "code",
   "execution_count": 106,
   "metadata": {},
   "outputs": [
    {
     "data": {
      "text/plain": [
       "22105"
      ]
     },
     "execution_count": 106,
     "metadata": {},
     "output_type": "execute_result"
    }
   ],
   "source": [
    "(15414+6164+527)"
   ]
  },
  {
   "cell_type": "code",
   "execution_count": 107,
   "metadata": {},
   "outputs": [
    {
     "data": {
      "text/plain": [
       "거래소코드         0\n",
       "회계년도          0\n",
       "감사의견코드    32934\n",
       "dtype: int64"
      ]
     },
     "execution_count": 107,
     "metadata": {},
     "output_type": "execute_result"
    }
   ],
   "source": [
    "df.isna().sum()"
   ]
  },
  {
   "cell_type": "markdown",
   "metadata": {},
   "source": [
    "* 감사의견 코드 ZZ가 뭘까?"
   ]
  },
  {
   "cell_type": "code",
   "execution_count": 108,
   "metadata": {},
   "outputs": [
    {
     "data": {
      "text/html": [
       "<div>\n",
       "<style scoped>\n",
       "    .dataframe tbody tr th:only-of-type {\n",
       "        vertical-align: middle;\n",
       "    }\n",
       "\n",
       "    .dataframe tbody tr th {\n",
       "        vertical-align: top;\n",
       "    }\n",
       "\n",
       "    .dataframe thead th {\n",
       "        text-align: right;\n",
       "    }\n",
       "</style>\n",
       "<table border=\"1\" class=\"dataframe\">\n",
       "  <thead>\n",
       "    <tr style=\"text-align: right;\">\n",
       "      <th></th>\n",
       "      <th>거래소코드</th>\n",
       "      <th>회계년도</th>\n",
       "      <th>감사의견코드</th>\n",
       "    </tr>\n",
       "    <tr>\n",
       "      <th>회사명</th>\n",
       "      <th></th>\n",
       "      <th></th>\n",
       "      <th></th>\n",
       "    </tr>\n",
       "  </thead>\n",
       "  <tbody>\n",
       "    <tr>\n",
       "      <th>(주)제이더블유엘</th>\n",
       "      <td>58276</td>\n",
       "      <td>2012/12</td>\n",
       "      <td>ZZ</td>\n",
       "    </tr>\n",
       "  </tbody>\n",
       "</table>\n",
       "</div>"
      ],
      "text/plain": [
       "           거래소코드     회계년도 감사의견코드\n",
       "회사명                             \n",
       "(주)제이더블유엘  58276  2012/12     ZZ"
      ]
     },
     "execution_count": 108,
     "metadata": {},
     "output_type": "execute_result"
    }
   ],
   "source": [
    "df[df['감사의견코드']=='ZZ']"
   ]
  },
  {
   "cell_type": "code",
   "execution_count": 109,
   "metadata": {},
   "outputs": [],
   "source": [
    "df['감사의견코드']=df['감사의견코드'].map({\n",
    "    '적정':0,\n",
    "    '한정':1,\n",
    "    '부적정':1,\n",
    "    '의견거절':1\n",
    "\n",
    "})"
   ]
  },
  {
   "cell_type": "code",
   "execution_count": 110,
   "metadata": {},
   "outputs": [
    {
     "data": {
      "text/plain": [
       "감사의견코드\n",
       "0.0    239780\n",
       "1.0     22105\n",
       "Name: count, dtype: int64"
      ]
     },
     "execution_count": 110,
     "metadata": {},
     "output_type": "execute_result"
    }
   ],
   "source": [
    "df['감사의견코드'].value_counts()"
   ]
  },
  {
   "cell_type": "code",
   "execution_count": 111,
   "metadata": {},
   "outputs": [
    {
     "data": {
      "text/plain": [
       "14793"
      ]
     },
     "execution_count": 111,
     "metadata": {},
     "output_type": "execute_result"
    }
   ],
   "source": [
    "len(df[df['감사의견코드']==1].index.unique())"
   ]
  },
  {
   "cell_type": "code",
   "execution_count": 112,
   "metadata": {},
   "outputs": [],
   "source": [
    "df1=pd.read_csv('./Dataset/중견1.csv',encoding='euc-kr',index_col=0)\n",
    "df2=pd.read_csv('./Dataset/중견2.csv',encoding='euc-kr',index_col=0)\n",
    "df=pd.concat([df1,df2],axis=0)"
   ]
  },
  {
   "cell_type": "code",
   "execution_count": 113,
   "metadata": {},
   "outputs": [],
   "source": [
    "df.to_csv('중견기업.csv',encoding='euc-kr')"
   ]
  },
  {
   "cell_type": "code",
   "execution_count": 114,
   "metadata": {},
   "outputs": [
    {
     "data": {
      "text/plain": [
       "5568"
      ]
     },
     "execution_count": 114,
     "metadata": {},
     "output_type": "execute_result"
    }
   ],
   "source": [
    "len(df.index.unique())"
   ]
  },
  {
   "cell_type": "code",
   "execution_count": 122,
   "metadata": {},
   "outputs": [],
   "source": [
    "#########################################################################################################################################################"
   ]
  },
  {
   "cell_type": "code",
   "execution_count": 115,
   "metadata": {},
   "outputs": [],
   "source": [
    "df2=pd.read_csv('./Dataset/mk_target2.csv',encoding='euc-kr',index_col=0)"
   ]
  },
  {
   "cell_type": "code",
   "execution_count": 116,
   "metadata": {},
   "outputs": [
    {
     "data": {
      "text/plain": [
       "감사의견코드\n",
       "UQ    236730\n",
       "QS     13901\n",
       "DU      3772\n",
       "DS      2632\n",
       "QG      1272\n",
       "QU      1194\n",
       "AG       533\n",
       "QQ        28\n",
       "QA         4\n",
       "ZZ         1\n",
       "DI         1\n",
       "Name: count, dtype: int64"
      ]
     },
     "execution_count": 116,
     "metadata": {},
     "output_type": "execute_result"
    }
   ],
   "source": [
    "df2['감사의견코드'].value_counts()"
   ]
  },
  {
   "cell_type": "code",
   "execution_count": 117,
   "metadata": {},
   "outputs": [],
   "source": [
    "df2['감사의견코드']=df2['감사의견코드'].map({\n",
    "    'AG':'부적정',\n",
    "    'DS':'의견거절',\n",
    "    'DI':'의견거절',\n",
    "    'DU':'의견거절',\n",
    "    'QA':'한정',\n",
    "    'QC':'한정',\n",
    "    'QG':'한정',\n",
    "    'QQ':'한정',\n",
    "    'QS':'한정',\n",
    "    'QU':'한정',\n",
    "    'UQ':'적정',\n",
    "    'ZZ':'ZZ'\n",
    "\n",
    "})"
   ]
  },
  {
   "cell_type": "code",
   "execution_count": 118,
   "metadata": {},
   "outputs": [],
   "source": [
    "df2['감사의견코드']=df2['감사의견코드'].map({\n",
    "    '적정':0,\n",
    "    '한정':1,\n",
    "    '부적정':1,\n",
    "    '의견거절':1\n",
    "\n",
    "})"
   ]
  },
  {
   "cell_type": "code",
   "execution_count": 119,
   "metadata": {},
   "outputs": [
    {
     "data": {
      "text/plain": [
       "감사의견코드\n",
       "0.0    236730\n",
       "1.0     23337\n",
       "Name: count, dtype: int64"
      ]
     },
     "execution_count": 119,
     "metadata": {},
     "output_type": "execute_result"
    }
   ],
   "source": [
    "df2['감사의견코드'].value_counts()"
   ]
  },
  {
   "cell_type": "code",
   "execution_count": 121,
   "metadata": {},
   "outputs": [
    {
     "data": {
      "text/plain": [
       "16276"
      ]
     },
     "execution_count": 121,
     "metadata": {},
     "output_type": "execute_result"
    }
   ],
   "source": [
    "len(df2[df2['감사의견코드']==1].index.unique())"
   ]
  },
  {
   "cell_type": "code",
   "execution_count": null,
   "metadata": {},
   "outputs": [],
   "source": []
  }
 ],
 "metadata": {
  "kernelspec": {
   "display_name": "Python 3",
   "language": "python",
   "name": "python3"
  },
  "language_info": {
   "codemirror_mode": {
    "name": "ipython",
    "version": 3
   },
   "file_extension": ".py",
   "mimetype": "text/x-python",
   "name": "python",
   "nbconvert_exporter": "python",
   "pygments_lexer": "ipython3",
   "version": "3.10.9"
  },
  "orig_nbformat": 4
 },
 "nbformat": 4,
 "nbformat_minor": 2
}
