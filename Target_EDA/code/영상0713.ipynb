{
 "cells": [
  {
   "cell_type": "markdown",
   "metadata": {},
   "source": [
    "## 데이터 EDA과정"
   ]
  },
  {
   "cell_type": "code",
   "execution_count": 1,
   "metadata": {},
   "outputs": [],
   "source": [
    "import pandas as pd"
   ]
  },
  {
   "cell_type": "code",
   "execution_count": 3,
   "metadata": {},
   "outputs": [
    {
     "data": {
      "text/html": [
       "<div>\n",
       "<style scoped>\n",
       "    .dataframe tbody tr th:only-of-type {\n",
       "        vertical-align: middle;\n",
       "    }\n",
       "\n",
       "    .dataframe tbody tr th {\n",
       "        vertical-align: top;\n",
       "    }\n",
       "\n",
       "    .dataframe thead th {\n",
       "        text-align: right;\n",
       "    }\n",
       "</style>\n",
       "<table border=\"1\" class=\"dataframe\">\n",
       "  <thead>\n",
       "    <tr style=\"text-align: right;\">\n",
       "      <th></th>\n",
       "      <th>회사명</th>\n",
       "      <th>거래소코드</th>\n",
       "      <th>회계년도</th>\n",
       "      <th>산업코드</th>\n",
       "      <th>산업명</th>\n",
       "      <th>설립일</th>\n",
       "      <th>상장일</th>\n",
       "      <th>기업규모코드</th>\n",
       "      <th>감사의견코드</th>\n",
       "    </tr>\n",
       "  </thead>\n",
       "  <tbody>\n",
       "    <tr>\n",
       "      <th>0</th>\n",
       "      <td>(주)KAL호텔네트워크</td>\n",
       "      <td>29255</td>\n",
       "      <td>2012/12</td>\n",
       "      <td>95501</td>\n",
       "      <td>숙박업</td>\n",
       "      <td>2001/05/16</td>\n",
       "      <td>0000/00/00</td>\n",
       "      <td>10.0</td>\n",
       "      <td>UQ</td>\n",
       "    </tr>\n",
       "    <tr>\n",
       "      <th>1</th>\n",
       "      <td>(주)KAL호텔네트워크</td>\n",
       "      <td>29255</td>\n",
       "      <td>2013/12</td>\n",
       "      <td>95501</td>\n",
       "      <td>숙박업</td>\n",
       "      <td>2001/05/16</td>\n",
       "      <td>0000/00/00</td>\n",
       "      <td>10.0</td>\n",
       "      <td>UQ</td>\n",
       "    </tr>\n",
       "    <tr>\n",
       "      <th>2</th>\n",
       "      <td>(주)KAL호텔네트워크</td>\n",
       "      <td>29255</td>\n",
       "      <td>2014/12</td>\n",
       "      <td>95501</td>\n",
       "      <td>숙박업</td>\n",
       "      <td>2001/05/16</td>\n",
       "      <td>0000/00/00</td>\n",
       "      <td>10.0</td>\n",
       "      <td>UQ</td>\n",
       "    </tr>\n",
       "    <tr>\n",
       "      <th>3</th>\n",
       "      <td>(주)KAL호텔네트워크</td>\n",
       "      <td>29255</td>\n",
       "      <td>2015/12</td>\n",
       "      <td>95501</td>\n",
       "      <td>숙박업</td>\n",
       "      <td>2001/05/16</td>\n",
       "      <td>0000/00/00</td>\n",
       "      <td>10.0</td>\n",
       "      <td>UQ</td>\n",
       "    </tr>\n",
       "    <tr>\n",
       "      <th>4</th>\n",
       "      <td>(주)KAL호텔네트워크</td>\n",
       "      <td>29255</td>\n",
       "      <td>2016/12</td>\n",
       "      <td>95501</td>\n",
       "      <td>숙박업</td>\n",
       "      <td>2001/05/16</td>\n",
       "      <td>0000/00/00</td>\n",
       "      <td>10.0</td>\n",
       "      <td>UQ</td>\n",
       "    </tr>\n",
       "    <tr>\n",
       "      <th>...</th>\n",
       "      <td>...</td>\n",
       "      <td>...</td>\n",
       "      <td>...</td>\n",
       "      <td>...</td>\n",
       "      <td>...</td>\n",
       "      <td>...</td>\n",
       "      <td>...</td>\n",
       "      <td>...</td>\n",
       "      <td>...</td>\n",
       "    </tr>\n",
       "    <tr>\n",
       "      <th>294068</th>\n",
       "      <td>힐티코리아주식회사</td>\n",
       "      <td>10534</td>\n",
       "      <td>2018/12</td>\n",
       "      <td>74605</td>\n",
       "      <td>도매 및 상품 중개업</td>\n",
       "      <td>1986/07/10</td>\n",
       "      <td>0000/00/00</td>\n",
       "      <td>30.0</td>\n",
       "      <td>UQ</td>\n",
       "    </tr>\n",
       "    <tr>\n",
       "      <th>294069</th>\n",
       "      <td>힐티코리아주식회사</td>\n",
       "      <td>10534</td>\n",
       "      <td>2019/12</td>\n",
       "      <td>74605</td>\n",
       "      <td>도매 및 상품 중개업</td>\n",
       "      <td>1986/07/10</td>\n",
       "      <td>0000/00/00</td>\n",
       "      <td>30.0</td>\n",
       "      <td>UQ</td>\n",
       "    </tr>\n",
       "    <tr>\n",
       "      <th>294070</th>\n",
       "      <td>힐티코리아주식회사</td>\n",
       "      <td>10534</td>\n",
       "      <td>2020/12</td>\n",
       "      <td>74605</td>\n",
       "      <td>도매 및 상품 중개업</td>\n",
       "      <td>1986/07/10</td>\n",
       "      <td>0000/00/00</td>\n",
       "      <td>30.0</td>\n",
       "      <td>UQ</td>\n",
       "    </tr>\n",
       "    <tr>\n",
       "      <th>294071</th>\n",
       "      <td>힐티코리아주식회사</td>\n",
       "      <td>10534</td>\n",
       "      <td>2021/12</td>\n",
       "      <td>74605</td>\n",
       "      <td>도매 및 상품 중개업</td>\n",
       "      <td>1986/07/10</td>\n",
       "      <td>0000/00/00</td>\n",
       "      <td>20.0</td>\n",
       "      <td>UQ</td>\n",
       "    </tr>\n",
       "    <tr>\n",
       "      <th>294072</th>\n",
       "      <td>힐티코리아주식회사</td>\n",
       "      <td>10534</td>\n",
       "      <td>2022/12</td>\n",
       "      <td>74605</td>\n",
       "      <td>도매 및 상품 중개업</td>\n",
       "      <td>1986/07/10</td>\n",
       "      <td>0000/00/00</td>\n",
       "      <td>30.0</td>\n",
       "      <td>UQ</td>\n",
       "    </tr>\n",
       "  </tbody>\n",
       "</table>\n",
       "<p>294073 rows × 9 columns</p>\n",
       "</div>"
      ],
      "text/plain": [
       "                 회사명  거래소코드     회계년도   산업코드            산업명         설립일  \\\n",
       "0       (주)KAL호텔네트워크  29255  2012/12  95501            숙박업  2001/05/16   \n",
       "1       (주)KAL호텔네트워크  29255  2013/12  95501            숙박업  2001/05/16   \n",
       "2       (주)KAL호텔네트워크  29255  2014/12  95501            숙박업  2001/05/16   \n",
       "3       (주)KAL호텔네트워크  29255  2015/12  95501            숙박업  2001/05/16   \n",
       "4       (주)KAL호텔네트워크  29255  2016/12  95501            숙박업  2001/05/16   \n",
       "...              ...    ...      ...    ...            ...         ...   \n",
       "294068     힐티코리아주식회사  10534  2018/12  74605    도매 및 상품 중개업  1986/07/10   \n",
       "294069     힐티코리아주식회사  10534  2019/12  74605    도매 및 상품 중개업  1986/07/10   \n",
       "294070     힐티코리아주식회사  10534  2020/12  74605    도매 및 상품 중개업  1986/07/10   \n",
       "294071     힐티코리아주식회사  10534  2021/12  74605    도매 및 상품 중개업  1986/07/10   \n",
       "294072     힐티코리아주식회사  10534  2022/12  74605    도매 및 상품 중개업  1986/07/10   \n",
       "\n",
       "               상장일  기업규모코드 감사의견코드  \n",
       "0       0000/00/00    10.0     UQ  \n",
       "1       0000/00/00    10.0     UQ  \n",
       "2       0000/00/00    10.0     UQ  \n",
       "3       0000/00/00    10.0     UQ  \n",
       "4       0000/00/00    10.0     UQ  \n",
       "...            ...     ...    ...  \n",
       "294068  0000/00/00    30.0     UQ  \n",
       "294069  0000/00/00    30.0     UQ  \n",
       "294070  0000/00/00    30.0     UQ  \n",
       "294071  0000/00/00    20.0     UQ  \n",
       "294072  0000/00/00    30.0     UQ  \n",
       "\n",
       "[294073 rows x 9 columns]"
      ]
     },
     "execution_count": 3,
     "metadata": {},
     "output_type": "execute_result"
    }
   ],
   "source": [
    "df=pd.read_csv('../data/설립일포함.csv')\n",
    "df"
   ]
  },
  {
   "cell_type": "code",
   "execution_count": 4,
   "metadata": {},
   "outputs": [
    {
     "data": {
      "text/plain": [
       "회사명           0\n",
       "거래소코드         0\n",
       "회계년도          0\n",
       "산업코드          0\n",
       "산업명           0\n",
       "설립일         297\n",
       "상장일          12\n",
       "기업규모코드     2961\n",
       "감사의견코드    34005\n",
       "dtype: int64"
      ]
     },
     "execution_count": 4,
     "metadata": {},
     "output_type": "execute_result"
    }
   ],
   "source": [
    "df.isna().sum()"
   ]
  },
  {
   "cell_type": "code",
   "execution_count": 5,
   "metadata": {},
   "outputs": [
    {
     "data": {
      "text/html": [
       "<div>\n",
       "<style scoped>\n",
       "    .dataframe tbody tr th:only-of-type {\n",
       "        vertical-align: middle;\n",
       "    }\n",
       "\n",
       "    .dataframe tbody tr th {\n",
       "        vertical-align: top;\n",
       "    }\n",
       "\n",
       "    .dataframe thead th {\n",
       "        text-align: right;\n",
       "    }\n",
       "</style>\n",
       "<table border=\"1\" class=\"dataframe\">\n",
       "  <thead>\n",
       "    <tr style=\"text-align: right;\">\n",
       "      <th></th>\n",
       "      <th>회사명</th>\n",
       "      <th>거래소코드</th>\n",
       "      <th>회계년도</th>\n",
       "      <th>산업코드</th>\n",
       "      <th>산업명</th>\n",
       "      <th>설립일</th>\n",
       "      <th>상장일</th>\n",
       "      <th>기업규모코드</th>\n",
       "      <th>감사의견코드</th>\n",
       "    </tr>\n",
       "  </thead>\n",
       "  <tbody>\n",
       "    <tr>\n",
       "      <th>131195</th>\n",
       "      <td>(주)제이더블유엘</td>\n",
       "      <td>58276</td>\n",
       "      <td>2012/12</td>\n",
       "      <td>126800</td>\n",
       "      <td>부동산업</td>\n",
       "      <td>2010/06/08</td>\n",
       "      <td>0</td>\n",
       "      <td>20.0</td>\n",
       "      <td>ZZ</td>\n",
       "    </tr>\n",
       "  </tbody>\n",
       "</table>\n",
       "</div>"
      ],
      "text/plain": [
       "              회사명  거래소코드     회계년도    산업코드     산업명         설립일 상장일  기업규모코드  \\\n",
       "131195  (주)제이더블유엘  58276  2012/12  126800    부동산업  2010/06/08   0    20.0   \n",
       "\n",
       "       감사의견코드  \n",
       "131195     ZZ  "
      ]
     },
     "execution_count": 5,
     "metadata": {},
     "output_type": "execute_result"
    }
   ],
   "source": [
    "df[df['감사의견코드']=='ZZ']"
   ]
  },
  {
   "cell_type": "code",
   "execution_count": 6,
   "metadata": {},
   "outputs": [
    {
     "data": {
      "text/plain": [
       "UQ    236730\n",
       "QS     13901\n",
       "DU      3772\n",
       "DS      2632\n",
       "QG      1272\n",
       "QU      1194\n",
       "AG       533\n",
       "QQ        28\n",
       "QA         4\n",
       "ZZ         1\n",
       "DI         1\n",
       "Name: 감사의견코드, dtype: int64"
      ]
     },
     "execution_count": 6,
     "metadata": {},
     "output_type": "execute_result"
    }
   ],
   "source": [
    "df['감사의견코드'].value_counts()"
   ]
  },
  {
   "cell_type": "code",
   "execution_count": 7,
   "metadata": {},
   "outputs": [],
   "source": [
    "df['감사의견코드']=df['감사의견코드'].map({\n",
    "    'AG':'부적정',\n",
    "    'DS':'의견거절',\n",
    "    'DI':'의견거절',\n",
    "    'DU':'의견거절',\n",
    "    'QA':'한정',\n",
    "    'QC':'한정',\n",
    "    'QG':'한정',\n",
    "    'QQ':'한정',\n",
    "    'QS':'한정',\n",
    "    'QU':'한정',\n",
    "    'UQ':'적정',\n",
    "    'ZZ':'ZZ'\n",
    "\n",
    "})"
   ]
  },
  {
   "cell_type": "code",
   "execution_count": 8,
   "metadata": {},
   "outputs": [
    {
     "data": {
      "text/plain": [
       "34005"
      ]
     },
     "execution_count": 8,
     "metadata": {},
     "output_type": "execute_result"
    }
   ],
   "source": [
    "df['감사의견코드'].isna().sum()"
   ]
  },
  {
   "cell_type": "code",
   "execution_count": 9,
   "metadata": {},
   "outputs": [
    {
     "data": {
      "text/plain": [
       "적정      236730\n",
       "한정       16399\n",
       "의견거절      6405\n",
       "부적정        533\n",
       "ZZ           1\n",
       "Name: 감사의견코드, dtype: int64"
      ]
     },
     "execution_count": 9,
     "metadata": {},
     "output_type": "execute_result"
    }
   ],
   "source": [
    "df['감사의견코드'].value_counts()"
   ]
  },
  {
   "cell_type": "code",
   "execution_count": 10,
   "metadata": {},
   "outputs": [
    {
     "data": {
      "text/plain": [
       "0.09218867295020436"
      ]
     },
     "execution_count": 10,
     "metadata": {},
     "output_type": "execute_result"
    }
   ],
   "source": [
    "(15414+6164+527)/239780"
   ]
  },
  {
   "cell_type": "code",
   "execution_count": 11,
   "metadata": {},
   "outputs": [
    {
     "data": {
      "text/plain": [
       "22105"
      ]
     },
     "execution_count": 11,
     "metadata": {},
     "output_type": "execute_result"
    }
   ],
   "source": [
    "(15414+6164+527)"
   ]
  },
  {
   "cell_type": "code",
   "execution_count": 12,
   "metadata": {},
   "outputs": [
    {
     "data": {
      "text/plain": [
       "회사명           0\n",
       "거래소코드         0\n",
       "회계년도          0\n",
       "산업코드          0\n",
       "산업명           0\n",
       "설립일         297\n",
       "상장일          12\n",
       "기업규모코드     2961\n",
       "감사의견코드    34005\n",
       "dtype: int64"
      ]
     },
     "execution_count": 12,
     "metadata": {},
     "output_type": "execute_result"
    }
   ],
   "source": [
    "df.isna().sum()"
   ]
  },
  {
   "cell_type": "markdown",
   "metadata": {},
   "source": [
    "* 감사의견 코드 ZZ가 뭘까?"
   ]
  },
  {
   "cell_type": "code",
   "execution_count": 108,
   "metadata": {},
   "outputs": [
    {
     "data": {
      "text/html": [
       "<div>\n",
       "<style scoped>\n",
       "    .dataframe tbody tr th:only-of-type {\n",
       "        vertical-align: middle;\n",
       "    }\n",
       "\n",
       "    .dataframe tbody tr th {\n",
       "        vertical-align: top;\n",
       "    }\n",
       "\n",
       "    .dataframe thead th {\n",
       "        text-align: right;\n",
       "    }\n",
       "</style>\n",
       "<table border=\"1\" class=\"dataframe\">\n",
       "  <thead>\n",
       "    <tr style=\"text-align: right;\">\n",
       "      <th></th>\n",
       "      <th>거래소코드</th>\n",
       "      <th>회계년도</th>\n",
       "      <th>감사의견코드</th>\n",
       "    </tr>\n",
       "    <tr>\n",
       "      <th>회사명</th>\n",
       "      <th></th>\n",
       "      <th></th>\n",
       "      <th></th>\n",
       "    </tr>\n",
       "  </thead>\n",
       "  <tbody>\n",
       "    <tr>\n",
       "      <th>(주)제이더블유엘</th>\n",
       "      <td>58276</td>\n",
       "      <td>2012/12</td>\n",
       "      <td>ZZ</td>\n",
       "    </tr>\n",
       "  </tbody>\n",
       "</table>\n",
       "</div>"
      ],
      "text/plain": [
       "           거래소코드     회계년도 감사의견코드\n",
       "회사명                             \n",
       "(주)제이더블유엘  58276  2012/12     ZZ"
      ]
     },
     "execution_count": 108,
     "metadata": {},
     "output_type": "execute_result"
    }
   ],
   "source": [
    "df[df['감사의견코드']=='ZZ']"
   ]
  },
  {
   "cell_type": "code",
   "execution_count": 109,
   "metadata": {},
   "outputs": [],
   "source": [
    "df['감사의견코드']=df['감사의견코드'].map({\n",
    "    '적정':0,\n",
    "    '한정':1,\n",
    "    '부적정':1,\n",
    "    '의견거절':1\n",
    "\n",
    "})"
   ]
  },
  {
   "cell_type": "code",
   "execution_count": 110,
   "metadata": {},
   "outputs": [
    {
     "data": {
      "text/plain": [
       "감사의견코드\n",
       "0.0    239780\n",
       "1.0     22105\n",
       "Name: count, dtype: int64"
      ]
     },
     "execution_count": 110,
     "metadata": {},
     "output_type": "execute_result"
    }
   ],
   "source": [
    "df['감사의견코드'].value_counts()"
   ]
  },
  {
   "cell_type": "code",
   "execution_count": 111,
   "metadata": {},
   "outputs": [
    {
     "data": {
      "text/plain": [
       "14793"
      ]
     },
     "execution_count": 111,
     "metadata": {},
     "output_type": "execute_result"
    }
   ],
   "source": [
    "len(df[df['감사의견코드']==1].index.unique())"
   ]
  },
  {
   "cell_type": "code",
   "execution_count": 112,
   "metadata": {},
   "outputs": [],
   "source": [
    "df1=pd.read_csv('./Dataset/중견1.csv',encoding='euc-kr',index_col=0)\n",
    "df2=pd.read_csv('./Dataset/중견2.csv',encoding='euc-kr',index_col=0)\n",
    "df=pd.concat([df1,df2],axis=0)"
   ]
  },
  {
   "cell_type": "code",
   "execution_count": 113,
   "metadata": {},
   "outputs": [],
   "source": [
    "df.to_csv('중견기업.csv',encoding='euc-kr')"
   ]
  },
  {
   "cell_type": "code",
   "execution_count": 114,
   "metadata": {},
   "outputs": [
    {
     "data": {
      "text/plain": [
       "5568"
      ]
     },
     "execution_count": 114,
     "metadata": {},
     "output_type": "execute_result"
    }
   ],
   "source": [
    "len(df.index.unique())"
   ]
  },
  {
   "cell_type": "code",
   "execution_count": 122,
   "metadata": {},
   "outputs": [],
   "source": [
    "#########################################################################################################################################################"
   ]
  },
  {
   "cell_type": "code",
   "execution_count": 115,
   "metadata": {},
   "outputs": [],
   "source": [
    "df2=pd.read_csv('./Dataset/mk_target2.csv',encoding='euc-kr',index_col=0)"
   ]
  },
  {
   "cell_type": "code",
   "execution_count": 116,
   "metadata": {},
   "outputs": [
    {
     "data": {
      "text/plain": [
       "감사의견코드\n",
       "UQ    236730\n",
       "QS     13901\n",
       "DU      3772\n",
       "DS      2632\n",
       "QG      1272\n",
       "QU      1194\n",
       "AG       533\n",
       "QQ        28\n",
       "QA         4\n",
       "ZZ         1\n",
       "DI         1\n",
       "Name: count, dtype: int64"
      ]
     },
     "execution_count": 116,
     "metadata": {},
     "output_type": "execute_result"
    }
   ],
   "source": [
    "df2['감사의견코드'].value_counts()"
   ]
  },
  {
   "cell_type": "code",
   "execution_count": 117,
   "metadata": {},
   "outputs": [],
   "source": [
    "df2['감사의견코드']=df2['감사의견코드'].map({\n",
    "    'AG':'부적정',\n",
    "    'DS':'의견거절',\n",
    "    'DI':'의견거절',\n",
    "    'DU':'의견거절',\n",
    "    'QA':'한정',\n",
    "    'QC':'한정',\n",
    "    'QG':'한정',\n",
    "    'QQ':'한정',\n",
    "    'QS':'한정',\n",
    "    'QU':'한정',\n",
    "    'UQ':'적정',\n",
    "    'ZZ':'ZZ'\n",
    "\n",
    "})"
   ]
  },
  {
   "cell_type": "code",
   "execution_count": 118,
   "metadata": {},
   "outputs": [],
   "source": [
    "df2['감사의견코드']=df2['감사의견코드'].map({\n",
    "    '적정':0,\n",
    "    '한정':1,\n",
    "    '부적정':1,\n",
    "    '의견거절':1\n",
    "\n",
    "})"
   ]
  },
  {
   "cell_type": "code",
   "execution_count": 119,
   "metadata": {},
   "outputs": [
    {
     "data": {
      "text/plain": [
       "감사의견코드\n",
       "0.0    236730\n",
       "1.0     23337\n",
       "Name: count, dtype: int64"
      ]
     },
     "execution_count": 119,
     "metadata": {},
     "output_type": "execute_result"
    }
   ],
   "source": [
    "df2['감사의견코드'].value_counts()"
   ]
  },
  {
   "cell_type": "code",
   "execution_count": 121,
   "metadata": {},
   "outputs": [
    {
     "data": {
      "text/plain": [
       "16276"
      ]
     },
     "execution_count": 121,
     "metadata": {},
     "output_type": "execute_result"
    }
   ],
   "source": [
    "len(df2[df2['감사의견코드']==1].index.unique())"
   ]
  },
  {
   "cell_type": "code",
   "execution_count": null,
   "metadata": {},
   "outputs": [],
   "source": []
  }
 ],
 "metadata": {
  "kernelspec": {
   "display_name": "Python 3",
   "language": "python",
   "name": "python3"
  },
  "language_info": {
   "codemirror_mode": {
    "name": "ipython",
    "version": 3
   },
   "file_extension": ".py",
   "mimetype": "text/x-python",
   "name": "python",
   "nbconvert_exporter": "python",
   "pygments_lexer": "ipython3",
   "version": "3.10.9"
  },
  "orig_nbformat": 4
 },
 "nbformat": 4,
 "nbformat_minor": 2
}
